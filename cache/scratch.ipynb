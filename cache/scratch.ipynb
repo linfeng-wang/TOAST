{
 "cells": [
  {
   "cell_type": "code",
   "execution_count": 71,
   "metadata": {},
   "outputs": [],
   "source": [
    "import numpy as np\n",
    "import pandas as pd\n",
    "import matplotlib.pyplot as plt\n",
    "%matplotlib inline\n",
    "from functools import partial\n",
    "from random import choices, randint, randrange, random, sample\n",
    "from typing import List, Optional, Callable, Tuple\n",
    "import numpy as np\n",
    "# from geneticalgorithm import geneticalgorithm as ga\n",
    "import pandas as pd\n",
    "from collections import Counter\n",
    "from tqdm import tqdm\n",
    "import time\n",
    "from Bio.SeqUtils import MeltingTemp\n",
    "from Bio import SeqIO\n",
    "from plotly import graph_objects as go\n",
    "import json\n",
    "from imp import reload\n",
    "# import primer_selection\n",
    "# reload(primer_selection)\n",
    "# import testing\n",
    "# reload(testing)\n",
    "import math\n"
   ]
  },
  {
   "cell_type": "code",
   "execution_count": 131,
   "metadata": {},
   "outputs": [
    {
     "name": "stdout",
     "output_type": "stream",
     "text": [
      "A1-sp\n",
      "A1-ns\n",
      "A1-ns\n",
      "A2-ns\n",
      "      ID       ID2\n",
      "0  A1-sp  P1-sp-L1\n",
      "1  A1-ns  P1-ns-L1\n",
      "2  A2-ns  P2-ns-L1\n",
      "3  A3-ns  P3-ns-L1\n"
     ]
    }
   ],
   "source": [
    "import pandas as pd\n",
    "import re\n",
    "\n",
    "# Sample DataFrame\n",
    "data = {\n",
    "    'ID': ['A1-sp', 'A1-ns', 'A1-ns', 'A2-ns'],\n",
    "    'ID2': ['P1-sp-L1', 'P1-ns-L1', 'P2-ns-L1','P2-ns-L1'],\n",
    "    # 'ID3': ['P1-sp-R1', 'P1-sp-R1', 'P1-ns-R1', 'P1-ns-R2'],\n",
    "    # Other columns...\n",
    "}\n",
    "df = pd.DataFrame(data)\n",
    "\n",
    "def increment_id_with_regex(df, col_name):\n",
    "    counter = {}  # Track counts of each ID\n",
    "    new_ids = []  # Store updated IDs\n",
    "\n",
    "    for id in df[col_name]:\n",
    "        # original_id = id\n",
    "        # Use regex to find all numbers in the ID\n",
    "        if 'User' in id:\n",
    "            continue\n",
    "        numbers = re.findall(r'\\d+', id)\n",
    "\n",
    "        if numbers:\n",
    "            first_number = numbers[0]  # Focus on the first number found\n",
    "            if len(id.split('-')) > 2:\n",
    "                check_id = '-'.join(id.split('-')[:-1])\n",
    "            else:\n",
    "                check_id = id\n",
    "            new_id = id\n",
    "            while check_id in counter:                \n",
    "                # Increment the first number found\n",
    "                new_number = str(int(first_number) + 1)\n",
    "                # Replace the first occurrence of the number with its incremented value\n",
    "                new_id = re.sub(r'(?<!\\d)'+first_number+r'(?!\\d)', new_number, new_id, count=1)\n",
    "                check_id = re.sub(r'(?<!\\d)'+first_number+r'(?!\\d)', new_number, new_id, count=1)\n",
    "                first_number = new_number  # Update first_number for potential next iteration\n",
    "            counter[check_id] = True  # Mark this new ID as seen\n",
    "            new_ids.append(new_id)  # Add to the list of new IDs\n",
    "        # else:\n",
    "        #     # If no number is found, just append the ID as is\n",
    "        #     new_ids.append(id)\n",
    "\n",
    "        # Update counter for the original ID if it's not already there to handle non-duplicates correctly\n",
    "        # if original_id not in counter:\n",
    "        #     counter[original_id] = True\n",
    "\n",
    "    df[col_name] = new_ids  # Update the column with new IDs\n",
    "\n",
    "# Apply the function to the columns of interest\n",
    "increment_id_with_regex(df, 'ID')\n",
    "increment_id_with_regex(df, 'ID2')\n",
    "# increment_id_with_regex(df, 'ID3')\n",
    "\n",
    "print(df)\n"
   ]
  },
  {
   "cell_type": "code",
   "execution_count": null,
   "metadata": {},
   "outputs": [],
   "source": [
    "# def increment_id_with_regex(df, col_name):\n",
    "        #     counter = {}  # Track counts of each ID\n",
    "        #     new_ids = []  # Store updated IDs\n",
    "\n",
    "        #     for id in df[col_name]:\n",
    "        #         original_id = id\n",
    "        #         # Use regex to find all numbers in the ID\n",
    "        #         numbers = re.findall(r'\\d+', id)\n",
    "        #         if numbers:\n",
    "        #             last_number = numbers[-1]  # Focus on the last number found\n",
    "        #             new_id = id\n",
    "        #             while new_id in counter:\n",
    "        #                 # Increment the last number found\n",
    "        #                 new_number = str(int(last_number) + 1)\n",
    "        #                 # Replace the last occurrence of the number with its incremented value\n",
    "        #                 new_id = re.sub(r'(?<!\\d)'+last_number+r'(?!\\d)', new_number, new_id, count=1)\n",
    "        #                 last_number = new_number  # Update last_number for potential next iteration\n",
    "\n",
    "        #             counter[new_id] = True  # Mark this new ID as seen\n",
    "        #             new_ids.append(new_id)  # Add to the list of new IDs\n",
    "        #         else:\n",
    "        #             # If no number is found, just append the ID as is\n",
    "        #             new_ids.append(id)\n",
    "\n",
    "        #         # Update counter for the original ID if it's not already there to handle non-duplicates correctly\n",
    "        #         if original_id not in counter:\n",
    "        #             counter[original_id] = True\n",
    "\n",
    "        #     df[col_name] = new_ids  # Update the column with new IDs"
   ]
  },
  {
   "cell_type": "code",
   "execution_count": 98,
   "metadata": {},
   "outputs": [
    {
     "name": "stdout",
     "output_type": "stream",
     "text": [
      "A1 sp\n",
      "A1 ns\n",
      "A1 ns\n",
      "P1-sp L1\n"
     ]
    },
    {
     "ename": "ValueError",
     "evalue": "invalid literal for int() with base 10: 'p'",
     "output_type": "error",
     "traceback": [
      "\u001b[0;31m---------------------------------------------------------------------------\u001b[0m",
      "\u001b[0;31mValueError\u001b[0m                                Traceback (most recent call last)",
      "Cell \u001b[0;32mIn[98], line 32\u001b[0m\n\u001b[1;32m     30\u001b[0m \u001b[38;5;66;03m# Apply the function to the columns of interest\u001b[39;00m\n\u001b[1;32m     31\u001b[0m increment_id_for_duplicates(df, \u001b[38;5;124m'\u001b[39m\u001b[38;5;124mID\u001b[39m\u001b[38;5;124m'\u001b[39m)\n\u001b[0;32m---> 32\u001b[0m \u001b[43mincrement_id_for_duplicates\u001b[49m\u001b[43m(\u001b[49m\u001b[43mdf\u001b[49m\u001b[43m,\u001b[49m\u001b[43m \u001b[49m\u001b[38;5;124;43m'\u001b[39;49m\u001b[38;5;124;43mID2\u001b[39;49m\u001b[38;5;124;43m'\u001b[39;49m\u001b[43m)\u001b[49m\n\u001b[1;32m     34\u001b[0m \u001b[38;5;28mprint\u001b[39m(df)\n",
      "Cell \u001b[0;32mIn[98], line 18\u001b[0m, in \u001b[0;36mincrement_id_for_duplicates\u001b[0;34m(df, col_name)\u001b[0m\n\u001b[1;32m     16\u001b[0m prefix, suffix \u001b[38;5;241m=\u001b[39m \u001b[38;5;28mid\u001b[39m\u001b[38;5;241m.\u001b[39mrsplit(\u001b[38;5;124m'\u001b[39m\u001b[38;5;124m-\u001b[39m\u001b[38;5;124m'\u001b[39m, \u001b[38;5;241m1\u001b[39m)  \u001b[38;5;66;03m# Split ID into prefix and suffix\u001b[39;00m\n\u001b[1;32m     17\u001b[0m \u001b[38;5;28mprint\u001b[39m(prefix, suffix)\n\u001b[0;32m---> 18\u001b[0m base, num \u001b[38;5;241m=\u001b[39m prefix[:\u001b[38;5;241m-\u001b[39m\u001b[38;5;241m2\u001b[39m], \u001b[38;5;28;43mint\u001b[39;49m\u001b[43m(\u001b[49m\u001b[43mprefix\u001b[49m\u001b[43m[\u001b[49m\u001b[38;5;241;43m-\u001b[39;49m\u001b[38;5;241;43m1\u001b[39;49m\u001b[43m]\u001b[49m\u001b[43m)\u001b[49m  \u001b[38;5;66;03m# Assume last character is a number\u001b[39;00m\n\u001b[1;32m     20\u001b[0m \u001b[38;5;66;03m# Generate new ID with incremented number if duplicate\u001b[39;00m\n\u001b[1;32m     21\u001b[0m \u001b[38;5;28;01mwhile\u001b[39;00m \u001b[38;5;28mid\u001b[39m \u001b[38;5;129;01min\u001b[39;00m counter:\n",
      "\u001b[0;31mValueError\u001b[0m: invalid literal for int() with base 10: 'p'"
     ]
    }
   ],
   "source": [
    "import pandas as pd\n",
    "\n",
    "# Sample DataFrame\n",
    "data = {\n",
    "    'ID': ['A1-sp', 'A1-ns', 'A1-ns'],\n",
    "    'ID2': ['P1-sp-L1', 'P1-ns-L1', 'P1-ns-L1'],\n",
    "    # Other columns...\n",
    "}\n",
    "df = pd.DataFrame(data)\n",
    "\n",
    "def increment_id_for_duplicates(df, col_name):\n",
    "    counter = {}  # Track counts of each ID\n",
    "    new_ids = []  # Store updated IDs\n",
    "    \n",
    "    for id in df[col_name]:\n",
    "        prefix, suffix = id.rsplit('-', 1)  # Split ID into prefix and suffix\n",
    "        print(prefix, suffix)\n",
    "        base, num = prefix[:-2], int(prefix[-1])  # Assume last character is a number\n",
    "        \n",
    "        # Generate new ID with incremented number if duplicate\n",
    "        while id in counter:\n",
    "            num += 1\n",
    "            id = f\"{base}{num}-{suffix}\"\n",
    "        \n",
    "        counter[id] = True  # Mark this ID as seen\n",
    "        new_ids.append(id)  # Add to the list of new IDs\n",
    "    \n",
    "    df[col_name] = new_ids  # Update the column with new IDs\n",
    "\n",
    "# Apply the function to the columns of interest\n",
    "increment_id_for_duplicates(df, 'ID')\n",
    "increment_id_for_duplicates(df, 'ID2')\n",
    "\n",
    "print(df)\n"
   ]
  },
  {
   "cell_type": "code",
   "execution_count": 72,
   "metadata": {},
   "outputs": [],
   "source": [
    "v = pd.read_csv('/mnt/storage10/lwang/Projects/TOAST/toast/db/variants.csv')"
   ]
  },
  {
   "cell_type": "code",
   "execution_count": 74,
   "metadata": {},
   "outputs": [
    {
     "data": {
      "text/html": [
       "<div>\n",
       "<style scoped>\n",
       "    .dataframe tbody tr th:only-of-type {\n",
       "        vertical-align: middle;\n",
       "    }\n",
       "\n",
       "    .dataframe tbody tr th {\n",
       "        vertical-align: top;\n",
       "    }\n",
       "\n",
       "    .dataframe thead th {\n",
       "        text-align: right;\n",
       "    }\n",
       "</style>\n",
       "<table border=\"1\" class=\"dataframe\">\n",
       "  <thead>\n",
       "    <tr style=\"text-align: right;\">\n",
       "      <th></th>\n",
       "      <th>sample_id</th>\n",
       "      <th>genome_pos</th>\n",
       "      <th>gene</th>\n",
       "      <th>change</th>\n",
       "      <th>freq</th>\n",
       "      <th>type</th>\n",
       "      <th>sublin</th>\n",
       "      <th>drtype</th>\n",
       "      <th>drugs</th>\n",
       "    </tr>\n",
       "  </thead>\n",
       "  <tbody>\n",
       "    <tr>\n",
       "      <th>0</th>\n",
       "      <td>SRR20969411</td>\n",
       "      <td>761155</td>\n",
       "      <td>rpoB</td>\n",
       "      <td>p.Ser450Leu</td>\n",
       "      <td>0.996825</td>\n",
       "      <td>missense_variant</td>\n",
       "      <td>lineage2.2.1</td>\n",
       "      <td>MDR-TB</td>\n",
       "      <td>rifampicin</td>\n",
       "    </tr>\n",
       "    <tr>\n",
       "      <th>4</th>\n",
       "      <td>ERR10748278</td>\n",
       "      <td>761155</td>\n",
       "      <td>rpoB</td>\n",
       "      <td>p.Ser450Leu</td>\n",
       "      <td>1.000000</td>\n",
       "      <td>missense_variant</td>\n",
       "      <td>lineage2.2.1</td>\n",
       "      <td>MDR-TB</td>\n",
       "      <td>rifampicin</td>\n",
       "    </tr>\n",
       "    <tr>\n",
       "      <th>8</th>\n",
       "      <td>ERR11081049</td>\n",
       "      <td>761155</td>\n",
       "      <td>rpoB</td>\n",
       "      <td>p.Ser450Leu</td>\n",
       "      <td>1.000000</td>\n",
       "      <td>missense_variant</td>\n",
       "      <td>lineage4.6.5</td>\n",
       "      <td>MDR-TB</td>\n",
       "      <td>rifampicin</td>\n",
       "    </tr>\n",
       "    <tr>\n",
       "      <th>14</th>\n",
       "      <td>ERR11043928</td>\n",
       "      <td>761155</td>\n",
       "      <td>rpoB</td>\n",
       "      <td>p.Ser450Leu</td>\n",
       "      <td>1.000000</td>\n",
       "      <td>missense_variant</td>\n",
       "      <td>lineage4.3.3</td>\n",
       "      <td>Pre-XDR-TB</td>\n",
       "      <td>rifampicin</td>\n",
       "    </tr>\n",
       "    <tr>\n",
       "      <th>25</th>\n",
       "      <td>ERR2864258</td>\n",
       "      <td>761139</td>\n",
       "      <td>rpoB</td>\n",
       "      <td>p.His445Asp</td>\n",
       "      <td>1.000000</td>\n",
       "      <td>missense_variant</td>\n",
       "      <td>lineage4.1.1.3</td>\n",
       "      <td>MDR-TB</td>\n",
       "      <td>rifampicin</td>\n",
       "    </tr>\n",
       "    <tr>\n",
       "      <th>...</th>\n",
       "      <td>...</td>\n",
       "      <td>...</td>\n",
       "      <td>...</td>\n",
       "      <td>...</td>\n",
       "      <td>...</td>\n",
       "      <td>...</td>\n",
       "      <td>...</td>\n",
       "      <td>...</td>\n",
       "      <td>...</td>\n",
       "    </tr>\n",
       "    <tr>\n",
       "      <th>266444</th>\n",
       "      <td>SRR1165253</td>\n",
       "      <td>761155</td>\n",
       "      <td>rpoB</td>\n",
       "      <td>p.Ser450Leu</td>\n",
       "      <td>1.000000</td>\n",
       "      <td>missense_variant</td>\n",
       "      <td>lineage4.4.1.1.1</td>\n",
       "      <td>MDR-TB</td>\n",
       "      <td>rifampicin</td>\n",
       "    </tr>\n",
       "    <tr>\n",
       "      <th>266449</th>\n",
       "      <td>SRR18715169</td>\n",
       "      <td>761109</td>\n",
       "      <td>rpoB</td>\n",
       "      <td>p.Asp435Tyr</td>\n",
       "      <td>1.000000</td>\n",
       "      <td>missense_variant</td>\n",
       "      <td>lineage4.8</td>\n",
       "      <td>MDR-TB</td>\n",
       "      <td>rifampicin</td>\n",
       "    </tr>\n",
       "    <tr>\n",
       "      <th>266452</th>\n",
       "      <td>ERR2510245</td>\n",
       "      <td>761155</td>\n",
       "      <td>rpoB</td>\n",
       "      <td>p.Ser450Leu</td>\n",
       "      <td>1.000000</td>\n",
       "      <td>missense_variant</td>\n",
       "      <td>lineage3</td>\n",
       "      <td>MDR-TB</td>\n",
       "      <td>rifampicin</td>\n",
       "    </tr>\n",
       "    <tr>\n",
       "      <th>266457</th>\n",
       "      <td>ERR4797048</td>\n",
       "      <td>761155</td>\n",
       "      <td>rpoB</td>\n",
       "      <td>p.Ser450Leu</td>\n",
       "      <td>1.000000</td>\n",
       "      <td>missense_variant</td>\n",
       "      <td>lineage2.2.1</td>\n",
       "      <td>Pre-XDR-TB</td>\n",
       "      <td>rifampicin</td>\n",
       "    </tr>\n",
       "    <tr>\n",
       "      <th>266465</th>\n",
       "      <td>ERR7911528</td>\n",
       "      <td>761155</td>\n",
       "      <td>rpoB</td>\n",
       "      <td>p.Ser450Leu</td>\n",
       "      <td>1.000000</td>\n",
       "      <td>missense_variant</td>\n",
       "      <td>lineage2.2.2</td>\n",
       "      <td>Pre-XDR-TB</td>\n",
       "      <td>rifampicin</td>\n",
       "    </tr>\n",
       "  </tbody>\n",
       "</table>\n",
       "<p>43364 rows × 9 columns</p>\n",
       "</div>"
      ],
      "text/plain": [
       "          sample_id  genome_pos  gene       change      freq  \\\n",
       "0       SRR20969411      761155  rpoB  p.Ser450Leu  0.996825   \n",
       "4       ERR10748278      761155  rpoB  p.Ser450Leu  1.000000   \n",
       "8       ERR11081049      761155  rpoB  p.Ser450Leu  1.000000   \n",
       "14      ERR11043928      761155  rpoB  p.Ser450Leu  1.000000   \n",
       "25       ERR2864258      761139  rpoB  p.His445Asp  1.000000   \n",
       "...             ...         ...   ...          ...       ...   \n",
       "266444   SRR1165253      761155  rpoB  p.Ser450Leu  1.000000   \n",
       "266449  SRR18715169      761109  rpoB  p.Asp435Tyr  1.000000   \n",
       "266452   ERR2510245      761155  rpoB  p.Ser450Leu  1.000000   \n",
       "266457   ERR4797048      761155  rpoB  p.Ser450Leu  1.000000   \n",
       "266465   ERR7911528      761155  rpoB  p.Ser450Leu  1.000000   \n",
       "\n",
       "                    type            sublin      drtype       drugs  \n",
       "0       missense_variant      lineage2.2.1      MDR-TB  rifampicin  \n",
       "4       missense_variant      lineage2.2.1      MDR-TB  rifampicin  \n",
       "8       missense_variant      lineage4.6.5      MDR-TB  rifampicin  \n",
       "14      missense_variant      lineage4.3.3  Pre-XDR-TB  rifampicin  \n",
       "25      missense_variant    lineage4.1.1.3      MDR-TB  rifampicin  \n",
       "...                  ...               ...         ...         ...  \n",
       "266444  missense_variant  lineage4.4.1.1.1      MDR-TB  rifampicin  \n",
       "266449  missense_variant        lineage4.8      MDR-TB  rifampicin  \n",
       "266452  missense_variant          lineage3      MDR-TB  rifampicin  \n",
       "266457  missense_variant      lineage2.2.1  Pre-XDR-TB  rifampicin  \n",
       "266465  missense_variant      lineage2.2.2  Pre-XDR-TB  rifampicin  \n",
       "\n",
       "[43364 rows x 9 columns]"
      ]
     },
     "execution_count": 74,
     "metadata": {},
     "output_type": "execute_result"
    }
   ],
   "source": [
    "v[v['gene']=='rpoB']"
   ]
  },
  {
   "cell_type": "code",
   "execution_count": 94,
   "metadata": {},
   "outputs": [
    {
     "name": "stdout",
     "output_type": "stream",
     "text": [
      "Removed item: a, 1\n",
      "Remaining dictionary: {'b': 2, 'c': 3}\n"
     ]
    }
   ],
   "source": [
    "def pop_first_item(d):\n",
    "    if d:\n",
    "        # Get the first key in the dictionary\n",
    "        first_key = next(iter(d))\n",
    "        # Remove and return the key-value pair\n",
    "        return first_key, d.pop(first_key)\n",
    "    else:\n",
    "        raise KeyError('pop_first_item(): dictionary is empty')\n",
    "\n",
    "# Example usage\n",
    "d = {'a': 1, 'b': 2, 'c': 3}\n",
    "key, value = pop_first_item(d)\n",
    "print(f'Removed item: {key}, {value}')\n",
    "print(f'Remaining dictionary: {d}')\n"
   ]
  },
  {
   "cell_type": "code",
   "execution_count": 95,
   "metadata": {},
   "outputs": [
    {
     "data": {
      "text/plain": [
       "{'b': 2, 'c': 3}"
      ]
     },
     "execution_count": 95,
     "metadata": {},
     "output_type": "execute_result"
    }
   ],
   "source": [
    "d"
   ]
  },
  {
   "cell_type": "code",
   "execution_count": 70,
   "metadata": {},
   "outputs": [
    {
     "name": "stdout",
     "output_type": "stream",
     "text": [
      "{1000: 2, 950: 2, 900: 2, 850: 2, 800: 2, 750: 2, 700: 2, 650: 2, 600: 2, 550: 2, 500: 2, 450: 2, 400: 2}\n",
      "[1000, 1000, 950, 950, 900, 900, 850, 850, 800, 800, 750, 750, 700, 700, 650, 650, 600, 600, 550, 550, 500, 500, 450, 450, 400, 400]\n",
      "{1000: 2, 950: 2, 900: 2, 850: 2, 800: 2, 750: 2, 700: 2, 650: 2, 600: 2, 550: 2, 500: 2, 450: 2, 400: 2}\n"
     ]
    }
   ],
   "source": [
    "segmented = '400,1000,50,2'\n",
    "segmented = segmented.strip().split(',')\n",
    "segmented = [int(i.strip()) for i in segmented]\n",
    "amplicon_sizes = np.arange(segmented[0], segmented[1]+1, segmented[2]).tolist()*2\n",
    "amplicon_sizes.sort(reverse=True)\n",
    "value_counts = {value: amplicon_sizes.count(value) for value in set(amplicon_sizes)}\n",
    "value_counts = dict(sorted(value_counts.items(), reverse=True))\n",
    "\n",
    "\n",
    "print(value_counts)\n",
    "print(amplicon_sizes)\n",
    "print(value_counts)"
   ]
  },
  {
   "cell_type": "code",
   "execution_count": 76,
   "metadata": {},
   "outputs": [
    {
     "data": {
      "text/html": [
       "<div>\n",
       "<style scoped>\n",
       "    .dataframe tbody tr th:only-of-type {\n",
       "        vertical-align: middle;\n",
       "    }\n",
       "\n",
       "    .dataframe tbody tr th {\n",
       "        vertical-align: top;\n",
       "    }\n",
       "\n",
       "    .dataframe thead th {\n",
       "        text-align: right;\n",
       "    }\n",
       "</style>\n",
       "<table border=\"1\" class=\"dataframe\">\n",
       "  <thead>\n",
       "    <tr style=\"text-align: right;\">\n",
       "      <th></th>\n",
       "      <th>sample_id</th>\n",
       "      <th>genome_pos</th>\n",
       "      <th>gene</th>\n",
       "      <th>change</th>\n",
       "      <th>freq</th>\n",
       "      <th>type</th>\n",
       "      <th>sublin</th>\n",
       "      <th>drtype</th>\n",
       "      <th>drugs</th>\n",
       "    </tr>\n",
       "  </thead>\n",
       "  <tbody>\n",
       "    <tr>\n",
       "      <th>0</th>\n",
       "      <td>SRR20969411</td>\n",
       "      <td>761155</td>\n",
       "      <td>rpoB</td>\n",
       "      <td>p.Ser450Leu</td>\n",
       "      <td>0.996825</td>\n",
       "      <td>missense_variant</td>\n",
       "      <td>lineage2.2.1</td>\n",
       "      <td>MDR-TB</td>\n",
       "      <td>rifampicin</td>\n",
       "    </tr>\n",
       "    <tr>\n",
       "      <th>1</th>\n",
       "      <td>SRR20969411</td>\n",
       "      <td>781687</td>\n",
       "      <td>rpsL</td>\n",
       "      <td>p.Lys43Arg</td>\n",
       "      <td>1.000000</td>\n",
       "      <td>missense_variant</td>\n",
       "      <td>lineage2.2.1</td>\n",
       "      <td>MDR-TB</td>\n",
       "      <td>streptomycin</td>\n",
       "    </tr>\n",
       "    <tr>\n",
       "      <th>2</th>\n",
       "      <td>SRR20969411</td>\n",
       "      <td>2155168</td>\n",
       "      <td>katG</td>\n",
       "      <td>p.Ser315Thr</td>\n",
       "      <td>1.000000</td>\n",
       "      <td>missense_variant</td>\n",
       "      <td>lineage2.2.1</td>\n",
       "      <td>MDR-TB</td>\n",
       "      <td>isoniazid</td>\n",
       "    </tr>\n",
       "    <tr>\n",
       "      <th>3</th>\n",
       "      <td>SRR20969411</td>\n",
       "      <td>4247729</td>\n",
       "      <td>embB</td>\n",
       "      <td>p.Gly406Ser</td>\n",
       "      <td>0.997268</td>\n",
       "      <td>missense_variant</td>\n",
       "      <td>lineage2.2.1</td>\n",
       "      <td>MDR-TB</td>\n",
       "      <td>ethambutol</td>\n",
       "    </tr>\n",
       "    <tr>\n",
       "      <th>4</th>\n",
       "      <td>ERR10748278</td>\n",
       "      <td>761155</td>\n",
       "      <td>rpoB</td>\n",
       "      <td>p.Ser450Leu</td>\n",
       "      <td>1.000000</td>\n",
       "      <td>missense_variant</td>\n",
       "      <td>lineage2.2.1</td>\n",
       "      <td>MDR-TB</td>\n",
       "      <td>rifampicin</td>\n",
       "    </tr>\n",
       "    <tr>\n",
       "      <th>...</th>\n",
       "      <td>...</td>\n",
       "      <td>...</td>\n",
       "      <td>...</td>\n",
       "      <td>...</td>\n",
       "      <td>...</td>\n",
       "      <td>...</td>\n",
       "      <td>...</td>\n",
       "      <td>...</td>\n",
       "      <td>...</td>\n",
       "    </tr>\n",
       "    <tr>\n",
       "      <th>266471</th>\n",
       "      <td>ERR7911528</td>\n",
       "      <td>3087715</td>\n",
       "      <td>ald</td>\n",
       "      <td>c.897_898dupGA</td>\n",
       "      <td>0.459770</td>\n",
       "      <td>frameshift_variant</td>\n",
       "      <td>lineage2.2.2</td>\n",
       "      <td>Pre-XDR-TB</td>\n",
       "      <td>cycloserine</td>\n",
       "    </tr>\n",
       "    <tr>\n",
       "      <th>266472</th>\n",
       "      <td>ERR7911528</td>\n",
       "      <td>4247431</td>\n",
       "      <td>embB</td>\n",
       "      <td>p.Met306Ile</td>\n",
       "      <td>1.000000</td>\n",
       "      <td>missense_variant</td>\n",
       "      <td>lineage2.2.2</td>\n",
       "      <td>Pre-XDR-TB</td>\n",
       "      <td>ethambutol</td>\n",
       "    </tr>\n",
       "    <tr>\n",
       "      <th>266473</th>\n",
       "      <td>ERR7911528</td>\n",
       "      <td>4326333</td>\n",
       "      <td>ethA</td>\n",
       "      <td>p.Ala381Pro</td>\n",
       "      <td>1.000000</td>\n",
       "      <td>missense_variant</td>\n",
       "      <td>lineage2.2.2</td>\n",
       "      <td>Pre-XDR-TB</td>\n",
       "      <td>ethionamide</td>\n",
       "    </tr>\n",
       "    <tr>\n",
       "      <th>266474</th>\n",
       "      <td>ERR7911528</td>\n",
       "      <td>4407967</td>\n",
       "      <td>gid</td>\n",
       "      <td>p.Leu79Ser</td>\n",
       "      <td>1.000000</td>\n",
       "      <td>missense_variant</td>\n",
       "      <td>lineage2.2.2</td>\n",
       "      <td>Pre-XDR-TB</td>\n",
       "      <td>streptomycin</td>\n",
       "    </tr>\n",
       "    <tr>\n",
       "      <th>266475</th>\n",
       "      <td>ERR718460</td>\n",
       "      <td>1472359</td>\n",
       "      <td>rrs</td>\n",
       "      <td>n.514A&gt;C</td>\n",
       "      <td>1.000000</td>\n",
       "      <td>non_coding_transcript_exon_variant</td>\n",
       "      <td>lineage2.2.1</td>\n",
       "      <td>Other</td>\n",
       "      <td>streptomycin</td>\n",
       "    </tr>\n",
       "  </tbody>\n",
       "</table>\n",
       "<p>266476 rows × 9 columns</p>\n",
       "</div>"
      ],
      "text/plain": [
       "          sample_id  genome_pos  gene          change      freq  \\\n",
       "0       SRR20969411      761155  rpoB     p.Ser450Leu  0.996825   \n",
       "1       SRR20969411      781687  rpsL      p.Lys43Arg  1.000000   \n",
       "2       SRR20969411     2155168  katG     p.Ser315Thr  1.000000   \n",
       "3       SRR20969411     4247729  embB     p.Gly406Ser  0.997268   \n",
       "4       ERR10748278      761155  rpoB     p.Ser450Leu  1.000000   \n",
       "...             ...         ...   ...             ...       ...   \n",
       "266471   ERR7911528     3087715   ald  c.897_898dupGA  0.459770   \n",
       "266472   ERR7911528     4247431  embB     p.Met306Ile  1.000000   \n",
       "266473   ERR7911528     4326333  ethA     p.Ala381Pro  1.000000   \n",
       "266474   ERR7911528     4407967   gid      p.Leu79Ser  1.000000   \n",
       "266475    ERR718460     1472359   rrs        n.514A>C  1.000000   \n",
       "\n",
       "                                      type        sublin      drtype  \\\n",
       "0                         missense_variant  lineage2.2.1      MDR-TB   \n",
       "1                         missense_variant  lineage2.2.1      MDR-TB   \n",
       "2                         missense_variant  lineage2.2.1      MDR-TB   \n",
       "3                         missense_variant  lineage2.2.1      MDR-TB   \n",
       "4                         missense_variant  lineage2.2.1      MDR-TB   \n",
       "...                                    ...           ...         ...   \n",
       "266471                  frameshift_variant  lineage2.2.2  Pre-XDR-TB   \n",
       "266472                    missense_variant  lineage2.2.2  Pre-XDR-TB   \n",
       "266473                    missense_variant  lineage2.2.2  Pre-XDR-TB   \n",
       "266474                    missense_variant  lineage2.2.2  Pre-XDR-TB   \n",
       "266475  non_coding_transcript_exon_variant  lineage2.2.1       Other   \n",
       "\n",
       "               drugs  \n",
       "0         rifampicin  \n",
       "1       streptomycin  \n",
       "2          isoniazid  \n",
       "3         ethambutol  \n",
       "4         rifampicin  \n",
       "...              ...  \n",
       "266471   cycloserine  \n",
       "266472    ethambutol  \n",
       "266473   ethionamide  \n",
       "266474  streptomycin  \n",
       "266475  streptomycin  \n",
       "\n",
       "[266476 rows x 9 columns]"
      ]
     },
     "execution_count": 76,
     "metadata": {},
     "output_type": "execute_result"
    }
   ],
   "source": [
    "v"
   ]
  },
  {
   "cell_type": "code",
   "execution_count": 92,
   "metadata": {},
   "outputs": [],
   "source": [
    "def optimal_amplicon_coverage_with_quantities(df, amplicon_quantities):\n",
    "    \"\"\"\n",
    "    Finds the optimal combination of amplicons of various lengths and quantities to cover given genomic positions.\n",
    "    \n",
    "    Parameters:\n",
    "    - df: DataFrame with a 'genomic_pos' column representing genomic positions.\n",
    "    - amplicon_quantities: A dictionary with amplicon lengths as keys and the quantities available as values.\n",
    "    \n",
    "    Returns:\n",
    "    - The total number of amplicons used and the chosen lengths for each segment along with their quantities.\n",
    "    \"\"\"\n",
    "    # Ensure the genomic positions are sorted\n",
    "    sorted_positions = df['genome_pos'].sort_values().unique()\n",
    "    \n",
    "    # Initialize counters and storage for results\n",
    "    total_amplicons_used = 0\n",
    "    coverage_plan = []  # To store the start position, length, and quantity used for each chosen amplicon\n",
    "    \n",
    "    current_position = sorted_positions[0]\n",
    "    end_position = sorted_positions[-1]\n",
    "    \n",
    "    while current_position <= end_position:\n",
    "        # Iterate through available amplicons, sorted by length descending to try the longest first\n",
    "        print(current_position, end_position)\n",
    "        for length, quantity in sorted(amplicon_quantities.items(), key=lambda x: -x[0]):\n",
    "            print(length, quantity)\n",
    "            if quantity > 0 and current_position + length - 1 <= end_position:\n",
    "                # Amplicon can be used, update counters and results\n",
    "                total_amplicons_used += 1\n",
    "                coverage_plan.append((current_position, length))\n",
    "                current_position += length  # Move to the next segment\n",
    "                amplicon_quantities[length] -= 1  # Decrease the quantity of the used amplicon\n",
    "                print('found')\n",
    "                break\n",
    "        else:\n",
    "            # If no amplicon fits, break the loop and raise an error\n",
    "            raise ValueError(\"Cannot cover all positions with available amplicon lengths and quantities.\")\n",
    "    \n",
    "    return total_amplicons_used, coverage_plan\n"
   ]
  },
  {
   "cell_type": "code",
   "execution_count": 93,
   "metadata": {},
   "outputs": [
    {
     "name": "stdout",
     "output_type": "stream",
     "text": [
      "760314 762748\n",
      "1000 0\n",
      "950 2\n",
      "found\n",
      "761264 762748\n",
      "1000 0\n",
      "950 1\n",
      "found\n",
      "762214 762748\n",
      "1000 0\n",
      "950 0\n",
      "900 2\n",
      "850 2\n",
      "800 2\n",
      "750 2\n",
      "700 2\n",
      "650 2\n",
      "600 2\n",
      "550 2\n",
      "500 2\n",
      "found\n",
      "762714 762748\n",
      "1000 0\n",
      "950 0\n",
      "900 2\n",
      "850 2\n",
      "800 2\n",
      "750 2\n",
      "700 2\n",
      "650 2\n",
      "600 2\n",
      "550 2\n",
      "500 1\n",
      "450 2\n",
      "400 1\n"
     ]
    },
    {
     "ename": "ValueError",
     "evalue": "Cannot cover all positions with available amplicon lengths and quantities.",
     "output_type": "error",
     "traceback": [
      "\u001b[0;31m---------------------------------------------------------------------------\u001b[0m",
      "\u001b[0;31mValueError\u001b[0m                                Traceback (most recent call last)",
      "Cell \u001b[0;32mIn[93], line 1\u001b[0m\n\u001b[0;32m----> 1\u001b[0m \u001b[38;5;28mprint\u001b[39m(\u001b[43moptimal_amplicon_coverage_with_quantities\u001b[49m\u001b[43m(\u001b[49m\u001b[43mv\u001b[49m\u001b[43m[\u001b[49m\u001b[43mv\u001b[49m\u001b[43m[\u001b[49m\u001b[38;5;124;43m'\u001b[39;49m\u001b[38;5;124;43mgene\u001b[39;49m\u001b[38;5;124;43m'\u001b[39;49m\u001b[43m]\u001b[49m\u001b[38;5;241;43m==\u001b[39;49m\u001b[38;5;124;43m'\u001b[39;49m\u001b[38;5;124;43mrpoB\u001b[39;49m\u001b[38;5;124;43m'\u001b[39;49m\u001b[43m]\u001b[49m\u001b[43m,\u001b[49m\u001b[43m \u001b[49m\u001b[43mvalue_counts\u001b[49m\u001b[43m)\u001b[49m)\n",
      "Cell \u001b[0;32mIn[92], line 37\u001b[0m, in \u001b[0;36moptimal_amplicon_coverage_with_quantities\u001b[0;34m(df, amplicon_quantities)\u001b[0m\n\u001b[1;32m     34\u001b[0m             \u001b[38;5;28;01mbreak\u001b[39;00m\n\u001b[1;32m     35\u001b[0m     \u001b[38;5;28;01melse\u001b[39;00m:\n\u001b[1;32m     36\u001b[0m         \u001b[38;5;66;03m# If no amplicon fits, break the loop and raise an error\u001b[39;00m\n\u001b[0;32m---> 37\u001b[0m         \u001b[38;5;28;01mraise\u001b[39;00m \u001b[38;5;167;01mValueError\u001b[39;00m(\u001b[38;5;124m\"\u001b[39m\u001b[38;5;124mCannot cover all positions with available amplicon lengths and quantities.\u001b[39m\u001b[38;5;124m\"\u001b[39m)\n\u001b[1;32m     39\u001b[0m \u001b[38;5;28;01mreturn\u001b[39;00m total_amplicons_used, coverage_plan\n",
      "\u001b[0;31mValueError\u001b[0m: Cannot cover all positions with available amplicon lengths and quantities."
     ]
    }
   ],
   "source": [
    "print(optimal_amplicon_coverage_with_quantities(v[v['gene']=='rpoB'], value_counts))"
   ]
  },
  {
   "cell_type": "code",
   "execution_count": 50,
   "metadata": {},
   "outputs": [],
   "source": [
    "v[v['gene']!= 'rpoC'].to_csv('/mnt/storage10/lwang/Projects/TOAST/toast/db/variants.csv', index=False)"
   ]
  },
  {
   "cell_type": "code",
   "execution_count": 28,
   "metadata": {},
   "outputs": [
    {
     "data": {
      "text/plain": [
       "array([400, 450, 500, 550, 600, 650, 700, 750, 800])"
      ]
     },
     "execution_count": 28,
     "metadata": {},
     "output_type": "execute_result"
    }
   ],
   "source": [
    "np.arange(400, 801, 50)"
   ]
  },
  {
   "cell_type": "code",
   "execution_count": 31,
   "metadata": {},
   "outputs": [
    {
     "data": {
      "text/plain": [
       "2"
      ]
     },
     "execution_count": 31,
     "metadata": {},
     "output_type": "execute_result"
    }
   ],
   "source": [
    "int(20/len(np.arange(400, 801, 50)))"
   ]
  },
  {
   "cell_type": "code",
   "execution_count": 33,
   "metadata": {},
   "outputs": [
    {
     "data": {
      "text/plain": [
       "3"
      ]
     },
     "execution_count": 33,
     "metadata": {},
     "output_type": "execute_result"
    }
   ],
   "source": [
    "int(30/len(np.arange(400, 801, 50)))"
   ]
  },
  {
   "cell_type": "code",
   "execution_count": 39,
   "metadata": {},
   "outputs": [
    {
     "data": {
      "text/plain": [
       "20"
      ]
     },
     "execution_count": 39,
     "metadata": {},
     "output_type": "execute_result"
    }
   ],
   "source": [
    "np.sum([3,3,2,2,2,2,2,2,2])"
   ]
  },
  {
   "cell_type": "code",
   "execution_count": 43,
   "metadata": {},
   "outputs": [
    {
     "data": {
      "application/vnd.plotly.v1+json": {
       "config": {
        "plotlyServerURL": "https://plot.ly"
       },
       "data": [
        {
         "type": "bar",
         "x": [
          "400",
          "450",
          "500",
          "550",
          "600",
          "650",
          "700",
          "750",
          "800"
         ],
         "y": [
          2,
          2,
          2,
          2,
          2,
          2,
          2,
          3,
          3
         ]
        }
       ],
       "layout": {
        "margin": {
         "b": 20,
         "l": 20,
         "r": 20,
         "t": 40
        },
        "plot_bgcolor": "white",
        "template": {
         "data": {
          "bar": [
           {
            "error_x": {
             "color": "#2a3f5f"
            },
            "error_y": {
             "color": "#2a3f5f"
            },
            "marker": {
             "line": {
              "color": "#E5ECF6",
              "width": 0.5
             },
             "pattern": {
              "fillmode": "overlay",
              "size": 10,
              "solidity": 0.2
             }
            },
            "type": "bar"
           }
          ],
          "barpolar": [
           {
            "marker": {
             "line": {
              "color": "#E5ECF6",
              "width": 0.5
             },
             "pattern": {
              "fillmode": "overlay",
              "size": 10,
              "solidity": 0.2
             }
            },
            "type": "barpolar"
           }
          ],
          "carpet": [
           {
            "aaxis": {
             "endlinecolor": "#2a3f5f",
             "gridcolor": "white",
             "linecolor": "white",
             "minorgridcolor": "white",
             "startlinecolor": "#2a3f5f"
            },
            "baxis": {
             "endlinecolor": "#2a3f5f",
             "gridcolor": "white",
             "linecolor": "white",
             "minorgridcolor": "white",
             "startlinecolor": "#2a3f5f"
            },
            "type": "carpet"
           }
          ],
          "choropleth": [
           {
            "colorbar": {
             "outlinewidth": 0,
             "ticks": ""
            },
            "type": "choropleth"
           }
          ],
          "contour": [
           {
            "colorbar": {
             "outlinewidth": 0,
             "ticks": ""
            },
            "colorscale": [
             [
              0,
              "#0d0887"
             ],
             [
              0.1111111111111111,
              "#46039f"
             ],
             [
              0.2222222222222222,
              "#7201a8"
             ],
             [
              0.3333333333333333,
              "#9c179e"
             ],
             [
              0.4444444444444444,
              "#bd3786"
             ],
             [
              0.5555555555555556,
              "#d8576b"
             ],
             [
              0.6666666666666666,
              "#ed7953"
             ],
             [
              0.7777777777777778,
              "#fb9f3a"
             ],
             [
              0.8888888888888888,
              "#fdca26"
             ],
             [
              1,
              "#f0f921"
             ]
            ],
            "type": "contour"
           }
          ],
          "contourcarpet": [
           {
            "colorbar": {
             "outlinewidth": 0,
             "ticks": ""
            },
            "type": "contourcarpet"
           }
          ],
          "heatmap": [
           {
            "colorbar": {
             "outlinewidth": 0,
             "ticks": ""
            },
            "colorscale": [
             [
              0,
              "#0d0887"
             ],
             [
              0.1111111111111111,
              "#46039f"
             ],
             [
              0.2222222222222222,
              "#7201a8"
             ],
             [
              0.3333333333333333,
              "#9c179e"
             ],
             [
              0.4444444444444444,
              "#bd3786"
             ],
             [
              0.5555555555555556,
              "#d8576b"
             ],
             [
              0.6666666666666666,
              "#ed7953"
             ],
             [
              0.7777777777777778,
              "#fb9f3a"
             ],
             [
              0.8888888888888888,
              "#fdca26"
             ],
             [
              1,
              "#f0f921"
             ]
            ],
            "type": "heatmap"
           }
          ],
          "heatmapgl": [
           {
            "colorbar": {
             "outlinewidth": 0,
             "ticks": ""
            },
            "colorscale": [
             [
              0,
              "#0d0887"
             ],
             [
              0.1111111111111111,
              "#46039f"
             ],
             [
              0.2222222222222222,
              "#7201a8"
             ],
             [
              0.3333333333333333,
              "#9c179e"
             ],
             [
              0.4444444444444444,
              "#bd3786"
             ],
             [
              0.5555555555555556,
              "#d8576b"
             ],
             [
              0.6666666666666666,
              "#ed7953"
             ],
             [
              0.7777777777777778,
              "#fb9f3a"
             ],
             [
              0.8888888888888888,
              "#fdca26"
             ],
             [
              1,
              "#f0f921"
             ]
            ],
            "type": "heatmapgl"
           }
          ],
          "histogram": [
           {
            "marker": {
             "pattern": {
              "fillmode": "overlay",
              "size": 10,
              "solidity": 0.2
             }
            },
            "type": "histogram"
           }
          ],
          "histogram2d": [
           {
            "colorbar": {
             "outlinewidth": 0,
             "ticks": ""
            },
            "colorscale": [
             [
              0,
              "#0d0887"
             ],
             [
              0.1111111111111111,
              "#46039f"
             ],
             [
              0.2222222222222222,
              "#7201a8"
             ],
             [
              0.3333333333333333,
              "#9c179e"
             ],
             [
              0.4444444444444444,
              "#bd3786"
             ],
             [
              0.5555555555555556,
              "#d8576b"
             ],
             [
              0.6666666666666666,
              "#ed7953"
             ],
             [
              0.7777777777777778,
              "#fb9f3a"
             ],
             [
              0.8888888888888888,
              "#fdca26"
             ],
             [
              1,
              "#f0f921"
             ]
            ],
            "type": "histogram2d"
           }
          ],
          "histogram2dcontour": [
           {
            "colorbar": {
             "outlinewidth": 0,
             "ticks": ""
            },
            "colorscale": [
             [
              0,
              "#0d0887"
             ],
             [
              0.1111111111111111,
              "#46039f"
             ],
             [
              0.2222222222222222,
              "#7201a8"
             ],
             [
              0.3333333333333333,
              "#9c179e"
             ],
             [
              0.4444444444444444,
              "#bd3786"
             ],
             [
              0.5555555555555556,
              "#d8576b"
             ],
             [
              0.6666666666666666,
              "#ed7953"
             ],
             [
              0.7777777777777778,
              "#fb9f3a"
             ],
             [
              0.8888888888888888,
              "#fdca26"
             ],
             [
              1,
              "#f0f921"
             ]
            ],
            "type": "histogram2dcontour"
           }
          ],
          "mesh3d": [
           {
            "colorbar": {
             "outlinewidth": 0,
             "ticks": ""
            },
            "type": "mesh3d"
           }
          ],
          "parcoords": [
           {
            "line": {
             "colorbar": {
              "outlinewidth": 0,
              "ticks": ""
             }
            },
            "type": "parcoords"
           }
          ],
          "pie": [
           {
            "automargin": true,
            "type": "pie"
           }
          ],
          "scatter": [
           {
            "fillpattern": {
             "fillmode": "overlay",
             "size": 10,
             "solidity": 0.2
            },
            "type": "scatter"
           }
          ],
          "scatter3d": [
           {
            "line": {
             "colorbar": {
              "outlinewidth": 0,
              "ticks": ""
             }
            },
            "marker": {
             "colorbar": {
              "outlinewidth": 0,
              "ticks": ""
             }
            },
            "type": "scatter3d"
           }
          ],
          "scattercarpet": [
           {
            "marker": {
             "colorbar": {
              "outlinewidth": 0,
              "ticks": ""
             }
            },
            "type": "scattercarpet"
           }
          ],
          "scattergeo": [
           {
            "marker": {
             "colorbar": {
              "outlinewidth": 0,
              "ticks": ""
             }
            },
            "type": "scattergeo"
           }
          ],
          "scattergl": [
           {
            "marker": {
             "colorbar": {
              "outlinewidth": 0,
              "ticks": ""
             }
            },
            "type": "scattergl"
           }
          ],
          "scattermapbox": [
           {
            "marker": {
             "colorbar": {
              "outlinewidth": 0,
              "ticks": ""
             }
            },
            "type": "scattermapbox"
           }
          ],
          "scatterpolar": [
           {
            "marker": {
             "colorbar": {
              "outlinewidth": 0,
              "ticks": ""
             }
            },
            "type": "scatterpolar"
           }
          ],
          "scatterpolargl": [
           {
            "marker": {
             "colorbar": {
              "outlinewidth": 0,
              "ticks": ""
             }
            },
            "type": "scatterpolargl"
           }
          ],
          "scatterternary": [
           {
            "marker": {
             "colorbar": {
              "outlinewidth": 0,
              "ticks": ""
             }
            },
            "type": "scatterternary"
           }
          ],
          "surface": [
           {
            "colorbar": {
             "outlinewidth": 0,
             "ticks": ""
            },
            "colorscale": [
             [
              0,
              "#0d0887"
             ],
             [
              0.1111111111111111,
              "#46039f"
             ],
             [
              0.2222222222222222,
              "#7201a8"
             ],
             [
              0.3333333333333333,
              "#9c179e"
             ],
             [
              0.4444444444444444,
              "#bd3786"
             ],
             [
              0.5555555555555556,
              "#d8576b"
             ],
             [
              0.6666666666666666,
              "#ed7953"
             ],
             [
              0.7777777777777778,
              "#fb9f3a"
             ],
             [
              0.8888888888888888,
              "#fdca26"
             ],
             [
              1,
              "#f0f921"
             ]
            ],
            "type": "surface"
           }
          ],
          "table": [
           {
            "cells": {
             "fill": {
              "color": "#EBF0F8"
             },
             "line": {
              "color": "white"
             }
            },
            "header": {
             "fill": {
              "color": "#C8D4E3"
             },
             "line": {
              "color": "white"
             }
            },
            "type": "table"
           }
          ]
         },
         "layout": {
          "annotationdefaults": {
           "arrowcolor": "#2a3f5f",
           "arrowhead": 0,
           "arrowwidth": 1
          },
          "autotypenumbers": "strict",
          "coloraxis": {
           "colorbar": {
            "outlinewidth": 0,
            "ticks": ""
           }
          },
          "colorscale": {
           "diverging": [
            [
             0,
             "#8e0152"
            ],
            [
             0.1,
             "#c51b7d"
            ],
            [
             0.2,
             "#de77ae"
            ],
            [
             0.3,
             "#f1b6da"
            ],
            [
             0.4,
             "#fde0ef"
            ],
            [
             0.5,
             "#f7f7f7"
            ],
            [
             0.6,
             "#e6f5d0"
            ],
            [
             0.7,
             "#b8e186"
            ],
            [
             0.8,
             "#7fbc41"
            ],
            [
             0.9,
             "#4d9221"
            ],
            [
             1,
             "#276419"
            ]
           ],
           "sequential": [
            [
             0,
             "#0d0887"
            ],
            [
             0.1111111111111111,
             "#46039f"
            ],
            [
             0.2222222222222222,
             "#7201a8"
            ],
            [
             0.3333333333333333,
             "#9c179e"
            ],
            [
             0.4444444444444444,
             "#bd3786"
            ],
            [
             0.5555555555555556,
             "#d8576b"
            ],
            [
             0.6666666666666666,
             "#ed7953"
            ],
            [
             0.7777777777777778,
             "#fb9f3a"
            ],
            [
             0.8888888888888888,
             "#fdca26"
            ],
            [
             1,
             "#f0f921"
            ]
           ],
           "sequentialminus": [
            [
             0,
             "#0d0887"
            ],
            [
             0.1111111111111111,
             "#46039f"
            ],
            [
             0.2222222222222222,
             "#7201a8"
            ],
            [
             0.3333333333333333,
             "#9c179e"
            ],
            [
             0.4444444444444444,
             "#bd3786"
            ],
            [
             0.5555555555555556,
             "#d8576b"
            ],
            [
             0.6666666666666666,
             "#ed7953"
            ],
            [
             0.7777777777777778,
             "#fb9f3a"
            ],
            [
             0.8888888888888888,
             "#fdca26"
            ],
            [
             1,
             "#f0f921"
            ]
           ]
          },
          "colorway": [
           "#636efa",
           "#EF553B",
           "#00cc96",
           "#ab63fa",
           "#FFA15A",
           "#19d3f3",
           "#FF6692",
           "#B6E880",
           "#FF97FF",
           "#FECB52"
          ],
          "font": {
           "color": "#2a3f5f"
          },
          "geo": {
           "bgcolor": "white",
           "lakecolor": "white",
           "landcolor": "#E5ECF6",
           "showlakes": true,
           "showland": true,
           "subunitcolor": "white"
          },
          "hoverlabel": {
           "align": "left"
          },
          "hovermode": "closest",
          "mapbox": {
           "style": "light"
          },
          "paper_bgcolor": "white",
          "plot_bgcolor": "#E5ECF6",
          "polar": {
           "angularaxis": {
            "gridcolor": "white",
            "linecolor": "white",
            "ticks": ""
           },
           "bgcolor": "#E5ECF6",
           "radialaxis": {
            "gridcolor": "white",
            "linecolor": "white",
            "ticks": ""
           }
          },
          "scene": {
           "xaxis": {
            "backgroundcolor": "#E5ECF6",
            "gridcolor": "white",
            "gridwidth": 2,
            "linecolor": "white",
            "showbackground": true,
            "ticks": "",
            "zerolinecolor": "white"
           },
           "yaxis": {
            "backgroundcolor": "#E5ECF6",
            "gridcolor": "white",
            "gridwidth": 2,
            "linecolor": "white",
            "showbackground": true,
            "ticks": "",
            "zerolinecolor": "white"
           },
           "zaxis": {
            "backgroundcolor": "#E5ECF6",
            "gridcolor": "white",
            "gridwidth": 2,
            "linecolor": "white",
            "showbackground": true,
            "ticks": "",
            "zerolinecolor": "white"
           }
          },
          "shapedefaults": {
           "line": {
            "color": "#2a3f5f"
           }
          },
          "ternary": {
           "aaxis": {
            "gridcolor": "white",
            "linecolor": "white",
            "ticks": ""
           },
           "baxis": {
            "gridcolor": "white",
            "linecolor": "white",
            "ticks": ""
           },
           "bgcolor": "#E5ECF6",
           "caxis": {
            "gridcolor": "white",
            "linecolor": "white",
            "ticks": ""
           }
          },
          "title": {
           "x": 0.05
          },
          "xaxis": {
           "automargin": true,
           "gridcolor": "white",
           "linecolor": "white",
           "ticks": "",
           "title": {
            "standoff": 15
           },
           "zerolinecolor": "white",
           "zerolinewidth": 2
          },
          "yaxis": {
           "automargin": true,
           "gridcolor": "white",
           "linecolor": "white",
           "ticks": "",
           "title": {
            "standoff": 15
           },
           "zerolinecolor": "white",
           "zerolinewidth": 2
          }
         }
        },
        "title": {
         "text": "20 amplicons of 400-800bps (+50bps steps)"
        },
        "width": 600,
        "xaxis": {
         "title": {
          "text": "Amplicon size (bps)"
         }
        },
        "yaxis": {
         "title": {
          "text": "Number of amplicons"
         }
        }
       }
      },
      "text/html": [
       "<div>                            <div id=\"d75a372b-8836-41c7-9dae-3986668f52d3\" class=\"plotly-graph-div\" style=\"height:525px; width:600px;\"></div>            <script type=\"text/javascript\">                require([\"plotly\"], function(Plotly) {                    window.PLOTLYENV=window.PLOTLYENV || {};                                    if (document.getElementById(\"d75a372b-8836-41c7-9dae-3986668f52d3\")) {                    Plotly.newPlot(                        \"d75a372b-8836-41c7-9dae-3986668f52d3\",                        [{\"x\":[\"400\",\"450\",\"500\",\"550\",\"600\",\"650\",\"700\",\"750\",\"800\"],\"y\":[2,2,2,2,2,2,2,3,3],\"type\":\"bar\"}],                        {\"template\":{\"data\":{\"histogram2dcontour\":[{\"type\":\"histogram2dcontour\",\"colorbar\":{\"outlinewidth\":0,\"ticks\":\"\"},\"colorscale\":[[0.0,\"#0d0887\"],[0.1111111111111111,\"#46039f\"],[0.2222222222222222,\"#7201a8\"],[0.3333333333333333,\"#9c179e\"],[0.4444444444444444,\"#bd3786\"],[0.5555555555555556,\"#d8576b\"],[0.6666666666666666,\"#ed7953\"],[0.7777777777777778,\"#fb9f3a\"],[0.8888888888888888,\"#fdca26\"],[1.0,\"#f0f921\"]]}],\"choropleth\":[{\"type\":\"choropleth\",\"colorbar\":{\"outlinewidth\":0,\"ticks\":\"\"}}],\"histogram2d\":[{\"type\":\"histogram2d\",\"colorbar\":{\"outlinewidth\":0,\"ticks\":\"\"},\"colorscale\":[[0.0,\"#0d0887\"],[0.1111111111111111,\"#46039f\"],[0.2222222222222222,\"#7201a8\"],[0.3333333333333333,\"#9c179e\"],[0.4444444444444444,\"#bd3786\"],[0.5555555555555556,\"#d8576b\"],[0.6666666666666666,\"#ed7953\"],[0.7777777777777778,\"#fb9f3a\"],[0.8888888888888888,\"#fdca26\"],[1.0,\"#f0f921\"]]}],\"heatmap\":[{\"type\":\"heatmap\",\"colorbar\":{\"outlinewidth\":0,\"ticks\":\"\"},\"colorscale\":[[0.0,\"#0d0887\"],[0.1111111111111111,\"#46039f\"],[0.2222222222222222,\"#7201a8\"],[0.3333333333333333,\"#9c179e\"],[0.4444444444444444,\"#bd3786\"],[0.5555555555555556,\"#d8576b\"],[0.6666666666666666,\"#ed7953\"],[0.7777777777777778,\"#fb9f3a\"],[0.8888888888888888,\"#fdca26\"],[1.0,\"#f0f921\"]]}],\"heatmapgl\":[{\"type\":\"heatmapgl\",\"colorbar\":{\"outlinewidth\":0,\"ticks\":\"\"},\"colorscale\":[[0.0,\"#0d0887\"],[0.1111111111111111,\"#46039f\"],[0.2222222222222222,\"#7201a8\"],[0.3333333333333333,\"#9c179e\"],[0.4444444444444444,\"#bd3786\"],[0.5555555555555556,\"#d8576b\"],[0.6666666666666666,\"#ed7953\"],[0.7777777777777778,\"#fb9f3a\"],[0.8888888888888888,\"#fdca26\"],[1.0,\"#f0f921\"]]}],\"contourcarpet\":[{\"type\":\"contourcarpet\",\"colorbar\":{\"outlinewidth\":0,\"ticks\":\"\"}}],\"contour\":[{\"type\":\"contour\",\"colorbar\":{\"outlinewidth\":0,\"ticks\":\"\"},\"colorscale\":[[0.0,\"#0d0887\"],[0.1111111111111111,\"#46039f\"],[0.2222222222222222,\"#7201a8\"],[0.3333333333333333,\"#9c179e\"],[0.4444444444444444,\"#bd3786\"],[0.5555555555555556,\"#d8576b\"],[0.6666666666666666,\"#ed7953\"],[0.7777777777777778,\"#fb9f3a\"],[0.8888888888888888,\"#fdca26\"],[1.0,\"#f0f921\"]]}],\"surface\":[{\"type\":\"surface\",\"colorbar\":{\"outlinewidth\":0,\"ticks\":\"\"},\"colorscale\":[[0.0,\"#0d0887\"],[0.1111111111111111,\"#46039f\"],[0.2222222222222222,\"#7201a8\"],[0.3333333333333333,\"#9c179e\"],[0.4444444444444444,\"#bd3786\"],[0.5555555555555556,\"#d8576b\"],[0.6666666666666666,\"#ed7953\"],[0.7777777777777778,\"#fb9f3a\"],[0.8888888888888888,\"#fdca26\"],[1.0,\"#f0f921\"]]}],\"mesh3d\":[{\"type\":\"mesh3d\",\"colorbar\":{\"outlinewidth\":0,\"ticks\":\"\"}}],\"scatter\":[{\"fillpattern\":{\"fillmode\":\"overlay\",\"size\":10,\"solidity\":0.2},\"type\":\"scatter\"}],\"parcoords\":[{\"type\":\"parcoords\",\"line\":{\"colorbar\":{\"outlinewidth\":0,\"ticks\":\"\"}}}],\"scatterpolargl\":[{\"type\":\"scatterpolargl\",\"marker\":{\"colorbar\":{\"outlinewidth\":0,\"ticks\":\"\"}}}],\"bar\":[{\"error_x\":{\"color\":\"#2a3f5f\"},\"error_y\":{\"color\":\"#2a3f5f\"},\"marker\":{\"line\":{\"color\":\"#E5ECF6\",\"width\":0.5},\"pattern\":{\"fillmode\":\"overlay\",\"size\":10,\"solidity\":0.2}},\"type\":\"bar\"}],\"scattergeo\":[{\"type\":\"scattergeo\",\"marker\":{\"colorbar\":{\"outlinewidth\":0,\"ticks\":\"\"}}}],\"scatterpolar\":[{\"type\":\"scatterpolar\",\"marker\":{\"colorbar\":{\"outlinewidth\":0,\"ticks\":\"\"}}}],\"histogram\":[{\"marker\":{\"pattern\":{\"fillmode\":\"overlay\",\"size\":10,\"solidity\":0.2}},\"type\":\"histogram\"}],\"scattergl\":[{\"type\":\"scattergl\",\"marker\":{\"colorbar\":{\"outlinewidth\":0,\"ticks\":\"\"}}}],\"scatter3d\":[{\"type\":\"scatter3d\",\"line\":{\"colorbar\":{\"outlinewidth\":0,\"ticks\":\"\"}},\"marker\":{\"colorbar\":{\"outlinewidth\":0,\"ticks\":\"\"}}}],\"scattermapbox\":[{\"type\":\"scattermapbox\",\"marker\":{\"colorbar\":{\"outlinewidth\":0,\"ticks\":\"\"}}}],\"scatterternary\":[{\"type\":\"scatterternary\",\"marker\":{\"colorbar\":{\"outlinewidth\":0,\"ticks\":\"\"}}}],\"scattercarpet\":[{\"type\":\"scattercarpet\",\"marker\":{\"colorbar\":{\"outlinewidth\":0,\"ticks\":\"\"}}}],\"carpet\":[{\"aaxis\":{\"endlinecolor\":\"#2a3f5f\",\"gridcolor\":\"white\",\"linecolor\":\"white\",\"minorgridcolor\":\"white\",\"startlinecolor\":\"#2a3f5f\"},\"baxis\":{\"endlinecolor\":\"#2a3f5f\",\"gridcolor\":\"white\",\"linecolor\":\"white\",\"minorgridcolor\":\"white\",\"startlinecolor\":\"#2a3f5f\"},\"type\":\"carpet\"}],\"table\":[{\"cells\":{\"fill\":{\"color\":\"#EBF0F8\"},\"line\":{\"color\":\"white\"}},\"header\":{\"fill\":{\"color\":\"#C8D4E3\"},\"line\":{\"color\":\"white\"}},\"type\":\"table\"}],\"barpolar\":[{\"marker\":{\"line\":{\"color\":\"#E5ECF6\",\"width\":0.5},\"pattern\":{\"fillmode\":\"overlay\",\"size\":10,\"solidity\":0.2}},\"type\":\"barpolar\"}],\"pie\":[{\"automargin\":true,\"type\":\"pie\"}]},\"layout\":{\"autotypenumbers\":\"strict\",\"colorway\":[\"#636efa\",\"#EF553B\",\"#00cc96\",\"#ab63fa\",\"#FFA15A\",\"#19d3f3\",\"#FF6692\",\"#B6E880\",\"#FF97FF\",\"#FECB52\"],\"font\":{\"color\":\"#2a3f5f\"},\"hovermode\":\"closest\",\"hoverlabel\":{\"align\":\"left\"},\"paper_bgcolor\":\"white\",\"plot_bgcolor\":\"#E5ECF6\",\"polar\":{\"bgcolor\":\"#E5ECF6\",\"angularaxis\":{\"gridcolor\":\"white\",\"linecolor\":\"white\",\"ticks\":\"\"},\"radialaxis\":{\"gridcolor\":\"white\",\"linecolor\":\"white\",\"ticks\":\"\"}},\"ternary\":{\"bgcolor\":\"#E5ECF6\",\"aaxis\":{\"gridcolor\":\"white\",\"linecolor\":\"white\",\"ticks\":\"\"},\"baxis\":{\"gridcolor\":\"white\",\"linecolor\":\"white\",\"ticks\":\"\"},\"caxis\":{\"gridcolor\":\"white\",\"linecolor\":\"white\",\"ticks\":\"\"}},\"coloraxis\":{\"colorbar\":{\"outlinewidth\":0,\"ticks\":\"\"}},\"colorscale\":{\"sequential\":[[0.0,\"#0d0887\"],[0.1111111111111111,\"#46039f\"],[0.2222222222222222,\"#7201a8\"],[0.3333333333333333,\"#9c179e\"],[0.4444444444444444,\"#bd3786\"],[0.5555555555555556,\"#d8576b\"],[0.6666666666666666,\"#ed7953\"],[0.7777777777777778,\"#fb9f3a\"],[0.8888888888888888,\"#fdca26\"],[1.0,\"#f0f921\"]],\"sequentialminus\":[[0.0,\"#0d0887\"],[0.1111111111111111,\"#46039f\"],[0.2222222222222222,\"#7201a8\"],[0.3333333333333333,\"#9c179e\"],[0.4444444444444444,\"#bd3786\"],[0.5555555555555556,\"#d8576b\"],[0.6666666666666666,\"#ed7953\"],[0.7777777777777778,\"#fb9f3a\"],[0.8888888888888888,\"#fdca26\"],[1.0,\"#f0f921\"]],\"diverging\":[[0,\"#8e0152\"],[0.1,\"#c51b7d\"],[0.2,\"#de77ae\"],[0.3,\"#f1b6da\"],[0.4,\"#fde0ef\"],[0.5,\"#f7f7f7\"],[0.6,\"#e6f5d0\"],[0.7,\"#b8e186\"],[0.8,\"#7fbc41\"],[0.9,\"#4d9221\"],[1,\"#276419\"]]},\"xaxis\":{\"gridcolor\":\"white\",\"linecolor\":\"white\",\"ticks\":\"\",\"title\":{\"standoff\":15},\"zerolinecolor\":\"white\",\"automargin\":true,\"zerolinewidth\":2},\"yaxis\":{\"gridcolor\":\"white\",\"linecolor\":\"white\",\"ticks\":\"\",\"title\":{\"standoff\":15},\"zerolinecolor\":\"white\",\"automargin\":true,\"zerolinewidth\":2},\"scene\":{\"xaxis\":{\"backgroundcolor\":\"#E5ECF6\",\"gridcolor\":\"white\",\"linecolor\":\"white\",\"showbackground\":true,\"ticks\":\"\",\"zerolinecolor\":\"white\",\"gridwidth\":2},\"yaxis\":{\"backgroundcolor\":\"#E5ECF6\",\"gridcolor\":\"white\",\"linecolor\":\"white\",\"showbackground\":true,\"ticks\":\"\",\"zerolinecolor\":\"white\",\"gridwidth\":2},\"zaxis\":{\"backgroundcolor\":\"#E5ECF6\",\"gridcolor\":\"white\",\"linecolor\":\"white\",\"showbackground\":true,\"ticks\":\"\",\"zerolinecolor\":\"white\",\"gridwidth\":2}},\"shapedefaults\":{\"line\":{\"color\":\"#2a3f5f\"}},\"annotationdefaults\":{\"arrowcolor\":\"#2a3f5f\",\"arrowhead\":0,\"arrowwidth\":1},\"geo\":{\"bgcolor\":\"white\",\"landcolor\":\"#E5ECF6\",\"subunitcolor\":\"white\",\"showland\":true,\"showlakes\":true,\"lakecolor\":\"white\"},\"title\":{\"x\":0.05},\"mapbox\":{\"style\":\"light\"}}},\"title\":{\"text\":\"20 amplicons of 400-800bps (+50bps steps)\"},\"margin\":{\"l\":20,\"r\":20,\"t\":40,\"b\":20},\"xaxis\":{\"title\":{\"text\":\"Amplicon size (bps)\"}},\"yaxis\":{\"title\":{\"text\":\"Number of amplicons\"}},\"plot_bgcolor\":\"white\",\"width\":600},                        {\"responsive\": true}                    ).then(function(){\n",
       "                            \n",
       "var gd = document.getElementById('d75a372b-8836-41c7-9dae-3986668f52d3');\n",
       "var x = new MutationObserver(function (mutations, observer) {{\n",
       "        var display = window.getComputedStyle(gd).display;\n",
       "        if (!display || display === 'none') {{\n",
       "            console.log([gd, 'removed!']);\n",
       "            Plotly.purge(gd);\n",
       "            observer.disconnect();\n",
       "        }}\n",
       "}});\n",
       "\n",
       "// Listen for the removal of the full notebook cells\n",
       "var notebookContainer = gd.closest('#notebook-container');\n",
       "if (notebookContainer) {{\n",
       "    x.observe(notebookContainer, {childList: true});\n",
       "}}\n",
       "\n",
       "// Listen for the clearing of the current output cell\n",
       "var outputEl = gd.closest('.output');\n",
       "if (outputEl) {{\n",
       "    x.observe(outputEl, {childList: true});\n",
       "}}\n",
       "\n",
       "                        })                };                });            </script>        </div>"
      ]
     },
     "metadata": {},
     "output_type": "display_data"
    }
   ],
   "source": [
    "import plotly.graph_objects as go\n",
    "\n",
    "# Sample data for a bar chart\n",
    "data = {'Category': [str(x) for x in np.arange(400, 801, 50)],\n",
    "        'Values': [2,2,2,2,2,2,2,3,3]}\n",
    "\n",
    "# Create a bar chart\n",
    "fig = go.Figure([go.Bar(x=data['Category'], y=data['Values'])])\n",
    "\n",
    "# Update layout for a better visual appearance\n",
    "fig.update_layout(title_text='20 amplicons of 400-800bps (+50bps steps)',\n",
    "                  xaxis_title='Amplicon size (bps)',\n",
    "                  yaxis_title='Number of amplicons',\n",
    "                  plot_bgcolor='white',\n",
    "                  margin=dict(l=20, r=20, t=40, b=20),\n",
    "                  width = 600)\n",
    "\n",
    "# Show plot\n",
    "fig.show()\n"
   ]
  },
  {
   "cell_type": "code",
   "execution_count": 44,
   "metadata": {},
   "outputs": [
    {
     "data": {
      "application/vnd.plotly.v1+json": {
       "config": {
        "plotlyServerURL": "https://plot.ly"
       },
       "data": [
        {
         "type": "bar",
         "x": [
          "400",
          "450",
          "500",
          "550",
          "600",
          "650",
          "700",
          "750",
          "800"
         ],
         "y": [
          2,
          2,
          3,
          3,
          3,
          3,
          3,
          3,
          3
         ]
        }
       ],
       "layout": {
        "margin": {
         "b": 20,
         "l": 20,
         "r": 20,
         "t": 40
        },
        "plot_bgcolor": "white",
        "template": {
         "data": {
          "bar": [
           {
            "error_x": {
             "color": "#2a3f5f"
            },
            "error_y": {
             "color": "#2a3f5f"
            },
            "marker": {
             "line": {
              "color": "#E5ECF6",
              "width": 0.5
             },
             "pattern": {
              "fillmode": "overlay",
              "size": 10,
              "solidity": 0.2
             }
            },
            "type": "bar"
           }
          ],
          "barpolar": [
           {
            "marker": {
             "line": {
              "color": "#E5ECF6",
              "width": 0.5
             },
             "pattern": {
              "fillmode": "overlay",
              "size": 10,
              "solidity": 0.2
             }
            },
            "type": "barpolar"
           }
          ],
          "carpet": [
           {
            "aaxis": {
             "endlinecolor": "#2a3f5f",
             "gridcolor": "white",
             "linecolor": "white",
             "minorgridcolor": "white",
             "startlinecolor": "#2a3f5f"
            },
            "baxis": {
             "endlinecolor": "#2a3f5f",
             "gridcolor": "white",
             "linecolor": "white",
             "minorgridcolor": "white",
             "startlinecolor": "#2a3f5f"
            },
            "type": "carpet"
           }
          ],
          "choropleth": [
           {
            "colorbar": {
             "outlinewidth": 0,
             "ticks": ""
            },
            "type": "choropleth"
           }
          ],
          "contour": [
           {
            "colorbar": {
             "outlinewidth": 0,
             "ticks": ""
            },
            "colorscale": [
             [
              0,
              "#0d0887"
             ],
             [
              0.1111111111111111,
              "#46039f"
             ],
             [
              0.2222222222222222,
              "#7201a8"
             ],
             [
              0.3333333333333333,
              "#9c179e"
             ],
             [
              0.4444444444444444,
              "#bd3786"
             ],
             [
              0.5555555555555556,
              "#d8576b"
             ],
             [
              0.6666666666666666,
              "#ed7953"
             ],
             [
              0.7777777777777778,
              "#fb9f3a"
             ],
             [
              0.8888888888888888,
              "#fdca26"
             ],
             [
              1,
              "#f0f921"
             ]
            ],
            "type": "contour"
           }
          ],
          "contourcarpet": [
           {
            "colorbar": {
             "outlinewidth": 0,
             "ticks": ""
            },
            "type": "contourcarpet"
           }
          ],
          "heatmap": [
           {
            "colorbar": {
             "outlinewidth": 0,
             "ticks": ""
            },
            "colorscale": [
             [
              0,
              "#0d0887"
             ],
             [
              0.1111111111111111,
              "#46039f"
             ],
             [
              0.2222222222222222,
              "#7201a8"
             ],
             [
              0.3333333333333333,
              "#9c179e"
             ],
             [
              0.4444444444444444,
              "#bd3786"
             ],
             [
              0.5555555555555556,
              "#d8576b"
             ],
             [
              0.6666666666666666,
              "#ed7953"
             ],
             [
              0.7777777777777778,
              "#fb9f3a"
             ],
             [
              0.8888888888888888,
              "#fdca26"
             ],
             [
              1,
              "#f0f921"
             ]
            ],
            "type": "heatmap"
           }
          ],
          "heatmapgl": [
           {
            "colorbar": {
             "outlinewidth": 0,
             "ticks": ""
            },
            "colorscale": [
             [
              0,
              "#0d0887"
             ],
             [
              0.1111111111111111,
              "#46039f"
             ],
             [
              0.2222222222222222,
              "#7201a8"
             ],
             [
              0.3333333333333333,
              "#9c179e"
             ],
             [
              0.4444444444444444,
              "#bd3786"
             ],
             [
              0.5555555555555556,
              "#d8576b"
             ],
             [
              0.6666666666666666,
              "#ed7953"
             ],
             [
              0.7777777777777778,
              "#fb9f3a"
             ],
             [
              0.8888888888888888,
              "#fdca26"
             ],
             [
              1,
              "#f0f921"
             ]
            ],
            "type": "heatmapgl"
           }
          ],
          "histogram": [
           {
            "marker": {
             "pattern": {
              "fillmode": "overlay",
              "size": 10,
              "solidity": 0.2
             }
            },
            "type": "histogram"
           }
          ],
          "histogram2d": [
           {
            "colorbar": {
             "outlinewidth": 0,
             "ticks": ""
            },
            "colorscale": [
             [
              0,
              "#0d0887"
             ],
             [
              0.1111111111111111,
              "#46039f"
             ],
             [
              0.2222222222222222,
              "#7201a8"
             ],
             [
              0.3333333333333333,
              "#9c179e"
             ],
             [
              0.4444444444444444,
              "#bd3786"
             ],
             [
              0.5555555555555556,
              "#d8576b"
             ],
             [
              0.6666666666666666,
              "#ed7953"
             ],
             [
              0.7777777777777778,
              "#fb9f3a"
             ],
             [
              0.8888888888888888,
              "#fdca26"
             ],
             [
              1,
              "#f0f921"
             ]
            ],
            "type": "histogram2d"
           }
          ],
          "histogram2dcontour": [
           {
            "colorbar": {
             "outlinewidth": 0,
             "ticks": ""
            },
            "colorscale": [
             [
              0,
              "#0d0887"
             ],
             [
              0.1111111111111111,
              "#46039f"
             ],
             [
              0.2222222222222222,
              "#7201a8"
             ],
             [
              0.3333333333333333,
              "#9c179e"
             ],
             [
              0.4444444444444444,
              "#bd3786"
             ],
             [
              0.5555555555555556,
              "#d8576b"
             ],
             [
              0.6666666666666666,
              "#ed7953"
             ],
             [
              0.7777777777777778,
              "#fb9f3a"
             ],
             [
              0.8888888888888888,
              "#fdca26"
             ],
             [
              1,
              "#f0f921"
             ]
            ],
            "type": "histogram2dcontour"
           }
          ],
          "mesh3d": [
           {
            "colorbar": {
             "outlinewidth": 0,
             "ticks": ""
            },
            "type": "mesh3d"
           }
          ],
          "parcoords": [
           {
            "line": {
             "colorbar": {
              "outlinewidth": 0,
              "ticks": ""
             }
            },
            "type": "parcoords"
           }
          ],
          "pie": [
           {
            "automargin": true,
            "type": "pie"
           }
          ],
          "scatter": [
           {
            "fillpattern": {
             "fillmode": "overlay",
             "size": 10,
             "solidity": 0.2
            },
            "type": "scatter"
           }
          ],
          "scatter3d": [
           {
            "line": {
             "colorbar": {
              "outlinewidth": 0,
              "ticks": ""
             }
            },
            "marker": {
             "colorbar": {
              "outlinewidth": 0,
              "ticks": ""
             }
            },
            "type": "scatter3d"
           }
          ],
          "scattercarpet": [
           {
            "marker": {
             "colorbar": {
              "outlinewidth": 0,
              "ticks": ""
             }
            },
            "type": "scattercarpet"
           }
          ],
          "scattergeo": [
           {
            "marker": {
             "colorbar": {
              "outlinewidth": 0,
              "ticks": ""
             }
            },
            "type": "scattergeo"
           }
          ],
          "scattergl": [
           {
            "marker": {
             "colorbar": {
              "outlinewidth": 0,
              "ticks": ""
             }
            },
            "type": "scattergl"
           }
          ],
          "scattermapbox": [
           {
            "marker": {
             "colorbar": {
              "outlinewidth": 0,
              "ticks": ""
             }
            },
            "type": "scattermapbox"
           }
          ],
          "scatterpolar": [
           {
            "marker": {
             "colorbar": {
              "outlinewidth": 0,
              "ticks": ""
             }
            },
            "type": "scatterpolar"
           }
          ],
          "scatterpolargl": [
           {
            "marker": {
             "colorbar": {
              "outlinewidth": 0,
              "ticks": ""
             }
            },
            "type": "scatterpolargl"
           }
          ],
          "scatterternary": [
           {
            "marker": {
             "colorbar": {
              "outlinewidth": 0,
              "ticks": ""
             }
            },
            "type": "scatterternary"
           }
          ],
          "surface": [
           {
            "colorbar": {
             "outlinewidth": 0,
             "ticks": ""
            },
            "colorscale": [
             [
              0,
              "#0d0887"
             ],
             [
              0.1111111111111111,
              "#46039f"
             ],
             [
              0.2222222222222222,
              "#7201a8"
             ],
             [
              0.3333333333333333,
              "#9c179e"
             ],
             [
              0.4444444444444444,
              "#bd3786"
             ],
             [
              0.5555555555555556,
              "#d8576b"
             ],
             [
              0.6666666666666666,
              "#ed7953"
             ],
             [
              0.7777777777777778,
              "#fb9f3a"
             ],
             [
              0.8888888888888888,
              "#fdca26"
             ],
             [
              1,
              "#f0f921"
             ]
            ],
            "type": "surface"
           }
          ],
          "table": [
           {
            "cells": {
             "fill": {
              "color": "#EBF0F8"
             },
             "line": {
              "color": "white"
             }
            },
            "header": {
             "fill": {
              "color": "#C8D4E3"
             },
             "line": {
              "color": "white"
             }
            },
            "type": "table"
           }
          ]
         },
         "layout": {
          "annotationdefaults": {
           "arrowcolor": "#2a3f5f",
           "arrowhead": 0,
           "arrowwidth": 1
          },
          "autotypenumbers": "strict",
          "coloraxis": {
           "colorbar": {
            "outlinewidth": 0,
            "ticks": ""
           }
          },
          "colorscale": {
           "diverging": [
            [
             0,
             "#8e0152"
            ],
            [
             0.1,
             "#c51b7d"
            ],
            [
             0.2,
             "#de77ae"
            ],
            [
             0.3,
             "#f1b6da"
            ],
            [
             0.4,
             "#fde0ef"
            ],
            [
             0.5,
             "#f7f7f7"
            ],
            [
             0.6,
             "#e6f5d0"
            ],
            [
             0.7,
             "#b8e186"
            ],
            [
             0.8,
             "#7fbc41"
            ],
            [
             0.9,
             "#4d9221"
            ],
            [
             1,
             "#276419"
            ]
           ],
           "sequential": [
            [
             0,
             "#0d0887"
            ],
            [
             0.1111111111111111,
             "#46039f"
            ],
            [
             0.2222222222222222,
             "#7201a8"
            ],
            [
             0.3333333333333333,
             "#9c179e"
            ],
            [
             0.4444444444444444,
             "#bd3786"
            ],
            [
             0.5555555555555556,
             "#d8576b"
            ],
            [
             0.6666666666666666,
             "#ed7953"
            ],
            [
             0.7777777777777778,
             "#fb9f3a"
            ],
            [
             0.8888888888888888,
             "#fdca26"
            ],
            [
             1,
             "#f0f921"
            ]
           ],
           "sequentialminus": [
            [
             0,
             "#0d0887"
            ],
            [
             0.1111111111111111,
             "#46039f"
            ],
            [
             0.2222222222222222,
             "#7201a8"
            ],
            [
             0.3333333333333333,
             "#9c179e"
            ],
            [
             0.4444444444444444,
             "#bd3786"
            ],
            [
             0.5555555555555556,
             "#d8576b"
            ],
            [
             0.6666666666666666,
             "#ed7953"
            ],
            [
             0.7777777777777778,
             "#fb9f3a"
            ],
            [
             0.8888888888888888,
             "#fdca26"
            ],
            [
             1,
             "#f0f921"
            ]
           ]
          },
          "colorway": [
           "#636efa",
           "#EF553B",
           "#00cc96",
           "#ab63fa",
           "#FFA15A",
           "#19d3f3",
           "#FF6692",
           "#B6E880",
           "#FF97FF",
           "#FECB52"
          ],
          "font": {
           "color": "#2a3f5f"
          },
          "geo": {
           "bgcolor": "white",
           "lakecolor": "white",
           "landcolor": "#E5ECF6",
           "showlakes": true,
           "showland": true,
           "subunitcolor": "white"
          },
          "hoverlabel": {
           "align": "left"
          },
          "hovermode": "closest",
          "mapbox": {
           "style": "light"
          },
          "paper_bgcolor": "white",
          "plot_bgcolor": "#E5ECF6",
          "polar": {
           "angularaxis": {
            "gridcolor": "white",
            "linecolor": "white",
            "ticks": ""
           },
           "bgcolor": "#E5ECF6",
           "radialaxis": {
            "gridcolor": "white",
            "linecolor": "white",
            "ticks": ""
           }
          },
          "scene": {
           "xaxis": {
            "backgroundcolor": "#E5ECF6",
            "gridcolor": "white",
            "gridwidth": 2,
            "linecolor": "white",
            "showbackground": true,
            "ticks": "",
            "zerolinecolor": "white"
           },
           "yaxis": {
            "backgroundcolor": "#E5ECF6",
            "gridcolor": "white",
            "gridwidth": 2,
            "linecolor": "white",
            "showbackground": true,
            "ticks": "",
            "zerolinecolor": "white"
           },
           "zaxis": {
            "backgroundcolor": "#E5ECF6",
            "gridcolor": "white",
            "gridwidth": 2,
            "linecolor": "white",
            "showbackground": true,
            "ticks": "",
            "zerolinecolor": "white"
           }
          },
          "shapedefaults": {
           "line": {
            "color": "#2a3f5f"
           }
          },
          "ternary": {
           "aaxis": {
            "gridcolor": "white",
            "linecolor": "white",
            "ticks": ""
           },
           "baxis": {
            "gridcolor": "white",
            "linecolor": "white",
            "ticks": ""
           },
           "bgcolor": "#E5ECF6",
           "caxis": {
            "gridcolor": "white",
            "linecolor": "white",
            "ticks": ""
           }
          },
          "title": {
           "x": 0.05
          },
          "xaxis": {
           "automargin": true,
           "gridcolor": "white",
           "linecolor": "white",
           "ticks": "",
           "title": {
            "standoff": 15
           },
           "zerolinecolor": "white",
           "zerolinewidth": 2
          },
          "yaxis": {
           "automargin": true,
           "gridcolor": "white",
           "linecolor": "white",
           "ticks": "",
           "title": {
            "standoff": 15
           },
           "zerolinecolor": "white",
           "zerolinewidth": 2
          }
         }
        },
        "title": {
         "text": "25 amplicons of 400-800bps (+50bps steps)"
        },
        "width": 600,
        "xaxis": {
         "title": {
          "text": "Amplicon size (bps)"
         }
        },
        "yaxis": {
         "title": {
          "text": "Number of amplicons"
         }
        }
       }
      },
      "text/html": [
       "<div>                            <div id=\"0576e281-0230-4d36-b2c0-eed52d71f0c2\" class=\"plotly-graph-div\" style=\"height:525px; width:600px;\"></div>            <script type=\"text/javascript\">                require([\"plotly\"], function(Plotly) {                    window.PLOTLYENV=window.PLOTLYENV || {};                                    if (document.getElementById(\"0576e281-0230-4d36-b2c0-eed52d71f0c2\")) {                    Plotly.newPlot(                        \"0576e281-0230-4d36-b2c0-eed52d71f0c2\",                        [{\"x\":[\"400\",\"450\",\"500\",\"550\",\"600\",\"650\",\"700\",\"750\",\"800\"],\"y\":[2,2,3,3,3,3,3,3,3],\"type\":\"bar\"}],                        {\"template\":{\"data\":{\"histogram2dcontour\":[{\"type\":\"histogram2dcontour\",\"colorbar\":{\"outlinewidth\":0,\"ticks\":\"\"},\"colorscale\":[[0.0,\"#0d0887\"],[0.1111111111111111,\"#46039f\"],[0.2222222222222222,\"#7201a8\"],[0.3333333333333333,\"#9c179e\"],[0.4444444444444444,\"#bd3786\"],[0.5555555555555556,\"#d8576b\"],[0.6666666666666666,\"#ed7953\"],[0.7777777777777778,\"#fb9f3a\"],[0.8888888888888888,\"#fdca26\"],[1.0,\"#f0f921\"]]}],\"choropleth\":[{\"type\":\"choropleth\",\"colorbar\":{\"outlinewidth\":0,\"ticks\":\"\"}}],\"histogram2d\":[{\"type\":\"histogram2d\",\"colorbar\":{\"outlinewidth\":0,\"ticks\":\"\"},\"colorscale\":[[0.0,\"#0d0887\"],[0.1111111111111111,\"#46039f\"],[0.2222222222222222,\"#7201a8\"],[0.3333333333333333,\"#9c179e\"],[0.4444444444444444,\"#bd3786\"],[0.5555555555555556,\"#d8576b\"],[0.6666666666666666,\"#ed7953\"],[0.7777777777777778,\"#fb9f3a\"],[0.8888888888888888,\"#fdca26\"],[1.0,\"#f0f921\"]]}],\"heatmap\":[{\"type\":\"heatmap\",\"colorbar\":{\"outlinewidth\":0,\"ticks\":\"\"},\"colorscale\":[[0.0,\"#0d0887\"],[0.1111111111111111,\"#46039f\"],[0.2222222222222222,\"#7201a8\"],[0.3333333333333333,\"#9c179e\"],[0.4444444444444444,\"#bd3786\"],[0.5555555555555556,\"#d8576b\"],[0.6666666666666666,\"#ed7953\"],[0.7777777777777778,\"#fb9f3a\"],[0.8888888888888888,\"#fdca26\"],[1.0,\"#f0f921\"]]}],\"heatmapgl\":[{\"type\":\"heatmapgl\",\"colorbar\":{\"outlinewidth\":0,\"ticks\":\"\"},\"colorscale\":[[0.0,\"#0d0887\"],[0.1111111111111111,\"#46039f\"],[0.2222222222222222,\"#7201a8\"],[0.3333333333333333,\"#9c179e\"],[0.4444444444444444,\"#bd3786\"],[0.5555555555555556,\"#d8576b\"],[0.6666666666666666,\"#ed7953\"],[0.7777777777777778,\"#fb9f3a\"],[0.8888888888888888,\"#fdca26\"],[1.0,\"#f0f921\"]]}],\"contourcarpet\":[{\"type\":\"contourcarpet\",\"colorbar\":{\"outlinewidth\":0,\"ticks\":\"\"}}],\"contour\":[{\"type\":\"contour\",\"colorbar\":{\"outlinewidth\":0,\"ticks\":\"\"},\"colorscale\":[[0.0,\"#0d0887\"],[0.1111111111111111,\"#46039f\"],[0.2222222222222222,\"#7201a8\"],[0.3333333333333333,\"#9c179e\"],[0.4444444444444444,\"#bd3786\"],[0.5555555555555556,\"#d8576b\"],[0.6666666666666666,\"#ed7953\"],[0.7777777777777778,\"#fb9f3a\"],[0.8888888888888888,\"#fdca26\"],[1.0,\"#f0f921\"]]}],\"surface\":[{\"type\":\"surface\",\"colorbar\":{\"outlinewidth\":0,\"ticks\":\"\"},\"colorscale\":[[0.0,\"#0d0887\"],[0.1111111111111111,\"#46039f\"],[0.2222222222222222,\"#7201a8\"],[0.3333333333333333,\"#9c179e\"],[0.4444444444444444,\"#bd3786\"],[0.5555555555555556,\"#d8576b\"],[0.6666666666666666,\"#ed7953\"],[0.7777777777777778,\"#fb9f3a\"],[0.8888888888888888,\"#fdca26\"],[1.0,\"#f0f921\"]]}],\"mesh3d\":[{\"type\":\"mesh3d\",\"colorbar\":{\"outlinewidth\":0,\"ticks\":\"\"}}],\"scatter\":[{\"fillpattern\":{\"fillmode\":\"overlay\",\"size\":10,\"solidity\":0.2},\"type\":\"scatter\"}],\"parcoords\":[{\"type\":\"parcoords\",\"line\":{\"colorbar\":{\"outlinewidth\":0,\"ticks\":\"\"}}}],\"scatterpolargl\":[{\"type\":\"scatterpolargl\",\"marker\":{\"colorbar\":{\"outlinewidth\":0,\"ticks\":\"\"}}}],\"bar\":[{\"error_x\":{\"color\":\"#2a3f5f\"},\"error_y\":{\"color\":\"#2a3f5f\"},\"marker\":{\"line\":{\"color\":\"#E5ECF6\",\"width\":0.5},\"pattern\":{\"fillmode\":\"overlay\",\"size\":10,\"solidity\":0.2}},\"type\":\"bar\"}],\"scattergeo\":[{\"type\":\"scattergeo\",\"marker\":{\"colorbar\":{\"outlinewidth\":0,\"ticks\":\"\"}}}],\"scatterpolar\":[{\"type\":\"scatterpolar\",\"marker\":{\"colorbar\":{\"outlinewidth\":0,\"ticks\":\"\"}}}],\"histogram\":[{\"marker\":{\"pattern\":{\"fillmode\":\"overlay\",\"size\":10,\"solidity\":0.2}},\"type\":\"histogram\"}],\"scattergl\":[{\"type\":\"scattergl\",\"marker\":{\"colorbar\":{\"outlinewidth\":0,\"ticks\":\"\"}}}],\"scatter3d\":[{\"type\":\"scatter3d\",\"line\":{\"colorbar\":{\"outlinewidth\":0,\"ticks\":\"\"}},\"marker\":{\"colorbar\":{\"outlinewidth\":0,\"ticks\":\"\"}}}],\"scattermapbox\":[{\"type\":\"scattermapbox\",\"marker\":{\"colorbar\":{\"outlinewidth\":0,\"ticks\":\"\"}}}],\"scatterternary\":[{\"type\":\"scatterternary\",\"marker\":{\"colorbar\":{\"outlinewidth\":0,\"ticks\":\"\"}}}],\"scattercarpet\":[{\"type\":\"scattercarpet\",\"marker\":{\"colorbar\":{\"outlinewidth\":0,\"ticks\":\"\"}}}],\"carpet\":[{\"aaxis\":{\"endlinecolor\":\"#2a3f5f\",\"gridcolor\":\"white\",\"linecolor\":\"white\",\"minorgridcolor\":\"white\",\"startlinecolor\":\"#2a3f5f\"},\"baxis\":{\"endlinecolor\":\"#2a3f5f\",\"gridcolor\":\"white\",\"linecolor\":\"white\",\"minorgridcolor\":\"white\",\"startlinecolor\":\"#2a3f5f\"},\"type\":\"carpet\"}],\"table\":[{\"cells\":{\"fill\":{\"color\":\"#EBF0F8\"},\"line\":{\"color\":\"white\"}},\"header\":{\"fill\":{\"color\":\"#C8D4E3\"},\"line\":{\"color\":\"white\"}},\"type\":\"table\"}],\"barpolar\":[{\"marker\":{\"line\":{\"color\":\"#E5ECF6\",\"width\":0.5},\"pattern\":{\"fillmode\":\"overlay\",\"size\":10,\"solidity\":0.2}},\"type\":\"barpolar\"}],\"pie\":[{\"automargin\":true,\"type\":\"pie\"}]},\"layout\":{\"autotypenumbers\":\"strict\",\"colorway\":[\"#636efa\",\"#EF553B\",\"#00cc96\",\"#ab63fa\",\"#FFA15A\",\"#19d3f3\",\"#FF6692\",\"#B6E880\",\"#FF97FF\",\"#FECB52\"],\"font\":{\"color\":\"#2a3f5f\"},\"hovermode\":\"closest\",\"hoverlabel\":{\"align\":\"left\"},\"paper_bgcolor\":\"white\",\"plot_bgcolor\":\"#E5ECF6\",\"polar\":{\"bgcolor\":\"#E5ECF6\",\"angularaxis\":{\"gridcolor\":\"white\",\"linecolor\":\"white\",\"ticks\":\"\"},\"radialaxis\":{\"gridcolor\":\"white\",\"linecolor\":\"white\",\"ticks\":\"\"}},\"ternary\":{\"bgcolor\":\"#E5ECF6\",\"aaxis\":{\"gridcolor\":\"white\",\"linecolor\":\"white\",\"ticks\":\"\"},\"baxis\":{\"gridcolor\":\"white\",\"linecolor\":\"white\",\"ticks\":\"\"},\"caxis\":{\"gridcolor\":\"white\",\"linecolor\":\"white\",\"ticks\":\"\"}},\"coloraxis\":{\"colorbar\":{\"outlinewidth\":0,\"ticks\":\"\"}},\"colorscale\":{\"sequential\":[[0.0,\"#0d0887\"],[0.1111111111111111,\"#46039f\"],[0.2222222222222222,\"#7201a8\"],[0.3333333333333333,\"#9c179e\"],[0.4444444444444444,\"#bd3786\"],[0.5555555555555556,\"#d8576b\"],[0.6666666666666666,\"#ed7953\"],[0.7777777777777778,\"#fb9f3a\"],[0.8888888888888888,\"#fdca26\"],[1.0,\"#f0f921\"]],\"sequentialminus\":[[0.0,\"#0d0887\"],[0.1111111111111111,\"#46039f\"],[0.2222222222222222,\"#7201a8\"],[0.3333333333333333,\"#9c179e\"],[0.4444444444444444,\"#bd3786\"],[0.5555555555555556,\"#d8576b\"],[0.6666666666666666,\"#ed7953\"],[0.7777777777777778,\"#fb9f3a\"],[0.8888888888888888,\"#fdca26\"],[1.0,\"#f0f921\"]],\"diverging\":[[0,\"#8e0152\"],[0.1,\"#c51b7d\"],[0.2,\"#de77ae\"],[0.3,\"#f1b6da\"],[0.4,\"#fde0ef\"],[0.5,\"#f7f7f7\"],[0.6,\"#e6f5d0\"],[0.7,\"#b8e186\"],[0.8,\"#7fbc41\"],[0.9,\"#4d9221\"],[1,\"#276419\"]]},\"xaxis\":{\"gridcolor\":\"white\",\"linecolor\":\"white\",\"ticks\":\"\",\"title\":{\"standoff\":15},\"zerolinecolor\":\"white\",\"automargin\":true,\"zerolinewidth\":2},\"yaxis\":{\"gridcolor\":\"white\",\"linecolor\":\"white\",\"ticks\":\"\",\"title\":{\"standoff\":15},\"zerolinecolor\":\"white\",\"automargin\":true,\"zerolinewidth\":2},\"scene\":{\"xaxis\":{\"backgroundcolor\":\"#E5ECF6\",\"gridcolor\":\"white\",\"linecolor\":\"white\",\"showbackground\":true,\"ticks\":\"\",\"zerolinecolor\":\"white\",\"gridwidth\":2},\"yaxis\":{\"backgroundcolor\":\"#E5ECF6\",\"gridcolor\":\"white\",\"linecolor\":\"white\",\"showbackground\":true,\"ticks\":\"\",\"zerolinecolor\":\"white\",\"gridwidth\":2},\"zaxis\":{\"backgroundcolor\":\"#E5ECF6\",\"gridcolor\":\"white\",\"linecolor\":\"white\",\"showbackground\":true,\"ticks\":\"\",\"zerolinecolor\":\"white\",\"gridwidth\":2}},\"shapedefaults\":{\"line\":{\"color\":\"#2a3f5f\"}},\"annotationdefaults\":{\"arrowcolor\":\"#2a3f5f\",\"arrowhead\":0,\"arrowwidth\":1},\"geo\":{\"bgcolor\":\"white\",\"landcolor\":\"#E5ECF6\",\"subunitcolor\":\"white\",\"showland\":true,\"showlakes\":true,\"lakecolor\":\"white\"},\"title\":{\"x\":0.05},\"mapbox\":{\"style\":\"light\"}}},\"title\":{\"text\":\"25 amplicons of 400-800bps (+50bps steps)\"},\"margin\":{\"l\":20,\"r\":20,\"t\":40,\"b\":20},\"xaxis\":{\"title\":{\"text\":\"Amplicon size (bps)\"}},\"yaxis\":{\"title\":{\"text\":\"Number of amplicons\"}},\"plot_bgcolor\":\"white\",\"width\":600},                        {\"responsive\": true}                    ).then(function(){\n",
       "                            \n",
       "var gd = document.getElementById('0576e281-0230-4d36-b2c0-eed52d71f0c2');\n",
       "var x = new MutationObserver(function (mutations, observer) {{\n",
       "        var display = window.getComputedStyle(gd).display;\n",
       "        if (!display || display === 'none') {{\n",
       "            console.log([gd, 'removed!']);\n",
       "            Plotly.purge(gd);\n",
       "            observer.disconnect();\n",
       "        }}\n",
       "}});\n",
       "\n",
       "// Listen for the removal of the full notebook cells\n",
       "var notebookContainer = gd.closest('#notebook-container');\n",
       "if (notebookContainer) {{\n",
       "    x.observe(notebookContainer, {childList: true});\n",
       "}}\n",
       "\n",
       "// Listen for the clearing of the current output cell\n",
       "var outputEl = gd.closest('.output');\n",
       "if (outputEl) {{\n",
       "    x.observe(outputEl, {childList: true});\n",
       "}}\n",
       "\n",
       "                        })                };                });            </script>        </div>"
      ]
     },
     "metadata": {},
     "output_type": "display_data"
    }
   ],
   "source": [
    "import plotly.graph_objects as go\n",
    "\n",
    "# Sample data for a bar chart\n",
    "data = {'Category': [str(x) for x in np.arange(400, 801, 50)],\n",
    "        'Values': [2,2,3,3,3,3,3,3,3]}\n",
    "\n",
    "# Create a bar chart\n",
    "fig = go.Figure([go.Bar(x=data['Category'], y=data['Values'])])\n",
    "\n",
    "# Update layout for a better visual appearance\n",
    "fig.update_layout(title_text='25 amplicons of 400-800bps (+50bps steps)',\n",
    "                  xaxis_title='Amplicon size (bps)',\n",
    "                  yaxis_title='Number of amplicons',\n",
    "                  plot_bgcolor='white',\n",
    "                  margin=dict(l=20, r=20, t=40, b=20),\n",
    "                  width = 600)\n",
    "\n",
    "# Show plot"
   ]
  },
  {
   "cell_type": "code",
   "execution_count": 96,
   "metadata": {},
   "outputs": [
    {
     "data": {
      "application/vnd.plotly.v1+json": {
       "config": {
        "plotlyServerURL": "https://plot.ly"
       },
       "data": [
        {
         "type": "bar",
         "x": [
          "400",
          "450",
          "500",
          "550",
          "600",
          "650",
          "700",
          "750",
          "800"
         ],
         "y": [
          3,
          3,
          3,
          3,
          3,
          3,
          4,
          4,
          4
         ]
        }
       ],
       "layout": {
        "margin": {
         "b": 20,
         "l": 20,
         "r": 20,
         "t": 40
        },
        "plot_bgcolor": "white",
        "template": {
         "data": {
          "bar": [
           {
            "error_x": {
             "color": "#2a3f5f"
            },
            "error_y": {
             "color": "#2a3f5f"
            },
            "marker": {
             "line": {
              "color": "#E5ECF6",
              "width": 0.5
             },
             "pattern": {
              "fillmode": "overlay",
              "size": 10,
              "solidity": 0.2
             }
            },
            "type": "bar"
           }
          ],
          "barpolar": [
           {
            "marker": {
             "line": {
              "color": "#E5ECF6",
              "width": 0.5
             },
             "pattern": {
              "fillmode": "overlay",
              "size": 10,
              "solidity": 0.2
             }
            },
            "type": "barpolar"
           }
          ],
          "carpet": [
           {
            "aaxis": {
             "endlinecolor": "#2a3f5f",
             "gridcolor": "white",
             "linecolor": "white",
             "minorgridcolor": "white",
             "startlinecolor": "#2a3f5f"
            },
            "baxis": {
             "endlinecolor": "#2a3f5f",
             "gridcolor": "white",
             "linecolor": "white",
             "minorgridcolor": "white",
             "startlinecolor": "#2a3f5f"
            },
            "type": "carpet"
           }
          ],
          "choropleth": [
           {
            "colorbar": {
             "outlinewidth": 0,
             "ticks": ""
            },
            "type": "choropleth"
           }
          ],
          "contour": [
           {
            "colorbar": {
             "outlinewidth": 0,
             "ticks": ""
            },
            "colorscale": [
             [
              0,
              "#0d0887"
             ],
             [
              0.1111111111111111,
              "#46039f"
             ],
             [
              0.2222222222222222,
              "#7201a8"
             ],
             [
              0.3333333333333333,
              "#9c179e"
             ],
             [
              0.4444444444444444,
              "#bd3786"
             ],
             [
              0.5555555555555556,
              "#d8576b"
             ],
             [
              0.6666666666666666,
              "#ed7953"
             ],
             [
              0.7777777777777778,
              "#fb9f3a"
             ],
             [
              0.8888888888888888,
              "#fdca26"
             ],
             [
              1,
              "#f0f921"
             ]
            ],
            "type": "contour"
           }
          ],
          "contourcarpet": [
           {
            "colorbar": {
             "outlinewidth": 0,
             "ticks": ""
            },
            "type": "contourcarpet"
           }
          ],
          "heatmap": [
           {
            "colorbar": {
             "outlinewidth": 0,
             "ticks": ""
            },
            "colorscale": [
             [
              0,
              "#0d0887"
             ],
             [
              0.1111111111111111,
              "#46039f"
             ],
             [
              0.2222222222222222,
              "#7201a8"
             ],
             [
              0.3333333333333333,
              "#9c179e"
             ],
             [
              0.4444444444444444,
              "#bd3786"
             ],
             [
              0.5555555555555556,
              "#d8576b"
             ],
             [
              0.6666666666666666,
              "#ed7953"
             ],
             [
              0.7777777777777778,
              "#fb9f3a"
             ],
             [
              0.8888888888888888,
              "#fdca26"
             ],
             [
              1,
              "#f0f921"
             ]
            ],
            "type": "heatmap"
           }
          ],
          "heatmapgl": [
           {
            "colorbar": {
             "outlinewidth": 0,
             "ticks": ""
            },
            "colorscale": [
             [
              0,
              "#0d0887"
             ],
             [
              0.1111111111111111,
              "#46039f"
             ],
             [
              0.2222222222222222,
              "#7201a8"
             ],
             [
              0.3333333333333333,
              "#9c179e"
             ],
             [
              0.4444444444444444,
              "#bd3786"
             ],
             [
              0.5555555555555556,
              "#d8576b"
             ],
             [
              0.6666666666666666,
              "#ed7953"
             ],
             [
              0.7777777777777778,
              "#fb9f3a"
             ],
             [
              0.8888888888888888,
              "#fdca26"
             ],
             [
              1,
              "#f0f921"
             ]
            ],
            "type": "heatmapgl"
           }
          ],
          "histogram": [
           {
            "marker": {
             "pattern": {
              "fillmode": "overlay",
              "size": 10,
              "solidity": 0.2
             }
            },
            "type": "histogram"
           }
          ],
          "histogram2d": [
           {
            "colorbar": {
             "outlinewidth": 0,
             "ticks": ""
            },
            "colorscale": [
             [
              0,
              "#0d0887"
             ],
             [
              0.1111111111111111,
              "#46039f"
             ],
             [
              0.2222222222222222,
              "#7201a8"
             ],
             [
              0.3333333333333333,
              "#9c179e"
             ],
             [
              0.4444444444444444,
              "#bd3786"
             ],
             [
              0.5555555555555556,
              "#d8576b"
             ],
             [
              0.6666666666666666,
              "#ed7953"
             ],
             [
              0.7777777777777778,
              "#fb9f3a"
             ],
             [
              0.8888888888888888,
              "#fdca26"
             ],
             [
              1,
              "#f0f921"
             ]
            ],
            "type": "histogram2d"
           }
          ],
          "histogram2dcontour": [
           {
            "colorbar": {
             "outlinewidth": 0,
             "ticks": ""
            },
            "colorscale": [
             [
              0,
              "#0d0887"
             ],
             [
              0.1111111111111111,
              "#46039f"
             ],
             [
              0.2222222222222222,
              "#7201a8"
             ],
             [
              0.3333333333333333,
              "#9c179e"
             ],
             [
              0.4444444444444444,
              "#bd3786"
             ],
             [
              0.5555555555555556,
              "#d8576b"
             ],
             [
              0.6666666666666666,
              "#ed7953"
             ],
             [
              0.7777777777777778,
              "#fb9f3a"
             ],
             [
              0.8888888888888888,
              "#fdca26"
             ],
             [
              1,
              "#f0f921"
             ]
            ],
            "type": "histogram2dcontour"
           }
          ],
          "mesh3d": [
           {
            "colorbar": {
             "outlinewidth": 0,
             "ticks": ""
            },
            "type": "mesh3d"
           }
          ],
          "parcoords": [
           {
            "line": {
             "colorbar": {
              "outlinewidth": 0,
              "ticks": ""
             }
            },
            "type": "parcoords"
           }
          ],
          "pie": [
           {
            "automargin": true,
            "type": "pie"
           }
          ],
          "scatter": [
           {
            "fillpattern": {
             "fillmode": "overlay",
             "size": 10,
             "solidity": 0.2
            },
            "type": "scatter"
           }
          ],
          "scatter3d": [
           {
            "line": {
             "colorbar": {
              "outlinewidth": 0,
              "ticks": ""
             }
            },
            "marker": {
             "colorbar": {
              "outlinewidth": 0,
              "ticks": ""
             }
            },
            "type": "scatter3d"
           }
          ],
          "scattercarpet": [
           {
            "marker": {
             "colorbar": {
              "outlinewidth": 0,
              "ticks": ""
             }
            },
            "type": "scattercarpet"
           }
          ],
          "scattergeo": [
           {
            "marker": {
             "colorbar": {
              "outlinewidth": 0,
              "ticks": ""
             }
            },
            "type": "scattergeo"
           }
          ],
          "scattergl": [
           {
            "marker": {
             "colorbar": {
              "outlinewidth": 0,
              "ticks": ""
             }
            },
            "type": "scattergl"
           }
          ],
          "scattermapbox": [
           {
            "marker": {
             "colorbar": {
              "outlinewidth": 0,
              "ticks": ""
             }
            },
            "type": "scattermapbox"
           }
          ],
          "scatterpolar": [
           {
            "marker": {
             "colorbar": {
              "outlinewidth": 0,
              "ticks": ""
             }
            },
            "type": "scatterpolar"
           }
          ],
          "scatterpolargl": [
           {
            "marker": {
             "colorbar": {
              "outlinewidth": 0,
              "ticks": ""
             }
            },
            "type": "scatterpolargl"
           }
          ],
          "scatterternary": [
           {
            "marker": {
             "colorbar": {
              "outlinewidth": 0,
              "ticks": ""
             }
            },
            "type": "scatterternary"
           }
          ],
          "surface": [
           {
            "colorbar": {
             "outlinewidth": 0,
             "ticks": ""
            },
            "colorscale": [
             [
              0,
              "#0d0887"
             ],
             [
              0.1111111111111111,
              "#46039f"
             ],
             [
              0.2222222222222222,
              "#7201a8"
             ],
             [
              0.3333333333333333,
              "#9c179e"
             ],
             [
              0.4444444444444444,
              "#bd3786"
             ],
             [
              0.5555555555555556,
              "#d8576b"
             ],
             [
              0.6666666666666666,
              "#ed7953"
             ],
             [
              0.7777777777777778,
              "#fb9f3a"
             ],
             [
              0.8888888888888888,
              "#fdca26"
             ],
             [
              1,
              "#f0f921"
             ]
            ],
            "type": "surface"
           }
          ],
          "table": [
           {
            "cells": {
             "fill": {
              "color": "#EBF0F8"
             },
             "line": {
              "color": "white"
             }
            },
            "header": {
             "fill": {
              "color": "#C8D4E3"
             },
             "line": {
              "color": "white"
             }
            },
            "type": "table"
           }
          ]
         },
         "layout": {
          "annotationdefaults": {
           "arrowcolor": "#2a3f5f",
           "arrowhead": 0,
           "arrowwidth": 1
          },
          "autotypenumbers": "strict",
          "coloraxis": {
           "colorbar": {
            "outlinewidth": 0,
            "ticks": ""
           }
          },
          "colorscale": {
           "diverging": [
            [
             0,
             "#8e0152"
            ],
            [
             0.1,
             "#c51b7d"
            ],
            [
             0.2,
             "#de77ae"
            ],
            [
             0.3,
             "#f1b6da"
            ],
            [
             0.4,
             "#fde0ef"
            ],
            [
             0.5,
             "#f7f7f7"
            ],
            [
             0.6,
             "#e6f5d0"
            ],
            [
             0.7,
             "#b8e186"
            ],
            [
             0.8,
             "#7fbc41"
            ],
            [
             0.9,
             "#4d9221"
            ],
            [
             1,
             "#276419"
            ]
           ],
           "sequential": [
            [
             0,
             "#0d0887"
            ],
            [
             0.1111111111111111,
             "#46039f"
            ],
            [
             0.2222222222222222,
             "#7201a8"
            ],
            [
             0.3333333333333333,
             "#9c179e"
            ],
            [
             0.4444444444444444,
             "#bd3786"
            ],
            [
             0.5555555555555556,
             "#d8576b"
            ],
            [
             0.6666666666666666,
             "#ed7953"
            ],
            [
             0.7777777777777778,
             "#fb9f3a"
            ],
            [
             0.8888888888888888,
             "#fdca26"
            ],
            [
             1,
             "#f0f921"
            ]
           ],
           "sequentialminus": [
            [
             0,
             "#0d0887"
            ],
            [
             0.1111111111111111,
             "#46039f"
            ],
            [
             0.2222222222222222,
             "#7201a8"
            ],
            [
             0.3333333333333333,
             "#9c179e"
            ],
            [
             0.4444444444444444,
             "#bd3786"
            ],
            [
             0.5555555555555556,
             "#d8576b"
            ],
            [
             0.6666666666666666,
             "#ed7953"
            ],
            [
             0.7777777777777778,
             "#fb9f3a"
            ],
            [
             0.8888888888888888,
             "#fdca26"
            ],
            [
             1,
             "#f0f921"
            ]
           ]
          },
          "colorway": [
           "#636efa",
           "#EF553B",
           "#00cc96",
           "#ab63fa",
           "#FFA15A",
           "#19d3f3",
           "#FF6692",
           "#B6E880",
           "#FF97FF",
           "#FECB52"
          ],
          "font": {
           "color": "#2a3f5f"
          },
          "geo": {
           "bgcolor": "white",
           "lakecolor": "white",
           "landcolor": "#E5ECF6",
           "showlakes": true,
           "showland": true,
           "subunitcolor": "white"
          },
          "hoverlabel": {
           "align": "left"
          },
          "hovermode": "closest",
          "mapbox": {
           "style": "light"
          },
          "paper_bgcolor": "white",
          "plot_bgcolor": "#E5ECF6",
          "polar": {
           "angularaxis": {
            "gridcolor": "white",
            "linecolor": "white",
            "ticks": ""
           },
           "bgcolor": "#E5ECF6",
           "radialaxis": {
            "gridcolor": "white",
            "linecolor": "white",
            "ticks": ""
           }
          },
          "scene": {
           "xaxis": {
            "backgroundcolor": "#E5ECF6",
            "gridcolor": "white",
            "gridwidth": 2,
            "linecolor": "white",
            "showbackground": true,
            "ticks": "",
            "zerolinecolor": "white"
           },
           "yaxis": {
            "backgroundcolor": "#E5ECF6",
            "gridcolor": "white",
            "gridwidth": 2,
            "linecolor": "white",
            "showbackground": true,
            "ticks": "",
            "zerolinecolor": "white"
           },
           "zaxis": {
            "backgroundcolor": "#E5ECF6",
            "gridcolor": "white",
            "gridwidth": 2,
            "linecolor": "white",
            "showbackground": true,
            "ticks": "",
            "zerolinecolor": "white"
           }
          },
          "shapedefaults": {
           "line": {
            "color": "#2a3f5f"
           }
          },
          "ternary": {
           "aaxis": {
            "gridcolor": "white",
            "linecolor": "white",
            "ticks": ""
           },
           "baxis": {
            "gridcolor": "white",
            "linecolor": "white",
            "ticks": ""
           },
           "bgcolor": "#E5ECF6",
           "caxis": {
            "gridcolor": "white",
            "linecolor": "white",
            "ticks": ""
           }
          },
          "title": {
           "x": 0.05
          },
          "xaxis": {
           "automargin": true,
           "gridcolor": "white",
           "linecolor": "white",
           "ticks": "",
           "title": {
            "standoff": 15
           },
           "zerolinecolor": "white",
           "zerolinewidth": 2
          },
          "yaxis": {
           "automargin": true,
           "gridcolor": "white",
           "linecolor": "white",
           "ticks": "",
           "title": {
            "standoff": 15
           },
           "zerolinecolor": "white",
           "zerolinewidth": 2
          }
         }
        },
        "title": {
         "text": "30 amplicons of 400-800bps (+50bps steps)"
        },
        "width": 600,
        "xaxis": {
         "title": {
          "text": "Amplicon size (bps)"
         }
        },
        "yaxis": {
         "title": {
          "text": "Number of amplicons"
         }
        }
       }
      },
      "text/html": [
       "<div>                            <div id=\"0bcd58c2-2cb6-459e-b565-8f7f6d46d235\" class=\"plotly-graph-div\" style=\"height:525px; width:600px;\"></div>            <script type=\"text/javascript\">                require([\"plotly\"], function(Plotly) {                    window.PLOTLYENV=window.PLOTLYENV || {};                                    if (document.getElementById(\"0bcd58c2-2cb6-459e-b565-8f7f6d46d235\")) {                    Plotly.newPlot(                        \"0bcd58c2-2cb6-459e-b565-8f7f6d46d235\",                        [{\"x\":[\"400\",\"450\",\"500\",\"550\",\"600\",\"650\",\"700\",\"750\",\"800\"],\"y\":[3,3,3,3,3,3,4,4,4],\"type\":\"bar\"}],                        {\"template\":{\"data\":{\"histogram2dcontour\":[{\"type\":\"histogram2dcontour\",\"colorbar\":{\"outlinewidth\":0,\"ticks\":\"\"},\"colorscale\":[[0.0,\"#0d0887\"],[0.1111111111111111,\"#46039f\"],[0.2222222222222222,\"#7201a8\"],[0.3333333333333333,\"#9c179e\"],[0.4444444444444444,\"#bd3786\"],[0.5555555555555556,\"#d8576b\"],[0.6666666666666666,\"#ed7953\"],[0.7777777777777778,\"#fb9f3a\"],[0.8888888888888888,\"#fdca26\"],[1.0,\"#f0f921\"]]}],\"choropleth\":[{\"type\":\"choropleth\",\"colorbar\":{\"outlinewidth\":0,\"ticks\":\"\"}}],\"histogram2d\":[{\"type\":\"histogram2d\",\"colorbar\":{\"outlinewidth\":0,\"ticks\":\"\"},\"colorscale\":[[0.0,\"#0d0887\"],[0.1111111111111111,\"#46039f\"],[0.2222222222222222,\"#7201a8\"],[0.3333333333333333,\"#9c179e\"],[0.4444444444444444,\"#bd3786\"],[0.5555555555555556,\"#d8576b\"],[0.6666666666666666,\"#ed7953\"],[0.7777777777777778,\"#fb9f3a\"],[0.8888888888888888,\"#fdca26\"],[1.0,\"#f0f921\"]]}],\"heatmap\":[{\"type\":\"heatmap\",\"colorbar\":{\"outlinewidth\":0,\"ticks\":\"\"},\"colorscale\":[[0.0,\"#0d0887\"],[0.1111111111111111,\"#46039f\"],[0.2222222222222222,\"#7201a8\"],[0.3333333333333333,\"#9c179e\"],[0.4444444444444444,\"#bd3786\"],[0.5555555555555556,\"#d8576b\"],[0.6666666666666666,\"#ed7953\"],[0.7777777777777778,\"#fb9f3a\"],[0.8888888888888888,\"#fdca26\"],[1.0,\"#f0f921\"]]}],\"heatmapgl\":[{\"type\":\"heatmapgl\",\"colorbar\":{\"outlinewidth\":0,\"ticks\":\"\"},\"colorscale\":[[0.0,\"#0d0887\"],[0.1111111111111111,\"#46039f\"],[0.2222222222222222,\"#7201a8\"],[0.3333333333333333,\"#9c179e\"],[0.4444444444444444,\"#bd3786\"],[0.5555555555555556,\"#d8576b\"],[0.6666666666666666,\"#ed7953\"],[0.7777777777777778,\"#fb9f3a\"],[0.8888888888888888,\"#fdca26\"],[1.0,\"#f0f921\"]]}],\"contourcarpet\":[{\"type\":\"contourcarpet\",\"colorbar\":{\"outlinewidth\":0,\"ticks\":\"\"}}],\"contour\":[{\"type\":\"contour\",\"colorbar\":{\"outlinewidth\":0,\"ticks\":\"\"},\"colorscale\":[[0.0,\"#0d0887\"],[0.1111111111111111,\"#46039f\"],[0.2222222222222222,\"#7201a8\"],[0.3333333333333333,\"#9c179e\"],[0.4444444444444444,\"#bd3786\"],[0.5555555555555556,\"#d8576b\"],[0.6666666666666666,\"#ed7953\"],[0.7777777777777778,\"#fb9f3a\"],[0.8888888888888888,\"#fdca26\"],[1.0,\"#f0f921\"]]}],\"surface\":[{\"type\":\"surface\",\"colorbar\":{\"outlinewidth\":0,\"ticks\":\"\"},\"colorscale\":[[0.0,\"#0d0887\"],[0.1111111111111111,\"#46039f\"],[0.2222222222222222,\"#7201a8\"],[0.3333333333333333,\"#9c179e\"],[0.4444444444444444,\"#bd3786\"],[0.5555555555555556,\"#d8576b\"],[0.6666666666666666,\"#ed7953\"],[0.7777777777777778,\"#fb9f3a\"],[0.8888888888888888,\"#fdca26\"],[1.0,\"#f0f921\"]]}],\"mesh3d\":[{\"type\":\"mesh3d\",\"colorbar\":{\"outlinewidth\":0,\"ticks\":\"\"}}],\"scatter\":[{\"fillpattern\":{\"fillmode\":\"overlay\",\"size\":10,\"solidity\":0.2},\"type\":\"scatter\"}],\"parcoords\":[{\"type\":\"parcoords\",\"line\":{\"colorbar\":{\"outlinewidth\":0,\"ticks\":\"\"}}}],\"scatterpolargl\":[{\"type\":\"scatterpolargl\",\"marker\":{\"colorbar\":{\"outlinewidth\":0,\"ticks\":\"\"}}}],\"bar\":[{\"error_x\":{\"color\":\"#2a3f5f\"},\"error_y\":{\"color\":\"#2a3f5f\"},\"marker\":{\"line\":{\"color\":\"#E5ECF6\",\"width\":0.5},\"pattern\":{\"fillmode\":\"overlay\",\"size\":10,\"solidity\":0.2}},\"type\":\"bar\"}],\"scattergeo\":[{\"type\":\"scattergeo\",\"marker\":{\"colorbar\":{\"outlinewidth\":0,\"ticks\":\"\"}}}],\"scatterpolar\":[{\"type\":\"scatterpolar\",\"marker\":{\"colorbar\":{\"outlinewidth\":0,\"ticks\":\"\"}}}],\"histogram\":[{\"marker\":{\"pattern\":{\"fillmode\":\"overlay\",\"size\":10,\"solidity\":0.2}},\"type\":\"histogram\"}],\"scattergl\":[{\"type\":\"scattergl\",\"marker\":{\"colorbar\":{\"outlinewidth\":0,\"ticks\":\"\"}}}],\"scatter3d\":[{\"type\":\"scatter3d\",\"line\":{\"colorbar\":{\"outlinewidth\":0,\"ticks\":\"\"}},\"marker\":{\"colorbar\":{\"outlinewidth\":0,\"ticks\":\"\"}}}],\"scattermapbox\":[{\"type\":\"scattermapbox\",\"marker\":{\"colorbar\":{\"outlinewidth\":0,\"ticks\":\"\"}}}],\"scatterternary\":[{\"type\":\"scatterternary\",\"marker\":{\"colorbar\":{\"outlinewidth\":0,\"ticks\":\"\"}}}],\"scattercarpet\":[{\"type\":\"scattercarpet\",\"marker\":{\"colorbar\":{\"outlinewidth\":0,\"ticks\":\"\"}}}],\"carpet\":[{\"aaxis\":{\"endlinecolor\":\"#2a3f5f\",\"gridcolor\":\"white\",\"linecolor\":\"white\",\"minorgridcolor\":\"white\",\"startlinecolor\":\"#2a3f5f\"},\"baxis\":{\"endlinecolor\":\"#2a3f5f\",\"gridcolor\":\"white\",\"linecolor\":\"white\",\"minorgridcolor\":\"white\",\"startlinecolor\":\"#2a3f5f\"},\"type\":\"carpet\"}],\"table\":[{\"cells\":{\"fill\":{\"color\":\"#EBF0F8\"},\"line\":{\"color\":\"white\"}},\"header\":{\"fill\":{\"color\":\"#C8D4E3\"},\"line\":{\"color\":\"white\"}},\"type\":\"table\"}],\"barpolar\":[{\"marker\":{\"line\":{\"color\":\"#E5ECF6\",\"width\":0.5},\"pattern\":{\"fillmode\":\"overlay\",\"size\":10,\"solidity\":0.2}},\"type\":\"barpolar\"}],\"pie\":[{\"automargin\":true,\"type\":\"pie\"}]},\"layout\":{\"autotypenumbers\":\"strict\",\"colorway\":[\"#636efa\",\"#EF553B\",\"#00cc96\",\"#ab63fa\",\"#FFA15A\",\"#19d3f3\",\"#FF6692\",\"#B6E880\",\"#FF97FF\",\"#FECB52\"],\"font\":{\"color\":\"#2a3f5f\"},\"hovermode\":\"closest\",\"hoverlabel\":{\"align\":\"left\"},\"paper_bgcolor\":\"white\",\"plot_bgcolor\":\"#E5ECF6\",\"polar\":{\"bgcolor\":\"#E5ECF6\",\"angularaxis\":{\"gridcolor\":\"white\",\"linecolor\":\"white\",\"ticks\":\"\"},\"radialaxis\":{\"gridcolor\":\"white\",\"linecolor\":\"white\",\"ticks\":\"\"}},\"ternary\":{\"bgcolor\":\"#E5ECF6\",\"aaxis\":{\"gridcolor\":\"white\",\"linecolor\":\"white\",\"ticks\":\"\"},\"baxis\":{\"gridcolor\":\"white\",\"linecolor\":\"white\",\"ticks\":\"\"},\"caxis\":{\"gridcolor\":\"white\",\"linecolor\":\"white\",\"ticks\":\"\"}},\"coloraxis\":{\"colorbar\":{\"outlinewidth\":0,\"ticks\":\"\"}},\"colorscale\":{\"sequential\":[[0.0,\"#0d0887\"],[0.1111111111111111,\"#46039f\"],[0.2222222222222222,\"#7201a8\"],[0.3333333333333333,\"#9c179e\"],[0.4444444444444444,\"#bd3786\"],[0.5555555555555556,\"#d8576b\"],[0.6666666666666666,\"#ed7953\"],[0.7777777777777778,\"#fb9f3a\"],[0.8888888888888888,\"#fdca26\"],[1.0,\"#f0f921\"]],\"sequentialminus\":[[0.0,\"#0d0887\"],[0.1111111111111111,\"#46039f\"],[0.2222222222222222,\"#7201a8\"],[0.3333333333333333,\"#9c179e\"],[0.4444444444444444,\"#bd3786\"],[0.5555555555555556,\"#d8576b\"],[0.6666666666666666,\"#ed7953\"],[0.7777777777777778,\"#fb9f3a\"],[0.8888888888888888,\"#fdca26\"],[1.0,\"#f0f921\"]],\"diverging\":[[0,\"#8e0152\"],[0.1,\"#c51b7d\"],[0.2,\"#de77ae\"],[0.3,\"#f1b6da\"],[0.4,\"#fde0ef\"],[0.5,\"#f7f7f7\"],[0.6,\"#e6f5d0\"],[0.7,\"#b8e186\"],[0.8,\"#7fbc41\"],[0.9,\"#4d9221\"],[1,\"#276419\"]]},\"xaxis\":{\"gridcolor\":\"white\",\"linecolor\":\"white\",\"ticks\":\"\",\"title\":{\"standoff\":15},\"zerolinecolor\":\"white\",\"automargin\":true,\"zerolinewidth\":2},\"yaxis\":{\"gridcolor\":\"white\",\"linecolor\":\"white\",\"ticks\":\"\",\"title\":{\"standoff\":15},\"zerolinecolor\":\"white\",\"automargin\":true,\"zerolinewidth\":2},\"scene\":{\"xaxis\":{\"backgroundcolor\":\"#E5ECF6\",\"gridcolor\":\"white\",\"linecolor\":\"white\",\"showbackground\":true,\"ticks\":\"\",\"zerolinecolor\":\"white\",\"gridwidth\":2},\"yaxis\":{\"backgroundcolor\":\"#E5ECF6\",\"gridcolor\":\"white\",\"linecolor\":\"white\",\"showbackground\":true,\"ticks\":\"\",\"zerolinecolor\":\"white\",\"gridwidth\":2},\"zaxis\":{\"backgroundcolor\":\"#E5ECF6\",\"gridcolor\":\"white\",\"linecolor\":\"white\",\"showbackground\":true,\"ticks\":\"\",\"zerolinecolor\":\"white\",\"gridwidth\":2}},\"shapedefaults\":{\"line\":{\"color\":\"#2a3f5f\"}},\"annotationdefaults\":{\"arrowcolor\":\"#2a3f5f\",\"arrowhead\":0,\"arrowwidth\":1},\"geo\":{\"bgcolor\":\"white\",\"landcolor\":\"#E5ECF6\",\"subunitcolor\":\"white\",\"showland\":true,\"showlakes\":true,\"lakecolor\":\"white\"},\"title\":{\"x\":0.05},\"mapbox\":{\"style\":\"light\"}}},\"title\":{\"text\":\"30 amplicons of 400-800bps (+50bps steps)\"},\"margin\":{\"l\":20,\"r\":20,\"t\":40,\"b\":20},\"xaxis\":{\"title\":{\"text\":\"Amplicon size (bps)\"}},\"yaxis\":{\"title\":{\"text\":\"Number of amplicons\"}},\"plot_bgcolor\":\"white\",\"width\":600},                        {\"responsive\": true}                    ).then(function(){\n",
       "                            \n",
       "var gd = document.getElementById('0bcd58c2-2cb6-459e-b565-8f7f6d46d235');\n",
       "var x = new MutationObserver(function (mutations, observer) {{\n",
       "        var display = window.getComputedStyle(gd).display;\n",
       "        if (!display || display === 'none') {{\n",
       "            console.log([gd, 'removed!']);\n",
       "            Plotly.purge(gd);\n",
       "            observer.disconnect();\n",
       "        }}\n",
       "}});\n",
       "\n",
       "// Listen for the removal of the full notebook cells\n",
       "var notebookContainer = gd.closest('#notebook-container');\n",
       "if (notebookContainer) {{\n",
       "    x.observe(notebookContainer, {childList: true});\n",
       "}}\n",
       "\n",
       "// Listen for the clearing of the current output cell\n",
       "var outputEl = gd.closest('.output');\n",
       "if (outputEl) {{\n",
       "    x.observe(outputEl, {childList: true});\n",
       "}}\n",
       "\n",
       "                        })                };                });            </script>        </div>"
      ]
     },
     "metadata": {},
     "output_type": "display_data"
    }
   ],
   "source": [
    "import plotly.graph_objects as go\n",
    "\n",
    "# Sample data for a bar chart\n",
    "data = {'Category': [str(x) for x in np.arange(400, 801, 50)],\n",
    "        'Values': [3,3,3,3,3,3,4,4,4]}\n",
    "\n",
    "# Create a bar chart\n",
    "fig = go.Figure([go.Bar(x=data['Category'], y=data['Values'])])\n",
    "\n",
    "# Update layout for a better visual appearance\n",
    "fig.update_layout(title_text='30 amplicons of 400-800bps (+50bps steps)',\n",
    "                  xaxis_title='Amplicon size (bps)',\n",
    "                  yaxis_title='Number of amplicons',\n",
    "                  plot_bgcolor='white',\n",
    "                  margin=dict(l=20, r=20, t=40, b=20),\n",
    "                  width = 600)\n",
    "\n",
    "# Show plot"
   ]
  },
  {
   "cell_type": "code",
   "execution_count": 3,
   "metadata": {},
   "outputs": [
    {
     "ename": "NameError",
     "evalue": "name 'gff3_file_path' is not defined",
     "output_type": "error",
     "traceback": [
      "\u001b[0;31m---------------------------------------------------------------------------\u001b[0m",
      "\u001b[0;31mNameError\u001b[0m                                 Traceback (most recent call last)",
      "Cell \u001b[0;32mIn[3], line 1\u001b[0m\n\u001b[0;32m----> 1\u001b[0m gff3_df \u001b[38;5;241m=\u001b[39m pd\u001b[38;5;241m.\u001b[39mread_csv(\u001b[43mgff3_file_path\u001b[49m, sep\u001b[38;5;241m=\u001b[39m\u001b[38;5;124m'\u001b[39m\u001b[38;5;130;01m\\t\u001b[39;00m\u001b[38;5;124m'\u001b[39m, comment\u001b[38;5;241m=\u001b[39m\u001b[38;5;124m'\u001b[39m\u001b[38;5;124m#\u001b[39m\u001b[38;5;124m'\u001b[39m, names\u001b[38;5;241m=\u001b[39mgff3_columns)\n",
      "\u001b[0;31mNameError\u001b[0m: name 'gff3_file_path' is not defined"
     ]
    }
   ],
   "source": [
    "gff3_df = pd.read_csv(gff3_file_path, sep='\\t', comment='#', names=gff3_columns)"
   ]
  },
  {
   "cell_type": "code",
   "execution_count": 5,
   "metadata": {},
   "outputs": [
    {
     "ename": "NameError",
     "evalue": "name 'genes_df' is not defined",
     "output_type": "error",
     "traceback": [
      "\u001b[0;31m---------------------------------------------------------------------------\u001b[0m",
      "\u001b[0;31mNameError\u001b[0m                                 Traceback (most recent call last)",
      "Cell \u001b[0;32mIn[5], line 1\u001b[0m\n\u001b[0;32m----> 1\u001b[0m \u001b[38;5;28;01mfor\u001b[39;00m x \u001b[38;5;129;01min\u001b[39;00m \u001b[43mgenes_df\u001b[49m[\u001b[38;5;124m'\u001b[39m\u001b[38;5;124mgene_name\u001b[39m\u001b[38;5;124m'\u001b[39m]\u001b[38;5;241m.\u001b[39munique():\n\u001b[1;32m      2\u001b[0m     \u001b[38;5;28mprint\u001b[39m(x)\n",
      "\u001b[0;31mNameError\u001b[0m: name 'genes_df' is not defined"
     ]
    }
   ],
   "source": [
    "for x in genes_df['gene_name'].unique():\n",
    "    print(x)"
   ]
  },
  {
   "cell_type": "code",
   "execution_count": 3,
   "metadata": {},
   "outputs": [],
   "source": [
    "import pandas as pd\n",
    "\n",
    "# Define the path to your GFF3 file\n",
    "def extract_gff3(gff3_file_path):\n",
    "    # Read the GFF3 file\n",
    "    gff3_columns = ['seqid', 'source', 'type', 'start', 'end', 'score', 'strand', 'phase', 'attributes']\n",
    "    gff3_df = pd.read_csv(gff3_file_path, sep='\\t', comment='#', names=gff3_columns)\n",
    "\n",
    "    # Filter to keep only gene entries and explicitly create a copy\n",
    "    genes_df = gff3_df[gff3_df['type'] == 'gene'].copy()\n",
    "\n",
    "    # Extract gene names from the attributes column\n",
    "    genes_df['gene_id'] = genes_df['attributes'].apply(lambda x: x.split(';')[0].split('=')[1].split(':')[1])\n",
    "    genes_df['gene_name'] = genes_df['attributes'].apply(lambda x: x.split(';')[1].split('=')[1])\n",
    "\n",
    "    # Create a new DataFrame with the required information\n",
    "    genes_info_df = genes_df[['gene_id', 'gene_name', 'seqid', 'start', 'end']]\n",
    "\n",
    "    # Rename columns for clarity\n",
    "    genes_info_df.columns = ['gene_id', 'gene_name', 'chr', 'start', 'end']\n",
    "    return genes_info_df\n",
    "\n",
    "genes_info_df = extract_gff3('/mnt/storage10/lwang/Projects/TOAST/toast/db/MTB-h37rv_asm19595v2-eg18.gff')\n",
    "\n",
    "# Optionally, save this DataFrame to a CSV file\n",
    "# output_csv_path = 'genes_info.csv'\n",
    "# genes_info_df.to_csv(output_csv_path, index=False)"
   ]
  },
  {
   "cell_type": "code",
   "execution_count": 25,
   "metadata": {},
   "outputs": [
    {
     "name": "stdout",
     "output_type": "stream",
     "text": [
      "    Name    City  Age\n",
      "1    Bob   Paris   30\n",
      "3  David   Paris   40\n",
      "4    Eve  London   45\n"
     ]
    }
   ],
   "source": [
    "import pandas as pd\n",
    "\n",
    "# Sample DataFrame\n",
    "data = {\n",
    "    'Name': ['Alice', 'Bob', 'Charlie', 'David', 'Eve'],\n",
    "    'City': ['New York', 'Paris', 'Berlin', 'Paris', 'London'],\n",
    "    'Age': [25, 30, 35, 40, 45]\n",
    "}\n",
    "df = pd.DataFrame(data)\n",
    "\n",
    "# Define the values to filter by\n",
    "cities_to_filter = ['Paris', 'London']\n",
    "ages_to_filter = [30, 45]\n",
    "all_filter =  ['Paris', 'London', 30, 45]\n",
    "\n",
    "# Apply the .isin() method on each column separately and combine conditions\n",
    "filtered_df = df[df['City'].isin(all_filter) | df['Age'].isin(all_filter)]\n",
    "\n",
    "print(filtered_df)\n"
   ]
  },
  {
   "cell_type": "code",
   "execution_count": 6,
   "metadata": {},
   "outputs": [],
   "source": [
    "test_l = ['mmpr5']"
   ]
  },
  {
   "cell_type": "code",
   "execution_count": 7,
   "metadata": {},
   "outputs": [
    {
     "name": "stdout",
     "output_type": "stream",
     "text": [
      "Empty DataFrame\n",
      "Columns: [start, end]\n",
      "Index: []\n"
     ]
    }
   ],
   "source": [
    "t = genes_info_df[genes_info_df['gene_id'].isin(test_l) | genes_info_df['gene_name'].isin(test_l)]#[['start','end']]\n",
    "print(t)"
   ]
  },
  {
   "cell_type": "code",
   "execution_count": null,
   "metadata": {},
   "outputs": [],
   "source": [
    "with np.printoptions(threshold=np.inf):\n",
    "    print(genes_info_df['gene_id'].unique())"
   ]
  },
  {
   "cell_type": "code",
   "execution_count": 21,
   "metadata": {},
   "outputs": [
    {
     "data": {
      "text/plain": [
       "True"
      ]
     },
     "execution_count": 21,
     "metadata": {},
     "output_type": "execute_result"
    }
   ],
   "source": [
    "'Rv0678' in genes_info_df['gene_id'].tolist()"
   ]
  },
  {
   "cell_type": "code",
   "execution_count": 26,
   "metadata": {},
   "outputs": [
    {
     "data": {
      "text/plain": [
       "59.971"
      ]
     },
     "execution_count": 26,
     "metadata": {},
     "output_type": "execute_result"
    }
   ],
   "source": [
    "np.round(59.97109789950406,3)"
   ]
  },
  {
   "cell_type": "code",
   "execution_count": 23,
   "metadata": {},
   "outputs": [
    {
     "data": {
      "text/html": [
       "<div>\n",
       "<style scoped>\n",
       "    .dataframe tbody tr th:only-of-type {\n",
       "        vertical-align: middle;\n",
       "    }\n",
       "\n",
       "    .dataframe tbody tr th {\n",
       "        vertical-align: top;\n",
       "    }\n",
       "\n",
       "    .dataframe thead th {\n",
       "        text-align: right;\n",
       "    }\n",
       "</style>\n",
       "<table border=\"1\" class=\"dataframe\">\n",
       "  <thead>\n",
       "    <tr style=\"text-align: right;\">\n",
       "      <th></th>\n",
       "      <th>gene_id</th>\n",
       "      <th>gene_name</th>\n",
       "      <th>chr</th>\n",
       "      <th>start</th>\n",
       "      <th>end</th>\n",
       "    </tr>\n",
       "  </thead>\n",
       "  <tbody>\n",
       "    <tr>\n",
       "      <th>0</th>\n",
       "      <td>rv0001</td>\n",
       "      <td>dnaa</td>\n",
       "      <td>chromosome</td>\n",
       "      <td>1</td>\n",
       "      <td>1524</td>\n",
       "    </tr>\n",
       "    <tr>\n",
       "      <th>5</th>\n",
       "      <td>rv0002</td>\n",
       "      <td>dnan</td>\n",
       "      <td>chromosome</td>\n",
       "      <td>2052</td>\n",
       "      <td>3260</td>\n",
       "    </tr>\n",
       "    <tr>\n",
       "      <th>9</th>\n",
       "      <td>rv0003</td>\n",
       "      <td>recf</td>\n",
       "      <td>chromosome</td>\n",
       "      <td>3280</td>\n",
       "      <td>4437</td>\n",
       "    </tr>\n",
       "    <tr>\n",
       "      <th>13</th>\n",
       "      <td>rv0004</td>\n",
       "      <td>protein_coding</td>\n",
       "      <td>chromosome</td>\n",
       "      <td>4434</td>\n",
       "      <td>4997</td>\n",
       "    </tr>\n",
       "    <tr>\n",
       "      <th>17</th>\n",
       "      <td>rv0005</td>\n",
       "      <td>gyrb</td>\n",
       "      <td>chromosome</td>\n",
       "      <td>5240</td>\n",
       "      <td>7267</td>\n",
       "    </tr>\n",
       "    <tr>\n",
       "      <th>...</th>\n",
       "      <td>...</td>\n",
       "      <td>...</td>\n",
       "      <td>...</td>\n",
       "      <td>...</td>\n",
       "      <td>...</td>\n",
       "    </tr>\n",
       "    <tr>\n",
       "      <th>16465</th>\n",
       "      <td>rv3920c</td>\n",
       "      <td>protein_coding</td>\n",
       "      <td>chromosome</td>\n",
       "      <td>4408334</td>\n",
       "      <td>4408897</td>\n",
       "    </tr>\n",
       "    <tr>\n",
       "      <th>16469</th>\n",
       "      <td>rv3921c</td>\n",
       "      <td>protein_coding</td>\n",
       "      <td>chromosome</td>\n",
       "      <td>4408969</td>\n",
       "      <td>4410069</td>\n",
       "    </tr>\n",
       "    <tr>\n",
       "      <th>16473</th>\n",
       "      <td>rv3922c</td>\n",
       "      <td>protein_coding</td>\n",
       "      <td>chromosome</td>\n",
       "      <td>4410053</td>\n",
       "      <td>4410415</td>\n",
       "    </tr>\n",
       "    <tr>\n",
       "      <th>16477</th>\n",
       "      <td>rv3923c</td>\n",
       "      <td>rnpa</td>\n",
       "      <td>chromosome</td>\n",
       "      <td>4410412</td>\n",
       "      <td>4410789</td>\n",
       "    </tr>\n",
       "    <tr>\n",
       "      <th>16481</th>\n",
       "      <td>rv3924c</td>\n",
       "      <td>rpmh</td>\n",
       "      <td>chromosome</td>\n",
       "      <td>4410786</td>\n",
       "      <td>4410929</td>\n",
       "    </tr>\n",
       "  </tbody>\n",
       "</table>\n",
       "<p>4018 rows × 5 columns</p>\n",
       "</div>"
      ],
      "text/plain": [
       "       gene_id       gene_name         chr    start      end\n",
       "0       rv0001            dnaa  chromosome        1     1524\n",
       "5       rv0002            dnan  chromosome     2052     3260\n",
       "9       rv0003            recf  chromosome     3280     4437\n",
       "13      rv0004  protein_coding  chromosome     4434     4997\n",
       "17      rv0005            gyrb  chromosome     5240     7267\n",
       "...        ...             ...         ...      ...      ...\n",
       "16465  rv3920c  protein_coding  chromosome  4408334  4408897\n",
       "16469  rv3921c  protein_coding  chromosome  4408969  4410069\n",
       "16473  rv3922c  protein_coding  chromosome  4410053  4410415\n",
       "16477  rv3923c            rnpa  chromosome  4410412  4410789\n",
       "16481  rv3924c            rpmh  chromosome  4410786  4410929\n",
       "\n",
       "[4018 rows x 5 columns]"
      ]
     },
     "execution_count": 23,
     "metadata": {},
     "output_type": "execute_result"
    }
   ],
   "source": [
    "genes_info_df.applymap(lambda x: x.lower() if isinstance(x, str) else x)\n"
   ]
  },
  {
   "cell_type": "code",
   "execution_count": 17,
   "metadata": {},
   "outputs": [
    {
     "name": "stdout",
     "output_type": "stream",
     "text": [
      "     gene_id       gene_name         chr   start     end\n",
      "2837  Rv0678  protein_coding  Chromosome  778990  779487\n"
     ]
    }
   ],
   "source": [
    "print(genes_info_df[genes_info_df['gene_id']=='Rv0678'])"
   ]
  },
  {
   "cell_type": "code",
   "execution_count": 13,
   "metadata": {},
   "outputs": [
    {
     "name": "stdout",
     "output_type": "stream",
     "text": [
      "['dnaA' 'dnaN' 'recF' 'protein_coding' 'gyrB' 'gyrA' 'ppiA' 'trpG' 'pknB'\n",
      " 'pknA' 'pbpA' 'rodA' 'pstP' 'fhaB' 'fhaA' 'whiB5' 'bioF2' 'acpA' 'fadD34'\n",
      " 'mtc28' 'leuS' 'ino1' 'ponA1' 'rpsF' 'ssb' 'rpsR1' 'rplI' 'dnaB' 'celA1'\n",
      " 'vapB1' 'vapC1' 'icd2' 'sdaA' 'glyA2' 'hycD' 'hycP' 'hycQ' 'hycE' 'mtn'\n",
      " 'ctpA' 'PPE1' 'fcoT' 'fadD10' 'nrp' 'ctpB' 'rpmB1' 'ctpI' 'PE_PGRS1'\n",
      " 'gca' 'gmhA' 'gmhB' 'hddA' 'ldtA' 'oxyS' 'oxcA' 'fadD7' 'fusA2'\n",
      " 'PE_PGRS2' 'pepA' 'treS' 'mak' 'fbpC' 'htdZ' 'fadE1' 'fgd2' 'ephF'\n",
      " 'cyp138' 'msrA' 'PE1' 'PE2' 'ptbB' 'fadE2' 'pntAa' 'pntAb' 'pntB' 'PE3'\n",
      " 'PE4' 'adhE1' 'TB18.5' 'mce1R' 'fadD5' 'yrbE1A' 'yrbE1B' 'mce1A' 'mce1B'\n",
      " 'mce1C' 'mce1D' 'lprK' 'mce1F' 'lprO' 'sigG' 'bglS' 'mymT' 'ilvD' 'zmp1'\n",
      " 'mmpL11' 'mmpL3' 'pckA' 'nadR' 'fadD4' 'fadE3' 'lipW' 'lipC' 'echA1'\n",
      " 'php' 'fadE4' 'nrdB' 'gabD1' 'aftD' 'lpqI' 'vapB24' 'vapC24' 'htdX'\n",
      " 'fabG4' 'fadA2' 'fadE5' 'hsp' 'nirB' 'nirD' 'cobU' 'cobQ1' 'PPE2' 'narK3'\n",
      " 'aac' 'oplA' 'narU' 'fadD2' 'fadE6' 'vapC25' 'PE_PGRS3' 'PE_PGRS4' 'PPE3'\n",
      " 'eccA3' 'eccB3' 'eccC3' 'PE5' 'PPE4' 'esxG' 'esxH' 'espG3' 'eccD3'\n",
      " 'mycP3' 'eccE3' 'tam' 'PE_PGRS5' 'vapB2' 'vapC2' 'PPE5' 'PPE6' 'glpQ2'\n",
      " 'pcp' 'dcd' 'udgA' 'cyp135A1' 'rmlA' 'PE6' 'aspC' 'iniB' 'iniA' 'iniC'\n",
      " 'lpqJ' 'ansP2' 'dnaK' 'grpE' 'dnaJ1' 'hspR' 'PPE7' 'PPE8' 'purA' 'mgtE'\n",
      " 'fba' 'secE2' 'pyrE' 'clpB' 'PPE9' 'purT' 'metZ' 'ndhA' 'lpqK' 'fadE7'\n",
      " 'mmpL1' 'mmpS1' 'fadD30' 'pks6' 'fgd1' 'pta' 'ackA' 'pknG' 'glnH' 'mutT3'\n",
      " 'thiE' 'thiO' 'thiS' 'thiG' 'lpqL' 'lpqM' 'thiD' 'thiC' 'ctpH' 'xthA'\n",
      " 'def' 'sodC' 'pssA' 'psd' 'moeA2' 'groEL2' 'PPE10' 'rskA' 'sigK' 'ufaA1'\n",
      " 'mmpL4' 'mmpS4' 'PPE11' 'echA2' 'mazF1' 'mazE1' 'lpdC' 'icl1' 'fadB2'\n",
      " 'umaA' 'pcaA' 'hbhA' 'deoC' 'murB' 'lprQ' 'mshA' 'gpm1' 'senX3' 'regX3'\n",
      " 'proC' 'galE2' 'cmaA2' 'serB1' 'mmpS2' 'mmpL2' 'hemA' 'hemC' 'hemD'\n",
      " 'hemB' 'gabP' 'hemL' 'ccdA' 'ccsA' 'PE_PGRS6' 'fabH' 'menA' 'pnp' 'galE3'\n",
      " 'menE' 'pitA' 'menB' 'vapC3' 'vapB3' 'fadD8' 'menC' 'bpoC' 'menD' 'mgtA'\n",
      " 'menH' 'grcC1' 'htpX' 'gpdA1' 'cyp135B1' 'nrdZ' 'pncB2' 'TB27.3'\n",
      " 'PE_PGRS7' 'vapB26' 'vapC26' 'lpqN' 'mce2R' 'yrbE2A' 'yrbE2B' 'mce2A'\n",
      " 'mce2B' 'mce2C' 'mce2D' 'lprL' 'mce2F' 'vapC4' 'vapB4' 'vapC27' 'vapB27'\n",
      " 'tcrA' 'lpqO' 'vapB28' 'vapC28' 'vapB29' 'vapC29' 'galTa' 'galTb' 'galK'\n",
      " 'vapB30' 'vapC30' 'vapB5' 'vapC5' 'recD' 'recB' 'recC' 'echA3' 'rpmG2'\n",
      " 'hadA' 'hadB' 'hadC' 'secE1' 'nusG' 'rplK' 'rplA' 'mmaA4' 'mmaA3' 'mmaA2'\n",
      " 'mmaA1' 'lipG' 'fabD2' 'rplJ' 'rplL' 'mkl' 'vapC6' 'vapB6' 'mazF2'\n",
      " 'mazE2' 'vapC7' 'vapB7' 'atsD' 'vapB8' 'vapC8' 'rpoB' 'rpoC' 'end' 'lpqP'\n",
      " 'fadE8' 'echA4' 'echA5' 'mmpL5' 'mmpS5' 'rpsL' 'rpsG' 'fusA1' 'tuf'\n",
      " 'pqqE' 'lldD1' 'rpsJ' 'rplC' 'rplD' 'rplW' 'rplB' 'rpsS' 'rplV' 'rpsC'\n",
      " 'rplP' 'rpmC' 'rpsQ' 'atsA' 'rplN' 'rplX' 'rplE' 'rpsN1' 'rpsH' 'rplF'\n",
      " 'rplR' 'rpsE' 'rpmD' 'rplO' 'sppA' 'fucA' 'serA2' 'xylB' 'secY' 'adk'\n",
      " 'mapA' 'sigL' 'rslA' 'PE_PGRS8' 'PE_PGRS9' 'PE_PGRS10' 'vapB31' 'vapC31'\n",
      " 'mmsB' 'fadE9' 'mmsA' 'PE_PGRS11' 'PPE12' 'phoP' 'phoR' 'adhB' 'cyp51'\n",
      " 'cyp123' 'aldA' 'purD' 'ggtA' 'purB' 'cyp126' 'purC' 'ptrBa' 'ptrBb'\n",
      " 'emrB' 'purQ' 'cfp29' 'pepC' 'purL' 'cpsY' 'purF' 'purM' 'sseC2' 'cysA2'\n",
      " 'thiX' 'mshD' 'phoT' 'phoY2' 'desA1' 'kmtR' 'PE_PGRS12' 'PE_PGRS13'\n",
      " 'PE_PGRS14' 'lpqQ' 'lpqR' 'pip' 'narL' 'lpqS' 'cysK2' 'fadD16' 'pdc'\n",
      " 'far' 'dapC' 'fadA' 'fadB' 'ercc3' 'moaC2' 'mog' 'moaE2' 'rpfA' 'moaD2'\n",
      " 'moaA2' 'cspB' 'PE_PGRS15' 'fadE10' 'PPE13' 'serC' 'fprB' 'citA' 'gltA2'\n",
      " 'ompA' 'prrB' 'prrA' 'accD3' 'echA6' 'ctpE' 'PPE14' 'PE7' 'betP' 'mntH'\n",
      " 'pstS3' 'pstC2' 'pstA1' 'pknD' 'pstS2' 'pstB' 'pstS1' 'pstC1' 'pstA2'\n",
      " 'mku' 'ligD' 'pgi' 'uvrD1' 'sucC' 'sucD' 'purN' 'purH' 'vapB9' 'vapC9'\n",
      " 'lprP' 'csoR' 'ctpV' 'echA7' 'fadE12' 'accA2' 'accD2' 'fadE13'\n",
      " 'PE_PGRS16' 'PE_PGRS17' 'rpmF' 'PE_PGRS18' 'mprA' 'mprB' 'pepD' 'moaB2'\n",
      " 'mscL' 'grcC2' 'galU' 'moeA1' 'rimJ' 'arcA' 'pabB' 'metS' 'tatD' 'rpfB'\n",
      " 'ksgA' 'ispE' 'pks16' 'pth' 'rplY' 'lpqT' 'prsA' 'glmU' 'mfd' 'lpqU'\n",
      " 'eno' 'kdpE' 'kdpD' 'kdpF' 'kdpA' 'kdpB' 'kdpC' 'trcS' 'trcR' 'esxI'\n",
      " 'esxJ' 'PPE15' 'PE8' 'fadD14' 'lpqV' 'PE_PGRS19' 'PE_PGRS20' 'echA8'\n",
      " 'echA9' 'fadA3' 'lipU' 'cbs' 'pra' 'metB' 'greA' 'mca' 'PE_PGRS21' 'PE9'\n",
      " 'PE10' 'celA2a' 'celA2b' 'PE_PGRS22' 'coaA' 'glyA1' 'desA2' 'phoH2' 'fum'\n",
      " 'glpX' 'mazF3' 'mazE3' 'xseB' 'xseA' 'lytB2' 'vapB32' 'vapC32' 'zwf1'\n",
      " 'gnd2' 'bpoB' 'ephC' 'ppdK' 'prpD' 'prpC' 'metE' 'PPE16' 'echA11'\n",
      " 'echA10' 'mcr' 'mmpL13a' 'mmpL13b' 'omt' 'pimE' 'mutT2' 'narG' 'narH'\n",
      " 'narJ' 'narI' 'typA' 'lpqW' 'PPE17' 'lipX' 'mshB' 'PE12' 'fbiC' 'TB8.4'\n",
      " 'fadH' 'fdxC' 'pks3' 'pks4' 'papA3' 'mmpL10' 'fadD21' 'rocA' 'sigI'\n",
      " 'fadD36' 'PE13' 'PPE18' 'esxK' 'esxL' 'dapD' 'dapE' 'fadD6' 'folP2'\n",
      " 'gpgS' 'tagA' 'glgA' 'glgC' 'PE14' 'sigE' 'rseA' 'htrA' 'tatB' 'lpqX'\n",
      " 'mrp' 'lpqY' 'sugA' 'sugB' 'sugC' 'corA' 'mdh' 'vapB33' 'vapC33'\n",
      " 'PE_PGRS23' 'lpqZ' 'relE' 'relB' 'lprE' 'deaD' 'cyp130' 'udgB' 'amiB2'\n",
      " 'pknH' 'embR' 'lprA' 'lprB' 'lprC' 'oppA' 'oppD' 'oppC' 'oppB' 'canA'\n",
      " 'cysD' 'cysN' 'argS' 'lysA' 'thrA' 'thrC' 'thrB' 'rho' 'rpmE' 'prfA'\n",
      " 'hemK' 'rfe' 'atpB' 'atpE' 'atpF' 'atpH' 'atpA' 'atpG' 'atpD' 'atpC'\n",
      " 'murA' 'ogt' 'alkA' 'fadA4' 'PE_PGRS24' 'glgB' 'glgE' 'glgP' 'dinG'\n",
      " 'pncB1' 'mec' 'cysO' 'cysM' 'murI' 'rphA' 'lprD' 'mbtL' 'mbtM' 'mbtN'\n",
      " 'mbtK' 'irtA' 'irtB' 'fabG2' 'moeY' 'PPE19' 'rsfA' 'lprF' 'pyrR' 'pyrB'\n",
      " 'pyrC' 'carA' 'carB' 'pyrF' 'PE15' 'PPE20' 'mihF' 'gmk' 'rpoZ' 'dfp'\n",
      " 'metK' 'cyp132' 'PE_PGRS25' 'vapC10' 'vapB10' 'nlhH' 'lipI' 'priA' 'fmt'\n",
      " 'fmu' 'rpe' 'ribG' 'lprG' 'ribC' 'ribA2' 'ribH' 'lprH' 'uvrC' 'whiA'\n",
      " 'lipO' 'fadD12' 'PE16' 'gap' 'pgk' 'tpi' 'secG' 'PE_PGRS26' 'bisC' 'devB'\n",
      " 'opcA' 'zwf2' 'tal' 'tkt' 'PE_PGRS27' 'ctaB' 'PE_PGRS28' 'qor' 'csd'\n",
      " 'fadE15' 'PE_PGRS29' 'ctpD' 'trxA' 'trxB1' 'echA12' 'acn' 'ripA' 'moxR1'\n",
      " 'fabG1' 'inhA' 'hemZ' 'mutA' 'mutB' 'mazE4' 'mazF4' 'lipL' 'gmdA' 'epiA'\n",
      " 'fadD25' 'mmpL12' 'wbbL2' 'pks5' 'papA4' 'fadD24' 'adh' 'ileS' 'dinX'\n",
      " 'ansA' 'lspA' 'lprI' 'glbN' 'dnaE1' 'PPE21' 'fadD11.1' 'fadD11' 'plsB1'\n",
      " 'frdA' 'frdB' 'frdC' 'frdD' 'mmpL6' 'ilvA' 'vapB11' 'vapC11' 'treZ'\n",
      " 'treY' 'treX' 'bioA' 'bioF1' 'bioD' 'bioB' 'nadA' 'nadB' 'nadC' 'hisD'\n",
      " 'hisC1' 'hisB' 'hisH' 'hisA' 'impA' 'hisF' 'hisI' 'chaA' 'bcpB' 'trpE'\n",
      " 'trpC' 'trpB' 'trpA' 'lgt' 'pykA' 'tesB1' 'cydC' 'cydD' 'cydB' 'cydA'\n",
      " 'cya' 'polA' 'rpsA' 'coaE' 'uvrB' 'TB15.3' 'uvrA' 'lysX' 'infC' 'rpmI'\n",
      " 'rplT' 'tsnR' 'PE17' 'pheS' 'pheT' 'PE_PGRS30' 'argC' 'argJ' 'argB'\n",
      " 'argD' 'argF' 'argR' 'argG' 'argH' 'pks10' 'pks7' 'pks8' 'pks17' 'pks9'\n",
      " 'pks11' 'cyp139' 'cmr' 'dsbF' 'fadE16' 'moeX' 'mpg' 'tyrS' 'lprJ' 'tlyA'\n",
      " 'ppnK' 'recN' 'mctB' 'pyrG' 'cycA' 'PPE22' 'PPE23' 'scpA' 'scpB' 'cmk'\n",
      " 'engA' 'fadB3' 'vapC12' 'vapB12' 'gabD2' 'narX' 'narK2' 'vapB34' 'vapC34'\n",
      " 'pknE' 'idi' 'pknF' 'fadD1' 'PPE24' 'plcD' 'cut1' 'wag22' 'PE_PGRS31'\n",
      " 'cyp144' 'malQ' 'eccB5' 'eccC5' 'cyp143' 'PPE25' 'PE18' 'PPE26' 'PPE27'\n",
      " 'PE19' 'esxN' 'eccD5' 'mycP5' 'eccE5' 'eccA5' 'lppT' 'PPE28' 'PPE29'\n",
      " 'PPE30' 'PE_PGRS32' 'PE20' 'PPE31' 'PPE32' 'PPE33' 'mgtC' 'erg3'\n",
      " 'PE_PGRS33' 'bacA' 'ilvG' 'secA2' 'pgsA2' 'gcvH' 'garA' 'gcvB' 'lipZ'\n",
      " 'glcB' 'vapC13' 'vapB13' 'PE_PGRS34' 'guaB1' 'gnd1' 'blaR' 'blaI' 'ureA'\n",
      " 'ureB' 'ureC' 'ureF' 'ureG' 'ureD' 'ndh' 'modA' 'modB' 'modC' 'apa'\n",
      " 'adhA' 'lldD2' 'bfrA' 'glnA3' 'cyp140' 'lppE' 'rpfC' 'fbpB' 'lppD' 'lipJ'\n",
      " 'cinA' 'nanT' 'aao' 'katG' 'furA' 'lppC' 'fadB5' 'aceAa' 'aceAb' 'PPE34'\n",
      " 'PPE35' 'lppF' 'lipD' 'fadD31' 'mpt63' 'tpx' 'fadE18' 'fadE17' 'echA13'\n",
      " 'ephB' 'ribA1' 'mazF5' 'mazE5' 'lppG' 'vapB14' 'vapC14' 'higB' 'higA'\n",
      " 'parE1' 'parD1' 'vapC35' 'vapB35' 'mce3R' 'yrbE3A' 'yrbE3B' 'mce3A'\n",
      " 'mce3B' 'mce3C' 'mce3D' 'lprM' 'mce3F' 'mpt64' 'nrdF1' 'vapC36' 'vapB36'\n",
      " 'PE_PGRS35' 'cfp21' 'erm(37)' 'mazF6' 'mazE6' 'ctpG' 'cmtR' 'ctpF'\n",
      " 'fabG3' 'otsB1' 'fdxA' 'vapB15' 'vapC15' 'dosT' 'pfkB' 'hspX' 'acg'\n",
      " 'pncA' 'lipT' 'lppI' 'pks12' 'ppm1' 'fxsA' 'rpsR2' 'rpsN2' 'rpmG1'\n",
      " 'rpmB2' 'cobN' 'mazE7' 'mazF7' 'cobG' 'cobH' 'cobI' 'blaC' 'sigC' 'cobK'\n",
      " 'cobM' 'cobL' 'lppJ' 'pknJ' 'pepE' 'helY' 'tatC' 'tatA' 'pafC' 'pafB'\n",
      " 'pafA' 'helZ' 'vapC37' 'vapB37' 'PE22' 'PPE36' 'prcA' 'prcB' 'pup' 'dop'\n",
      " 'mpa' 'lppK' 'hisG' 'hisE' 'PPE37' 'metH' 'PE_PGRS37' 'ansP1' 'mshC'\n",
      " 'cysQ' 'lppL' 'pyrD' 'TB18.6' 'parE2' 'parD2' 'wag31' 'yfiH' 'ftsZ'\n",
      " 'ftsQ' 'murC' 'murG' 'ftsW' 'murD' 'murX' 'murF' 'murE' 'PE_PGRS38'\n",
      " 'pbpB' 'lppM' 'idsA2' 'mptA' 'pknL' 'aroG' 'TB16.3' 'fadD15' 'pimB'\n",
      " 'trpD' 'ctaE' 'qcrC' 'qcrA' 'qcrB' 'mmpS3' 'ctaC' 'asnB' 'adoK' 'cobT'\n",
      " 'cobS' 'ilvE' 'gcvT' 'pepB' 'ephD' 'dlaT' 'lipB' 'lipA' 'glnA1' 'glnE'\n",
      " 'glnA2' 'caeA' 'panB' 'cobC' 'vapC16' 'vapB16' 'ptkA' 'ptpA' 'cobD'\n",
      " 'ahpE' 'aceE' 'fabD' 'acpM' 'kasA' 'kasB' 'accD6' 'glpD1' 'mscR' 'cyp124'\n",
      " 'cyp128' 'lppN' 'mazF8' 'mazE8' 'cyp121' 'pitB' 'lipM' 'yjcE' 'cdh'\n",
      " 'lppO' 'sseB' 'htpG' 'cut2' 'uspA' 'uspB' 'uspC' 'rocE' 'rocD2' 'rocD1'\n",
      " 'PE23' 'narK1' 'lppP' 'mez' 'stp' 'cysK1' 'cysE' 'moeW' 'mmpL9'\n",
      " 'PE_PGRS39' 'lppQ' 'dnaG' 'dgt' 'esxO' 'esxP' 'plcC' 'plcB' 'plcA'\n",
      " 'PPE38' 'PPE39' 'PPE40' 'glyS' 'smtB' 'zur' 'recO' 'amiA2' 'era' 'phoH1'\n",
      " 'PE_PGRS40' 'dnaJ2' 'hrcA' 'cfp2' 'mbtH' 'mbtG' 'mbtF' 'mbtE' 'mbtD'\n",
      " 'mbtC' 'mbtB' 'mbtA' 'mbtJ' 'mbtI' 'hemN' 'rpfD' 'sirA' 'cysH' 'che1'\n",
      " 'ggtB' 'aprA' 'aprB' 'PE_PGRS41' 'cysA1' 'cysW' 'cysT' 'subI' 'lppR'\n",
      " 'lepA' 'PE24' 'rpsT' 'eis' 'gpgP' 'nadD' 'proA' 'ahpC' 'ahpD' 'PPE41'\n",
      " 'PE25' 'rbsK' 'nadE' 'proB' 'obg' 'rpmA' 'rplU' 'dctA' 'rne' 'ndkA'\n",
      " 'folC' 'valS' 'rpfE' 'mobA' 'clpX' 'mmuM' 'clpP2' 'clpP1' 'tig' 'lipP'\n",
      " 'rpiB' 'pepN' 'glbO' 'aglA' 'gdh' 'plsB2' 'plsC' 'lipQ' 'echA14'\n",
      " 'PE_PGRS42' 'PE_PGRS43' 'vapB38' 'vapC38' 'bkdC' 'bkdB' 'bkdA' 'citE'\n",
      " 'fadE19' 'accA1' 'accD1' 'scoB' 'scoA' 'fadD35' 'orn' 'ldtB' 'PE26' 'bcp'\n",
      " 'acpS' 'fas' 'vapB17' 'vapC17' 'mrr' 'vapC39' 'vapB39' 'nusB' 'efp'\n",
      " 'pepQ' 'aroD' 'aroB' 'aroK' 'aroF' 'lppA' 'lppB' 'vapB18' 'vapC18'\n",
      " 'vapB19' 'vapC19' 'vapC20' 'vapB20' 'aroE' 'alaS' 'glnQ' 'aspS' 'dhaA'\n",
      " 'hisS' 'ppiB' 'relA' 'apt' 'secF' 'secD' 'yajC' 'gabT' 'fadD9'\n",
      " 'PE_PGRS44' 'ruvB' 'ruvA' 'ruvC' 'vapB40' 'vapC40' 'speE' 'vapB41'\n",
      " 'vapC41' 'snoP' 'tesB2' 'snzP' 'pdxH' 'PPE42' 'pimA' 'pgsA1' 'thrS'\n",
      " 'PE_PGRS45' 'TB31.7' 'hrp1' 'PE_PGRS46' 'dedA' 'cadI' 'arsC' 'clpC2'\n",
      " 'ribD' 'aftC' 'msrB' 'hemY' 'hemE' 'echA15' 'dxs1' 'arsA' 'arsB1' 'ceoB'\n",
      " 'ceoC' 'dut' 'suhB' 'ppgK' 'sigA' 'sigB' 'ideR' 'sthA' 'nrdR' 'lexA'\n",
      " 'fadE20' 'hflX' 'dapF' 'miaA' 'recX' 'recA' 'ephG' 'PE_PGRS47' '35kd_ag'\n",
      " 'clgR' 'pgsA3' 'argA' 'ftsK' 'dapA' 'thyX' 'hsdS.1' 'hsdM' 'vapC21'\n",
      " 'vapB21' 'vapC42' 'vapB42' 'hsdS' 'dfrA' 'thyA' 'PPE43' 'PE27' 'PPE44'\n",
      " 'dapB' 'ald' 'pepR' 'gpsI' 'lppU' 'rpsO' 'ribF' 'sirR' 'fadE21' 'ltp1'\n",
      " 'truB' 'pptT' 'lppV' 'mazF9' 'mazE9' 'vapC22' 'vapB22' 'echA16' 'ugpC'\n",
      " 'ugpB' 'ugpE' 'ugpA' 'dinF' 'rbfA' 'infB' 'nusA' 'proS' 'efpA' 'cysG'\n",
      " 'cobB' 'cobO' 'mqo' 'PE_PGRS48' 'mtr' 'nicT' 'aldC' 'glnA4' 'mapB'\n",
      " 'vapB23' 'vapC23' 'relF' 'relG' 'gcpE' 'rip' 'dxr' 'vapB43' 'vapC43'\n",
      " 'mpt83' 'dipZ' 'mpt70' 'mpt53' 'cdsA' 'frr' 'pyrH' 'amiC' 'tsf' 'rpsB'\n",
      " 'PPE45' 'xerC' 'viuB' 'fdhD' 'fdhF' 'rnhB' 'lepB' 'rplS' 'lppW' 'trmD'\n",
      " 'rimM' 'rpsP' 'dacB2' 'pknI' 'ffh' 'glnD' 'glnB' 'amt' 'ftsY' 'smc'\n",
      " 'acyP' 'fpg' 'rnc' 'tesA' 'fadD26' 'ppsA' 'ppsB' 'ppsC' 'ppsD' 'ppsE'\n",
      " 'drrA' 'drrB' 'drrC' 'papA5' 'mas' 'fadD28' 'mmpL7' 'lppX' 'pks1' 'pks15'\n",
      " 'fadD22' 'fadD29' 'purU' 'kdtB' 'pca' 'lipN' 'recG' 'ung' 'thiL' 'ddlA'\n",
      " 'gpdA2' 'ppk1' 'mutT1' 'hupB' 'leuD' 'leuC' 'gltS' 'leuB' 'serA1' 'lppY'\n",
      " 'ilvC' 'ilvN' 'ilvB1' 'cfp6' 'lppZ' 'gatB' 'pfkA' 'gatA' 'gatC' 'ligA'\n",
      " 'lpqA' 'esxQ' 'PPE46' 'PE27A' 'esxR' 'esxS' 'PE29' 'trmU' 'iscS' 'fixB'\n",
      " 'fixA' 'TB22.2' 'echA17' 'serB2' 'ctaD' 'fecB' 'adhC' 'nrdF2' 'nrdE'\n",
      " 'nrdI' 'nrdH' 'dinP' 'cyp136' 'fadE22' 'ligB' 'cstA' 'mmr' 'pgmA' 'hab'\n",
      " 'pknK' 'virS' 'lipR' 'adhD' 'tgs4' 'fadD13' 'lipY' 'smpB' 'ftsX' 'ftsE'\n",
      " 'prfB' 'fprA' 'agpS' 'moaA1' 'moaB1' 'moaC1' 'moaD1' 'moeB2' 'cysA3'\n",
      " 'sseC1' 'moaE1' 'cyp141' 'moaR1' 'PPE49' 'tgs1' 'devS' 'devR' 'PPE50'\n",
      " 'PPE51' 'pflA' 'fadE24' 'fadE23' 'fadB4' 'PPE52' 'nuoA' 'nuoB' 'nuoC'\n",
      " 'nuoD' 'nuoE' 'nuoF' 'nuoG' 'nuoH' 'nuoI' 'nuoJ' 'nuoK' 'nuoL' 'nuoM'\n",
      " 'nuoN' 'PPE53' 'moxR3' 'aofH' 'hpx' 'mesT' 'whiB7' 'uvrD2' 'nudC' 'lipV'\n",
      " 'moeB1' 'TB9.4' 'rhlE' 'gpm2' 'entC' 'whiB1' 'TB7.3' 'rshA' 'sigH' 'aroA'\n",
      " 'desA3' 'ppk2' 'tgs3' 'secA1' 'lpqB' 'mtrB' 'mtrA' 'tmk' 'sahH' 'rubB'\n",
      " 'rubA' 'alkB' 'manA' 'pmmA' 'whiB2' 'fbiA' 'fbiB' 'manB' 'wbbL1' 'rmlD'\n",
      " 'ctpC' 'fadE25' 'purE' 'purK' 'birA' 'accD5' 'accE5' 'sseA' 'accA3'\n",
      " 'sigF' 'rsbW' 'usfY' 'lat' 'lrpA' 'pcd' 'lhr' 'nei' 'lpqC' 'atsB' 'phoY1'\n",
      " 'glpD2' 'lpdA' 'amiA1' 'amiB1' 'deoD' 'pmmB' 'upp' 'sapM' 'add' 'deoA'\n",
      " 'cdd' 'sdhC' 'sdhD' 'sdhA' 'sdhB' 'vapC44' 'vapB44' 'moaX' 'moaC3' 'sigJ'\n",
      " 'dacB1' 'sugI' 'nagA' 'trpS' 'icd1' 'metC' 'metA' 'PPE54' 'PE_PGRS49'\n",
      " 'PE_PGRS50' 'PPE55' 'PPE56' 'folD' 'relJ' 'relK' 'spoU' 'PE_PGRS51'\n",
      " 'dnaE2' 'otsB2' 'echA18' 'echA18.1' 'amiD' 'dxs2' 'lytB1' 'idsB' 'vapC46'\n",
      " 'vapB46' 'PE_PGRS52' 'htdY' 'lpqD' 'acrA1' 'cmaA1' 'iunH' 'guaA' 'phyA'\n",
      " 'idsA1' 'vapB47' 'vapC47' 'choD' 'guaB3' 'guaB2' 'sigD' 'whiB3' 'groEL1'\n",
      " 'groES' 'gcp' 'rimI' 'alr' 'PPE57' 'PPE58' 'PPE59' 'gadB' 'glmS' 'mrsA'\n",
      " 'rpsI' 'rplM' 'esxT' 'esxU' 'eccC4' 'eccD4' 'mycP4' 'eccB4' 'cut3' 'cut4'\n",
      " 'truA' 'rplQ' 'rpoA' 'rpsD' 'rpsK' 'rpsM' 'rpmJ' 'infA' 'rmlB' 'rmlC'\n",
      " 'mhpE' 'ilvB2' 'bpoA' 'kgtP' 'PE31' 'PPE60' 'cpsA' 'lipF' 'otsA' 'mce4F'\n",
      " 'lprN' 'mce4D' 'mce4C' 'mce4B' 'mce4A' 'yrbE4B' 'yrbE4A' 'fdxD' 'fadE26'\n",
      " 'fadE27' 'fadD17' 'PE_PGRS53' 'PE_PGRS54' 'ilvX' 'PE_PGRS55' 'PE_PGRS56'\n",
      " 'fadD18' 'PE_PGRS57' 'fadD19' 'echA19' 'cyp142' 'ltp4' 'ltp3' 'kshA'\n",
      " 'PPE61' 'PPE62' 'hsaF' 'hsaG' 'hsaE' 'kstD' 'PPE63' 'ltp2' 'fadE29'\n",
      " 'fadE28' 'cyp125' 'fadA5' 'ddn' 'echA20' 'fdxB' 'fadA6' 'PPE64' 'fadE30'\n",
      " 'fadD3' 'fadE31' 'fadE32' 'fadE33' 'aspB' 'nat' 'hsaB' 'hsaC' 'hsaD'\n",
      " 'hsaA' 'kshB' 'fadE34' 'kstR' 'lppH' 'arsB2' 'cysS1' 'ispF' 'ispD' 'lpqE'\n",
      " 'radA' 'canB' 'mutY' 'PE_PGRS58' 'mhuD' 'lpqF' 'PE_PGRS59' 'clpC1' 'lsr2'\n",
      " 'lysS' 'panD' 'panC' 'folK' 'folB' 'folP1' 'folE' 'ftsH' 'espD' 'espC'\n",
      " 'espA' 'ephA' 'esxV' 'esxW' 'PPE65' 'PE32' 'lpqG' 'hpt' 'mesJ' 'ppa'\n",
      " 'galE1' 'fic' 'topA' 'cspA' 'PE33' 'PE_PGRS60' 'PE_PGRS61' 'dppD' 'dppC'\n",
      " 'dppB' 'dppA' 'acs' 'ephE' 'nth' 'crp' 'whiB4' 'ponA2' 'cyp137' 'rsfB'\n",
      " 'moxR2' 'glpK' 'vapC48' 'vapB48' 'gshA' 'asd' 'ask' 'leuA' 'dnaQ' 'cobQ2'\n",
      " 'recR' 'dnaZX' 'cut5a' 'cut5b' 'ligC' 'tgs2' 'PPE66' 'PPE67' 'ctpJ'\n",
      " 'nmtR' 'PE34' 'tyrA' 'proZ' 'proW' 'proV' 'proX' 'fadE36' 'lpqH' 'tcrY'\n",
      " 'tcrX' 'hisC2' 'echA21' 'lipE' 'rfbE' 'glfT1' 'rfbD' 'dprE1' 'dprE2'\n",
      " 'aftA' 'embC' 'embA' 'embB' 'fadE35' 'accD4' 'pks13' 'fadD32' 'fbpD'\n",
      " 'fbpA' 'aftB' 'ubiA' 'glfT2' 'glf' 'pirG' 'PE_PGRS62' 'papA2' 'mmpL8'\n",
      " 'papA1' 'pks2' 'fadD23' 'serS' 'pheA' 'bfrB' 'glpQ1' 'sodA' 'espR' 'hns'\n",
      " 'rraA' 'ethA' 'ethR' 'gltD' 'gltB' 'whiB6' 'espE' 'espF' 'espG1' 'espH'\n",
      " 'eccA1' 'eccB1' 'eccCa1' 'eccCb1' 'PE35' 'PPE68' 'esxB' 'esxA' 'espI'\n",
      " 'eccD1' 'espJ' 'espK' 'espL' 'espB' 'eccE1' 'mycP1' 'eccA2' 'eccE2'\n",
      " 'mycP2' 'eccD2' 'espG2' 'esxC' 'esxD' 'PPE69' 'PE36' 'eccC2' 'eccB2'\n",
      " 'esxE' 'esxF' 'pcnA' 'mutT4' 'sigM' 'trxB2' 'trxC' 'parB' 'parA' 'gid'\n",
      " 'rnpA' 'rpmH']\n"
     ]
    }
   ],
   "source": [
    "with np.printoptions(threshold=np.inf):\n",
    "    print(genes_info_df['gene_name'].unique())"
   ]
  },
  {
   "cell_type": "code",
   "execution_count": 31,
   "metadata": {},
   "outputs": [],
   "source": [
    "test_df = pd.read_csv('/mnt/storage10/lwang/Projects/TOAST/toast/db/variants.csv')"
   ]
  },
  {
   "cell_type": "code",
   "execution_count": null,
   "metadata": {},
   "outputs": [],
   "source": []
  },
  {
   "cell_type": "code",
   "execution_count": 32,
   "metadata": {},
   "outputs": [
    {
     "data": {
      "text/html": [
       "<div>\n",
       "<style scoped>\n",
       "    .dataframe tbody tr th:only-of-type {\n",
       "        vertical-align: middle;\n",
       "    }\n",
       "\n",
       "    .dataframe tbody tr th {\n",
       "        vertical-align: top;\n",
       "    }\n",
       "\n",
       "    .dataframe thead th {\n",
       "        text-align: right;\n",
       "    }\n",
       "</style>\n",
       "<table border=\"1\" class=\"dataframe\">\n",
       "  <thead>\n",
       "    <tr style=\"text-align: right;\">\n",
       "      <th></th>\n",
       "      <th>sample_id</th>\n",
       "      <th>genome_pos</th>\n",
       "      <th>gene</th>\n",
       "      <th>change</th>\n",
       "      <th>freq</th>\n",
       "      <th>type</th>\n",
       "      <th>sublin</th>\n",
       "      <th>drtype</th>\n",
       "      <th>drugs</th>\n",
       "    </tr>\n",
       "  </thead>\n",
       "  <tbody>\n",
       "    <tr>\n",
       "      <th>0</th>\n",
       "      <td>SRR20969411</td>\n",
       "      <td>761155</td>\n",
       "      <td>rpoB</td>\n",
       "      <td>p.Ser450Leu</td>\n",
       "      <td>0.996825</td>\n",
       "      <td>missense_variant</td>\n",
       "      <td>lineage2.2.1</td>\n",
       "      <td>MDR-TB</td>\n",
       "      <td>rifampicin</td>\n",
       "    </tr>\n",
       "    <tr>\n",
       "      <th>1</th>\n",
       "      <td>SRR20969411</td>\n",
       "      <td>781687</td>\n",
       "      <td>rpsL</td>\n",
       "      <td>p.Lys43Arg</td>\n",
       "      <td>1.000000</td>\n",
       "      <td>missense_variant</td>\n",
       "      <td>lineage2.2.1</td>\n",
       "      <td>MDR-TB</td>\n",
       "      <td>streptomycin</td>\n",
       "    </tr>\n",
       "    <tr>\n",
       "      <th>2</th>\n",
       "      <td>SRR20969411</td>\n",
       "      <td>2155168</td>\n",
       "      <td>katG</td>\n",
       "      <td>p.Ser315Thr</td>\n",
       "      <td>1.000000</td>\n",
       "      <td>missense_variant</td>\n",
       "      <td>lineage2.2.1</td>\n",
       "      <td>MDR-TB</td>\n",
       "      <td>isoniazid</td>\n",
       "    </tr>\n",
       "    <tr>\n",
       "      <th>3</th>\n",
       "      <td>SRR20969411</td>\n",
       "      <td>4247729</td>\n",
       "      <td>embB</td>\n",
       "      <td>p.Gly406Ser</td>\n",
       "      <td>0.997268</td>\n",
       "      <td>missense_variant</td>\n",
       "      <td>lineage2.2.1</td>\n",
       "      <td>MDR-TB</td>\n",
       "      <td>ethambutol</td>\n",
       "    </tr>\n",
       "    <tr>\n",
       "      <th>4</th>\n",
       "      <td>ERR10748278</td>\n",
       "      <td>761155</td>\n",
       "      <td>rpoB</td>\n",
       "      <td>p.Ser450Leu</td>\n",
       "      <td>1.000000</td>\n",
       "      <td>missense_variant</td>\n",
       "      <td>lineage2.2.1</td>\n",
       "      <td>MDR-TB</td>\n",
       "      <td>rifampicin</td>\n",
       "    </tr>\n",
       "    <tr>\n",
       "      <th>...</th>\n",
       "      <td>...</td>\n",
       "      <td>...</td>\n",
       "      <td>...</td>\n",
       "      <td>...</td>\n",
       "      <td>...</td>\n",
       "      <td>...</td>\n",
       "      <td>...</td>\n",
       "      <td>...</td>\n",
       "      <td>...</td>\n",
       "    </tr>\n",
       "    <tr>\n",
       "      <th>268363</th>\n",
       "      <td>ERR7911528</td>\n",
       "      <td>3087715</td>\n",
       "      <td>ald</td>\n",
       "      <td>c.897_898dupGA</td>\n",
       "      <td>0.459770</td>\n",
       "      <td>frameshift_variant</td>\n",
       "      <td>lineage2.2.2</td>\n",
       "      <td>Pre-XDR-TB</td>\n",
       "      <td>cycloserine</td>\n",
       "    </tr>\n",
       "    <tr>\n",
       "      <th>268364</th>\n",
       "      <td>ERR7911528</td>\n",
       "      <td>4247431</td>\n",
       "      <td>embB</td>\n",
       "      <td>p.Met306Ile</td>\n",
       "      <td>1.000000</td>\n",
       "      <td>missense_variant</td>\n",
       "      <td>lineage2.2.2</td>\n",
       "      <td>Pre-XDR-TB</td>\n",
       "      <td>ethambutol</td>\n",
       "    </tr>\n",
       "    <tr>\n",
       "      <th>268365</th>\n",
       "      <td>ERR7911528</td>\n",
       "      <td>4326333</td>\n",
       "      <td>ethA</td>\n",
       "      <td>p.Ala381Pro</td>\n",
       "      <td>1.000000</td>\n",
       "      <td>missense_variant</td>\n",
       "      <td>lineage2.2.2</td>\n",
       "      <td>Pre-XDR-TB</td>\n",
       "      <td>ethionamide</td>\n",
       "    </tr>\n",
       "    <tr>\n",
       "      <th>268366</th>\n",
       "      <td>ERR7911528</td>\n",
       "      <td>4407967</td>\n",
       "      <td>gid</td>\n",
       "      <td>p.Leu79Ser</td>\n",
       "      <td>1.000000</td>\n",
       "      <td>missense_variant</td>\n",
       "      <td>lineage2.2.2</td>\n",
       "      <td>Pre-XDR-TB</td>\n",
       "      <td>streptomycin</td>\n",
       "    </tr>\n",
       "    <tr>\n",
       "      <th>268367</th>\n",
       "      <td>ERR718460</td>\n",
       "      <td>1472359</td>\n",
       "      <td>rrs</td>\n",
       "      <td>n.514A&gt;C</td>\n",
       "      <td>1.000000</td>\n",
       "      <td>non_coding_transcript_exon_variant</td>\n",
       "      <td>lineage2.2.1</td>\n",
       "      <td>Other</td>\n",
       "      <td>streptomycin</td>\n",
       "    </tr>\n",
       "  </tbody>\n",
       "</table>\n",
       "<p>268368 rows × 9 columns</p>\n",
       "</div>"
      ],
      "text/plain": [
       "          sample_id  genome_pos  gene          change      freq  \\\n",
       "0       SRR20969411      761155  rpoB     p.Ser450Leu  0.996825   \n",
       "1       SRR20969411      781687  rpsL      p.Lys43Arg  1.000000   \n",
       "2       SRR20969411     2155168  katG     p.Ser315Thr  1.000000   \n",
       "3       SRR20969411     4247729  embB     p.Gly406Ser  0.997268   \n",
       "4       ERR10748278      761155  rpoB     p.Ser450Leu  1.000000   \n",
       "...             ...         ...   ...             ...       ...   \n",
       "268363   ERR7911528     3087715   ald  c.897_898dupGA  0.459770   \n",
       "268364   ERR7911528     4247431  embB     p.Met306Ile  1.000000   \n",
       "268365   ERR7911528     4326333  ethA     p.Ala381Pro  1.000000   \n",
       "268366   ERR7911528     4407967   gid      p.Leu79Ser  1.000000   \n",
       "268367    ERR718460     1472359   rrs        n.514A>C  1.000000   \n",
       "\n",
       "                                      type        sublin      drtype  \\\n",
       "0                         missense_variant  lineage2.2.1      MDR-TB   \n",
       "1                         missense_variant  lineage2.2.1      MDR-TB   \n",
       "2                         missense_variant  lineage2.2.1      MDR-TB   \n",
       "3                         missense_variant  lineage2.2.1      MDR-TB   \n",
       "4                         missense_variant  lineage2.2.1      MDR-TB   \n",
       "...                                    ...           ...         ...   \n",
       "268363                  frameshift_variant  lineage2.2.2  Pre-XDR-TB   \n",
       "268364                    missense_variant  lineage2.2.2  Pre-XDR-TB   \n",
       "268365                    missense_variant  lineage2.2.2  Pre-XDR-TB   \n",
       "268366                    missense_variant  lineage2.2.2  Pre-XDR-TB   \n",
       "268367  non_coding_transcript_exon_variant  lineage2.2.1       Other   \n",
       "\n",
       "               drugs  \n",
       "0         rifampicin  \n",
       "1       streptomycin  \n",
       "2          isoniazid  \n",
       "3         ethambutol  \n",
       "4         rifampicin  \n",
       "...              ...  \n",
       "268363   cycloserine  \n",
       "268364    ethambutol  \n",
       "268365   ethionamide  \n",
       "268366  streptomycin  \n",
       "268367  streptomycin  \n",
       "\n",
       "[268368 rows x 9 columns]"
      ]
     },
     "execution_count": 32,
     "metadata": {},
     "output_type": "execute_result"
    }
   ],
   "source": [
    "test_df"
   ]
  },
  {
   "cell_type": "code",
   "execution_count": 36,
   "metadata": {},
   "outputs": [
    {
     "name": "stdout",
     "output_type": "stream",
     "text": [
      "      genomic_pos  weights\n",
      "0               1        1\n",
      "1               2        1\n",
      "2               3        1\n",
      "3               4        1\n",
      "4               5        1\n",
      "...           ...      ...\n",
      "3886         4433        1\n",
      "3887         4434        1\n",
      "3888         4435        1\n",
      "3889         4436        1\n",
      "3890         4437        1\n",
      "\n",
      "[3891 rows x 2 columns]\n"
     ]
    }
   ],
   "source": [
    "import pandas as pd\n",
    "\n",
    "# Define your set of ranges\n",
    "# Example: [(1, 5), (10, 12)] represents two ranges: from 1 to 5 and from 10 to 12\n",
    "ranges = [(1, 5000), (10000, 120000)]\n",
    "\n",
    "# Initialize an empty list to store all genomic positions\n",
    "all_positions = []\n",
    "\n",
    "# Iterate through each range and generate positions\n",
    "for i, row in t.iterrows():\n",
    "    # Generate positions for the current range and append to the list\n",
    "    all_positions.extend(range(row.start, row.end + 1))  # end + 1 because range is exclusive at the end\n",
    "\n",
    "# Create a DataFrame\n",
    "df = pd.DataFrame({\n",
    "    'genome_pos': all_positions,\n",
    "    'weight': 1\n",
    "})\n",
    "\n",
    "print(df)\n"
   ]
  },
  {
   "cell_type": "code",
   "execution_count": 107,
   "metadata": {},
   "outputs": [
    {
     "name": "stdout",
     "output_type": "stream",
     "text": [
      "1\n",
      "Empty DataFrame\n",
      "Columns: [Gene Name, Chromosome, Start, End]\n",
      "Index: []\n"
     ]
    }
   ],
   "source": [
    "from Bio import SeqIO\n",
    "import pandas as pd\n",
    "\n",
    "# Path to your GFF file\n",
    "gff_file = '/mnt/storage10/lwang/Projects/TOAST/toast/db/MTB-h37rv_asm19595v2-eg18.gff'\n",
    "\n",
    "# Initialize a list to store the extracted information\n",
    "gene_info = []\n",
    "\n",
    "# Parse the GFF file\n",
    "for record in SeqIO.parse(gff_file, \"genbank\"):\n",
    "    print(1)\n",
    "    print(record)\n",
    "    for feature in record.features:\n",
    "        print(1)\n",
    "        print(feature)\n",
    "        if feature.type == \"gene\":\n",
    "            # Extract gene name, some GFF files might use 'ID' or other attributes for the gene name\n",
    "            gene_name = feature.qualifiers.get('Name', [''])[0] or feature.qualifiers.get('ID', [''])[0]\n",
    "            # Extract chromosome name\n",
    "            chromosome = record.id\n",
    "            # Extract start and end positions of the gene\n",
    "            start = feature.location.start\n",
    "            end = feature.location.end\n",
    "            # Append the information to the list\n",
    "            gene_info.append([gene_name, chromosome, start, end])\n",
    "\n",
    "# Create a DataFrame\n",
    "df_genes = pd.DataFrame(gene_info, columns=['Gene Name', 'Chromosome', 'Start', 'End'])\n",
    "\n",
    "# Display the DataFrame\n",
    "print(df_genes)\n",
    "\n",
    "# Optionally, save the DataFrame to a CSV file\n",
    "# df_genes.to_csv('genes_ranges.csv', index=False)\n"
   ]
  },
  {
   "cell_type": "code",
   "execution_count": null,
   "metadata": {},
   "outputs": [],
   "source": []
  },
  {
   "cell_type": "code",
   "execution_count": 100,
   "metadata": {},
   "outputs": [
    {
     "data": {
      "text/html": [
       "<div>\n",
       "<style scoped>\n",
       "    .dataframe tbody tr th:only-of-type {\n",
       "        vertical-align: middle;\n",
       "    }\n",
       "\n",
       "    .dataframe tbody tr th {\n",
       "        vertical-align: top;\n",
       "    }\n",
       "\n",
       "    .dataframe thead th {\n",
       "        text-align: right;\n",
       "    }\n",
       "</style>\n",
       "<table border=\"1\" class=\"dataframe\">\n",
       "  <thead>\n",
       "    <tr style=\"text-align: right;\">\n",
       "      <th></th>\n",
       "      <th>Gene Name</th>\n",
       "      <th>Chromosome</th>\n",
       "      <th>Start</th>\n",
       "      <th>End</th>\n",
       "    </tr>\n",
       "  </thead>\n",
       "  <tbody>\n",
       "  </tbody>\n",
       "</table>\n",
       "</div>"
      ],
      "text/plain": [
       "Empty DataFrame\n",
       "Columns: [Gene Name, Chromosome, Start, End]\n",
       "Index: []"
      ]
     },
     "execution_count": 100,
     "metadata": {},
     "output_type": "execute_result"
    }
   ],
   "source": [
    "df_genes"
   ]
  },
  {
   "cell_type": "code",
   "execution_count": 91,
   "metadata": {},
   "outputs": [
    {
     "data": {
      "text/html": [
       "<div>\n",
       "<style scoped>\n",
       "    .dataframe tbody tr th:only-of-type {\n",
       "        vertical-align: middle;\n",
       "    }\n",
       "\n",
       "    .dataframe tbody tr th {\n",
       "        vertical-align: top;\n",
       "    }\n",
       "\n",
       "    .dataframe thead th {\n",
       "        text-align: right;\n",
       "    }\n",
       "</style>\n",
       "<table border=\"1\" class=\"dataframe\">\n",
       "  <thead>\n",
       "    <tr style=\"text-align: right;\">\n",
       "      <th></th>\n",
       "      <th>0</th>\n",
       "      <th>1</th>\n",
       "      <th>2</th>\n",
       "    </tr>\n",
       "  </thead>\n",
       "  <tbody>\n",
       "    <tr>\n",
       "      <th>0</th>\n",
       "      <td>CACTCCGAAGAAGCCGAACT</td>\n",
       "      <td>GTGACCAACTGCGATCCGTA</td>\n",
       "      <td>Primer1</td>\n",
       "    </tr>\n",
       "  </tbody>\n",
       "</table>\n",
       "</div>"
      ],
      "text/plain": [
       "                      0                     1        2\n",
       "0  CACTCCGAAGAAGCCGAACT  GTGACCAACTGCGATCCGTA  Primer1"
      ]
     },
     "execution_count": 91,
     "metadata": {},
     "output_type": "execute_result"
    }
   ],
   "source": [
    "pd.read_csv('/mnt/storage10/lwang/Projects/TOAST/cache/test_df.csv').iloc[0]\n",
    "pd.read_csv('/mnt/storage10/lwang/Projects/TOAST/cache/test_df copy.csv', header=None)"
   ]
  },
  {
   "cell_type": "code",
   "execution_count": 96,
   "metadata": {},
   "outputs": [],
   "source": [
    "accepted_primers = pd.read_csv('/mnt/storage10/lwang/Projects/TOAST/cache/output/Amplicon_design_output/Primer_design-accepted_primers-40-400.csv')\n",
    "full_data = pd.read_csv('/mnt/storage10/lwang/Projects/TOAST/toast/db/variants.csv')"
   ]
  },
  {
   "cell_type": "code",
   "execution_count": 98,
   "metadata": {},
   "outputs": [
    {
     "data": {
      "text/plain": [
       "array(['rpoB', 'rpsL', 'katG', 'embB', 'fabG1', 'ethR', 'pncA', 'tlyA',\n",
       "       'gyrA', 'rrs', 'mmpR5', 'gid', 'eis', 'ethA', 'folC', 'rpoC',\n",
       "       'embA', 'alr', 'gyrB', 'inhA', 'ahpC', 'ald', 'thyX', 'thyA',\n",
       "       'rplC', 'ddn', 'embC', 'fbiA', 'kasA', 'rrl', 'embR', 'panD',\n",
       "       'ribD', 'rpsA', 'fgd1'], dtype=object)"
      ]
     },
     "execution_count": 98,
     "metadata": {},
     "output_type": "execute_result"
    }
   ],
   "source": [
    "full_data['gene'].unique()"
   ]
  },
  {
   "cell_type": "code",
   "execution_count": 39,
   "metadata": {},
   "outputs": [],
   "source": [
    "dtypes = {}\n",
    "\n",
    "for column in full_data.columns:\n",
    "    # Get the data type of the column\n",
    "    dtype = str(full_data[column].dtype)\n",
    "    # Add the column and its data type to the dictionary\n",
    "    dtypes[column] = dtype\n",
    "amp_snp = pd.DataFrame(columns=dtypes.keys()).astype(dtypes)"
   ]
  },
  {
   "cell_type": "code",
   "execution_count": 48,
   "metadata": {},
   "outputs": [
    {
     "data": {
      "text/html": [
       "<div>\n",
       "<style scoped>\n",
       "    .dataframe tbody tr th:only-of-type {\n",
       "        vertical-align: middle;\n",
       "    }\n",
       "\n",
       "    .dataframe tbody tr th {\n",
       "        vertical-align: top;\n",
       "    }\n",
       "\n",
       "    .dataframe thead th {\n",
       "        text-align: right;\n",
       "    }\n",
       "</style>\n",
       "<table border=\"1\" class=\"dataframe\">\n",
       "  <thead>\n",
       "    <tr style=\"text-align: right;\">\n",
       "      <th></th>\n",
       "      <th>sample_id</th>\n",
       "      <th>genome_pos</th>\n",
       "      <th>gene</th>\n",
       "      <th>change</th>\n",
       "      <th>freq</th>\n",
       "      <th>type</th>\n",
       "      <th>sublin</th>\n",
       "      <th>drtype</th>\n",
       "      <th>drugs</th>\n",
       "    </tr>\n",
       "  </thead>\n",
       "  <tbody>\n",
       "    <tr>\n",
       "      <th>0</th>\n",
       "      <td>SRR20969411</td>\n",
       "      <td>761155</td>\n",
       "      <td>rpoB</td>\n",
       "      <td>p.Ser450Leu</td>\n",
       "      <td>0.996825</td>\n",
       "      <td>missense_variant</td>\n",
       "      <td>lineage2.2.1</td>\n",
       "      <td>MDR-TB</td>\n",
       "      <td>rifampicin</td>\n",
       "    </tr>\n",
       "    <tr>\n",
       "      <th>4</th>\n",
       "      <td>ERR10748278</td>\n",
       "      <td>761155</td>\n",
       "      <td>rpoB</td>\n",
       "      <td>p.Ser450Leu</td>\n",
       "      <td>1.000000</td>\n",
       "      <td>missense_variant</td>\n",
       "      <td>lineage2.2.1</td>\n",
       "      <td>MDR-TB</td>\n",
       "      <td>rifampicin</td>\n",
       "    </tr>\n",
       "    <tr>\n",
       "      <th>8</th>\n",
       "      <td>ERR11081049</td>\n",
       "      <td>761155</td>\n",
       "      <td>rpoB</td>\n",
       "      <td>p.Ser450Leu</td>\n",
       "      <td>1.000000</td>\n",
       "      <td>missense_variant</td>\n",
       "      <td>lineage4.6.5</td>\n",
       "      <td>MDR-TB</td>\n",
       "      <td>rifampicin</td>\n",
       "    </tr>\n",
       "    <tr>\n",
       "      <th>14</th>\n",
       "      <td>ERR11043928</td>\n",
       "      <td>761155</td>\n",
       "      <td>rpoB</td>\n",
       "      <td>p.Ser450Leu</td>\n",
       "      <td>1.000000</td>\n",
       "      <td>missense_variant</td>\n",
       "      <td>lineage4.3.3</td>\n",
       "      <td>Pre-XDR-TB</td>\n",
       "      <td>rifampicin</td>\n",
       "    </tr>\n",
       "    <tr>\n",
       "      <th>25</th>\n",
       "      <td>ERR2864258</td>\n",
       "      <td>761139</td>\n",
       "      <td>rpoB</td>\n",
       "      <td>p.His445Asp</td>\n",
       "      <td>1.000000</td>\n",
       "      <td>missense_variant</td>\n",
       "      <td>lineage4.1.1.3</td>\n",
       "      <td>MDR-TB</td>\n",
       "      <td>rifampicin</td>\n",
       "    </tr>\n",
       "    <tr>\n",
       "      <th>...</th>\n",
       "      <td>...</td>\n",
       "      <td>...</td>\n",
       "      <td>...</td>\n",
       "      <td>...</td>\n",
       "      <td>...</td>\n",
       "      <td>...</td>\n",
       "      <td>...</td>\n",
       "      <td>...</td>\n",
       "      <td>...</td>\n",
       "    </tr>\n",
       "    <tr>\n",
       "      <th>268336</th>\n",
       "      <td>SRR1165253</td>\n",
       "      <td>761155</td>\n",
       "      <td>rpoB</td>\n",
       "      <td>p.Ser450Leu</td>\n",
       "      <td>1.000000</td>\n",
       "      <td>missense_variant</td>\n",
       "      <td>lineage4.4.1.1.1</td>\n",
       "      <td>MDR-TB</td>\n",
       "      <td>rifampicin</td>\n",
       "    </tr>\n",
       "    <tr>\n",
       "      <th>268341</th>\n",
       "      <td>SRR18715169</td>\n",
       "      <td>761109</td>\n",
       "      <td>rpoB</td>\n",
       "      <td>p.Asp435Tyr</td>\n",
       "      <td>1.000000</td>\n",
       "      <td>missense_variant</td>\n",
       "      <td>lineage4.8</td>\n",
       "      <td>MDR-TB</td>\n",
       "      <td>rifampicin</td>\n",
       "    </tr>\n",
       "    <tr>\n",
       "      <th>268344</th>\n",
       "      <td>ERR2510245</td>\n",
       "      <td>761155</td>\n",
       "      <td>rpoB</td>\n",
       "      <td>p.Ser450Leu</td>\n",
       "      <td>1.000000</td>\n",
       "      <td>missense_variant</td>\n",
       "      <td>lineage3</td>\n",
       "      <td>MDR-TB</td>\n",
       "      <td>rifampicin</td>\n",
       "    </tr>\n",
       "    <tr>\n",
       "      <th>268349</th>\n",
       "      <td>ERR4797048</td>\n",
       "      <td>761155</td>\n",
       "      <td>rpoB</td>\n",
       "      <td>p.Ser450Leu</td>\n",
       "      <td>1.000000</td>\n",
       "      <td>missense_variant</td>\n",
       "      <td>lineage2.2.1</td>\n",
       "      <td>Pre-XDR-TB</td>\n",
       "      <td>rifampicin</td>\n",
       "    </tr>\n",
       "    <tr>\n",
       "      <th>268357</th>\n",
       "      <td>ERR7911528</td>\n",
       "      <td>761155</td>\n",
       "      <td>rpoB</td>\n",
       "      <td>p.Ser450Leu</td>\n",
       "      <td>1.000000</td>\n",
       "      <td>missense_variant</td>\n",
       "      <td>lineage2.2.2</td>\n",
       "      <td>Pre-XDR-TB</td>\n",
       "      <td>rifampicin</td>\n",
       "    </tr>\n",
       "  </tbody>\n",
       "</table>\n",
       "<p>42357 rows × 9 columns</p>\n",
       "</div>"
      ],
      "text/plain": [
       "          sample_id  genome_pos  gene       change      freq  \\\n",
       "0       SRR20969411      761155  rpoB  p.Ser450Leu  0.996825   \n",
       "4       ERR10748278      761155  rpoB  p.Ser450Leu  1.000000   \n",
       "8       ERR11081049      761155  rpoB  p.Ser450Leu  1.000000   \n",
       "14      ERR11043928      761155  rpoB  p.Ser450Leu  1.000000   \n",
       "25       ERR2864258      761139  rpoB  p.His445Asp  1.000000   \n",
       "...             ...         ...   ...          ...       ...   \n",
       "268336   SRR1165253      761155  rpoB  p.Ser450Leu  1.000000   \n",
       "268341  SRR18715169      761109  rpoB  p.Asp435Tyr  1.000000   \n",
       "268344   ERR2510245      761155  rpoB  p.Ser450Leu  1.000000   \n",
       "268349   ERR4797048      761155  rpoB  p.Ser450Leu  1.000000   \n",
       "268357   ERR7911528      761155  rpoB  p.Ser450Leu  1.000000   \n",
       "\n",
       "                    type            sublin      drtype       drugs  \n",
       "0       missense_variant      lineage2.2.1      MDR-TB  rifampicin  \n",
       "4       missense_variant      lineage2.2.1      MDR-TB  rifampicin  \n",
       "8       missense_variant      lineage4.6.5      MDR-TB  rifampicin  \n",
       "14      missense_variant      lineage4.3.3  Pre-XDR-TB  rifampicin  \n",
       "25      missense_variant    lineage4.1.1.3      MDR-TB  rifampicin  \n",
       "...                  ...               ...         ...         ...  \n",
       "268336  missense_variant  lineage4.4.1.1.1      MDR-TB  rifampicin  \n",
       "268341  missense_variant        lineage4.8      MDR-TB  rifampicin  \n",
       "268344  missense_variant          lineage3      MDR-TB  rifampicin  \n",
       "268349  missense_variant      lineage2.2.1  Pre-XDR-TB  rifampicin  \n",
       "268357  missense_variant      lineage2.2.2  Pre-XDR-TB  rifampicin  \n",
       "\n",
       "[42357 rows x 9 columns]"
      ]
     },
     "execution_count": 48,
     "metadata": {},
     "output_type": "execute_result"
    }
   ],
   "source": [
    "amp_snp"
   ]
  },
  {
   "cell_type": "code",
   "execution_count": 84,
   "metadata": {},
   "outputs": [
    {
     "data": {
      "text/html": [
       "<div>\n",
       "<style scoped>\n",
       "    .dataframe tbody tr th:only-of-type {\n",
       "        vertical-align: middle;\n",
       "    }\n",
       "\n",
       "    .dataframe tbody tr th {\n",
       "        vertical-align: top;\n",
       "    }\n",
       "\n",
       "    .dataframe thead th {\n",
       "        text-align: right;\n",
       "    }\n",
       "</style>\n",
       "<table border=\"1\" class=\"dataframe\">\n",
       "  <thead>\n",
       "    <tr style=\"text-align: right;\">\n",
       "      <th></th>\n",
       "      <th>sample_id</th>\n",
       "      <th>genome_pos</th>\n",
       "      <th>gene</th>\n",
       "      <th>change</th>\n",
       "      <th>freq</th>\n",
       "      <th>type</th>\n",
       "      <th>sublin</th>\n",
       "      <th>drtype</th>\n",
       "      <th>drugs</th>\n",
       "    </tr>\n",
       "  </thead>\n",
       "  <tbody>\n",
       "    <tr>\n",
       "      <th>5</th>\n",
       "      <td>ERR10748278</td>\n",
       "      <td>1673425</td>\n",
       "      <td>fabG1</td>\n",
       "      <td>c.-15C&gt;T</td>\n",
       "      <td>1.00000</td>\n",
       "      <td>upstream_gene_variant</td>\n",
       "      <td>lineage2.2.1</td>\n",
       "      <td>MDR-TB</td>\n",
       "      <td>isoniazid,ethionamide</td>\n",
       "    </tr>\n",
       "    <tr>\n",
       "      <th>17</th>\n",
       "      <td>ERR11043928</td>\n",
       "      <td>1673425</td>\n",
       "      <td>fabG1</td>\n",
       "      <td>c.-15C&gt;T</td>\n",
       "      <td>1.00000</td>\n",
       "      <td>upstream_gene_variant</td>\n",
       "      <td>lineage4.3.3</td>\n",
       "      <td>Pre-XDR-TB</td>\n",
       "      <td>isoniazid,ethionamide</td>\n",
       "    </tr>\n",
       "    <tr>\n",
       "      <th>41</th>\n",
       "      <td>ERR3287611</td>\n",
       "      <td>1673425</td>\n",
       "      <td>fabG1</td>\n",
       "      <td>c.-15C&gt;T</td>\n",
       "      <td>0.97561</td>\n",
       "      <td>upstream_gene_variant</td>\n",
       "      <td>lineage4.3.3</td>\n",
       "      <td>MDR-TB</td>\n",
       "      <td>isoniazid,ethionamide</td>\n",
       "    </tr>\n",
       "    <tr>\n",
       "      <th>42</th>\n",
       "      <td>ERR4828904</td>\n",
       "      <td>1673425</td>\n",
       "      <td>fabG1</td>\n",
       "      <td>c.-15C&gt;T</td>\n",
       "      <td>1.00000</td>\n",
       "      <td>upstream_gene_variant</td>\n",
       "      <td>lineage4.1.2.1</td>\n",
       "      <td>HR-TB</td>\n",
       "      <td>isoniazid,ethionamide</td>\n",
       "    </tr>\n",
       "    <tr>\n",
       "      <th>58</th>\n",
       "      <td>ERR4972558</td>\n",
       "      <td>1673425</td>\n",
       "      <td>fabG1</td>\n",
       "      <td>c.-15C&gt;T</td>\n",
       "      <td>1.00000</td>\n",
       "      <td>upstream_gene_variant</td>\n",
       "      <td>lineage4.3.3</td>\n",
       "      <td>MDR-TB</td>\n",
       "      <td>isoniazid,ethionamide</td>\n",
       "    </tr>\n",
       "    <tr>\n",
       "      <th>...</th>\n",
       "      <td>...</td>\n",
       "      <td>...</td>\n",
       "      <td>...</td>\n",
       "      <td>...</td>\n",
       "      <td>...</td>\n",
       "      <td>...</td>\n",
       "      <td>...</td>\n",
       "      <td>...</td>\n",
       "      <td>...</td>\n",
       "    </tr>\n",
       "    <tr>\n",
       "      <th>268284</th>\n",
       "      <td>SRR18715029</td>\n",
       "      <td>1673425</td>\n",
       "      <td>fabG1</td>\n",
       "      <td>c.-15C&gt;T</td>\n",
       "      <td>1.00000</td>\n",
       "      <td>upstream_gene_variant</td>\n",
       "      <td>lineage2.2.1</td>\n",
       "      <td>MDR-TB</td>\n",
       "      <td>isoniazid,ethionamide</td>\n",
       "    </tr>\n",
       "    <tr>\n",
       "      <th>268308</th>\n",
       "      <td>ERR4797355</td>\n",
       "      <td>1673425</td>\n",
       "      <td>fabG1</td>\n",
       "      <td>c.-15C&gt;T</td>\n",
       "      <td>1.00000</td>\n",
       "      <td>upstream_gene_variant</td>\n",
       "      <td>lineage2.2.1</td>\n",
       "      <td>MDR-TB</td>\n",
       "      <td>isoniazid,ethionamide</td>\n",
       "    </tr>\n",
       "    <tr>\n",
       "      <th>268312</th>\n",
       "      <td>ERR4818250</td>\n",
       "      <td>1673425</td>\n",
       "      <td>fabG1</td>\n",
       "      <td>c.-15C&gt;T</td>\n",
       "      <td>1.00000</td>\n",
       "      <td>upstream_gene_variant</td>\n",
       "      <td>lineage3</td>\n",
       "      <td>HR-TB</td>\n",
       "      <td>isoniazid,ethionamide</td>\n",
       "    </tr>\n",
       "    <tr>\n",
       "      <th>268316</th>\n",
       "      <td>SRR21658376</td>\n",
       "      <td>1673425</td>\n",
       "      <td>fabG1</td>\n",
       "      <td>c.-15C&gt;T</td>\n",
       "      <td>1.00000</td>\n",
       "      <td>upstream_gene_variant</td>\n",
       "      <td>lineage2.2.1</td>\n",
       "      <td>HR-TB</td>\n",
       "      <td>isoniazid,ethionamide</td>\n",
       "    </tr>\n",
       "    <tr>\n",
       "      <th>268360</th>\n",
       "      <td>ERR7911528</td>\n",
       "      <td>1673425</td>\n",
       "      <td>fabG1</td>\n",
       "      <td>c.-15C&gt;T</td>\n",
       "      <td>1.00000</td>\n",
       "      <td>upstream_gene_variant</td>\n",
       "      <td>lineage2.2.2</td>\n",
       "      <td>Pre-XDR-TB</td>\n",
       "      <td>isoniazid,ethionamide</td>\n",
       "    </tr>\n",
       "  </tbody>\n",
       "</table>\n",
       "<p>14208 rows × 9 columns</p>\n",
       "</div>"
      ],
      "text/plain": [
       "          sample_id  genome_pos   gene    change     freq  \\\n",
       "5       ERR10748278     1673425  fabG1  c.-15C>T  1.00000   \n",
       "17      ERR11043928     1673425  fabG1  c.-15C>T  1.00000   \n",
       "41       ERR3287611     1673425  fabG1  c.-15C>T  0.97561   \n",
       "42       ERR4828904     1673425  fabG1  c.-15C>T  1.00000   \n",
       "58       ERR4972558     1673425  fabG1  c.-15C>T  1.00000   \n",
       "...             ...         ...    ...       ...      ...   \n",
       "268284  SRR18715029     1673425  fabG1  c.-15C>T  1.00000   \n",
       "268308   ERR4797355     1673425  fabG1  c.-15C>T  1.00000   \n",
       "268312   ERR4818250     1673425  fabG1  c.-15C>T  1.00000   \n",
       "268316  SRR21658376     1673425  fabG1  c.-15C>T  1.00000   \n",
       "268360   ERR7911528     1673425  fabG1  c.-15C>T  1.00000   \n",
       "\n",
       "                         type          sublin      drtype  \\\n",
       "5       upstream_gene_variant    lineage2.2.1      MDR-TB   \n",
       "17      upstream_gene_variant    lineage4.3.3  Pre-XDR-TB   \n",
       "41      upstream_gene_variant    lineage4.3.3      MDR-TB   \n",
       "42      upstream_gene_variant  lineage4.1.2.1       HR-TB   \n",
       "58      upstream_gene_variant    lineage4.3.3      MDR-TB   \n",
       "...                       ...             ...         ...   \n",
       "268284  upstream_gene_variant    lineage2.2.1      MDR-TB   \n",
       "268308  upstream_gene_variant    lineage2.2.1      MDR-TB   \n",
       "268312  upstream_gene_variant        lineage3       HR-TB   \n",
       "268316  upstream_gene_variant    lineage2.2.1       HR-TB   \n",
       "268360  upstream_gene_variant    lineage2.2.2  Pre-XDR-TB   \n",
       "\n",
       "                        drugs  \n",
       "5       isoniazid,ethionamide  \n",
       "17      isoniazid,ethionamide  \n",
       "41      isoniazid,ethionamide  \n",
       "42      isoniazid,ethionamide  \n",
       "58      isoniazid,ethionamide  \n",
       "...                       ...  \n",
       "268284  isoniazid,ethionamide  \n",
       "268308  isoniazid,ethionamide  \n",
       "268312  isoniazid,ethionamide  \n",
       "268316  isoniazid,ethionamide  \n",
       "268360  isoniazid,ethionamide  \n",
       "\n",
       "[14208 rows x 9 columns]"
      ]
     },
     "execution_count": 84,
     "metadata": {},
     "output_type": "execute_result"
    }
   ],
   "source": [
    "full_data[full_data['gene']=='fabG1']"
   ]
  },
  {
   "cell_type": "code",
   "execution_count": 83,
   "metadata": {},
   "outputs": [
    {
     "data": {
      "text/html": [
       "<div>\n",
       "<style scoped>\n",
       "    .dataframe tbody tr th:only-of-type {\n",
       "        vertical-align: middle;\n",
       "    }\n",
       "\n",
       "    .dataframe tbody tr th {\n",
       "        vertical-align: top;\n",
       "    }\n",
       "\n",
       "    .dataframe thead th {\n",
       "        text-align: right;\n",
       "    }\n",
       "</style>\n",
       "<table border=\"1\" class=\"dataframe\">\n",
       "  <thead>\n",
       "    <tr style=\"text-align: right;\">\n",
       "      <th></th>\n",
       "      <th>sample_id</th>\n",
       "      <th>genome_pos</th>\n",
       "      <th>gene</th>\n",
       "      <th>change</th>\n",
       "      <th>freq</th>\n",
       "      <th>type</th>\n",
       "      <th>sublin</th>\n",
       "      <th>drtype</th>\n",
       "      <th>drugs</th>\n",
       "    </tr>\n",
       "  </thead>\n",
       "  <tbody>\n",
       "    <tr>\n",
       "      <th>215</th>\n",
       "      <td>ERR1815551</td>\n",
       "      <td>1674481</td>\n",
       "      <td>inhA</td>\n",
       "      <td>p.Ser94Ala</td>\n",
       "      <td>1.000000</td>\n",
       "      <td>missense_variant</td>\n",
       "      <td>lineage4.3.4.2</td>\n",
       "      <td>Pre-XDR-TB</td>\n",
       "      <td>isoniazid,ethionamide</td>\n",
       "    </tr>\n",
       "    <tr>\n",
       "      <th>259</th>\n",
       "      <td>ERR11081269</td>\n",
       "      <td>1674262</td>\n",
       "      <td>inhA</td>\n",
       "      <td>p.Ile21Val</td>\n",
       "      <td>1.000000</td>\n",
       "      <td>missense_variant</td>\n",
       "      <td>lineage4.7</td>\n",
       "      <td>MDR-TB</td>\n",
       "      <td>isoniazid</td>\n",
       "    </tr>\n",
       "    <tr>\n",
       "      <th>307</th>\n",
       "      <td>SRR1166935</td>\n",
       "      <td>1674481</td>\n",
       "      <td>inhA</td>\n",
       "      <td>p.Ser94Ala</td>\n",
       "      <td>1.000000</td>\n",
       "      <td>missense_variant</td>\n",
       "      <td>lineage4.2.2.2</td>\n",
       "      <td>Pre-XDR-TB</td>\n",
       "      <td>isoniazid,ethionamide</td>\n",
       "    </tr>\n",
       "    <tr>\n",
       "      <th>386</th>\n",
       "      <td>ERR7362009</td>\n",
       "      <td>1674782</td>\n",
       "      <td>inhA</td>\n",
       "      <td>p.Ile194Thr</td>\n",
       "      <td>1.000000</td>\n",
       "      <td>missense_variant</td>\n",
       "      <td>lineage2.2.1</td>\n",
       "      <td>MDR-TB</td>\n",
       "      <td>isoniazid,ethionamide</td>\n",
       "    </tr>\n",
       "    <tr>\n",
       "      <th>511</th>\n",
       "      <td>ERR7737841</td>\n",
       "      <td>1674048</td>\n",
       "      <td>inhA</td>\n",
       "      <td>c.-154G&gt;A</td>\n",
       "      <td>1.000000</td>\n",
       "      <td>upstream_gene_variant</td>\n",
       "      <td>lineage2.2.1</td>\n",
       "      <td>MDR-TB</td>\n",
       "      <td>isoniazid,ethionamide</td>\n",
       "    </tr>\n",
       "    <tr>\n",
       "      <th>...</th>\n",
       "      <td>...</td>\n",
       "      <td>...</td>\n",
       "      <td>...</td>\n",
       "      <td>...</td>\n",
       "      <td>...</td>\n",
       "      <td>...</td>\n",
       "      <td>...</td>\n",
       "      <td>...</td>\n",
       "      <td>...</td>\n",
       "    </tr>\n",
       "    <tr>\n",
       "      <th>267884</th>\n",
       "      <td>ERR4676889</td>\n",
       "      <td>1674481</td>\n",
       "      <td>inhA</td>\n",
       "      <td>p.Ser94Ala</td>\n",
       "      <td>1.000000</td>\n",
       "      <td>missense_variant</td>\n",
       "      <td>lineage4.3.4.2</td>\n",
       "      <td>MDR-TB</td>\n",
       "      <td>isoniazid,ethionamide</td>\n",
       "    </tr>\n",
       "    <tr>\n",
       "      <th>267889</th>\n",
       "      <td>ERR1034814</td>\n",
       "      <td>1674481</td>\n",
       "      <td>inhA</td>\n",
       "      <td>p.Ser94Ala</td>\n",
       "      <td>0.989247</td>\n",
       "      <td>missense_variant</td>\n",
       "      <td>lineage4.3.4.2</td>\n",
       "      <td>Pre-XDR-TB</td>\n",
       "      <td>isoniazid,ethionamide</td>\n",
       "    </tr>\n",
       "    <tr>\n",
       "      <th>267942</th>\n",
       "      <td>SRR1049045</td>\n",
       "      <td>1674048</td>\n",
       "      <td>inhA</td>\n",
       "      <td>c.-154G&gt;A</td>\n",
       "      <td>1.000000</td>\n",
       "      <td>upstream_gene_variant</td>\n",
       "      <td>lineage2.2.2</td>\n",
       "      <td>Pre-XDR-TB</td>\n",
       "      <td>isoniazid,ethionamide</td>\n",
       "    </tr>\n",
       "    <tr>\n",
       "      <th>268007</th>\n",
       "      <td>ERR2184615</td>\n",
       "      <td>1674048</td>\n",
       "      <td>inhA</td>\n",
       "      <td>c.-154G&gt;A</td>\n",
       "      <td>1.000000</td>\n",
       "      <td>upstream_gene_variant</td>\n",
       "      <td>lineage4.1.2.1</td>\n",
       "      <td>HR-TB</td>\n",
       "      <td>isoniazid,ethionamide</td>\n",
       "    </tr>\n",
       "    <tr>\n",
       "      <th>268095</th>\n",
       "      <td>SRR1019138</td>\n",
       "      <td>1674048</td>\n",
       "      <td>inhA</td>\n",
       "      <td>c.-154G&gt;A</td>\n",
       "      <td>1.000000</td>\n",
       "      <td>upstream_gene_variant</td>\n",
       "      <td>lineage1.2.2</td>\n",
       "      <td>MDR-TB</td>\n",
       "      <td>isoniazid,ethionamide</td>\n",
       "    </tr>\n",
       "  </tbody>\n",
       "</table>\n",
       "<p>4168 rows × 9 columns</p>\n",
       "</div>"
      ],
      "text/plain": [
       "          sample_id  genome_pos  gene       change      freq  \\\n",
       "215      ERR1815551     1674481  inhA   p.Ser94Ala  1.000000   \n",
       "259     ERR11081269     1674262  inhA   p.Ile21Val  1.000000   \n",
       "307      SRR1166935     1674481  inhA   p.Ser94Ala  1.000000   \n",
       "386      ERR7362009     1674782  inhA  p.Ile194Thr  1.000000   \n",
       "511      ERR7737841     1674048  inhA    c.-154G>A  1.000000   \n",
       "...             ...         ...   ...          ...       ...   \n",
       "267884   ERR4676889     1674481  inhA   p.Ser94Ala  1.000000   \n",
       "267889   ERR1034814     1674481  inhA   p.Ser94Ala  0.989247   \n",
       "267942   SRR1049045     1674048  inhA    c.-154G>A  1.000000   \n",
       "268007   ERR2184615     1674048  inhA    c.-154G>A  1.000000   \n",
       "268095   SRR1019138     1674048  inhA    c.-154G>A  1.000000   \n",
       "\n",
       "                         type          sublin      drtype  \\\n",
       "215          missense_variant  lineage4.3.4.2  Pre-XDR-TB   \n",
       "259          missense_variant      lineage4.7      MDR-TB   \n",
       "307          missense_variant  lineage4.2.2.2  Pre-XDR-TB   \n",
       "386          missense_variant    lineage2.2.1      MDR-TB   \n",
       "511     upstream_gene_variant    lineage2.2.1      MDR-TB   \n",
       "...                       ...             ...         ...   \n",
       "267884       missense_variant  lineage4.3.4.2      MDR-TB   \n",
       "267889       missense_variant  lineage4.3.4.2  Pre-XDR-TB   \n",
       "267942  upstream_gene_variant    lineage2.2.2  Pre-XDR-TB   \n",
       "268007  upstream_gene_variant  lineage4.1.2.1       HR-TB   \n",
       "268095  upstream_gene_variant    lineage1.2.2      MDR-TB   \n",
       "\n",
       "                        drugs  \n",
       "215     isoniazid,ethionamide  \n",
       "259                 isoniazid  \n",
       "307     isoniazid,ethionamide  \n",
       "386     isoniazid,ethionamide  \n",
       "511     isoniazid,ethionamide  \n",
       "...                       ...  \n",
       "267884  isoniazid,ethionamide  \n",
       "267889  isoniazid,ethionamide  \n",
       "267942  isoniazid,ethionamide  \n",
       "268007  isoniazid,ethionamide  \n",
       "268095  isoniazid,ethionamide  \n",
       "\n",
       "[4168 rows x 9 columns]"
      ]
     },
     "execution_count": 83,
     "metadata": {},
     "output_type": "execute_result"
    }
   ],
   "source": [
    "full_data[full_data['gene']=='inhA']"
   ]
  },
  {
   "cell_type": "code",
   "execution_count": 53,
   "metadata": {},
   "outputs": [
    {
     "data": {
      "text/html": [
       "<div>\n",
       "<style scoped>\n",
       "    .dataframe tbody tr th:only-of-type {\n",
       "        vertical-align: middle;\n",
       "    }\n",
       "\n",
       "    .dataframe tbody tr th {\n",
       "        vertical-align: top;\n",
       "    }\n",
       "\n",
       "    .dataframe thead th {\n",
       "        text-align: right;\n",
       "    }\n",
       "</style>\n",
       "<table border=\"1\" class=\"dataframe\">\n",
       "  <thead>\n",
       "    <tr style=\"text-align: right;\">\n",
       "      <th></th>\n",
       "      <th>index</th>\n",
       "      <th>pLeft_ID</th>\n",
       "      <th>pLeft_coord</th>\n",
       "      <th>pLeft_length</th>\n",
       "      <th>pLeft_Tm</th>\n",
       "      <th>pLeft_GC</th>\n",
       "      <th>pLeft_Sequences</th>\n",
       "      <th>pLeft_EndStability</th>\n",
       "      <th>pRight_ID</th>\n",
       "      <th>pRight_coord</th>\n",
       "      <th>pRight_length</th>\n",
       "      <th>pRight_Tm</th>\n",
       "      <th>pRight_GC</th>\n",
       "      <th>pRight_Sequences</th>\n",
       "      <th>pRight_EndStability</th>\n",
       "      <th>Penalty</th>\n",
       "      <th>Product_size</th>\n",
       "      <th>Amplicon_type</th>\n",
       "      <th>Redesign</th>\n",
       "      <th>Designed_ranges</th>\n",
       "    </tr>\n",
       "  </thead>\n",
       "  <tbody>\n",
       "    <tr>\n",
       "      <th>0</th>\n",
       "      <td>0</td>\n",
       "      <td>P1-ns-L1</td>\n",
       "      <td>761067</td>\n",
       "      <td>20</td>\n",
       "      <td>59.965104</td>\n",
       "      <td>55.000000</td>\n",
       "      <td>TCAAGGAGTTCTTCGGCACC</td>\n",
       "      <td>5.01</td>\n",
       "      <td>P1-ns-R1</td>\n",
       "      <td>761385</td>\n",
       "      <td>20</td>\n",
       "      <td>59.972284</td>\n",
       "      <td>60.000000</td>\n",
       "      <td>CGGTCAGGTACACGATCTCG</td>\n",
       "      <td>4.04</td>\n",
       "      <td>0.062612</td>\n",
       "      <td>318</td>\n",
       "      <td>Non_specific</td>\n",
       "      <td>-</td>\n",
       "      <td>[761004, 761404]</td>\n",
       "    </tr>\n",
       "    <tr>\n",
       "      <th>1</th>\n",
       "      <td>0</td>\n",
       "      <td>P2-ns-L1</td>\n",
       "      <td>2155074</td>\n",
       "      <td>20</td>\n",
       "      <td>59.827648</td>\n",
       "      <td>60.000000</td>\n",
       "      <td>CTCTTCGTCAGCTCCCACTC</td>\n",
       "      <td>3.51</td>\n",
       "      <td>P2-ns-R1</td>\n",
       "      <td>2155374</td>\n",
       "      <td>20</td>\n",
       "      <td>59.977894</td>\n",
       "      <td>55.000000</td>\n",
       "      <td>CGACATTCGCGAGACGTTTC</td>\n",
       "      <td>2.78</td>\n",
       "      <td>0.194458</td>\n",
       "      <td>300</td>\n",
       "      <td>Non_specific</td>\n",
       "      <td>-</td>\n",
       "      <td>[2154961, 2155361]</td>\n",
       "    </tr>\n",
       "    <tr>\n",
       "      <th>2</th>\n",
       "      <td>0</td>\n",
       "      <td>P3-ns-L1</td>\n",
       "      <td>4247492</td>\n",
       "      <td>20</td>\n",
       "      <td>60.104934</td>\n",
       "      <td>55.000000</td>\n",
       "      <td>AGGATCCCTTCGGCTGGTAT</td>\n",
       "      <td>2.73</td>\n",
       "      <td>P3-ns-R1</td>\n",
       "      <td>4247838</td>\n",
       "      <td>19</td>\n",
       "      <td>60.004320</td>\n",
       "      <td>52.631579</td>\n",
       "      <td>AGTGTGAATYCGGCGGTAA</td>\n",
       "      <td>2.85</td>\n",
       "      <td>1.109254</td>\n",
       "      <td>346</td>\n",
       "      <td>Non_specific</td>\n",
       "      <td>-</td>\n",
       "      <td>[4247393, 4247793]</td>\n",
       "    </tr>\n",
       "    <tr>\n",
       "      <th>3</th>\n",
       "      <td>0</td>\n",
       "      <td>P4-ns-L1</td>\n",
       "      <td>2288903</td>\n",
       "      <td>20</td>\n",
       "      <td>60.179194</td>\n",
       "      <td>60.000000</td>\n",
       "      <td>CCGTTCTCGTCGACTCCTTC</td>\n",
       "      <td>3.46</td>\n",
       "      <td>P4-ns-R1</td>\n",
       "      <td>2289232</td>\n",
       "      <td>20</td>\n",
       "      <td>60.109504</td>\n",
       "      <td>50.000000</td>\n",
       "      <td>TTGATCATCGTCGACGTGCA</td>\n",
       "      <td>4.57</td>\n",
       "      <td>0.288699</td>\n",
       "      <td>329</td>\n",
       "      <td>Non_specific</td>\n",
       "      <td>-</td>\n",
       "      <td>[2288820, 2289220]</td>\n",
       "    </tr>\n",
       "    <tr>\n",
       "      <th>4</th>\n",
       "      <td>0</td>\n",
       "      <td>P5-ns-L1</td>\n",
       "      <td>781678</td>\n",
       "      <td>20</td>\n",
       "      <td>60.038159</td>\n",
       "      <td>55.000000</td>\n",
       "      <td>CACTCCGAAGAAGCCGAACT</td>\n",
       "      <td>3.01</td>\n",
       "      <td>P5-ns-R1</td>\n",
       "      <td>782004</td>\n",
       "      <td>20</td>\n",
       "      <td>60.108992</td>\n",
       "      <td>55.000000</td>\n",
       "      <td>GTGACCAACTGCGATCCGTA</td>\n",
       "      <td>4.02</td>\n",
       "      <td>0.147151</td>\n",
       "      <td>326</td>\n",
       "      <td>Non_specific</td>\n",
       "      <td>-</td>\n",
       "      <td>[781585, 781985]</td>\n",
       "    </tr>\n",
       "    <tr>\n",
       "      <th>5</th>\n",
       "      <td>1</td>\n",
       "      <td>P6-ns-L2</td>\n",
       "      <td>4247250</td>\n",
       "      <td>20</td>\n",
       "      <td>60.750911</td>\n",
       "      <td>60.000000</td>\n",
       "      <td>CTCAATTGCCCAGCTCCTCC</td>\n",
       "      <td>4.30</td>\n",
       "      <td>P6-ns-R2</td>\n",
       "      <td>4247563</td>\n",
       "      <td>19</td>\n",
       "      <td>60.807165</td>\n",
       "      <td>63.157895</td>\n",
       "      <td>CATYCACAGACTGGCGTCG</td>\n",
       "      <td>5.12</td>\n",
       "      <td>2.558076</td>\n",
       "      <td>313</td>\n",
       "      <td>Non_specific</td>\n",
       "      <td>-</td>\n",
       "      <td>[4247186, 4247586]</td>\n",
       "    </tr>\n",
       "    <tr>\n",
       "      <th>6</th>\n",
       "      <td>0</td>\n",
       "      <td>P7-ns-L1</td>\n",
       "      <td>1673477</td>\n",
       "      <td>20</td>\n",
       "      <td>59.897519</td>\n",
       "      <td>60.000000</td>\n",
       "      <td>CGTATCCCGTTCAGTCCTGG</td>\n",
       "      <td>4.45</td>\n",
       "      <td>P7-ns-R1</td>\n",
       "      <td>1673777</td>\n",
       "      <td>20</td>\n",
       "      <td>59.889514</td>\n",
       "      <td>50.000000</td>\n",
       "      <td>AGGTTGGCGTTGATGACCTT</td>\n",
       "      <td>3.50</td>\n",
       "      <td>0.212967</td>\n",
       "      <td>300</td>\n",
       "      <td>Non_specific</td>\n",
       "      <td>-</td>\n",
       "      <td>[1673373, 1673773]</td>\n",
       "    </tr>\n",
       "    <tr>\n",
       "      <th>7</th>\n",
       "      <td>0</td>\n",
       "      <td>P8-ns-L1</td>\n",
       "      <td>7344</td>\n",
       "      <td>20</td>\n",
       "      <td>60.109458</td>\n",
       "      <td>55.000000</td>\n",
       "      <td>TCGAACCGGTTGACATCGSG</td>\n",
       "      <td>4.04</td>\n",
       "      <td>P8-ns-R1</td>\n",
       "      <td>7690</td>\n",
       "      <td>18</td>\n",
       "      <td>60.585247</td>\n",
       "      <td>66.666667</td>\n",
       "      <td>GTGTACCTCATCGCCGCC</td>\n",
       "      <td>6.13</td>\n",
       "      <td>2.694705</td>\n",
       "      <td>346</td>\n",
       "      <td>Non_specific</td>\n",
       "      <td>-</td>\n",
       "      <td>[7247, 7647]</td>\n",
       "    </tr>\n",
       "    <tr>\n",
       "      <th>8</th>\n",
       "      <td>0</td>\n",
       "      <td>P9-ns-L1</td>\n",
       "      <td>2288651</td>\n",
       "      <td>20</td>\n",
       "      <td>59.203688</td>\n",
       "      <td>55.000000</td>\n",
       "      <td>CAACAGTTCATCCCGGTTCG</td>\n",
       "      <td>3.95</td>\n",
       "      <td>P9-ns-R1</td>\n",
       "      <td>2288973</td>\n",
       "      <td>20</td>\n",
       "      <td>59.757175</td>\n",
       "      <td>55.000000</td>\n",
       "      <td>TCGAGGCGGTGTTCTACAAG</td>\n",
       "      <td>3.16</td>\n",
       "      <td>1.039137</td>\n",
       "      <td>322</td>\n",
       "      <td>Non_specific</td>\n",
       "      <td>-</td>\n",
       "      <td>[2288528, 2288928]</td>\n",
       "    </tr>\n",
       "    <tr>\n",
       "      <th>9</th>\n",
       "      <td>0</td>\n",
       "      <td>P10-ns-L1</td>\n",
       "      <td>1472411</td>\n",
       "      <td>20</td>\n",
       "      <td>60.038526</td>\n",
       "      <td>55.000000</td>\n",
       "      <td>AGCTCGTAGGTGGTTTGTCG</td>\n",
       "      <td>4.35</td>\n",
       "      <td>P10-ns-R1</td>\n",
       "      <td>1472768</td>\n",
       "      <td>20</td>\n",
       "      <td>60.610785</td>\n",
       "      <td>55.000000</td>\n",
       "      <td>GCCCCCRTCAATTCCTTTGA</td>\n",
       "      <td>2.69</td>\n",
       "      <td>0.649312</td>\n",
       "      <td>357</td>\n",
       "      <td>Non_specific</td>\n",
       "      <td>-</td>\n",
       "      <td>[1472358, 1472758]</td>\n",
       "    </tr>\n",
       "    <tr>\n",
       "      <th>10</th>\n",
       "      <td>0</td>\n",
       "      <td>P11-ns-L1</td>\n",
       "      <td>4407894</td>\n",
       "      <td>20</td>\n",
       "      <td>60.386858</td>\n",
       "      <td>55.000000</td>\n",
       "      <td>TCTCGAAGAAACTCGGTGCG</td>\n",
       "      <td>5.34</td>\n",
       "      <td>P11-ns-R1</td>\n",
       "      <td>4408204</td>\n",
       "      <td>20</td>\n",
       "      <td>59.040447</td>\n",
       "      <td>55.000000</td>\n",
       "      <td>TAATGTCTCCYATCGAGCCC</td>\n",
       "      <td>5.19</td>\n",
       "      <td>1.346411</td>\n",
       "      <td>310</td>\n",
       "      <td>Non_specific</td>\n",
       "      <td>-</td>\n",
       "      <td>[4407756, 4408156]</td>\n",
       "    </tr>\n",
       "    <tr>\n",
       "      <th>11</th>\n",
       "      <td>0</td>\n",
       "      <td>P12-ns-L1</td>\n",
       "      <td>1473053</td>\n",
       "      <td>20</td>\n",
       "      <td>60.035152</td>\n",
       "      <td>55.000000</td>\n",
       "      <td>CCYGGGCTTCACARATGCTA</td>\n",
       "      <td>3.49</td>\n",
       "      <td>P12-ns-R1</td>\n",
       "      <td>1473442</td>\n",
       "      <td>20</td>\n",
       "      <td>60.320771</td>\n",
       "      <td>60.000000</td>\n",
       "      <td>CAGACAAGAACCCCTCACGG</td>\n",
       "      <td>4.94</td>\n",
       "      <td>0.355922</td>\n",
       "      <td>389</td>\n",
       "      <td>Non_specific</td>\n",
       "      <td>-</td>\n",
       "      <td>[1473003, 1473403]</td>\n",
       "    </tr>\n",
       "    <tr>\n",
       "      <th>12</th>\n",
       "      <td>0</td>\n",
       "      <td>P13-ns-L1</td>\n",
       "      <td>2715439</td>\n",
       "      <td>20</td>\n",
       "      <td>60.179137</td>\n",
       "      <td>50.000000</td>\n",
       "      <td>TGCGAGAATCAGCGACGAAT</td>\n",
       "      <td>3.34</td>\n",
       "      <td>P13-ns-R1</td>\n",
       "      <td>2715765</td>\n",
       "      <td>20</td>\n",
       "      <td>60.040692</td>\n",
       "      <td>55.000000</td>\n",
       "      <td>CTGTCAGTCGACGACGGAAA</td>\n",
       "      <td>3.13</td>\n",
       "      <td>0.219829</td>\n",
       "      <td>326</td>\n",
       "      <td>Non_specific</td>\n",
       "      <td>-</td>\n",
       "      <td>[2715339, 2715739]</td>\n",
       "    </tr>\n",
       "    <tr>\n",
       "      <th>13</th>\n",
       "      <td>0</td>\n",
       "      <td>P14-ns-L1</td>\n",
       "      <td>1472086</td>\n",
       "      <td>20</td>\n",
       "      <td>60.540365</td>\n",
       "      <td>55.000000</td>\n",
       "      <td>ATCAGCTTGTTGGTGGGGTG</td>\n",
       "      <td>4.61</td>\n",
       "      <td>P14-ns-R1</td>\n",
       "      <td>1472443</td>\n",
       "      <td>20</td>\n",
       "      <td>59.974744</td>\n",
       "      <td>50.000000</td>\n",
       "      <td>TCACGAACAACGCGACAAAC</td>\n",
       "      <td>2.93</td>\n",
       "      <td>0.565621</td>\n",
       "      <td>357</td>\n",
       "      <td>Non_specific</td>\n",
       "      <td>-</td>\n",
       "      <td>[1472035, 1472435]</td>\n",
       "    </tr>\n",
       "    <tr>\n",
       "      <th>14</th>\n",
       "      <td>0</td>\n",
       "      <td>P15-ns-L1</td>\n",
       "      <td>4326166</td>\n",
       "      <td>20</td>\n",
       "      <td>60.034089</td>\n",
       "      <td>60.000000</td>\n",
       "      <td>GGGGTGAACTCCATGAAGGG</td>\n",
       "      <td>3.95</td>\n",
       "      <td>P15-ns-R1</td>\n",
       "      <td>4326495</td>\n",
       "      <td>20</td>\n",
       "      <td>60.039074</td>\n",
       "      <td>55.000000</td>\n",
       "      <td>CMGAACTCAGGTCGCGAACT</td>\n",
       "      <td>3.01</td>\n",
       "      <td>0.073163</td>\n",
       "      <td>329</td>\n",
       "      <td>Non_specific</td>\n",
       "      <td>-</td>\n",
       "      <td>[4326074, 4326474]</td>\n",
       "    </tr>\n",
       "    <tr>\n",
       "      <th>15</th>\n",
       "      <td>0</td>\n",
       "      <td>P16-ns-L1</td>\n",
       "      <td>4243328</td>\n",
       "      <td>20</td>\n",
       "      <td>59.689146</td>\n",
       "      <td>55.000000</td>\n",
       "      <td>CTGCTTCCGGTGAACCAARC</td>\n",
       "      <td>2.93</td>\n",
       "      <td>P16-ns-R1</td>\n",
       "      <td>4243653</td>\n",
       "      <td>18</td>\n",
       "      <td>60.961721</td>\n",
       "      <td>61.111111</td>\n",
       "      <td>TATGCAGCGCGCTACAGC</td>\n",
       "      <td>4.40</td>\n",
       "      <td>3.272575</td>\n",
       "      <td>325</td>\n",
       "      <td>Non_specific</td>\n",
       "      <td>-</td>\n",
       "      <td>[4243203, 4243603]</td>\n",
       "    </tr>\n",
       "    <tr>\n",
       "      <th>16</th>\n",
       "      <td>0</td>\n",
       "      <td>P17-ns-L1</td>\n",
       "      <td>4327146</td>\n",
       "      <td>20</td>\n",
       "      <td>60.107508</td>\n",
       "      <td>55.000000</td>\n",
       "      <td>CCAATCGGCACTGATCACCT</td>\n",
       "      <td>4.00</td>\n",
       "      <td>P17-ns-R1</td>\n",
       "      <td>4327478</td>\n",
       "      <td>20</td>\n",
       "      <td>60.249657</td>\n",
       "      <td>60.000000</td>\n",
       "      <td>GATCCATGACCGAGRACCTC</td>\n",
       "      <td>3.85</td>\n",
       "      <td>0.357165</td>\n",
       "      <td>332</td>\n",
       "      <td>Non_specific</td>\n",
       "      <td>-</td>\n",
       "      <td>[4327084, 4327484]</td>\n",
       "    </tr>\n",
       "    <tr>\n",
       "      <th>17</th>\n",
       "      <td>0</td>\n",
       "      <td>P18-ns-L1</td>\n",
       "      <td>4247819</td>\n",
       "      <td>19</td>\n",
       "      <td>60.004320</td>\n",
       "      <td>52.631579</td>\n",
       "      <td>TTACCGCCGCATTCACACT</td>\n",
       "      <td>3.55</td>\n",
       "      <td>P18-ns-R1</td>\n",
       "      <td>4248149</td>\n",
       "      <td>20</td>\n",
       "      <td>60.109781</td>\n",
       "      <td>50.000000</td>\n",
       "      <td>TGATCAAAAAGCCGAAGCGC</td>\n",
       "      <td>5.92</td>\n",
       "      <td>1.114101</td>\n",
       "      <td>330</td>\n",
       "      <td>Non_specific</td>\n",
       "      <td>-</td>\n",
       "      <td>[4247730, 4248130]</td>\n",
       "    </tr>\n",
       "    <tr>\n",
       "      <th>18</th>\n",
       "      <td>0</td>\n",
       "      <td>P19-ns-L1</td>\n",
       "      <td>4407613</td>\n",
       "      <td>20</td>\n",
       "      <td>59.901272</td>\n",
       "      <td>50.000000</td>\n",
       "      <td>GCAAATAGTTCGCGCCACAT</td>\n",
       "      <td>3.21</td>\n",
       "      <td>P19-ns-R1</td>\n",
       "      <td>4407914</td>\n",
       "      <td>20</td>\n",
       "      <td>60.386858</td>\n",
       "      <td>55.000000</td>\n",
       "      <td>CGCACCGAGTTTCTTCGAGA</td>\n",
       "      <td>4.04</td>\n",
       "      <td>0.485587</td>\n",
       "      <td>301</td>\n",
       "      <td>Non_specific</td>\n",
       "      <td>-</td>\n",
       "      <td>[4407543, 4407943]</td>\n",
       "    </tr>\n",
       "    <tr>\n",
       "      <th>19</th>\n",
       "      <td>0</td>\n",
       "      <td>P20-ns-L1</td>\n",
       "      <td>4327531</td>\n",
       "      <td>20</td>\n",
       "      <td>60.460284</td>\n",
       "      <td>60.000000</td>\n",
       "      <td>CGTAGTAAGCTGCCAGGGTG</td>\n",
       "      <td>4.61</td>\n",
       "      <td>P20-ns-R1</td>\n",
       "      <td>4327879</td>\n",
       "      <td>20</td>\n",
       "      <td>60.320421</td>\n",
       "      <td>55.000000</td>\n",
       "      <td>AGAACACGTTGATCCCGGTG</td>\n",
       "      <td>4.94</td>\n",
       "      <td>0.780705</td>\n",
       "      <td>348</td>\n",
       "      <td>Non_specific</td>\n",
       "      <td>-</td>\n",
       "      <td>[4327480, 4327880]</td>\n",
       "    </tr>\n",
       "    <tr>\n",
       "      <th>20</th>\n",
       "      <td>0</td>\n",
       "      <td>P21-ns-L1</td>\n",
       "      <td>4326665</td>\n",
       "      <td>20</td>\n",
       "      <td>60.463474</td>\n",
       "      <td>60.000000</td>\n",
       "      <td>GCTGGATCAGGSTCAGGAAC</td>\n",
       "      <td>3.62</td>\n",
       "      <td>P21-ns-R1</td>\n",
       "      <td>4326994</td>\n",
       "      <td>20</td>\n",
       "      <td>60.250209</td>\n",
       "      <td>55.000000</td>\n",
       "      <td>GATCATCCATCCGCAGCACT</td>\n",
       "      <td>4.40</td>\n",
       "      <td>0.713683</td>\n",
       "      <td>329</td>\n",
       "      <td>Non_specific</td>\n",
       "      <td>-</td>\n",
       "      <td>[4326602, 4327002]</td>\n",
       "    </tr>\n",
       "    <tr>\n",
       "      <th>21</th>\n",
       "      <td>0</td>\n",
       "      <td>P22-ns-L1</td>\n",
       "      <td>1674181</td>\n",
       "      <td>20</td>\n",
       "      <td>59.972414</td>\n",
       "      <td>55.000000</td>\n",
       "      <td>GACACAACACAAGGACGCAC</td>\n",
       "      <td>5.34</td>\n",
       "      <td>P22-ns-R1</td>\n",
       "      <td>1674491</td>\n",
       "      <td>20</td>\n",
       "      <td>59.112067</td>\n",
       "      <td>50.000000</td>\n",
       "      <td>AACCCAATCGAATGCACCAC</td>\n",
       "      <td>4.16</td>\n",
       "      <td>0.915518</td>\n",
       "      <td>310</td>\n",
       "      <td>Non_specific</td>\n",
       "      <td>-</td>\n",
       "      <td>[1674048, 1674448]</td>\n",
       "    </tr>\n",
       "    <tr>\n",
       "      <th>22</th>\n",
       "      <td>0</td>\n",
       "      <td>P23-ns-L1</td>\n",
       "      <td>2726206</td>\n",
       "      <td>20</td>\n",
       "      <td>59.688210</td>\n",
       "      <td>55.000000</td>\n",
       "      <td>CATTYGCGATCAATTCCCCG</td>\n",
       "      <td>5.73</td>\n",
       "      <td>P23-ns-R1</td>\n",
       "      <td>2726536</td>\n",
       "      <td>20</td>\n",
       "      <td>59.896974</td>\n",
       "      <td>55.000000</td>\n",
       "      <td>TTGATGTCGGAGAGCATCGG</td>\n",
       "      <td>4.18</td>\n",
       "      <td>0.414815</td>\n",
       "      <td>330</td>\n",
       "      <td>Non_specific</td>\n",
       "      <td>-</td>\n",
       "      <td>[2726112, 2726512]</td>\n",
       "    </tr>\n",
       "    <tr>\n",
       "      <th>23</th>\n",
       "      <td>0</td>\n",
       "      <td>P24-ns-L1</td>\n",
       "      <td>764814</td>\n",
       "      <td>20</td>\n",
       "      <td>60.036952</td>\n",
       "      <td>55.000000</td>\n",
       "      <td>AGTGTKGGATGTGCTCGAAG</td>\n",
       "      <td>3.79</td>\n",
       "      <td>P24-ns-R1</td>\n",
       "      <td>765140</td>\n",
       "      <td>20</td>\n",
       "      <td>59.827197</td>\n",
       "      <td>60.000000</td>\n",
       "      <td>CGGTGGTCAYGTAGTACAGC</td>\n",
       "      <td>4.40</td>\n",
       "      <td>0.209755</td>\n",
       "      <td>326</td>\n",
       "      <td>Non_specific</td>\n",
       "      <td>-</td>\n",
       "      <td>[764724, 765124]</td>\n",
       "    </tr>\n",
       "    <tr>\n",
       "      <th>24</th>\n",
       "      <td>0</td>\n",
       "      <td>P25-ns-L1</td>\n",
       "      <td>2747213</td>\n",
       "      <td>20</td>\n",
       "      <td>61.517210</td>\n",
       "      <td>65.000000</td>\n",
       "      <td>GCTCGATCTCCCGGTAGGTC</td>\n",
       "      <td>3.85</td>\n",
       "      <td>P25-ns-R1</td>\n",
       "      <td>2747519</td>\n",
       "      <td>20</td>\n",
       "      <td>59.385188</td>\n",
       "      <td>50.000000</td>\n",
       "      <td>TGCTGCAGGTTGAGCATCTA</td>\n",
       "      <td>1.98</td>\n",
       "      <td>2.132022</td>\n",
       "      <td>306</td>\n",
       "      <td>Non_specific</td>\n",
       "      <td>-</td>\n",
       "      <td>[2747141, 2747541]</td>\n",
       "    </tr>\n",
       "    <tr>\n",
       "      <th>25</th>\n",
       "      <td>0</td>\n",
       "      <td>P26-ns-L1</td>\n",
       "      <td>6659</td>\n",
       "      <td>20</td>\n",
       "      <td>59.825155</td>\n",
       "      <td>55.000000</td>\n",
       "      <td>TGTTCCAGGCGATACTTCCG</td>\n",
       "      <td>4.30</td>\n",
       "      <td>P26-ns-R1</td>\n",
       "      <td>6988</td>\n",
       "      <td>20</td>\n",
       "      <td>59.893851</td>\n",
       "      <td>55.000000</td>\n",
       "      <td>GGAGTATGCGAATTCCGGGT</td>\n",
       "      <td>5.28</td>\n",
       "      <td>0.280994</td>\n",
       "      <td>329</td>\n",
       "      <td>Non_specific</td>\n",
       "      <td>-</td>\n",
       "      <td>[6575, 6975]</td>\n",
       "    </tr>\n",
       "    <tr>\n",
       "      <th>26</th>\n",
       "      <td>0</td>\n",
       "      <td>P27-ns-L1</td>\n",
       "      <td>2288978</td>\n",
       "      <td>20</td>\n",
       "      <td>60.108615</td>\n",
       "      <td>60.000000</td>\n",
       "      <td>GACGTGTCCAGACTGGGATG</td>\n",
       "      <td>3.51</td>\n",
       "      <td>P27-ns-R1</td>\n",
       "      <td>2289310</td>\n",
       "      <td>20</td>\n",
       "      <td>60.036952</td>\n",
       "      <td>60.000000</td>\n",
       "      <td>CCCTATATCTGTGGCTGCCG</td>\n",
       "      <td>5.69</td>\n",
       "      <td>0.145567</td>\n",
       "      <td>332</td>\n",
       "      <td>Non_specific</td>\n",
       "      <td>-</td>\n",
       "      <td>[2288860, 2289260]</td>\n",
       "    </tr>\n",
       "    <tr>\n",
       "      <th>27</th>\n",
       "      <td>0</td>\n",
       "      <td>P28-ns-L1</td>\n",
       "      <td>4249439</td>\n",
       "      <td>20</td>\n",
       "      <td>60.530650</td>\n",
       "      <td>55.000000</td>\n",
       "      <td>AATATGTGGGCTCGACGCAG</td>\n",
       "      <td>5.18</td>\n",
       "      <td>P28-ns-R1</td>\n",
       "      <td>4249818</td>\n",
       "      <td>20</td>\n",
       "      <td>60.179045</td>\n",
       "      <td>55.000000</td>\n",
       "      <td>GCCTGACGCTATGGAYCAAT</td>\n",
       "      <td>3.16</td>\n",
       "      <td>0.709696</td>\n",
       "      <td>379</td>\n",
       "      <td>Non_specific</td>\n",
       "      <td>-</td>\n",
       "      <td>[4249389, 4249789]</td>\n",
       "    </tr>\n",
       "    <tr>\n",
       "      <th>28</th>\n",
       "      <td>0</td>\n",
       "      <td>P29-ns-L1</td>\n",
       "      <td>1674559</td>\n",
       "      <td>20</td>\n",
       "      <td>59.969765</td>\n",
       "      <td>55.000000</td>\n",
       "      <td>TCCACATCTCGGCGTATTCG</td>\n",
       "      <td>3.34</td>\n",
       "      <td>P29-ns-R1</td>\n",
       "      <td>1674910</td>\n",
       "      <td>20</td>\n",
       "      <td>59.973197</td>\n",
       "      <td>55.000000</td>\n",
       "      <td>GCGTCGCATCCTTCATGTTC</td>\n",
       "      <td>3.18</td>\n",
       "      <td>0.057039</td>\n",
       "      <td>351</td>\n",
       "      <td>Non_specific</td>\n",
       "      <td>-</td>\n",
       "      <td>[1674481, 1674881]</td>\n",
       "    </tr>\n",
       "    <tr>\n",
       "      <th>29</th>\n",
       "      <td>0</td>\n",
       "      <td>P30-ns-L1</td>\n",
       "      <td>2155516</td>\n",
       "      <td>20</td>\n",
       "      <td>59.964542</td>\n",
       "      <td>60.000000</td>\n",
       "      <td>CCCAATAGACCTCATCGGGC</td>\n",
       "      <td>6.13</td>\n",
       "      <td>P30-ns-R1</td>\n",
       "      <td>2155867</td>\n",
       "      <td>20</td>\n",
       "      <td>60.036952</td>\n",
       "      <td>55.000000</td>\n",
       "      <td>AAGTGATGACCACCTCGCAG</td>\n",
       "      <td>5.18</td>\n",
       "      <td>0.072410</td>\n",
       "      <td>351</td>\n",
       "      <td>Non_specific</td>\n",
       "      <td>-</td>\n",
       "      <td>[2155462, 2155862]</td>\n",
       "    </tr>\n",
       "    <tr>\n",
       "      <th>30</th>\n",
       "      <td>0</td>\n",
       "      <td>P31-ns-L1</td>\n",
       "      <td>4325884</td>\n",
       "      <td>20</td>\n",
       "      <td>59.834056</td>\n",
       "      <td>55.000000</td>\n",
       "      <td>GACGTTGAAATCACGCTGGG</td>\n",
       "      <td>4.45</td>\n",
       "      <td>P31-ns-R1</td>\n",
       "      <td>4326186</td>\n",
       "      <td>20</td>\n",
       "      <td>60.034089</td>\n",
       "      <td>60.000000</td>\n",
       "      <td>CCCTTCATGGAGTTCACCCC</td>\n",
       "      <td>4.95</td>\n",
       "      <td>0.200033</td>\n",
       "      <td>302</td>\n",
       "      <td>Non_specific</td>\n",
       "      <td>-</td>\n",
       "      <td>[4325761, 4326161]</td>\n",
       "    </tr>\n",
       "    <tr>\n",
       "      <th>31</th>\n",
       "      <td>0</td>\n",
       "      <td>P32-ns-L1</td>\n",
       "      <td>4326347</td>\n",
       "      <td>20</td>\n",
       "      <td>59.898241</td>\n",
       "      <td>55.000000</td>\n",
       "      <td>CGGAAAGCATCATGCCCTTG</td>\n",
       "      <td>3.61</td>\n",
       "      <td>P32-ns-R1</td>\n",
       "      <td>4326685</td>\n",
       "      <td>20</td>\n",
       "      <td>60.463474</td>\n",
       "      <td>60.000000</td>\n",
       "      <td>GTTCCTGAGCCTGATCCAGC</td>\n",
       "      <td>4.85</td>\n",
       "      <td>0.565233</td>\n",
       "      <td>338</td>\n",
       "      <td>Non_specific</td>\n",
       "      <td>-</td>\n",
       "      <td>[4326294, 4326694]</td>\n",
       "    </tr>\n",
       "    <tr>\n",
       "      <th>32</th>\n",
       "      <td>0</td>\n",
       "      <td>P33-ns-L1</td>\n",
       "      <td>3841195</td>\n",
       "      <td>19</td>\n",
       "      <td>60.226211</td>\n",
       "      <td>63.157895</td>\n",
       "      <td>CGTAGCACCGTGACCGTAG</td>\n",
       "      <td>3.51</td>\n",
       "      <td>P33-ns-R1</td>\n",
       "      <td>3841503</td>\n",
       "      <td>19</td>\n",
       "      <td>60.373497</td>\n",
       "      <td>63.157895</td>\n",
       "      <td>GAGCCACAGGACAGTCACG</td>\n",
       "      <td>4.35</td>\n",
       "      <td>2.599708</td>\n",
       "      <td>308</td>\n",
       "      <td>Non_specific</td>\n",
       "      <td>-</td>\n",
       "      <td>[3841083, 3841483]</td>\n",
       "    </tr>\n",
       "    <tr>\n",
       "      <th>33</th>\n",
       "      <td>0</td>\n",
       "      <td>P34-ns-L1</td>\n",
       "      <td>3068072</td>\n",
       "      <td>20</td>\n",
       "      <td>59.837706</td>\n",
       "      <td>55.000000</td>\n",
       "      <td>GGGCGTCGTAAAACGTGAAG</td>\n",
       "      <td>3.02</td>\n",
       "      <td>P34-ns-R1</td>\n",
       "      <td>3068384</td>\n",
       "      <td>20</td>\n",
       "      <td>59.535548</td>\n",
       "      <td>60.000000</td>\n",
       "      <td>GGGATCTGGAACGGTACCTG</td>\n",
       "      <td>4.00</td>\n",
       "      <td>0.626747</td>\n",
       "      <td>312</td>\n",
       "      <td>Non_specific</td>\n",
       "      <td>-</td>\n",
       "      <td>[3067958, 3068358]</td>\n",
       "    </tr>\n",
       "    <tr>\n",
       "      <th>34</th>\n",
       "      <td>0</td>\n",
       "      <td>P35-ns-L1</td>\n",
       "      <td>1918397</td>\n",
       "      <td>20</td>\n",
       "      <td>59.831652</td>\n",
       "      <td>55.000000</td>\n",
       "      <td>CGACCTGTCGTTCATCTCGT</td>\n",
       "      <td>4.18</td>\n",
       "      <td>P35-ns-R1</td>\n",
       "      <td>1918707</td>\n",
       "      <td>20</td>\n",
       "      <td>59.542965</td>\n",
       "      <td>55.000000</td>\n",
       "      <td>CAATCCCTTGGCCGACAATG</td>\n",
       "      <td>2.82</td>\n",
       "      <td>0.625383</td>\n",
       "      <td>310</td>\n",
       "      <td>Non_specific</td>\n",
       "      <td>-</td>\n",
       "      <td>[1918292, 1918692]</td>\n",
       "    </tr>\n",
       "    <tr>\n",
       "      <th>35</th>\n",
       "      <td>0</td>\n",
       "      <td>P36-ns-L1</td>\n",
       "      <td>3073840</td>\n",
       "      <td>20</td>\n",
       "      <td>59.829661</td>\n",
       "      <td>55.000000</td>\n",
       "      <td>TGTCGTAGATGTGGCAGTCG</td>\n",
       "      <td>4.18</td>\n",
       "      <td>P36-ns-R1</td>\n",
       "      <td>3074156</td>\n",
       "      <td>20</td>\n",
       "      <td>59.823320</td>\n",
       "      <td>55.000000</td>\n",
       "      <td>GGTGAGCACATCGACCAGAT</td>\n",
       "      <td>2.90</td>\n",
       "      <td>0.347018</td>\n",
       "      <td>316</td>\n",
       "      <td>Non_specific</td>\n",
       "      <td>-</td>\n",
       "      <td>[3073768, 3074168]</td>\n",
       "    </tr>\n",
       "    <tr>\n",
       "      <th>36</th>\n",
       "      <td>0</td>\n",
       "      <td>P37-ns-L1</td>\n",
       "      <td>762211</td>\n",
       "      <td>19</td>\n",
       "      <td>59.783290</td>\n",
       "      <td>63.157895</td>\n",
       "      <td>GAAGGGTGAGACCGAGCTG</td>\n",
       "      <td>4.24</td>\n",
       "      <td>P37-ns-R1</td>\n",
       "      <td>762536</td>\n",
       "      <td>20</td>\n",
       "      <td>60.395173</td>\n",
       "      <td>55.000000</td>\n",
       "      <td>AATAATGTCCACCGGGGTGC</td>\n",
       "      <td>5.01</td>\n",
       "      <td>1.611883</td>\n",
       "      <td>325</td>\n",
       "      <td>Non_specific</td>\n",
       "      <td>-</td>\n",
       "      <td>[762089, 762489]</td>\n",
       "    </tr>\n",
       "    <tr>\n",
       "      <th>37</th>\n",
       "      <td>0</td>\n",
       "      <td>P38-ns-L1</td>\n",
       "      <td>2154721</td>\n",
       "      <td>20</td>\n",
       "      <td>59.605435</td>\n",
       "      <td>60.000000</td>\n",
       "      <td>CCCMGATCTGGCTCTTAAGG</td>\n",
       "      <td>2.69</td>\n",
       "      <td>P38-ns-R1</td>\n",
       "      <td>2155094</td>\n",
       "      <td>20</td>\n",
       "      <td>59.827648</td>\n",
       "      <td>60.000000</td>\n",
       "      <td>GAGTGGGAGCTGACGAAGAG</td>\n",
       "      <td>2.85</td>\n",
       "      <td>0.566917</td>\n",
       "      <td>373</td>\n",
       "      <td>Non_specific</td>\n",
       "      <td>-</td>\n",
       "      <td>[2154671, 2155071]</td>\n",
       "    </tr>\n",
       "    <tr>\n",
       "      <th>38</th>\n",
       "      <td>0</td>\n",
       "      <td>P39-ns-L1</td>\n",
       "      <td>4326974</td>\n",
       "      <td>20</td>\n",
       "      <td>60.250209</td>\n",
       "      <td>55.000000</td>\n",
       "      <td>AGTGCTGCGGATGGATGATC</td>\n",
       "      <td>2.92</td>\n",
       "      <td>P39-ns-R1</td>\n",
       "      <td>4327308</td>\n",
       "      <td>20</td>\n",
       "      <td>59.829439</td>\n",
       "      <td>55.000000</td>\n",
       "      <td>GACTCCGACATGTACACGCT</td>\n",
       "      <td>5.07</td>\n",
       "      <td>0.420770</td>\n",
       "      <td>334</td>\n",
       "      <td>Non_specific</td>\n",
       "      <td>-</td>\n",
       "      <td>[4326893, 4327293]</td>\n",
       "    </tr>\n",
       "    <tr>\n",
       "      <th>39</th>\n",
       "      <td>0</td>\n",
       "      <td>P40-ns-L1</td>\n",
       "      <td>764453</td>\n",
       "      <td>20</td>\n",
       "      <td>59.973715</td>\n",
       "      <td>55.000000</td>\n",
       "      <td>CGCCGGAAATCATCGTCAAC</td>\n",
       "      <td>3.18</td>\n",
       "      <td>P40-ns-R1</td>\n",
       "      <td>764789</td>\n",
       "      <td>20</td>\n",
       "      <td>60.179179</td>\n",
       "      <td>55.000000</td>\n",
       "      <td>GCTTGGCGCTCTTGATGTTC</td>\n",
       "      <td>3.18</td>\n",
       "      <td>0.205464</td>\n",
       "      <td>336</td>\n",
       "      <td>Non_specific</td>\n",
       "      <td>-</td>\n",
       "      <td>[764363, 764763]</td>\n",
       "    </tr>\n",
       "  </tbody>\n",
       "</table>\n",
       "</div>"
      ],
      "text/plain": [
       "    index   pLeft_ID  pLeft_coord  pLeft_length   pLeft_Tm   pLeft_GC  \\\n",
       "0       0   P1-ns-L1       761067            20  59.965104  55.000000   \n",
       "1       0   P2-ns-L1      2155074            20  59.827648  60.000000   \n",
       "2       0   P3-ns-L1      4247492            20  60.104934  55.000000   \n",
       "3       0   P4-ns-L1      2288903            20  60.179194  60.000000   \n",
       "4       0   P5-ns-L1       781678            20  60.038159  55.000000   \n",
       "5       1   P6-ns-L2      4247250            20  60.750911  60.000000   \n",
       "6       0   P7-ns-L1      1673477            20  59.897519  60.000000   \n",
       "7       0   P8-ns-L1         7344            20  60.109458  55.000000   \n",
       "8       0   P9-ns-L1      2288651            20  59.203688  55.000000   \n",
       "9       0  P10-ns-L1      1472411            20  60.038526  55.000000   \n",
       "10      0  P11-ns-L1      4407894            20  60.386858  55.000000   \n",
       "11      0  P12-ns-L1      1473053            20  60.035152  55.000000   \n",
       "12      0  P13-ns-L1      2715439            20  60.179137  50.000000   \n",
       "13      0  P14-ns-L1      1472086            20  60.540365  55.000000   \n",
       "14      0  P15-ns-L1      4326166            20  60.034089  60.000000   \n",
       "15      0  P16-ns-L1      4243328            20  59.689146  55.000000   \n",
       "16      0  P17-ns-L1      4327146            20  60.107508  55.000000   \n",
       "17      0  P18-ns-L1      4247819            19  60.004320  52.631579   \n",
       "18      0  P19-ns-L1      4407613            20  59.901272  50.000000   \n",
       "19      0  P20-ns-L1      4327531            20  60.460284  60.000000   \n",
       "20      0  P21-ns-L1      4326665            20  60.463474  60.000000   \n",
       "21      0  P22-ns-L1      1674181            20  59.972414  55.000000   \n",
       "22      0  P23-ns-L1      2726206            20  59.688210  55.000000   \n",
       "23      0  P24-ns-L1       764814            20  60.036952  55.000000   \n",
       "24      0  P25-ns-L1      2747213            20  61.517210  65.000000   \n",
       "25      0  P26-ns-L1         6659            20  59.825155  55.000000   \n",
       "26      0  P27-ns-L1      2288978            20  60.108615  60.000000   \n",
       "27      0  P28-ns-L1      4249439            20  60.530650  55.000000   \n",
       "28      0  P29-ns-L1      1674559            20  59.969765  55.000000   \n",
       "29      0  P30-ns-L1      2155516            20  59.964542  60.000000   \n",
       "30      0  P31-ns-L1      4325884            20  59.834056  55.000000   \n",
       "31      0  P32-ns-L1      4326347            20  59.898241  55.000000   \n",
       "32      0  P33-ns-L1      3841195            19  60.226211  63.157895   \n",
       "33      0  P34-ns-L1      3068072            20  59.837706  55.000000   \n",
       "34      0  P35-ns-L1      1918397            20  59.831652  55.000000   \n",
       "35      0  P36-ns-L1      3073840            20  59.829661  55.000000   \n",
       "36      0  P37-ns-L1       762211            19  59.783290  63.157895   \n",
       "37      0  P38-ns-L1      2154721            20  59.605435  60.000000   \n",
       "38      0  P39-ns-L1      4326974            20  60.250209  55.000000   \n",
       "39      0  P40-ns-L1       764453            20  59.973715  55.000000   \n",
       "\n",
       "         pLeft_Sequences  pLeft_EndStability  pRight_ID  pRight_coord  \\\n",
       "0   TCAAGGAGTTCTTCGGCACC                5.01   P1-ns-R1        761385   \n",
       "1   CTCTTCGTCAGCTCCCACTC                3.51   P2-ns-R1       2155374   \n",
       "2   AGGATCCCTTCGGCTGGTAT                2.73   P3-ns-R1       4247838   \n",
       "3   CCGTTCTCGTCGACTCCTTC                3.46   P4-ns-R1       2289232   \n",
       "4   CACTCCGAAGAAGCCGAACT                3.01   P5-ns-R1        782004   \n",
       "5   CTCAATTGCCCAGCTCCTCC                4.30   P6-ns-R2       4247563   \n",
       "6   CGTATCCCGTTCAGTCCTGG                4.45   P7-ns-R1       1673777   \n",
       "7   TCGAACCGGTTGACATCGSG                4.04   P8-ns-R1          7690   \n",
       "8   CAACAGTTCATCCCGGTTCG                3.95   P9-ns-R1       2288973   \n",
       "9   AGCTCGTAGGTGGTTTGTCG                4.35  P10-ns-R1       1472768   \n",
       "10  TCTCGAAGAAACTCGGTGCG                5.34  P11-ns-R1       4408204   \n",
       "11  CCYGGGCTTCACARATGCTA                3.49  P12-ns-R1       1473442   \n",
       "12  TGCGAGAATCAGCGACGAAT                3.34  P13-ns-R1       2715765   \n",
       "13  ATCAGCTTGTTGGTGGGGTG                4.61  P14-ns-R1       1472443   \n",
       "14  GGGGTGAACTCCATGAAGGG                3.95  P15-ns-R1       4326495   \n",
       "15  CTGCTTCCGGTGAACCAARC                2.93  P16-ns-R1       4243653   \n",
       "16  CCAATCGGCACTGATCACCT                4.00  P17-ns-R1       4327478   \n",
       "17   TTACCGCCGCATTCACACT                3.55  P18-ns-R1       4248149   \n",
       "18  GCAAATAGTTCGCGCCACAT                3.21  P19-ns-R1       4407914   \n",
       "19  CGTAGTAAGCTGCCAGGGTG                4.61  P20-ns-R1       4327879   \n",
       "20  GCTGGATCAGGSTCAGGAAC                3.62  P21-ns-R1       4326994   \n",
       "21  GACACAACACAAGGACGCAC                5.34  P22-ns-R1       1674491   \n",
       "22  CATTYGCGATCAATTCCCCG                5.73  P23-ns-R1       2726536   \n",
       "23  AGTGTKGGATGTGCTCGAAG                3.79  P24-ns-R1        765140   \n",
       "24  GCTCGATCTCCCGGTAGGTC                3.85  P25-ns-R1       2747519   \n",
       "25  TGTTCCAGGCGATACTTCCG                4.30  P26-ns-R1          6988   \n",
       "26  GACGTGTCCAGACTGGGATG                3.51  P27-ns-R1       2289310   \n",
       "27  AATATGTGGGCTCGACGCAG                5.18  P28-ns-R1       4249818   \n",
       "28  TCCACATCTCGGCGTATTCG                3.34  P29-ns-R1       1674910   \n",
       "29  CCCAATAGACCTCATCGGGC                6.13  P30-ns-R1       2155867   \n",
       "30  GACGTTGAAATCACGCTGGG                4.45  P31-ns-R1       4326186   \n",
       "31  CGGAAAGCATCATGCCCTTG                3.61  P32-ns-R1       4326685   \n",
       "32   CGTAGCACCGTGACCGTAG                3.51  P33-ns-R1       3841503   \n",
       "33  GGGCGTCGTAAAACGTGAAG                3.02  P34-ns-R1       3068384   \n",
       "34  CGACCTGTCGTTCATCTCGT                4.18  P35-ns-R1       1918707   \n",
       "35  TGTCGTAGATGTGGCAGTCG                4.18  P36-ns-R1       3074156   \n",
       "36   GAAGGGTGAGACCGAGCTG                4.24  P37-ns-R1        762536   \n",
       "37  CCCMGATCTGGCTCTTAAGG                2.69  P38-ns-R1       2155094   \n",
       "38  AGTGCTGCGGATGGATGATC                2.92  P39-ns-R1       4327308   \n",
       "39  CGCCGGAAATCATCGTCAAC                3.18  P40-ns-R1        764789   \n",
       "\n",
       "    pRight_length  pRight_Tm  pRight_GC      pRight_Sequences  \\\n",
       "0              20  59.972284  60.000000  CGGTCAGGTACACGATCTCG   \n",
       "1              20  59.977894  55.000000  CGACATTCGCGAGACGTTTC   \n",
       "2              19  60.004320  52.631579   AGTGTGAATYCGGCGGTAA   \n",
       "3              20  60.109504  50.000000  TTGATCATCGTCGACGTGCA   \n",
       "4              20  60.108992  55.000000  GTGACCAACTGCGATCCGTA   \n",
       "5              19  60.807165  63.157895   CATYCACAGACTGGCGTCG   \n",
       "6              20  59.889514  50.000000  AGGTTGGCGTTGATGACCTT   \n",
       "7              18  60.585247  66.666667    GTGTACCTCATCGCCGCC   \n",
       "8              20  59.757175  55.000000  TCGAGGCGGTGTTCTACAAG   \n",
       "9              20  60.610785  55.000000  GCCCCCRTCAATTCCTTTGA   \n",
       "10             20  59.040447  55.000000  TAATGTCTCCYATCGAGCCC   \n",
       "11             20  60.320771  60.000000  CAGACAAGAACCCCTCACGG   \n",
       "12             20  60.040692  55.000000  CTGTCAGTCGACGACGGAAA   \n",
       "13             20  59.974744  50.000000  TCACGAACAACGCGACAAAC   \n",
       "14             20  60.039074  55.000000  CMGAACTCAGGTCGCGAACT   \n",
       "15             18  60.961721  61.111111    TATGCAGCGCGCTACAGC   \n",
       "16             20  60.249657  60.000000  GATCCATGACCGAGRACCTC   \n",
       "17             20  60.109781  50.000000  TGATCAAAAAGCCGAAGCGC   \n",
       "18             20  60.386858  55.000000  CGCACCGAGTTTCTTCGAGA   \n",
       "19             20  60.320421  55.000000  AGAACACGTTGATCCCGGTG   \n",
       "20             20  60.250209  55.000000  GATCATCCATCCGCAGCACT   \n",
       "21             20  59.112067  50.000000  AACCCAATCGAATGCACCAC   \n",
       "22             20  59.896974  55.000000  TTGATGTCGGAGAGCATCGG   \n",
       "23             20  59.827197  60.000000  CGGTGGTCAYGTAGTACAGC   \n",
       "24             20  59.385188  50.000000  TGCTGCAGGTTGAGCATCTA   \n",
       "25             20  59.893851  55.000000  GGAGTATGCGAATTCCGGGT   \n",
       "26             20  60.036952  60.000000  CCCTATATCTGTGGCTGCCG   \n",
       "27             20  60.179045  55.000000  GCCTGACGCTATGGAYCAAT   \n",
       "28             20  59.973197  55.000000  GCGTCGCATCCTTCATGTTC   \n",
       "29             20  60.036952  55.000000  AAGTGATGACCACCTCGCAG   \n",
       "30             20  60.034089  60.000000  CCCTTCATGGAGTTCACCCC   \n",
       "31             20  60.463474  60.000000  GTTCCTGAGCCTGATCCAGC   \n",
       "32             19  60.373497  63.157895   GAGCCACAGGACAGTCACG   \n",
       "33             20  59.535548  60.000000  GGGATCTGGAACGGTACCTG   \n",
       "34             20  59.542965  55.000000  CAATCCCTTGGCCGACAATG   \n",
       "35             20  59.823320  55.000000  GGTGAGCACATCGACCAGAT   \n",
       "36             20  60.395173  55.000000  AATAATGTCCACCGGGGTGC   \n",
       "37             20  59.827648  60.000000  GAGTGGGAGCTGACGAAGAG   \n",
       "38             20  59.829439  55.000000  GACTCCGACATGTACACGCT   \n",
       "39             20  60.179179  55.000000  GCTTGGCGCTCTTGATGTTC   \n",
       "\n",
       "    pRight_EndStability   Penalty  Product_size Amplicon_type Redesign  \\\n",
       "0                  4.04  0.062612           318  Non_specific        -   \n",
       "1                  2.78  0.194458           300  Non_specific        -   \n",
       "2                  2.85  1.109254           346  Non_specific        -   \n",
       "3                  4.57  0.288699           329  Non_specific        -   \n",
       "4                  4.02  0.147151           326  Non_specific        -   \n",
       "5                  5.12  2.558076           313  Non_specific        -   \n",
       "6                  3.50  0.212967           300  Non_specific        -   \n",
       "7                  6.13  2.694705           346  Non_specific        -   \n",
       "8                  3.16  1.039137           322  Non_specific        -   \n",
       "9                  2.69  0.649312           357  Non_specific        -   \n",
       "10                 5.19  1.346411           310  Non_specific        -   \n",
       "11                 4.94  0.355922           389  Non_specific        -   \n",
       "12                 3.13  0.219829           326  Non_specific        -   \n",
       "13                 2.93  0.565621           357  Non_specific        -   \n",
       "14                 3.01  0.073163           329  Non_specific        -   \n",
       "15                 4.40  3.272575           325  Non_specific        -   \n",
       "16                 3.85  0.357165           332  Non_specific        -   \n",
       "17                 5.92  1.114101           330  Non_specific        -   \n",
       "18                 4.04  0.485587           301  Non_specific        -   \n",
       "19                 4.94  0.780705           348  Non_specific        -   \n",
       "20                 4.40  0.713683           329  Non_specific        -   \n",
       "21                 4.16  0.915518           310  Non_specific        -   \n",
       "22                 4.18  0.414815           330  Non_specific        -   \n",
       "23                 4.40  0.209755           326  Non_specific        -   \n",
       "24                 1.98  2.132022           306  Non_specific        -   \n",
       "25                 5.28  0.280994           329  Non_specific        -   \n",
       "26                 5.69  0.145567           332  Non_specific        -   \n",
       "27                 3.16  0.709696           379  Non_specific        -   \n",
       "28                 3.18  0.057039           351  Non_specific        -   \n",
       "29                 5.18  0.072410           351  Non_specific        -   \n",
       "30                 4.95  0.200033           302  Non_specific        -   \n",
       "31                 4.85  0.565233           338  Non_specific        -   \n",
       "32                 4.35  2.599708           308  Non_specific        -   \n",
       "33                 4.00  0.626747           312  Non_specific        -   \n",
       "34                 2.82  0.625383           310  Non_specific        -   \n",
       "35                 2.90  0.347018           316  Non_specific        -   \n",
       "36                 5.01  1.611883           325  Non_specific        -   \n",
       "37                 2.85  0.566917           373  Non_specific        -   \n",
       "38                 5.07  0.420770           334  Non_specific        -   \n",
       "39                 3.18  0.205464           336  Non_specific        -   \n",
       "\n",
       "       Designed_ranges  \n",
       "0     [761004, 761404]  \n",
       "1   [2154961, 2155361]  \n",
       "2   [4247393, 4247793]  \n",
       "3   [2288820, 2289220]  \n",
       "4     [781585, 781985]  \n",
       "5   [4247186, 4247586]  \n",
       "6   [1673373, 1673773]  \n",
       "7         [7247, 7647]  \n",
       "8   [2288528, 2288928]  \n",
       "9   [1472358, 1472758]  \n",
       "10  [4407756, 4408156]  \n",
       "11  [1473003, 1473403]  \n",
       "12  [2715339, 2715739]  \n",
       "13  [1472035, 1472435]  \n",
       "14  [4326074, 4326474]  \n",
       "15  [4243203, 4243603]  \n",
       "16  [4327084, 4327484]  \n",
       "17  [4247730, 4248130]  \n",
       "18  [4407543, 4407943]  \n",
       "19  [4327480, 4327880]  \n",
       "20  [4326602, 4327002]  \n",
       "21  [1674048, 1674448]  \n",
       "22  [2726112, 2726512]  \n",
       "23    [764724, 765124]  \n",
       "24  [2747141, 2747541]  \n",
       "25        [6575, 6975]  \n",
       "26  [2288860, 2289260]  \n",
       "27  [4249389, 4249789]  \n",
       "28  [1674481, 1674881]  \n",
       "29  [2155462, 2155862]  \n",
       "30  [4325761, 4326161]  \n",
       "31  [4326294, 4326694]  \n",
       "32  [3841083, 3841483]  \n",
       "33  [3067958, 3068358]  \n",
       "34  [1918292, 1918692]  \n",
       "35  [3073768, 3074168]  \n",
       "36    [762089, 762489]  \n",
       "37  [2154671, 2155071]  \n",
       "38  [4326893, 4327293]  \n",
       "39    [764363, 764763]  "
      ]
     },
     "execution_count": 53,
     "metadata": {},
     "output_type": "execute_result"
    }
   ],
   "source": [
    "accepted_primers"
   ]
  },
  {
   "cell_type": "code",
   "execution_count": null,
   "metadata": {},
   "outputs": [],
   "source": [
    "\n",
    "\n",
    "for x,y in zip(accepted_primers['pLeft_coord'].tolist(), accepted_primers['pRight_coord'].tolist()):\n",
    "    print(x,y)\n",
    "    condition = (full_data['genome_pos'] >= x) & (full_data['genome_pos'] <= y)\n",
    "    filtered_data = full_data[condition]\n",
    "    # print(filtered_data)\n",
    "    # Drop columns that are completely empty or all NA from filtered_data\n",
    "    filtered_data = filtered_data.dropna(axis=1, how='all')\n",
    "    amp_snp = pd.concat([amp_snp, filtered_data])\n"
   ]
  },
  {
   "cell_type": "code",
   "execution_count": 54,
   "metadata": {},
   "outputs": [],
   "source": [
    "condition = (full_data['genome_pos'] >= 1673477) & (full_data['genome_pos'] <= 1673777)\n",
    "filtered_data = full_data[condition]"
   ]
  },
  {
   "cell_type": "code",
   "execution_count": 60,
   "metadata": {},
   "outputs": [
    {
     "name": "stdout",
     "output_type": "stream",
     "text": [
      "1673373\n",
      "1673432\n"
     ]
    }
   ],
   "source": [
    "print(full_data[full_data['gene']=='fabG1']['genome_pos'].unique().min())\n",
    "print(full_data[full_data['gene']=='fabG1']['genome_pos'].unique().max())"
   ]
  },
  {
   "cell_type": "code",
   "execution_count": 66,
   "metadata": {},
   "outputs": [],
   "source": [
    "pd.read_csv('/mnt/storage10/lwang/Projects/TOAST/toast/db/regions_copy.bed', sep='\\t', header=0)[['start', 'end', 'gene']].to_csv('/mnt/storage10/lwang/Projects/TOAST/toast/db/regions.bed', sep='\\t', header=0, index=False)"
   ]
  },
  {
   "cell_type": "code",
   "execution_count": 74,
   "metadata": {},
   "outputs": [],
   "source": [
    "tbdb = pd.read_csv('/mnt/storage10/lwang/Projects/TOAST/toast/db/tbdb.bed', sep='\\t', header=None)"
   ]
  },
  {
   "cell_type": "code",
   "execution_count": 76,
   "metadata": {},
   "outputs": [],
   "source": [
    "tbdb = tbdb[[0,1,2,4]]"
   ]
  },
  {
   "cell_type": "code",
   "execution_count": 77,
   "metadata": {},
   "outputs": [],
   "source": [
    "tbdb.columns = ['Chromosome', 'start', 'end', 'gene']"
   ]
  },
  {
   "cell_type": "code",
   "execution_count": 78,
   "metadata": {},
   "outputs": [],
   "source": [
    "tbdb.to_csv('/mnt/storage10/lwang/Projects/TOAST/toast/db/regions.bed', sep='\\t', header=0, index=False)"
   ]
  },
  {
   "cell_type": "code",
   "execution_count": 64,
   "metadata": {},
   "outputs": [
    {
     "data": {
      "text/html": [
       "<div>\n",
       "<style scoped>\n",
       "    .dataframe tbody tr th:only-of-type {\n",
       "        vertical-align: middle;\n",
       "    }\n",
       "\n",
       "    .dataframe tbody tr th {\n",
       "        vertical-align: top;\n",
       "    }\n",
       "\n",
       "    .dataframe thead th {\n",
       "        text-align: right;\n",
       "    }\n",
       "</style>\n",
       "<table border=\"1\" class=\"dataframe\">\n",
       "  <thead>\n",
       "    <tr style=\"text-align: right;\">\n",
       "      <th></th>\n",
       "      <th>start</th>\n",
       "      <th>end</th>\n",
       "      <th>gene</th>\n",
       "    </tr>\n",
       "  </thead>\n",
       "  <tbody>\n",
       "    <tr>\n",
       "      <th>0</th>\n",
       "      <td>2517694</td>\n",
       "      <td>2519364</td>\n",
       "      <td>kasA</td>\n",
       "    </tr>\n",
       "    <tr>\n",
       "      <th>1</th>\n",
       "      <td>4407527</td>\n",
       "      <td>4408333</td>\n",
       "      <td>gid</td>\n",
       "    </tr>\n",
       "    <tr>\n",
       "      <th>2</th>\n",
       "      <td>1833377</td>\n",
       "      <td>1834986</td>\n",
       "      <td>rpsA</td>\n",
       "    </tr>\n",
       "    <tr>\n",
       "      <th>3</th>\n",
       "      <td>4036730</td>\n",
       "      <td>4040936</td>\n",
       "      <td>clpC</td>\n",
       "    </tr>\n",
       "    <tr>\n",
       "      <th>4</th>\n",
       "      <td>4239662</td>\n",
       "      <td>4249809</td>\n",
       "      <td>embC</td>\n",
       "    </tr>\n",
       "    <tr>\n",
       "      <th>5</th>\n",
       "      <td>4239662</td>\n",
       "      <td>4249809</td>\n",
       "      <td>embB</td>\n",
       "    </tr>\n",
       "    <tr>\n",
       "      <th>6</th>\n",
       "      <td>4239662</td>\n",
       "      <td>4249809</td>\n",
       "      <td>embA</td>\n",
       "    </tr>\n",
       "    <tr>\n",
       "      <th>7</th>\n",
       "      <td>4266952</td>\n",
       "      <td>4269832</td>\n",
       "      <td>ubiA</td>\n",
       "    </tr>\n",
       "    <tr>\n",
       "      <th>8</th>\n",
       "      <td>1471575</td>\n",
       "      <td>1477012</td>\n",
       "      <td>rrs</td>\n",
       "    </tr>\n",
       "    <tr>\n",
       "      <th>9</th>\n",
       "      <td>4326003</td>\n",
       "      <td>4328198</td>\n",
       "      <td>ethAR</td>\n",
       "    </tr>\n",
       "    <tr>\n",
       "      <th>10</th>\n",
       "      <td>2725476</td>\n",
       "      <td>2726779</td>\n",
       "      <td>ahpC</td>\n",
       "    </tr>\n",
       "    <tr>\n",
       "      <th>11</th>\n",
       "      <td>1917754</td>\n",
       "      <td>1918745</td>\n",
       "      <td>tlyA</td>\n",
       "    </tr>\n",
       "    <tr>\n",
       "      <th>12</th>\n",
       "      <td>2153234</td>\n",
       "      <td>2156705</td>\n",
       "      <td>katG</td>\n",
       "    </tr>\n",
       "    <tr>\n",
       "      <th>13</th>\n",
       "      <td>781310</td>\n",
       "      <td>781933</td>\n",
       "      <td>rpsL</td>\n",
       "    </tr>\n",
       "    <tr>\n",
       "      <th>14</th>\n",
       "      <td>759608</td>\n",
       "      <td>767319</td>\n",
       "      <td>rpoB</td>\n",
       "    </tr>\n",
       "    <tr>\n",
       "      <th>15</th>\n",
       "      <td>759608</td>\n",
       "      <td>767319</td>\n",
       "      <td>rpoC</td>\n",
       "    </tr>\n",
       "    <tr>\n",
       "      <th>16</th>\n",
       "      <td>1672456</td>\n",
       "      <td>1675010</td>\n",
       "      <td>fabG1</td>\n",
       "    </tr>\n",
       "    <tr>\n",
       "      <th>17</th>\n",
       "      <td>1672456</td>\n",
       "      <td>1675010</td>\n",
       "      <td>inhA</td>\n",
       "    </tr>\n",
       "    <tr>\n",
       "      <th>18</th>\n",
       "      <td>2713782</td>\n",
       "      <td>2716313</td>\n",
       "      <td>eis</td>\n",
       "    </tr>\n",
       "    <tr>\n",
       "      <th>19</th>\n",
       "      <td>4996</td>\n",
       "      <td>9817</td>\n",
       "      <td>gyrA</td>\n",
       "    </tr>\n",
       "    <tr>\n",
       "      <th>20</th>\n",
       "      <td>4996</td>\n",
       "      <td>9817</td>\n",
       "      <td>gyrB</td>\n",
       "    </tr>\n",
       "    <tr>\n",
       "      <th>21</th>\n",
       "      <td>4043040</td>\n",
       "      <td>4045209</td>\n",
       "      <td>panD</td>\n",
       "    </tr>\n",
       "    <tr>\n",
       "      <th>22</th>\n",
       "      <td>2287882</td>\n",
       "      <td>2289598</td>\n",
       "      <td>pncA</td>\n",
       "    </tr>\n",
       "    <tr>\n",
       "      <th>23</th>\n",
       "      <td>575348</td>\n",
       "      <td>576790</td>\n",
       "      <td>mshA</td>\n",
       "    </tr>\n",
       "    <tr>\n",
       "      <th>24</th>\n",
       "      <td>1416181</td>\n",
       "      <td>1417347</td>\n",
       "      <td>embR</td>\n",
       "    </tr>\n",
       "    <tr>\n",
       "      <th>25</th>\n",
       "      <td>3878588</td>\n",
       "      <td>3879631</td>\n",
       "      <td>rpoA</td>\n",
       "    </tr>\n",
       "    <tr>\n",
       "      <th>26</th>\n",
       "      <td>2101651</td>\n",
       "      <td>2103042</td>\n",
       "      <td>ndh</td>\n",
       "    </tr>\n",
       "  </tbody>\n",
       "</table>\n",
       "</div>"
      ],
      "text/plain": [
       "      start      end   gene\n",
       "0   2517694  2519364   kasA\n",
       "1   4407527  4408333    gid\n",
       "2   1833377  1834986   rpsA\n",
       "3   4036730  4040936   clpC\n",
       "4   4239662  4249809   embC\n",
       "5   4239662  4249809   embB\n",
       "6   4239662  4249809   embA\n",
       "7   4266952  4269832   ubiA\n",
       "8   1471575  1477012    rrs\n",
       "9   4326003  4328198  ethAR\n",
       "10  2725476  2726779   ahpC\n",
       "11  1917754  1918745   tlyA\n",
       "12  2153234  2156705   katG\n",
       "13   781310   781933   rpsL\n",
       "14   759608   767319   rpoB\n",
       "15   759608   767319   rpoC\n",
       "16  1672456  1675010  fabG1\n",
       "17  1672456  1675010   inhA\n",
       "18  2713782  2716313    eis\n",
       "19     4996     9817   gyrA\n",
       "20     4996     9817   gyrB\n",
       "21  4043040  4045209   panD\n",
       "22  2287882  2289598   pncA\n",
       "23   575348   576790   mshA\n",
       "24  1416181  1417347   embR\n",
       "25  3878588  3879631   rpoA\n",
       "26  2101651  2103042    ndh"
      ]
     },
     "execution_count": 64,
     "metadata": {},
     "output_type": "execute_result"
    }
   ],
   "source": [
    "pd.read_csv('/mnt/storage10/lwang/Projects/TOAST/toast/db/regions copy.bed', sep='\\t', header=0)[['start', 'end', 'gene']]"
   ]
  },
  {
   "cell_type": "code",
   "execution_count": 55,
   "metadata": {},
   "outputs": [
    {
     "data": {
      "text/html": [
       "<div>\n",
       "<style scoped>\n",
       "    .dataframe tbody tr th:only-of-type {\n",
       "        vertical-align: middle;\n",
       "    }\n",
       "\n",
       "    .dataframe tbody tr th {\n",
       "        vertical-align: top;\n",
       "    }\n",
       "\n",
       "    .dataframe thead th {\n",
       "        text-align: right;\n",
       "    }\n",
       "</style>\n",
       "<table border=\"1\" class=\"dataframe\">\n",
       "  <thead>\n",
       "    <tr style=\"text-align: right;\">\n",
       "      <th></th>\n",
       "      <th>sample_id</th>\n",
       "      <th>genome_pos</th>\n",
       "      <th>gene</th>\n",
       "      <th>change</th>\n",
       "      <th>freq</th>\n",
       "      <th>type</th>\n",
       "      <th>sublin</th>\n",
       "      <th>drtype</th>\n",
       "      <th>drugs</th>\n",
       "    </tr>\n",
       "  </thead>\n",
       "  <tbody>\n",
       "  </tbody>\n",
       "</table>\n",
       "</div>"
      ],
      "text/plain": [
       "Empty DataFrame\n",
       "Columns: [sample_id, genome_pos, gene, change, freq, type, sublin, drtype, drugs]\n",
       "Index: []"
      ]
     },
     "execution_count": 55,
     "metadata": {},
     "output_type": "execute_result"
    }
   ],
   "source": [
    "filtered_data"
   ]
  },
  {
   "cell_type": "code",
   "execution_count": 50,
   "metadata": {},
   "outputs": [],
   "source": [
    "full_data_gene = full_data['gene'].value_counts()\n",
    "amp_snp_aligned = amp_snp['gene'].value_counts().reindex(full_data_gene.index).fillna(0)"
   ]
  },
  {
   "cell_type": "code",
   "execution_count": 51,
   "metadata": {},
   "outputs": [
    {
     "data": {
      "text/plain": [
       "rpoB     84714.0\n",
       "katG     39140.0\n",
       "pncA     54882.0\n",
       "embB     34183.0\n",
       "rpsL     22971.0\n",
       "rrs      17780.0\n",
       "fabG1        0.0\n",
       "gyrA     14048.0\n",
       "ethA     12177.0\n",
       "gid       8707.0\n",
       "eis          0.0\n",
       "inhA      2392.0\n",
       "embA         0.0\n",
       "rpoC      1536.0\n",
       "ahpC        13.0\n",
       "gyrB       914.0\n",
       "folC       835.0\n",
       "ethR      1425.0\n",
       "thyX         0.0\n",
       "tlyA       629.0\n",
       "thyA        76.0\n",
       "alr         66.0\n",
       "ald          0.0\n",
       "embC         0.0\n",
       "mmpR5        0.0\n",
       "rplC         0.0\n",
       "ddn          0.0\n",
       "panD         0.0\n",
       "rrl          0.0\n",
       "kasA         0.0\n",
       "embR         0.0\n",
       "fbiA         0.0\n",
       "rpsA         0.0\n",
       "ribD         0.0\n",
       "fgd1         0.0\n",
       "Name: gene, dtype: float64"
      ]
     },
     "execution_count": 51,
     "metadata": {},
     "output_type": "execute_result"
    }
   ],
   "source": [
    "amp_snp_aligned"
   ]
  },
  {
   "cell_type": "code",
   "execution_count": 42,
   "metadata": {},
   "outputs": [
    {
     "data": {
      "text/html": [
       "<div>\n",
       "<style scoped>\n",
       "    .dataframe tbody tr th:only-of-type {\n",
       "        vertical-align: middle;\n",
       "    }\n",
       "\n",
       "    .dataframe tbody tr th {\n",
       "        vertical-align: top;\n",
       "    }\n",
       "\n",
       "    .dataframe thead th {\n",
       "        text-align: right;\n",
       "    }\n",
       "</style>\n",
       "<table border=\"1\" class=\"dataframe\">\n",
       "  <thead>\n",
       "    <tr style=\"text-align: right;\">\n",
       "      <th></th>\n",
       "      <th>sample_id</th>\n",
       "      <th>genome_pos</th>\n",
       "      <th>gene</th>\n",
       "      <th>change</th>\n",
       "      <th>freq</th>\n",
       "      <th>type</th>\n",
       "      <th>sublin</th>\n",
       "      <th>drtype</th>\n",
       "      <th>drugs</th>\n",
       "    </tr>\n",
       "  </thead>\n",
       "  <tbody>\n",
       "  </tbody>\n",
       "</table>\n",
       "</div>"
      ],
      "text/plain": [
       "Empty DataFrame\n",
       "Columns: [sample_id, genome_pos, gene, change, freq, type, sublin, drtype, drugs]\n",
       "Index: []"
      ]
     },
     "execution_count": 42,
     "metadata": {},
     "output_type": "execute_result"
    }
   ],
   "source": [
    "amp_snp"
   ]
  },
  {
   "cell_type": "code",
   "execution_count": 22,
   "metadata": {},
   "outputs": [],
   "source": [
    "with open('/mnt/storage10/lwang/Projects/TOAST/toast/db/default_primer_design_setting.json', 'r') as file:\n",
    "    primer_settings = json.load(file)"
   ]
  },
  {
   "cell_type": "code",
   "execution_count": 28,
   "metadata": {},
   "outputs": [],
   "source": [
    "a = [1,2,3,4,]"
   ]
  },
  {
   "cell_type": "code",
   "execution_count": 34,
   "metadata": {},
   "outputs": [],
   "source": [
    "a = ['=']*3 +a"
   ]
  },
  {
   "cell_type": "code",
   "execution_count": 35,
   "metadata": {},
   "outputs": [
    {
     "data": {
      "text/plain": [
       "['=', '=', '=', 1, 2, 3, 4, '=', '=', '=']"
      ]
     },
     "execution_count": 35,
     "metadata": {},
     "output_type": "execute_result"
    }
   ],
   "source": [
    "a"
   ]
  },
  {
   "cell_type": "code",
   "execution_count": 26,
   "metadata": {},
   "outputs": [],
   "source": [
    "import json\n",
    "\n",
    "# Load primer settings from a JSON file\n",
    "with open('/mnt/storage10/lwang/Projects/TOAST/toast/db/default_primer_design_setting.json', 'r') as file:\n",
    "    primer_settings = json.load(file)\n",
    "\n",
    "# Replace the placeholder with the actual size range\n",
    "size_range = '400-800'  # Replace with actual size range\n",
    "primer_settings['PRIMER_PRODUCT_SIZE_RANGE'] = size_range\n",
    "\n",
    "# Extract sequence from fasta\n",
    "# genome = extract_sequence_from_fasta(0, genome_size(ref_genome), padding=0, fasta_file=ref_genome)\n",
    "# ... rest of your code ...\n",
    "\n",
    "# try:\n",
    "#     results = bindings.design_primers(\n",
    "#         seq_args={\n",
    "#             'SEQUENCE_ID': 'Amplicon',\n",
    "#             'SEQUENCE_TEMPLATE': sequence,\n",
    "#             'SEQUENCE_INCLUDED_REGION': [padding, len(sequence) - padding],\n",
    "#             'SEQUENCE_PRIMER_PAIR_OK_REGION_LIST': f'{ok_region_list[0]},{ok_region_list[1]},{ok_region_list[2]},{ok_region_list[3]}'\n",
    "#         },\n",
    "#         global_args=primer_settings  # Use the loaded primer settings\n",
    "#     )\n",
    "#     # ... rest of your code ...\n",
    "# except:\n",
    "#     # Handle exceptions\n"
   ]
  },
  {
   "cell_type": "code",
   "execution_count": null,
   "metadata": {},
   "outputs": [],
   "source": []
  },
  {
   "cell_type": "code",
   "execution_count": 27,
   "metadata": {},
   "outputs": [
    {
     "data": {
      "text/plain": [
       "{'PRIMER_NUM_RETURN': 16,\n",
       " 'PRIMER_PICK_INTERNAL_OLIGO': 0,\n",
       " 'PRIMER_INTERNAL_MAX_SELF_END': 8,\n",
       " 'PRIMER_MIN_SIZE': 18,\n",
       " 'PRIMER_MAX_SIZE': 24,\n",
       " 'PRIMER_MIN_TM': 58.0,\n",
       " 'PRIMER_MAX_TM': 80.0,\n",
       " 'PRIMER_MIN_GC': 45.0,\n",
       " 'PRIMER_MAX_GC': 68.0,\n",
       " 'PRIMER_MAX_POLY_X': 5,\n",
       " 'PRIMER_INTERNAL_MAX_POLY_X': 5,\n",
       " 'PRIMER_SALT_MONOVALENT': 50.0,\n",
       " 'PRIMER_DNA_CONC': 50.0,\n",
       " 'PRIMER_MAX_NS_ACCEPTED': 0,\n",
       " 'PRIMER_MAX_SELF_ANY': 10,\n",
       " 'PRIMER_MAX_SELF_END': 8,\n",
       " 'PRIMER_PAIR_MAX_COMPL_ANY': 9,\n",
       " 'PRIMER_PAIR_MAX_COMPL_END': 8,\n",
       " 'PRIMER_PRODUCT_SIZE_RANGE': '400-800'}"
      ]
     },
     "execution_count": 27,
     "metadata": {},
     "output_type": "execute_result"
    }
   ],
   "source": [
    "primer_settings"
   ]
  },
  {
   "cell_type": "code",
   "execution_count": 2,
   "metadata": {},
   "outputs": [],
   "source": [
    "v = pd.read_csv('/mnt/storage10/lwang/Projects/TOAST/toast/db/variants.csv')"
   ]
  },
  {
   "cell_type": "code",
   "execution_count": 36,
   "metadata": {},
   "outputs": [
    {
     "data": {
      "text/plain": [
       "array(['rpoB', 'rpsL', 'katG', 'embB', 'fabG1', 'ethR', 'pncA', 'tlyA',\n",
       "       'gyrA', 'rrs', 'mmpR5', 'gid', 'eis', 'ethA', 'folC', 'rpoC',\n",
       "       'embA', 'alr', 'gyrB', 'inhA', 'ahpC', 'ald', 'thyX', 'thyA',\n",
       "       'rplC', 'ddn', 'embC', 'fbiA', 'kasA', 'rrl', 'embR', 'panD',\n",
       "       'ribD', 'rpsA', 'fgd1'], dtype=object)"
      ]
     },
     "execution_count": 36,
     "metadata": {},
     "output_type": "execute_result"
    }
   ],
   "source": [
    "v['gene'].unique()"
   ]
  },
  {
   "cell_type": "code",
   "execution_count": 8,
   "metadata": {},
   "outputs": [
    {
     "data": {
      "text/plain": [
       "24"
      ]
     },
     "execution_count": 8,
     "metadata": {},
     "output_type": "execute_result"
    }
   ],
   "source": [
    "len(np.unique(v['drugs'].values))"
   ]
  },
  {
   "cell_type": "code",
   "execution_count": 9,
   "metadata": {},
   "outputs": [
    {
     "data": {
      "text/plain": [
       "array(['aminoglycosides,amikacin', 'capreomycin',\n",
       "       'capreomycin,capreomycin', 'clofazimine,bedaquiline',\n",
       "       'cycloserine', 'delamanid', 'ethambutol', 'ethionamide',\n",
       "       'ethionamide,ethionamide', 'isoniazid', 'isoniazid,ethionamide',\n",
       "       'isoniazid,isoniazid', 'kanamycin', 'kanamycin,amikacin',\n",
       "       'kanamycin,capreomycin,aminoglycosides,amikacin',\n",
       "       'kanamycin,kanamycin', 'linezolid',\n",
       "       'ofloxacin,moxifloxacin,levofloxacin,fluoroquinolones,ciprofloxacin',\n",
       "       'para-aminosalicylic_acid', 'pyrazinamide',\n",
       "       'pyrazinamide,pyrazinamide', 'rifampicin', 'rifampicin,rifampicin',\n",
       "       'streptomycin'], dtype=object)"
      ]
     },
     "execution_count": 9,
     "metadata": {},
     "output_type": "execute_result"
    }
   ],
   "source": [
    "np.unique(v['drugs'].values)"
   ]
  },
  {
   "cell_type": "code",
   "execution_count": 13,
   "metadata": {},
   "outputs": [],
   "source": [
    "_ = []\n",
    "for x in np.unique(v['drugs'].values):\n",
    "    _.extend(x.split(','))"
   ]
  },
  {
   "cell_type": "code",
   "execution_count": 16,
   "metadata": {},
   "outputs": [
    {
     "data": {
      "text/plain": [
       "21"
      ]
     },
     "execution_count": 16,
     "metadata": {},
     "output_type": "execute_result"
    }
   ],
   "source": [
    "len(np.unique(_))"
   ]
  },
  {
   "cell_type": "code",
   "execution_count": 60,
   "metadata": {},
   "outputs": [],
   "source": [
    "map_primer = pd.read_csv('/mnt/storage10/lwang/Projects/TOAST/cache/Amplicon_design_output/Amplicon_design_output/Amplicon_mapped-3-400.bed', header=None, sep='\\t')\n",
    "spol_primer = pd.read_csv('/mnt/storage10/lwang/Projects/TOAST/toast/db/spoligo_primer.bed', header=None, sep='\\t')"
   ]
  },
  {
   "cell_type": "code",
   "execution_count": 57,
   "metadata": {},
   "outputs": [],
   "source": [
    "total_primer = pd.concat([map_primer, spol_primer])"
   ]
  },
  {
   "cell_type": "code",
   "execution_count": 58,
   "metadata": {},
   "outputs": [
    {
     "data": {
      "text/html": [
       "<div>\n",
       "<style scoped>\n",
       "    .dataframe tbody tr th:only-of-type {\n",
       "        vertical-align: middle;\n",
       "    }\n",
       "\n",
       "    .dataframe tbody tr th {\n",
       "        vertical-align: top;\n",
       "    }\n",
       "\n",
       "    .dataframe thead th {\n",
       "        text-align: right;\n",
       "    }\n",
       "</style>\n",
       "<table border=\"1\" class=\"dataframe\">\n",
       "  <thead>\n",
       "    <tr style=\"text-align: right;\">\n",
       "      <th></th>\n",
       "      <th>0</th>\n",
       "      <th>1</th>\n",
       "      <th>2</th>\n",
       "      <th>3</th>\n",
       "      <th>4</th>\n",
       "      <th>5</th>\n",
       "      <th>6</th>\n",
       "      <th>7</th>\n",
       "      <th>8</th>\n",
       "    </tr>\n",
       "  </thead>\n",
       "  <tbody>\n",
       "    <tr>\n",
       "      <th>0</th>\n",
       "      <td>Chromosome</td>\n",
       "      <td>781678</td>\n",
       "      <td>782004</td>\n",
       "      <td>Designed-A1-UserLeft</td>\n",
       "      <td>0</td>\n",
       "      <td>.</td>\n",
       "      <td>781678</td>\n",
       "      <td>782004</td>\n",
       "      <td>0,0,255</td>\n",
       "    </tr>\n",
       "    <tr>\n",
       "      <th>1</th>\n",
       "      <td>Chromosome</td>\n",
       "      <td>781678</td>\n",
       "      <td>782004</td>\n",
       "      <td>A1-UserLeft</td>\n",
       "      <td>0</td>\n",
       "      <td>.</td>\n",
       "      <td>781678</td>\n",
       "      <td>782004</td>\n",
       "      <td>0,255,0</td>\n",
       "    </tr>\n",
       "    <tr>\n",
       "      <th>2</th>\n",
       "      <td>Chromosome</td>\n",
       "      <td>781678</td>\n",
       "      <td>781698</td>\n",
       "      <td>Primer1-UserLeft</td>\n",
       "      <td>0</td>\n",
       "      <td>.</td>\n",
       "      <td>781678</td>\n",
       "      <td>781698</td>\n",
       "      <td>255,0,0</td>\n",
       "    </tr>\n",
       "    <tr>\n",
       "      <th>3</th>\n",
       "      <td>Chromosome</td>\n",
       "      <td>781984</td>\n",
       "      <td>782004</td>\n",
       "      <td>Primer1-UserRight</td>\n",
       "      <td>0</td>\n",
       "      <td>.</td>\n",
       "      <td>781984</td>\n",
       "      <td>782004</td>\n",
       "      <td>128,0,0</td>\n",
       "    </tr>\n",
       "    <tr>\n",
       "      <th>4</th>\n",
       "      <td>Chromosome</td>\n",
       "      <td>781585</td>\n",
       "      <td>781985</td>\n",
       "      <td>Designed-A2-sp</td>\n",
       "      <td>0</td>\n",
       "      <td>.</td>\n",
       "      <td>781585</td>\n",
       "      <td>781985</td>\n",
       "      <td>0,0,255</td>\n",
       "    </tr>\n",
       "    <tr>\n",
       "      <th>...</th>\n",
       "      <td>...</td>\n",
       "      <td>...</td>\n",
       "      <td>...</td>\n",
       "      <td>...</td>\n",
       "      <td>...</td>\n",
       "      <td>...</td>\n",
       "      <td>...</td>\n",
       "      <td>...</td>\n",
       "      <td>...</td>\n",
       "    </tr>\n",
       "    <tr>\n",
       "      <th>75</th>\n",
       "      <td>Chromosome</td>\n",
       "      <td>3119555</td>\n",
       "      <td>3119573</td>\n",
       "      <td>Spol_Rprimer_DRb</td>\n",
       "      <td>0</td>\n",
       "      <td>-</td>\n",
       "      <td>3119555</td>\n",
       "      <td>3119573</td>\n",
       "      <td>128,0,0</td>\n",
       "    </tr>\n",
       "    <tr>\n",
       "      <th>76</th>\n",
       "      <td>Chromosome</td>\n",
       "      <td>3119483</td>\n",
       "      <td>3119501</td>\n",
       "      <td>Spol_Rprimer_DRb</td>\n",
       "      <td>0</td>\n",
       "      <td>-</td>\n",
       "      <td>3119483</td>\n",
       "      <td>3119501</td>\n",
       "      <td>128,0,0</td>\n",
       "    </tr>\n",
       "    <tr>\n",
       "      <th>77</th>\n",
       "      <td>Chromosome</td>\n",
       "      <td>3119410</td>\n",
       "      <td>3119428</td>\n",
       "      <td>Spol_Rprimer_DRb</td>\n",
       "      <td>0</td>\n",
       "      <td>-</td>\n",
       "      <td>3119410</td>\n",
       "      <td>3119428</td>\n",
       "      <td>128,0,0</td>\n",
       "    </tr>\n",
       "    <tr>\n",
       "      <th>78</th>\n",
       "      <td>Chromosome</td>\n",
       "      <td>3119334</td>\n",
       "      <td>3119352</td>\n",
       "      <td>Spol_Rprimer_DRb</td>\n",
       "      <td>0</td>\n",
       "      <td>-</td>\n",
       "      <td>3119334</td>\n",
       "      <td>3119352</td>\n",
       "      <td>128,0,0</td>\n",
       "    </tr>\n",
       "    <tr>\n",
       "      <th>79</th>\n",
       "      <td>Chromosome</td>\n",
       "      <td>3119184</td>\n",
       "      <td>3119202</td>\n",
       "      <td>Spol_Rprimer_DRb</td>\n",
       "      <td>0</td>\n",
       "      <td>-</td>\n",
       "      <td>3119184</td>\n",
       "      <td>3119202</td>\n",
       "      <td>128,0,0</td>\n",
       "    </tr>\n",
       "  </tbody>\n",
       "</table>\n",
       "<p>92 rows × 9 columns</p>\n",
       "</div>"
      ],
      "text/plain": [
       "             0        1        2                     3  4  5        6  \\\n",
       "0   Chromosome   781678   782004  Designed-A1-UserLeft  0  .   781678   \n",
       "1   Chromosome   781678   782004           A1-UserLeft  0  .   781678   \n",
       "2   Chromosome   781678   781698      Primer1-UserLeft  0  .   781678   \n",
       "3   Chromosome   781984   782004     Primer1-UserRight  0  .   781984   \n",
       "4   Chromosome   781585   781985        Designed-A2-sp  0  .   781585   \n",
       "..         ...      ...      ...                   ... .. ..      ...   \n",
       "75  Chromosome  3119555  3119573      Spol_Rprimer_DRb  0  -  3119555   \n",
       "76  Chromosome  3119483  3119501      Spol_Rprimer_DRb  0  -  3119483   \n",
       "77  Chromosome  3119410  3119428      Spol_Rprimer_DRb  0  -  3119410   \n",
       "78  Chromosome  3119334  3119352      Spol_Rprimer_DRb  0  -  3119334   \n",
       "79  Chromosome  3119184  3119202      Spol_Rprimer_DRb  0  -  3119184   \n",
       "\n",
       "          7        8  \n",
       "0    782004  0,0,255  \n",
       "1    782004  0,255,0  \n",
       "2    781698  255,0,0  \n",
       "3    782004  128,0,0  \n",
       "4    781985  0,0,255  \n",
       "..      ...      ...  \n",
       "75  3119573  128,0,0  \n",
       "76  3119501  128,0,0  \n",
       "77  3119428  128,0,0  \n",
       "78  3119352  128,0,0  \n",
       "79  3119202  128,0,0  \n",
       "\n",
       "[92 rows x 9 columns]"
      ]
     },
     "execution_count": 58,
     "metadata": {},
     "output_type": "execute_result"
    }
   ],
   "source": [
    "total_primer"
   ]
  },
  {
   "cell_type": "code",
   "execution_count": 61,
   "metadata": {},
   "outputs": [],
   "source": [
    "total_primer.columns = ['col0', 'col1', 'col2', 'col3', 'col4', 'col5', 'col6', 'col7', 'col8']"
   ]
  },
  {
   "cell_type": "code",
   "execution_count": 62,
   "metadata": {},
   "outputs": [
    {
     "data": {
      "text/html": [
       "<div>\n",
       "<style scoped>\n",
       "    .dataframe tbody tr th:only-of-type {\n",
       "        vertical-align: middle;\n",
       "    }\n",
       "\n",
       "    .dataframe tbody tr th {\n",
       "        vertical-align: top;\n",
       "    }\n",
       "\n",
       "    .dataframe thead th {\n",
       "        text-align: right;\n",
       "    }\n",
       "</style>\n",
       "<table border=\"1\" class=\"dataframe\">\n",
       "  <thead>\n",
       "    <tr style=\"text-align: right;\">\n",
       "      <th></th>\n",
       "      <th>col0</th>\n",
       "      <th>col1</th>\n",
       "      <th>col2</th>\n",
       "      <th>col3</th>\n",
       "      <th>col4</th>\n",
       "      <th>col5</th>\n",
       "      <th>col6</th>\n",
       "      <th>col7</th>\n",
       "      <th>col8</th>\n",
       "    </tr>\n",
       "  </thead>\n",
       "  <tbody>\n",
       "    <tr>\n",
       "      <th>0</th>\n",
       "      <td>Chromosome</td>\n",
       "      <td>781678</td>\n",
       "      <td>782004</td>\n",
       "      <td>Designed-A1-UserLeft</td>\n",
       "      <td>0</td>\n",
       "      <td>.</td>\n",
       "      <td>781678</td>\n",
       "      <td>782004</td>\n",
       "      <td>0,0,255</td>\n",
       "    </tr>\n",
       "    <tr>\n",
       "      <th>1</th>\n",
       "      <td>Chromosome</td>\n",
       "      <td>781678</td>\n",
       "      <td>782004</td>\n",
       "      <td>A1-UserLeft</td>\n",
       "      <td>0</td>\n",
       "      <td>.</td>\n",
       "      <td>781678</td>\n",
       "      <td>782004</td>\n",
       "      <td>0,255,0</td>\n",
       "    </tr>\n",
       "    <tr>\n",
       "      <th>2</th>\n",
       "      <td>Chromosome</td>\n",
       "      <td>781678</td>\n",
       "      <td>781698</td>\n",
       "      <td>Primer1-UserLeft</td>\n",
       "      <td>0</td>\n",
       "      <td>.</td>\n",
       "      <td>781678</td>\n",
       "      <td>781698</td>\n",
       "      <td>255,0,0</td>\n",
       "    </tr>\n",
       "    <tr>\n",
       "      <th>3</th>\n",
       "      <td>Chromosome</td>\n",
       "      <td>781984</td>\n",
       "      <td>782004</td>\n",
       "      <td>Primer1-UserRight</td>\n",
       "      <td>0</td>\n",
       "      <td>.</td>\n",
       "      <td>781984</td>\n",
       "      <td>782004</td>\n",
       "      <td>128,0,0</td>\n",
       "    </tr>\n",
       "    <tr>\n",
       "      <th>4</th>\n",
       "      <td>Chromosome</td>\n",
       "      <td>781585</td>\n",
       "      <td>781985</td>\n",
       "      <td>Designed-A2-sp</td>\n",
       "      <td>0</td>\n",
       "      <td>.</td>\n",
       "      <td>781585</td>\n",
       "      <td>781985</td>\n",
       "      <td>0,0,255</td>\n",
       "    </tr>\n",
       "    <tr>\n",
       "      <th>...</th>\n",
       "      <td>...</td>\n",
       "      <td>...</td>\n",
       "      <td>...</td>\n",
       "      <td>...</td>\n",
       "      <td>...</td>\n",
       "      <td>...</td>\n",
       "      <td>...</td>\n",
       "      <td>...</td>\n",
       "      <td>...</td>\n",
       "    </tr>\n",
       "    <tr>\n",
       "      <th>75</th>\n",
       "      <td>Chromosome</td>\n",
       "      <td>3119555</td>\n",
       "      <td>3119573</td>\n",
       "      <td>Spol_Rprimer_DRb</td>\n",
       "      <td>0</td>\n",
       "      <td>-</td>\n",
       "      <td>3119555</td>\n",
       "      <td>3119573</td>\n",
       "      <td>128,0,0</td>\n",
       "    </tr>\n",
       "    <tr>\n",
       "      <th>76</th>\n",
       "      <td>Chromosome</td>\n",
       "      <td>3119483</td>\n",
       "      <td>3119501</td>\n",
       "      <td>Spol_Rprimer_DRb</td>\n",
       "      <td>0</td>\n",
       "      <td>-</td>\n",
       "      <td>3119483</td>\n",
       "      <td>3119501</td>\n",
       "      <td>128,0,0</td>\n",
       "    </tr>\n",
       "    <tr>\n",
       "      <th>77</th>\n",
       "      <td>Chromosome</td>\n",
       "      <td>3119410</td>\n",
       "      <td>3119428</td>\n",
       "      <td>Spol_Rprimer_DRb</td>\n",
       "      <td>0</td>\n",
       "      <td>-</td>\n",
       "      <td>3119410</td>\n",
       "      <td>3119428</td>\n",
       "      <td>128,0,0</td>\n",
       "    </tr>\n",
       "    <tr>\n",
       "      <th>78</th>\n",
       "      <td>Chromosome</td>\n",
       "      <td>3119334</td>\n",
       "      <td>3119352</td>\n",
       "      <td>Spol_Rprimer_DRb</td>\n",
       "      <td>0</td>\n",
       "      <td>-</td>\n",
       "      <td>3119334</td>\n",
       "      <td>3119352</td>\n",
       "      <td>128,0,0</td>\n",
       "    </tr>\n",
       "    <tr>\n",
       "      <th>79</th>\n",
       "      <td>Chromosome</td>\n",
       "      <td>3119184</td>\n",
       "      <td>3119202</td>\n",
       "      <td>Spol_Rprimer_DRb</td>\n",
       "      <td>0</td>\n",
       "      <td>-</td>\n",
       "      <td>3119184</td>\n",
       "      <td>3119202</td>\n",
       "      <td>128,0,0</td>\n",
       "    </tr>\n",
       "  </tbody>\n",
       "</table>\n",
       "<p>92 rows × 9 columns</p>\n",
       "</div>"
      ],
      "text/plain": [
       "          col0     col1     col2                  col3  col4 col5     col6  \\\n",
       "0   Chromosome   781678   782004  Designed-A1-UserLeft     0    .   781678   \n",
       "1   Chromosome   781678   782004           A1-UserLeft     0    .   781678   \n",
       "2   Chromosome   781678   781698      Primer1-UserLeft     0    .   781678   \n",
       "3   Chromosome   781984   782004     Primer1-UserRight     0    .   781984   \n",
       "4   Chromosome   781585   781985        Designed-A2-sp     0    .   781585   \n",
       "..         ...      ...      ...                   ...   ...  ...      ...   \n",
       "75  Chromosome  3119555  3119573      Spol_Rprimer_DRb     0    -  3119555   \n",
       "76  Chromosome  3119483  3119501      Spol_Rprimer_DRb     0    -  3119483   \n",
       "77  Chromosome  3119410  3119428      Spol_Rprimer_DRb     0    -  3119410   \n",
       "78  Chromosome  3119334  3119352      Spol_Rprimer_DRb     0    -  3119334   \n",
       "79  Chromosome  3119184  3119202      Spol_Rprimer_DRb     0    -  3119184   \n",
       "\n",
       "       col7     col8  \n",
       "0    782004  0,0,255  \n",
       "1    782004  0,255,0  \n",
       "2    781698  255,0,0  \n",
       "3    782004  128,0,0  \n",
       "4    781985  0,0,255  \n",
       "..      ...      ...  \n",
       "75  3119573  128,0,0  \n",
       "76  3119501  128,0,0  \n",
       "77  3119428  128,0,0  \n",
       "78  3119352  128,0,0  \n",
       "79  3119202  128,0,0  \n",
       "\n",
       "[92 rows x 9 columns]"
      ]
     },
     "execution_count": 62,
     "metadata": {},
     "output_type": "execute_result"
    }
   ],
   "source": [
    "total_primer"
   ]
  },
  {
   "cell_type": "code",
   "execution_count": 51,
   "metadata": {},
   "outputs": [
    {
     "data": {
      "text/html": [
       "<div>\n",
       "<style scoped>\n",
       "    .dataframe tbody tr th:only-of-type {\n",
       "        vertical-align: middle;\n",
       "    }\n",
       "\n",
       "    .dataframe tbody tr th {\n",
       "        vertical-align: top;\n",
       "    }\n",
       "\n",
       "    .dataframe thead th {\n",
       "        text-align: right;\n",
       "    }\n",
       "</style>\n",
       "<table border=\"1\" class=\"dataframe\">\n",
       "  <thead>\n",
       "    <tr style=\"text-align: right;\">\n",
       "      <th></th>\n",
       "      <th>0</th>\n",
       "      <th>1</th>\n",
       "      <th>2</th>\n",
       "      <th>3</th>\n",
       "      <th>4</th>\n",
       "      <th>5</th>\n",
       "      <th>6</th>\n",
       "      <th>7</th>\n",
       "      <th>8</th>\n",
       "      <th>9</th>\n",
       "      <th>10</th>\n",
       "      <th>11</th>\n",
       "      <th>12</th>\n",
       "      <th>13</th>\n",
       "      <th>14</th>\n",
       "      <th>15</th>\n",
       "      <th>16</th>\n",
       "      <th>17</th>\n",
       "    </tr>\n",
       "  </thead>\n",
       "  <tbody>\n",
       "    <tr>\n",
       "      <th>0</th>\n",
       "      <td>Chromosome</td>\n",
       "      <td>781678.0</td>\n",
       "      <td>782004.0</td>\n",
       "      <td>A1-UserDefined</td>\n",
       "      <td>0.0</td>\n",
       "      <td>.</td>\n",
       "      <td>781678.0</td>\n",
       "      <td>782004.0</td>\n",
       "      <td>0,255,0</td>\n",
       "      <td>NaN</td>\n",
       "      <td>NaN</td>\n",
       "      <td>NaN</td>\n",
       "      <td>NaN</td>\n",
       "      <td>NaN</td>\n",
       "      <td>NaN</td>\n",
       "      <td>NaN</td>\n",
       "      <td>NaN</td>\n",
       "      <td>NaN</td>\n",
       "    </tr>\n",
       "    <tr>\n",
       "      <th>1</th>\n",
       "      <td>Chromosome</td>\n",
       "      <td>781678.0</td>\n",
       "      <td>781698.0</td>\n",
       "      <td>Primer1-UserLeft</td>\n",
       "      <td>0.0</td>\n",
       "      <td>.</td>\n",
       "      <td>781678.0</td>\n",
       "      <td>781698.0</td>\n",
       "      <td>255,0,0</td>\n",
       "      <td>NaN</td>\n",
       "      <td>NaN</td>\n",
       "      <td>NaN</td>\n",
       "      <td>NaN</td>\n",
       "      <td>NaN</td>\n",
       "      <td>NaN</td>\n",
       "      <td>NaN</td>\n",
       "      <td>NaN</td>\n",
       "      <td>NaN</td>\n",
       "    </tr>\n",
       "    <tr>\n",
       "      <th>2</th>\n",
       "      <td>Chromosome</td>\n",
       "      <td>781984.0</td>\n",
       "      <td>782004.0</td>\n",
       "      <td>Primer1-UserRight</td>\n",
       "      <td>0.0</td>\n",
       "      <td>.</td>\n",
       "      <td>781984.0</td>\n",
       "      <td>782004.0</td>\n",
       "      <td>128,0,0</td>\n",
       "      <td>NaN</td>\n",
       "      <td>NaN</td>\n",
       "      <td>NaN</td>\n",
       "      <td>NaN</td>\n",
       "      <td>NaN</td>\n",
       "      <td>NaN</td>\n",
       "      <td>NaN</td>\n",
       "      <td>NaN</td>\n",
       "      <td>NaN</td>\n",
       "    </tr>\n",
       "    <tr>\n",
       "      <th>3</th>\n",
       "      <td>Chromosome</td>\n",
       "      <td>781585.0</td>\n",
       "      <td>781985.0</td>\n",
       "      <td>Designed-A1-sp</td>\n",
       "      <td>0.0</td>\n",
       "      <td>.</td>\n",
       "      <td>781585.0</td>\n",
       "      <td>781985.0</td>\n",
       "      <td>0,0,255</td>\n",
       "      <td>NaN</td>\n",
       "      <td>NaN</td>\n",
       "      <td>NaN</td>\n",
       "      <td>NaN</td>\n",
       "      <td>NaN</td>\n",
       "      <td>NaN</td>\n",
       "      <td>NaN</td>\n",
       "      <td>NaN</td>\n",
       "      <td>NaN</td>\n",
       "    </tr>\n",
       "    <tr>\n",
       "      <th>4</th>\n",
       "      <td>Chromosome</td>\n",
       "      <td>781678.0</td>\n",
       "      <td>782004.0</td>\n",
       "      <td>A1-sp</td>\n",
       "      <td>0.0</td>\n",
       "      <td>.</td>\n",
       "      <td>781678.0</td>\n",
       "      <td>782004.0</td>\n",
       "      <td>0,255,0</td>\n",
       "      <td>NaN</td>\n",
       "      <td>NaN</td>\n",
       "      <td>NaN</td>\n",
       "      <td>NaN</td>\n",
       "      <td>NaN</td>\n",
       "      <td>NaN</td>\n",
       "      <td>NaN</td>\n",
       "      <td>NaN</td>\n",
       "      <td>NaN</td>\n",
       "    </tr>\n",
       "    <tr>\n",
       "      <th>...</th>\n",
       "      <td>...</td>\n",
       "      <td>...</td>\n",
       "      <td>...</td>\n",
       "      <td>...</td>\n",
       "      <td>...</td>\n",
       "      <td>...</td>\n",
       "      <td>...</td>\n",
       "      <td>...</td>\n",
       "      <td>...</td>\n",
       "      <td>...</td>\n",
       "      <td>...</td>\n",
       "      <td>...</td>\n",
       "      <td>...</td>\n",
       "      <td>...</td>\n",
       "      <td>...</td>\n",
       "      <td>...</td>\n",
       "      <td>...</td>\n",
       "      <td>...</td>\n",
       "    </tr>\n",
       "    <tr>\n",
       "      <th>82</th>\n",
       "      <td>NaN</td>\n",
       "      <td>NaN</td>\n",
       "      <td>NaN</td>\n",
       "      <td>NaN</td>\n",
       "      <td>NaN</td>\n",
       "      <td>NaN</td>\n",
       "      <td>NaN</td>\n",
       "      <td>NaN</td>\n",
       "      <td>NaN</td>\n",
       "      <td>Chromosome</td>\n",
       "      <td>3119555.0</td>\n",
       "      <td>3119573.0</td>\n",
       "      <td>Spol_Rprimer_DRb</td>\n",
       "      <td>0.0</td>\n",
       "      <td>-</td>\n",
       "      <td>3119555.0</td>\n",
       "      <td>3119573.0</td>\n",
       "      <td>128,0,0</td>\n",
       "    </tr>\n",
       "    <tr>\n",
       "      <th>83</th>\n",
       "      <td>NaN</td>\n",
       "      <td>NaN</td>\n",
       "      <td>NaN</td>\n",
       "      <td>NaN</td>\n",
       "      <td>NaN</td>\n",
       "      <td>NaN</td>\n",
       "      <td>NaN</td>\n",
       "      <td>NaN</td>\n",
       "      <td>NaN</td>\n",
       "      <td>Chromosome</td>\n",
       "      <td>3119483.0</td>\n",
       "      <td>3119501.0</td>\n",
       "      <td>Spol_Rprimer_DRb</td>\n",
       "      <td>0.0</td>\n",
       "      <td>-</td>\n",
       "      <td>3119483.0</td>\n",
       "      <td>3119501.0</td>\n",
       "      <td>128,0,0</td>\n",
       "    </tr>\n",
       "    <tr>\n",
       "      <th>84</th>\n",
       "      <td>NaN</td>\n",
       "      <td>NaN</td>\n",
       "      <td>NaN</td>\n",
       "      <td>NaN</td>\n",
       "      <td>NaN</td>\n",
       "      <td>NaN</td>\n",
       "      <td>NaN</td>\n",
       "      <td>NaN</td>\n",
       "      <td>NaN</td>\n",
       "      <td>Chromosome</td>\n",
       "      <td>3119410.0</td>\n",
       "      <td>3119428.0</td>\n",
       "      <td>Spol_Rprimer_DRb</td>\n",
       "      <td>0.0</td>\n",
       "      <td>-</td>\n",
       "      <td>3119410.0</td>\n",
       "      <td>3119428.0</td>\n",
       "      <td>128,0,0</td>\n",
       "    </tr>\n",
       "    <tr>\n",
       "      <th>85</th>\n",
       "      <td>NaN</td>\n",
       "      <td>NaN</td>\n",
       "      <td>NaN</td>\n",
       "      <td>NaN</td>\n",
       "      <td>NaN</td>\n",
       "      <td>NaN</td>\n",
       "      <td>NaN</td>\n",
       "      <td>NaN</td>\n",
       "      <td>NaN</td>\n",
       "      <td>Chromosome</td>\n",
       "      <td>3119334.0</td>\n",
       "      <td>3119352.0</td>\n",
       "      <td>Spol_Rprimer_DRb</td>\n",
       "      <td>0.0</td>\n",
       "      <td>-</td>\n",
       "      <td>3119334.0</td>\n",
       "      <td>3119352.0</td>\n",
       "      <td>128,0,0</td>\n",
       "    </tr>\n",
       "    <tr>\n",
       "      <th>86</th>\n",
       "      <td>NaN</td>\n",
       "      <td>NaN</td>\n",
       "      <td>NaN</td>\n",
       "      <td>NaN</td>\n",
       "      <td>NaN</td>\n",
       "      <td>NaN</td>\n",
       "      <td>NaN</td>\n",
       "      <td>NaN</td>\n",
       "      <td>NaN</td>\n",
       "      <td>Chromosome</td>\n",
       "      <td>3119184.0</td>\n",
       "      <td>3119202.0</td>\n",
       "      <td>Spol_Rprimer_DRb</td>\n",
       "      <td>0.0</td>\n",
       "      <td>-</td>\n",
       "      <td>3119184.0</td>\n",
       "      <td>3119202.0</td>\n",
       "      <td>128,0,0</td>\n",
       "    </tr>\n",
       "  </tbody>\n",
       "</table>\n",
       "<p>87 rows × 18 columns</p>\n",
       "</div>"
      ],
      "text/plain": [
       "            0         1         2                  3    4    5         6   \\\n",
       "0   Chromosome  781678.0  782004.0     A1-UserDefined  0.0    .  781678.0   \n",
       "1   Chromosome  781678.0  781698.0   Primer1-UserLeft  0.0    .  781678.0   \n",
       "2   Chromosome  781984.0  782004.0  Primer1-UserRight  0.0    .  781984.0   \n",
       "3   Chromosome  781585.0  781985.0     Designed-A1-sp  0.0    .  781585.0   \n",
       "4   Chromosome  781678.0  782004.0              A1-sp  0.0    .  781678.0   \n",
       "..         ...       ...       ...                ...  ...  ...       ...   \n",
       "82         NaN       NaN       NaN                NaN  NaN  NaN       NaN   \n",
       "83         NaN       NaN       NaN                NaN  NaN  NaN       NaN   \n",
       "84         NaN       NaN       NaN                NaN  NaN  NaN       NaN   \n",
       "85         NaN       NaN       NaN                NaN  NaN  NaN       NaN   \n",
       "86         NaN       NaN       NaN                NaN  NaN  NaN       NaN   \n",
       "\n",
       "          7        8           9          10         11                12  \\\n",
       "0   782004.0  0,255,0         NaN        NaN        NaN               NaN   \n",
       "1   781698.0  255,0,0         NaN        NaN        NaN               NaN   \n",
       "2   782004.0  128,0,0         NaN        NaN        NaN               NaN   \n",
       "3   781985.0  0,0,255         NaN        NaN        NaN               NaN   \n",
       "4   782004.0  0,255,0         NaN        NaN        NaN               NaN   \n",
       "..       ...      ...         ...        ...        ...               ...   \n",
       "82       NaN      NaN  Chromosome  3119555.0  3119573.0  Spol_Rprimer_DRb   \n",
       "83       NaN      NaN  Chromosome  3119483.0  3119501.0  Spol_Rprimer_DRb   \n",
       "84       NaN      NaN  Chromosome  3119410.0  3119428.0  Spol_Rprimer_DRb   \n",
       "85       NaN      NaN  Chromosome  3119334.0  3119352.0  Spol_Rprimer_DRb   \n",
       "86       NaN      NaN  Chromosome  3119184.0  3119202.0  Spol_Rprimer_DRb   \n",
       "\n",
       "     13   14         15         16       17  \n",
       "0   NaN  NaN        NaN        NaN      NaN  \n",
       "1   NaN  NaN        NaN        NaN      NaN  \n",
       "2   NaN  NaN        NaN        NaN      NaN  \n",
       "3   NaN  NaN        NaN        NaN      NaN  \n",
       "4   NaN  NaN        NaN        NaN      NaN  \n",
       "..  ...  ...        ...        ...      ...  \n",
       "82  0.0    -  3119555.0  3119573.0  128,0,0  \n",
       "83  0.0    -  3119483.0  3119501.0  128,0,0  \n",
       "84  0.0    -  3119410.0  3119428.0  128,0,0  \n",
       "85  0.0    -  3119334.0  3119352.0  128,0,0  \n",
       "86  0.0    -  3119184.0  3119202.0  128,0,0  \n",
       "\n",
       "[87 rows x 18 columns]"
      ]
     },
     "execution_count": 51,
     "metadata": {},
     "output_type": "execute_result"
    }
   ],
   "source": [
    "pd.read_csv('/mnt/storage10/lwang/Projects/TOAST/cache/Amplicon_design_output/Amplicon_design_output/Amplicon_mapped-2-400.bed', sep='\\t', header=None)"
   ]
  },
  {
   "cell_type": "code",
   "execution_count": 6,
   "metadata": {},
   "outputs": [
    {
     "data": {
      "text/html": [
       "<div>\n",
       "<style scoped>\n",
       "    .dataframe tbody tr th:only-of-type {\n",
       "        vertical-align: middle;\n",
       "    }\n",
       "\n",
       "    .dataframe tbody tr th {\n",
       "        vertical-align: top;\n",
       "    }\n",
       "\n",
       "    .dataframe thead th {\n",
       "        text-align: right;\n",
       "    }\n",
       "</style>\n",
       "<table border=\"1\" class=\"dataframe\">\n",
       "  <thead>\n",
       "    <tr style=\"text-align: right;\">\n",
       "      <th></th>\n",
       "      <th>Forward Primers</th>\n",
       "      <th>Reverse Primers</th>\n",
       "      <th>Name of Primer</th>\n",
       "    </tr>\n",
       "  </thead>\n",
       "  <tbody>\n",
       "    <tr>\n",
       "      <th>0</th>\n",
       "      <td>CACTCCGAAGAAGCCGAACT</td>\n",
       "      <td>TACGGATCGCAGTTGGTCAC</td>\n",
       "      <td>Primer1</td>\n",
       "    </tr>\n",
       "  </tbody>\n",
       "</table>\n",
       "</div>"
      ],
      "text/plain": [
       "        Forward Primers       Reverse Primers Name of Primer\n",
       "0  CACTCCGAAGAAGCCGAACT  TACGGATCGCAGTTGGTCAC        Primer1"
      ]
     },
     "execution_count": 6,
     "metadata": {},
     "output_type": "execute_result"
    }
   ],
   "source": [
    "# Sample data for the test DataFrame\n",
    "data = {\n",
    "    'Forward Primers': ['CACTCCGAAGAAGCCGAACT'],\n",
    "    'Reverse Primers': ['TACGGATCGCAGTTGGTCAC'],\n",
    "    'Name of Primer': ['Primer1']\n",
    "}\n",
    "\n",
    "# Create the DataFrame\n",
    "test_df = pd.DataFrame(data)\n",
    "\n",
    "test_df.head()  # Display the DataFrame\n"
   ]
  },
  {
   "cell_type": "code",
   "execution_count": 15,
   "metadata": {},
   "outputs": [],
   "source": [
    "test_df.to_csv('test_df.csv', index=False)"
   ]
  },
  {
   "cell_type": "code",
   "execution_count": 7,
   "metadata": {},
   "outputs": [],
   "source": [
    "from Bio.Seq import Seq\n",
    "\n",
    "def find_sequence_location(query_seq, fasta_file):\n",
    "    ref_genome = SeqIO.read(fasta_file, \"fasta\")\n",
    "    print('done1')\n",
    "    position = ref_genome.seq.find(query_seq)\n",
    "    print('done2')\n",
    "    \n",
    "    if position != -1:\n",
    "        return [position, position+len(query_seq)]\n",
    "    else:\n",
    "        print('!!!Primer not found in the reference genome')\n",
    "        return 0\n",
    "\n",
    "def reverse_complement_sequence(seq):\n",
    "    complement = {\"A\": \"T\", \"T\": \"A\", \"C\": \"G\", \"G\": \"C\"}\n",
    "    reverse_seq = seq[::-1]\n",
    "    print('done')\n",
    "    return \"\".join(complement[base] for base in reverse_seq)\n",
    "\n",
    "ref_genome = '/mnt/storage10/lwang/Projects/TOAST/toast/db/MTB-h37rv_asm19595v2-eg18.fa'"
   ]
  },
  {
   "cell_type": "code",
   "execution_count": 39,
   "metadata": {},
   "outputs": [
    {
     "name": "stdout",
     "output_type": "stream",
     "text": [
      "done1\n",
      "done2\n",
      "[781678, 781698]\n"
     ]
    }
   ],
   "source": [
    "print(find_sequence_location('CACTCCGAAGAAGCCGAACT', ref_genome))"
   ]
  },
  {
   "cell_type": "code",
   "execution_count": 46,
   "metadata": {},
   "outputs": [],
   "source": [
    "full_data  = pd.read_csv('/mnt/storage10/lwang/Projects/TOAST/toast/db/variants.csv')"
   ]
  },
  {
   "cell_type": "code",
   "execution_count": 11,
   "metadata": {},
   "outputs": [
    {
     "name": "stdout",
     "output_type": "stream",
     "text": [
      "Forward Primers    CACTCCGAAGAAGCCGAACT\n",
      "Reverse Primers    TACGGATCGCAGTTGGTCAC\n",
      "Name of Primer                  Primer1\n",
      "Name: 0, dtype: object\n",
      "CACTCCGAAGAAGCCGAACT TACGGATCGCAGTTGGTCAC Primer1\n",
      "<class 'str'> <class 'str'> <class 'str'>\n",
      "done1\n",
      "done2\n",
      "done1\n",
      "done2\n"
     ]
    },
    {
     "name": "stderr",
     "output_type": "stream",
     "text": [
      "/tmp/ipykernel_2792191/2629762696.py:16: FutureWarning: Series.__getitem__ treating keys as positions is deprecated. In a future version, integer keys will always be treated as labels (consistent with DataFrame behavior). To access a value by position, use `ser.iloc[pos]`\n",
      "  print(x[0], x[1], x[2])\n",
      "/tmp/ipykernel_2792191/2629762696.py:17: FutureWarning: Series.__getitem__ treating keys as positions is deprecated. In a future version, integer keys will always be treated as labels (consistent with DataFrame behavior). To access a value by position, use `ser.iloc[pos]`\n",
      "  print(type(x[0]), type(x[1]), type(x[2]))\n",
      "/tmp/ipykernel_2792191/2629762696.py:18: FutureWarning: Series.__getitem__ treating keys as positions is deprecated. In a future version, integer keys will always be treated as labels (consistent with DataFrame behavior). To access a value by position, use `ser.iloc[pos]`\n",
      "  pLeft_ID.append(x[2]+'-UserLeft')\n",
      "/tmp/ipykernel_2792191/2629762696.py:19: FutureWarning: Series.__getitem__ treating keys as positions is deprecated. In a future version, integer keys will always be treated as labels (consistent with DataFrame behavior). To access a value by position, use `ser.iloc[pos]`\n",
      "  locl = find_sequence_location(x[0], ref_genome)[0]\n",
      "/tmp/ipykernel_2792191/2629762696.py:21: FutureWarning: Series.__getitem__ treating keys as positions is deprecated. In a future version, integer keys will always be treated as labels (consistent with DataFrame behavior). To access a value by position, use `ser.iloc[pos]`\n",
      "  pLeft_length.append(len(x[0]))\n",
      "/tmp/ipykernel_2792191/2629762696.py:22: FutureWarning: Series.__getitem__ treating keys as positions is deprecated. In a future version, integer keys will always be treated as labels (consistent with DataFrame behavior). To access a value by position, use `ser.iloc[pos]`\n",
      "  pLeft_Sequences.append(x[0])\n",
      "/tmp/ipykernel_2792191/2629762696.py:23: FutureWarning: Series.__getitem__ treating keys as positions is deprecated. In a future version, integer keys will always be treated as labels (consistent with DataFrame behavior). To access a value by position, use `ser.iloc[pos]`\n",
      "  pRight_ID.append(x[2]+'-UserRight')\n",
      "/tmp/ipykernel_2792191/2629762696.py:24: FutureWarning: Series.__getitem__ treating keys as positions is deprecated. In a future version, integer keys will always be treated as labels (consistent with DataFrame behavior). To access a value by position, use `ser.iloc[pos]`\n",
      "  locr = find_sequence_location(x[1], ref_genome)[1]\n",
      "/tmp/ipykernel_2792191/2629762696.py:26: FutureWarning: Series.__getitem__ treating keys as positions is deprecated. In a future version, integer keys will always be treated as labels (consistent with DataFrame behavior). To access a value by position, use `ser.iloc[pos]`\n",
      "  pRight_length.append(len(x[1]))\n",
      "/tmp/ipykernel_2792191/2629762696.py:27: FutureWarning: Series.__getitem__ treating keys as positions is deprecated. In a future version, integer keys will always be treated as labels (consistent with DataFrame behavior). To access a value by position, use `ser.iloc[pos]`\n",
      "  pRight_Sequences.append(x[1])\n"
     ]
    }
   ],
   "source": [
    "# primer_input = pd.read_csv('primer_input.csv')\n",
    "primer_input = test_df\n",
    "pLeft_ID = []\n",
    "pLeft_coord = []\n",
    "pLeft_length = []\n",
    "pLeft_Sequences = []\n",
    "pRight_ID = []\n",
    "pRight_coord = []\n",
    "pRight_length = []\n",
    "pRight_Sequences = []\n",
    "Project_size = []\n",
    "Designed_ranges = []\n",
    "\n",
    "for i, x in primer_input.iterrows():\n",
    "    print(x)\n",
    "    print(x[0], x[1], x[2])\n",
    "    print(type(x[0]), type(x[1]), type(x[2]))\n",
    "    pLeft_ID.append(x[2]+'-UserLeft')\n",
    "    locl = find_sequence_location(x[0], ref_genome)[0]\n",
    "    pLeft_coord.append(locl)\n",
    "    pLeft_length.append(len(x[0]))\n",
    "    pLeft_Sequences.append(x[0])\n",
    "    pRight_ID.append(x[2]+'-UserRight')\n",
    "    locr = find_sequence_location(x[1], ref_genome)[1]\n",
    "    pRight_coord.append(locr)\n",
    "    pRight_length.append(len(x[1]))\n",
    "    pRight_Sequences.append(x[1])\n",
    "    Project_size.append(locr - locl)\n",
    "    Designed_ranges.append([locl, locr])\n",
    "    \n",
    "columns = ['pLeft_ID', 'pLeft_coord', 'pLeft_length', 'pLeft_Tm', 'pLeft_GC', \n",
    "            'pLeft_Sequences', 'pLeft_EndStability', 'pRight_ID', 'pRight_coord', \n",
    "            'pRight_length', 'pRight_Tm', 'pRight_GC', 'pRight_Sequences', \n",
    "            'pRight_EndStability', 'Penalty', 'Product_size', 'Amplicon_type', \n",
    "            'Designed_ranges']\n",
    "df = pd.DataFrame(columns=columns)\n",
    "\n",
    "df['pLeft_ID'] = pLeft_ID\n",
    "df['pLeft_coord'] = pLeft_coord\n",
    "df['pLeft_length'] = pLeft_length\n",
    "df['pLeft_Sequences'] = pLeft_Sequences\n",
    "df['pRight_ID'] = pRight_ID\n",
    "df['pRight_coord'] = pRight_coord\n",
    "df['pRight_length'] = pRight_length\n",
    "df['pRight_Sequences'] = pRight_Sequences\n",
    "df['Product_size'] = Project_size\n",
    "df['Designed_ranges'] = Designed_ranges\n",
    "df['pLeft_Tm'] = '-'\n",
    "df['pLeft_GC'] = '-'\n",
    "df['pLeft_EndStability'] = '-'\n",
    "df['pRight_Tm'] = '-'\n",
    "df['pRight_GC'] = '-'\n",
    "df['pRight_EndStability'] = '-'\n",
    "df['Penalty'] = '-'\n",
    "df['Amplicon_type'] = 'User-defined'\n",
    "\n"
   ]
  },
  {
   "cell_type": "code",
   "execution_count": 12,
   "metadata": {},
   "outputs": [
    {
     "data": {
      "text/html": [
       "<div>\n",
       "<style scoped>\n",
       "    .dataframe tbody tr th:only-of-type {\n",
       "        vertical-align: middle;\n",
       "    }\n",
       "\n",
       "    .dataframe tbody tr th {\n",
       "        vertical-align: top;\n",
       "    }\n",
       "\n",
       "    .dataframe thead th {\n",
       "        text-align: right;\n",
       "    }\n",
       "</style>\n",
       "<table border=\"1\" class=\"dataframe\">\n",
       "  <thead>\n",
       "    <tr style=\"text-align: right;\">\n",
       "      <th></th>\n",
       "      <th>pLeft_ID</th>\n",
       "      <th>pLeft_coord</th>\n",
       "      <th>pLeft_length</th>\n",
       "      <th>pLeft_Tm</th>\n",
       "      <th>pLeft_GC</th>\n",
       "      <th>pLeft_Sequences</th>\n",
       "      <th>pLeft_EndStability</th>\n",
       "      <th>pRight_ID</th>\n",
       "      <th>pRight_coord</th>\n",
       "      <th>pRight_length</th>\n",
       "      <th>pRight_Tm</th>\n",
       "      <th>pRight_GC</th>\n",
       "      <th>pRight_Sequences</th>\n",
       "      <th>pRight_EndStability</th>\n",
       "      <th>Penalty</th>\n",
       "      <th>Product_size</th>\n",
       "      <th>Amplicon_type</th>\n",
       "      <th>Designed_ranges</th>\n",
       "    </tr>\n",
       "  </thead>\n",
       "  <tbody>\n",
       "    <tr>\n",
       "      <th>0</th>\n",
       "      <td>Primer1-UserLeft</td>\n",
       "      <td>781678</td>\n",
       "      <td>20</td>\n",
       "      <td>-</td>\n",
       "      <td>-</td>\n",
       "      <td>CACTCCGAAGAAGCCGAACT</td>\n",
       "      <td>-</td>\n",
       "      <td>Primer1-UserRight</td>\n",
       "      <td>782004</td>\n",
       "      <td>20</td>\n",
       "      <td>-</td>\n",
       "      <td>-</td>\n",
       "      <td>TACGGATCGCAGTTGGTCAC</td>\n",
       "      <td>-</td>\n",
       "      <td>-</td>\n",
       "      <td>326</td>\n",
       "      <td>User-defined</td>\n",
       "      <td>[781678, 782004]</td>\n",
       "    </tr>\n",
       "  </tbody>\n",
       "</table>\n",
       "</div>"
      ],
      "text/plain": [
       "           pLeft_ID  pLeft_coord  pLeft_length pLeft_Tm pLeft_GC  \\\n",
       "0  Primer1-UserLeft       781678            20        -        -   \n",
       "\n",
       "        pLeft_Sequences pLeft_EndStability          pRight_ID  pRight_coord  \\\n",
       "0  CACTCCGAAGAAGCCGAACT                  -  Primer1-UserRight        782004   \n",
       "\n",
       "   pRight_length pRight_Tm pRight_GC      pRight_Sequences  \\\n",
       "0             20         -         -  TACGGATCGCAGTTGGTCAC   \n",
       "\n",
       "  pRight_EndStability Penalty  Product_size Amplicon_type   Designed_ranges  \n",
       "0                   -       -           326  User-defined  [781678, 782004]  "
      ]
     },
     "execution_count": 12,
     "metadata": {},
     "output_type": "execute_result"
    }
   ],
   "source": [
    "df"
   ]
  },
  {
   "cell_type": "code",
   "execution_count": 48,
   "metadata": {},
   "outputs": [
    {
     "ename": "ValueError",
     "evalue": "The truth value of a Series is ambiguous. Use a.empty, a.bool(), a.item(), a.any() or a.all().",
     "output_type": "error",
     "traceback": [
      "\u001b[0;31m---------------------------------------------------------------------------\u001b[0m",
      "\u001b[0;31mValueError\u001b[0m                                Traceback (most recent call last)",
      "Cell \u001b[0;32mIn[48], line 1\u001b[0m\n\u001b[0;32m----> 1\u001b[0m full_data\u001b[38;5;241m.\u001b[39mloc[\u001b[43mfull_data\u001b[49m\u001b[43m[\u001b[49m\u001b[38;5;124;43m'\u001b[39;49m\u001b[38;5;124;43mgenome_pos\u001b[39;49m\u001b[38;5;124;43m'\u001b[39;49m\u001b[43m]\u001b[49m\u001b[43m \u001b[49m\u001b[38;5;241;43m>\u001b[39;49m\u001b[43m \u001b[49m\u001b[43mlocl\u001b[49m\u001b[43m \u001b[49m\u001b[38;5;129;43;01mand\u001b[39;49;00m\u001b[43m \u001b[49m\u001b[43mfull_data\u001b[49m\u001b[43m[\u001b[49m\u001b[38;5;124;43m'\u001b[39;49m\u001b[38;5;124;43mgenome_pos\u001b[39;49m\u001b[38;5;124;43m'\u001b[39;49m\u001b[43m]\u001b[49m\u001b[43m \u001b[49m\u001b[38;5;241;43m<\u001b[39;49m\u001b[43m \u001b[49m\u001b[43mlocl\u001b[49m , \u001b[38;5;124m'\u001b[39m\u001b[38;5;124mweight\u001b[39m\u001b[38;5;124m'\u001b[39m] \u001b[38;5;241m=\u001b[39m \u001b[38;5;241m0\u001b[39m\n",
      "File \u001b[0;32m~/miniconda3/envs/ml-s10/lib/python3.11/site-packages/pandas/core/generic.py:1527\u001b[0m, in \u001b[0;36mNDFrame.__nonzero__\u001b[0;34m(self)\u001b[0m\n\u001b[1;32m   1525\u001b[0m \u001b[38;5;129m@final\u001b[39m\n\u001b[1;32m   1526\u001b[0m \u001b[38;5;28;01mdef\u001b[39;00m \u001b[38;5;21m__nonzero__\u001b[39m(\u001b[38;5;28mself\u001b[39m) \u001b[38;5;241m-\u001b[39m\u001b[38;5;241m>\u001b[39m NoReturn:\n\u001b[0;32m-> 1527\u001b[0m     \u001b[38;5;28;01mraise\u001b[39;00m \u001b[38;5;167;01mValueError\u001b[39;00m(\n\u001b[1;32m   1528\u001b[0m         \u001b[38;5;124mf\u001b[39m\u001b[38;5;124m\"\u001b[39m\u001b[38;5;124mThe truth value of a \u001b[39m\u001b[38;5;132;01m{\u001b[39;00m\u001b[38;5;28mtype\u001b[39m(\u001b[38;5;28mself\u001b[39m)\u001b[38;5;241m.\u001b[39m\u001b[38;5;18m__name__\u001b[39m\u001b[38;5;132;01m}\u001b[39;00m\u001b[38;5;124m is ambiguous. \u001b[39m\u001b[38;5;124m\"\u001b[39m\n\u001b[1;32m   1529\u001b[0m         \u001b[38;5;124m\"\u001b[39m\u001b[38;5;124mUse a.empty, a.bool(), a.item(), a.any() or a.all().\u001b[39m\u001b[38;5;124m\"\u001b[39m\n\u001b[1;32m   1530\u001b[0m     )\n",
      "\u001b[0;31mValueError\u001b[0m: The truth value of a Series is ambiguous. Use a.empty, a.bool(), a.item(), a.any() or a.all()."
     ]
    }
   ],
   "source": [
    "full_data.loc[full_data['genome_pos'] > locl and full_data['genome_pos'] < locl , 'weight'] = 0\n",
    "full_data.loc[(full_data['genome_pos'] > locl) & (full_data['genome_pos'] < loch), 'weight'] = 0\n"
   ]
  },
  {
   "cell_type": "code",
   "execution_count": 13,
   "metadata": {},
   "outputs": [],
   "source": [
    "def user_defined(primer_input_file: str, refgenome: str, full_data: pd.DataFrame):\n",
    "  primer_input = test_df\n",
    "  pLeft_ID = []\n",
    "  pLeft_coord = []\n",
    "  pLeft_length = []\n",
    "  pLeft_Sequences = []\n",
    "  pRight_ID = []\n",
    "  pRight_coord = []\n",
    "  pRight_length = []\n",
    "  pRight_Sequences = []\n",
    "  Project_size = []\n",
    "  Designed_ranges = []\n",
    "\n",
    "  for i, x in primer_input.iterrows():\n",
    "    print(x)\n",
    "    print(x[0], x[1], x[2])\n",
    "    print(type(x[0]), type(x[1]), type(x[2]))\n",
    "    pLeft_ID.append(x[2]+'-UserLeft')\n",
    "    locl = find_sequence_location(x[0], ref_genome)[0]\n",
    "    pLeft_coord.append(locl)\n",
    "    pLeft_length.append(len(x[0]))\n",
    "    pLeft_Sequences.append(x[0])\n",
    "    pRight_ID.append(x[2]+'-UserRight')\n",
    "    locr = find_sequence_location(reverse_complement_sequence(x[1]), ref_genome)[1]\n",
    "    pRight_coord.append(locr)\n",
    "    pRight_length.append(len(x[1]))\n",
    "    pRight_Sequences.append(x[1])\n",
    "    Project_size.append(locr - locl)\n",
    "    Designed_ranges.append([locl, locr])\n",
    "      \n",
    "  columns = ['pLeft_ID', 'pLeft_coord', 'pLeft_length', 'pLeft_Tm', 'pLeft_GC', \n",
    "              'pLeft_Sequences', 'pLeft_EndStability', 'pRight_ID', 'pRight_coord', \n",
    "              'pRight_length', 'pRight_Tm', 'pRight_GC', 'pRight_Sequences', \n",
    "              'pRight_EndStability', 'Penalty', 'Product_size', 'Amplicon_type', \n",
    "              'Designed_ranges']\n",
    "  df = pd.DataFrame(columns=columns)\n",
    "\n",
    "  df['pLeft_ID'] = pLeft_ID\n",
    "  df['pLeft_coord'] = pLeft_coord\n",
    "  df['pLeft_length'] = pLeft_length\n",
    "  df['pLeft_Sequences'] = pLeft_Sequences\n",
    "  df['pRight_ID'] = pRight_ID\n",
    "  df['pRight_coord'] = pRight_coord\n",
    "  df['pRight_length'] = pRight_length\n",
    "  df['pRight_Sequences'] = pRight_Sequences\n",
    "  df['Product_size'] = Project_size\n",
    "  df['Designed_ranges'] = Designed_ranges\n",
    "  df['pLeft_Tm'] = '-'\n",
    "  df['pLeft_GC'] = '-'\n",
    "  df['pLeft_EndStability'] = '-'\n",
    "  df['pRight_Tm'] = '-'\n",
    "  df['pRight_GC'] = '-'\n",
    "  df['pRight_EndStability'] = '-'\n",
    "  df['Penalty'] = '-'\n",
    "  df['Amplicon_type'] = 'User-defined'\n",
    "\n",
    "  full_data.loc[(full_data['genome_pos'] > locl) & (full_data['genome_pos'] < locr), 'weight'] = 0\n",
    "\n",
    "  primer_pool = pRight_Sequences + pLeft_Sequences\n",
    "  covered_ranges = [locl, locr]\n",
    "\n",
    "  return df, primer_pool, full_data, covered_ranges\n",
    "  # Create an empty DataFrame with these columns"
   ]
  },
  {
   "cell_type": "code",
   "execution_count": 3,
   "metadata": {},
   "outputs": [],
   "source": [
    "accepted_primers = pd.read_csv('/mnt/storage10/lwang/Projects/TOAST/cache/Amplicon_design_output/Primer_design-accepted_primers-2-400.csv')"
   ]
  },
  {
   "cell_type": "code",
   "execution_count": 4,
   "metadata": {},
   "outputs": [
    {
     "data": {
      "text/html": [
       "<div>\n",
       "<style scoped>\n",
       "    .dataframe tbody tr th:only-of-type {\n",
       "        vertical-align: middle;\n",
       "    }\n",
       "\n",
       "    .dataframe tbody tr th {\n",
       "        vertical-align: top;\n",
       "    }\n",
       "\n",
       "    .dataframe thead th {\n",
       "        text-align: right;\n",
       "    }\n",
       "</style>\n",
       "<table border=\"1\" class=\"dataframe\">\n",
       "  <thead>\n",
       "    <tr style=\"text-align: right;\">\n",
       "      <th></th>\n",
       "      <th>index</th>\n",
       "      <th>pLeft_ID</th>\n",
       "      <th>pLeft_coord</th>\n",
       "      <th>pLeft_length</th>\n",
       "      <th>pLeft_Tm</th>\n",
       "      <th>pLeft_GC</th>\n",
       "      <th>pLeft_Sequences</th>\n",
       "      <th>pLeft_EndStability</th>\n",
       "      <th>pRight_ID</th>\n",
       "      <th>pRight_coord</th>\n",
       "      <th>pRight_length</th>\n",
       "      <th>pRight_Tm</th>\n",
       "      <th>pRight_GC</th>\n",
       "      <th>pRight_Sequences</th>\n",
       "      <th>pRight_EndStability</th>\n",
       "      <th>Penalty</th>\n",
       "      <th>Product_size</th>\n",
       "      <th>Amplicon_type</th>\n",
       "      <th>Designed_ranges</th>\n",
       "    </tr>\n",
       "  </thead>\n",
       "  <tbody>\n",
       "    <tr>\n",
       "      <th>0</th>\n",
       "      <td>0</td>\n",
       "      <td>P1-sp-L1</td>\n",
       "      <td>761087</td>\n",
       "      <td>20</td>\n",
       "      <td>60.033405</td>\n",
       "      <td>50.0</td>\n",
       "      <td>AGCCAGCTGAGCCAATTCAT</td>\n",
       "      <td>2.57</td>\n",
       "      <td>P1-sp-R1</td>\n",
       "      <td>761445</td>\n",
       "      <td>18</td>\n",
       "      <td>60.726180</td>\n",
       "      <td>66.666667</td>\n",
       "      <td>CGATCGATGCGGACGGTC</td>\n",
       "      <td>3.69</td>\n",
       "      <td>2.759585</td>\n",
       "      <td>358</td>\n",
       "      <td>Gene_specific:rpoB,katG</td>\n",
       "      <td>[761087, 761445]</td>\n",
       "    </tr>\n",
       "    <tr>\n",
       "      <th>1</th>\n",
       "      <td>0</td>\n",
       "      <td>P1-ns-L1</td>\n",
       "      <td>2155074</td>\n",
       "      <td>20</td>\n",
       "      <td>59.827648</td>\n",
       "      <td>60.0</td>\n",
       "      <td>CTCTTCGTCAGCTCCCACTC</td>\n",
       "      <td>3.51</td>\n",
       "      <td>P1-ns-R1</td>\n",
       "      <td>2155436</td>\n",
       "      <td>20</td>\n",
       "      <td>60.179081</td>\n",
       "      <td>60.000000</td>\n",
       "      <td>GGGTTCACGTAGATCAGCCC</td>\n",
       "      <td>4.11</td>\n",
       "      <td>0.351433</td>\n",
       "      <td>362</td>\n",
       "      <td>Non_specific</td>\n",
       "      <td>[2155074, 2155436]</td>\n",
       "    </tr>\n",
       "  </tbody>\n",
       "</table>\n",
       "</div>"
      ],
      "text/plain": [
       "   index  pLeft_ID  pLeft_coord  pLeft_length   pLeft_Tm  pLeft_GC  \\\n",
       "0      0  P1-sp-L1       761087            20  60.033405      50.0   \n",
       "1      0  P1-ns-L1      2155074            20  59.827648      60.0   \n",
       "\n",
       "        pLeft_Sequences  pLeft_EndStability pRight_ID  pRight_coord  \\\n",
       "0  AGCCAGCTGAGCCAATTCAT                2.57  P1-sp-R1        761445   \n",
       "1  CTCTTCGTCAGCTCCCACTC                3.51  P1-ns-R1       2155436   \n",
       "\n",
       "   pRight_length  pRight_Tm  pRight_GC      pRight_Sequences  \\\n",
       "0             18  60.726180  66.666667    CGATCGATGCGGACGGTC   \n",
       "1             20  60.179081  60.000000  GGGTTCACGTAGATCAGCCC   \n",
       "\n",
       "   pRight_EndStability   Penalty  Product_size            Amplicon_type  \\\n",
       "0                 3.69  2.759585           358  Gene_specific:rpoB,katG   \n",
       "1                 4.11  0.351433           362             Non_specific   \n",
       "\n",
       "      Designed_ranges  \n",
       "0    [761087, 761445]  \n",
       "1  [2155074, 2155436]  "
      ]
     },
     "execution_count": 4,
     "metadata": {},
     "output_type": "execute_result"
    }
   ],
   "source": [
    "accepted_primers"
   ]
  },
  {
   "cell_type": "code",
   "execution_count": 9,
   "metadata": {},
   "outputs": [],
   "source": [
    "out_bed = {}\n",
    "colors = ['0,0,255', '0,255,0', '255,0,0', '128,0,0']*accepted_primers.shape[0]\n",
    "for i, x in accepted_primers.iterrows():\n",
    "    designed_range_name = f\"Designed-A{i+1}-{x['pLeft_ID'].split('-')[1]}\"\n",
    "    amplicone_name = f\"A{i+1}-{x['pLeft_ID'].split('-')[1]}\"\n",
    "    # print(x['Designed_ranges'])\n",
    "    designed_ranges = x['Designed_ranges'].strip('][')\n",
    "\n",
    "    out_bed[designed_range_name] = [int(y) for y in designed_ranges.split(', ')]\n",
    "    out_bed[amplicone_name] = [x['pLeft_coord'], x['pRight_coord']+x['pRight_length']]\n",
    "    out_bed[x['pLeft_ID']] = [x['pLeft_coord'], x['pLeft_coord']+x['pLeft_length']]\n",
    "    out_bed[x['pRight_ID']] = [x['pRight_coord'], x['pRight_coord']+x['pRight_length']]\n",
    "out = pd.DataFrame(out_bed).T\n",
    "out[2] = out.index\n",
    "out.insert(loc = 0,\n",
    "           column='col1',\n",
    "           value = ['Chromosome'] * out.shape[0])\n",
    "\n",
    "# putting in the coluns\n",
    "out[4] = 0 # score \n",
    "out[5] = '.' # strand\n",
    "out[6] = out[0] # thickStart\n",
    "out[7] = out[1] #ThickEnd\n",
    "out[8] = colors # itemRgb\n",
    "\n",
    "\n",
    "\n",
    "out.to_csv('test.bed', sep='\\t', header=False, index=False)"
   ]
  },
  {
   "cell_type": "code",
   "execution_count": null,
   "metadata": {},
   "outputs": [],
   "source": [
    "['Chromosome'] * out.shape[0]"
   ]
  },
  {
   "cell_type": "code",
   "execution_count": 3,
   "metadata": {},
   "outputs": [],
   "source": [
    "aa = pd.read_csv('/mnt/storage10/lwang/Projects/TOAST/cache/Amplicon_design_output/Primer_design-accepted_primers-2-400.csv')"
   ]
  },
  {
   "cell_type": "code",
   "execution_count": 7,
   "metadata": {},
   "outputs": [
    {
     "data": {
      "text/plain": [
       "Index(['index', 'pLeft_ID', 'pLeft_coord', 'pLeft_length', 'pLeft_Tm',\n",
       "       'pLeft_GC', 'pLeft_Sequences', 'pLeft_EndStability', 'pRight_ID',\n",
       "       'pRight_coord', 'pRight_length', 'pRight_Tm', 'pRight_GC',\n",
       "       'pRight_Sequences', 'pRight_EndStability', 'Penalty', 'Product_size',\n",
       "       'Amplicon_type', 'Designed_ranges'],\n",
       "      dtype='object')"
      ]
     },
     "execution_count": 7,
     "metadata": {},
     "output_type": "execute_result"
    }
   ],
   "source": [
    "aa.columns"
   ]
  },
  {
   "cell_type": "code",
   "execution_count": null,
   "metadata": {},
   "outputs": [],
   "source": [
    "\n"
   ]
  },
  {
   "cell_type": "code",
   "execution_count": 5,
   "metadata": {},
   "outputs": [
    {
     "name": "stdout",
     "output_type": "stream",
     "text": [
      "761087 761445\n",
      "2155074 2155436\n"
     ]
    }
   ],
   "source": [
    "for x,y in zip(aa['pLeft_coord'].tolist(), aa['pRight_coord'].tolist()):\n",
    "    print(x,y)"
   ]
  },
  {
   "cell_type": "code",
   "execution_count": null,
   "metadata": {},
   "outputs": [],
   "source": [
    "out[4] = 0\n",
    "out[5] = '.'\n",
    "out[6] = out[1]\n",
    "out[7] = out[2]\n"
   ]
  },
  {
   "cell_type": "code",
   "execution_count": 10,
   "metadata": {},
   "outputs": [
    {
     "data": {
      "text/html": [
       "<div>\n",
       "<style scoped>\n",
       "    .dataframe tbody tr th:only-of-type {\n",
       "        vertical-align: middle;\n",
       "    }\n",
       "\n",
       "    .dataframe tbody tr th {\n",
       "        vertical-align: top;\n",
       "    }\n",
       "\n",
       "    .dataframe thead th {\n",
       "        text-align: right;\n",
       "    }\n",
       "</style>\n",
       "<table border=\"1\" class=\"dataframe\">\n",
       "  <thead>\n",
       "    <tr style=\"text-align: right;\">\n",
       "      <th></th>\n",
       "      <th>col1</th>\n",
       "      <th>0</th>\n",
       "      <th>1</th>\n",
       "      <th>2</th>\n",
       "      <th>4</th>\n",
       "      <th>5</th>\n",
       "      <th>6</th>\n",
       "      <th>7</th>\n",
       "      <th>8</th>\n",
       "    </tr>\n",
       "  </thead>\n",
       "  <tbody>\n",
       "    <tr>\n",
       "      <th>Designed-A1-sp</th>\n",
       "      <td>Chromosome</td>\n",
       "      <td>761087</td>\n",
       "      <td>761445</td>\n",
       "      <td>Designed-A1-sp</td>\n",
       "      <td>0</td>\n",
       "      <td>.</td>\n",
       "      <td>761087</td>\n",
       "      <td>761445</td>\n",
       "      <td>0,0,255</td>\n",
       "    </tr>\n",
       "    <tr>\n",
       "      <th>A1-sp</th>\n",
       "      <td>Chromosome</td>\n",
       "      <td>761087</td>\n",
       "      <td>761463</td>\n",
       "      <td>A1-sp</td>\n",
       "      <td>0</td>\n",
       "      <td>.</td>\n",
       "      <td>761087</td>\n",
       "      <td>761463</td>\n",
       "      <td>0,255,0</td>\n",
       "    </tr>\n",
       "    <tr>\n",
       "      <th>P1-sp-L1</th>\n",
       "      <td>Chromosome</td>\n",
       "      <td>761087</td>\n",
       "      <td>761107</td>\n",
       "      <td>P1-sp-L1</td>\n",
       "      <td>0</td>\n",
       "      <td>.</td>\n",
       "      <td>761087</td>\n",
       "      <td>761107</td>\n",
       "      <td>255,0,0</td>\n",
       "    </tr>\n",
       "    <tr>\n",
       "      <th>P1-sp-R1</th>\n",
       "      <td>Chromosome</td>\n",
       "      <td>761445</td>\n",
       "      <td>761463</td>\n",
       "      <td>P1-sp-R1</td>\n",
       "      <td>0</td>\n",
       "      <td>.</td>\n",
       "      <td>761445</td>\n",
       "      <td>761463</td>\n",
       "      <td>128,0,0</td>\n",
       "    </tr>\n",
       "    <tr>\n",
       "      <th>Designed-A2-ns</th>\n",
       "      <td>Chromosome</td>\n",
       "      <td>2155074</td>\n",
       "      <td>2155436</td>\n",
       "      <td>Designed-A2-ns</td>\n",
       "      <td>0</td>\n",
       "      <td>.</td>\n",
       "      <td>2155074</td>\n",
       "      <td>2155436</td>\n",
       "      <td>0,0,255</td>\n",
       "    </tr>\n",
       "    <tr>\n",
       "      <th>A2-ns</th>\n",
       "      <td>Chromosome</td>\n",
       "      <td>2155074</td>\n",
       "      <td>2155456</td>\n",
       "      <td>A2-ns</td>\n",
       "      <td>0</td>\n",
       "      <td>.</td>\n",
       "      <td>2155074</td>\n",
       "      <td>2155456</td>\n",
       "      <td>0,255,0</td>\n",
       "    </tr>\n",
       "    <tr>\n",
       "      <th>P1-ns-L1</th>\n",
       "      <td>Chromosome</td>\n",
       "      <td>2155074</td>\n",
       "      <td>2155094</td>\n",
       "      <td>P1-ns-L1</td>\n",
       "      <td>0</td>\n",
       "      <td>.</td>\n",
       "      <td>2155074</td>\n",
       "      <td>2155094</td>\n",
       "      <td>255,0,0</td>\n",
       "    </tr>\n",
       "    <tr>\n",
       "      <th>P1-ns-R1</th>\n",
       "      <td>Chromosome</td>\n",
       "      <td>2155436</td>\n",
       "      <td>2155456</td>\n",
       "      <td>P1-ns-R1</td>\n",
       "      <td>0</td>\n",
       "      <td>.</td>\n",
       "      <td>2155436</td>\n",
       "      <td>2155456</td>\n",
       "      <td>128,0,0</td>\n",
       "    </tr>\n",
       "  </tbody>\n",
       "</table>\n",
       "</div>"
      ],
      "text/plain": [
       "                      col1        0        1               2  4  5        6  \\\n",
       "Designed-A1-sp  Chromosome   761087   761445  Designed-A1-sp  0  .   761087   \n",
       "A1-sp           Chromosome   761087   761463           A1-sp  0  .   761087   \n",
       "P1-sp-L1        Chromosome   761087   761107        P1-sp-L1  0  .   761087   \n",
       "P1-sp-R1        Chromosome   761445   761463        P1-sp-R1  0  .   761445   \n",
       "Designed-A2-ns  Chromosome  2155074  2155436  Designed-A2-ns  0  .  2155074   \n",
       "A2-ns           Chromosome  2155074  2155456           A2-ns  0  .  2155074   \n",
       "P1-ns-L1        Chromosome  2155074  2155094        P1-ns-L1  0  .  2155074   \n",
       "P1-ns-R1        Chromosome  2155436  2155456        P1-ns-R1  0  .  2155436   \n",
       "\n",
       "                      7        8  \n",
       "Designed-A1-sp   761445  0,0,255  \n",
       "A1-sp            761463  0,255,0  \n",
       "P1-sp-L1         761107  255,0,0  \n",
       "P1-sp-R1         761463  128,0,0  \n",
       "Designed-A2-ns  2155436  0,0,255  \n",
       "A2-ns           2155456  0,255,0  \n",
       "P1-ns-L1        2155094  255,0,0  \n",
       "P1-ns-R1        2155456  128,0,0  "
      ]
     },
     "execution_count": 10,
     "metadata": {},
     "output_type": "execute_result"
    }
   ],
   "source": [
    "out"
   ]
  },
  {
   "cell_type": "code",
   "execution_count": 39,
   "metadata": {},
   "outputs": [
    {
     "data": {
      "text/plain": [
       "'P1-L1'"
      ]
     },
     "execution_count": 39,
     "metadata": {},
     "output_type": "execute_result"
    }
   ],
   "source": [
    "amplicone_name"
   ]
  },
  {
   "cell_type": "code",
   "execution_count": 9,
   "metadata": {},
   "outputs": [],
   "source": [
    "full_data = pd.read_csv('/mnt/storage10/lwang/Projects/TOAST/toast/db/variants.csv')"
   ]
  },
  {
   "cell_type": "code",
   "execution_count": 10,
   "metadata": {},
   "outputs": [],
   "source": [
    "full_data1 = full_data[~full_data['drugs'].isna()]\n"
   ]
  },
  {
   "cell_type": "code",
   "execution_count": 14,
   "metadata": {},
   "outputs": [],
   "source": [
    "full_data1.to_csv('variants', index=False)"
   ]
  },
  {
   "cell_type": "code",
   "execution_count": 11,
   "metadata": {},
   "outputs": [
    {
     "data": {
      "text/plain": [
       "(268368, 9)"
      ]
     },
     "execution_count": 11,
     "metadata": {},
     "output_type": "execute_result"
    }
   ],
   "source": [
    "full_data1.shape"
   ]
  },
  {
   "cell_type": "code",
   "execution_count": 6,
   "metadata": {},
   "outputs": [],
   "source": [
    "pd.read_csv('/mnt/storage10/lwang/Projects/Amplicon_design_tool/test/Amplicon_design_output/Primer_design-accepted_primers-42-400.csv').head().to_excel('test.xlsx')"
   ]
  },
  {
   "cell_type": "code",
   "execution_count": 7,
   "metadata": {},
   "outputs": [],
   "source": [
    "genes = pd.read_csv('/mnt/storage10/lwang/Projects/Amplicon_design_tool/db/MTB-h37rv_asm19595v2-eg18.gff', sep = '\\t', header = None, skiprows=[0,1,2,3,4,5,6])\n",
    "genes = genes[genes[2]=='gene']\n",
    "genes['Name'] = genes[8].str.extract(r'Name=([^;]*)')\n",
    "genes = genes[[3,4,'Name']]\n",
    "genes.columns = ['start', 'end', 'gene']"
   ]
  },
  {
   "cell_type": "code",
   "execution_count": 9,
   "metadata": {},
   "outputs": [],
   "source": [
    "genes = genes[~genes['gene'].isna()]"
   ]
  },
  {
   "cell_type": "code",
   "execution_count": 7,
   "metadata": {},
   "outputs": [],
   "source": [
    "df = pd.read_csv('/mnt/storage10/lwang/Projects/Amplicon_design_tool/db/variants.csv')\n",
    "# df = df[~df['drugs'].isna()]\n",
    "# df = df[~df['type'].isin(['synonymous_variant','non_coding_transcript_exon_variant'])]\n",
    "# df = df[df['gene']=='fabG1']\n",
    "\n",
    "# print(df['genome_pos'].min())\n",
    "# print(df['genome_pos'].max())"
   ]
  },
  {
   "cell_type": "code",
   "execution_count": 10,
   "metadata": {},
   "outputs": [
    {
     "data": {
      "text/plain": [
       "gene\n",
       "PPE35      NaN\n",
       "Rv1258c    NaN\n",
       "Rv1979c    NaN\n",
       "Rv2752c    NaN\n",
       "Rv3083     NaN\n",
       "Rv3236c    NaN\n",
       "aftB       NaN\n",
       "ahpC       NaN\n",
       "ald        NaN\n",
       "alr        NaN\n",
       "atpE       NaN\n",
       "ccsA       NaN\n",
       "clpC1      NaN\n",
       "ddn        NaN\n",
       "eis        NaN\n",
       "embA       NaN\n",
       "embB       NaN\n",
       "embC       NaN\n",
       "embR       NaN\n",
       "ethA       NaN\n",
       "ethR       NaN\n",
       "fabG1      1.0\n",
       "fbiA       NaN\n",
       "fbiB       NaN\n",
       "fbiC       NaN\n",
       "fbiD       NaN\n",
       "fgd1       NaN\n",
       "folC       NaN\n",
       "fprA       NaN\n",
       "gid        NaN\n",
       "gyrA       NaN\n",
       "gyrB       NaN\n",
       "inhA       NaN\n",
       "kasA       NaN\n",
       "katG       NaN\n",
       "mmpL5      NaN\n",
       "mmpR5      NaN\n",
       "mmpS5      NaN\n",
       "mshA       NaN\n",
       "ndh        NaN\n",
       "panD       NaN\n",
       "pepQ       NaN\n",
       "pncA       NaN\n",
       "ribD       NaN\n",
       "rplC       NaN\n",
       "rpoA       NaN\n",
       "rpoB       NaN\n",
       "rpoC       NaN\n",
       "rpsA       NaN\n",
       "rpsL       NaN\n",
       "rrl        NaN\n",
       "rrs        NaN\n",
       "thyA       NaN\n",
       "thyX       NaN\n",
       "tlyA       NaN\n",
       "ubiA       NaN\n",
       "whiB6      NaN\n",
       "whiB7      NaN\n",
       "Name: count, dtype: float64"
      ]
     },
     "execution_count": 10,
     "metadata": {},
     "output_type": "execute_result"
    }
   ],
   "source": [
    "df1['gene'].value_counts()/df['gene'].value_counts()"
   ]
  },
  {
   "cell_type": "code",
   "execution_count": 4,
   "metadata": {},
   "outputs": [
    {
     "data": {
      "text/plain": [
       "array(['c.-15C>T', 'c.-60C>G', 'c.-8T>C', ..., 'p.Glu59Gly', 'p.Ala43Pro',\n",
       "       'p.Arg25Pro'], dtype=object)"
      ]
     },
     "execution_count": 4,
     "metadata": {},
     "output_type": "execute_result"
    }
   ],
   "source": [
    "df = pd.read_csv('/mnt/storage10/lwang/Projects/Amplicon_design_tool/db/variants.csv')\n",
    "df1 = df[df['gene']=='fabG1']\n",
    "df1['change'].unique()"
   ]
  },
  {
   "cell_type": "code",
   "execution_count": 17,
   "metadata": {},
   "outputs": [
    {
     "name": "stdout",
     "output_type": "stream",
     "text": [
      "fabG1    3.0/10 (30%)\n",
      "PPE35    1.0/10 (10%)\n",
      "fprA     1.0/10 (10%)\n",
      "gid       0.0/10 (0%)\n",
      "Name: count, dtype: object\n"
     ]
    }
   ],
   "source": [
    "import pandas as pd\n",
    "\n",
    "# Example Series\n",
    "series1 = pd.Series({'fabG1': 3, 'PPE35': 1, 'fprA': 1}, name='count')\n",
    "series2 = pd.Series({'fabG1': 10, 'PPE35': 10, 'fprA': 10, 'gid': 10}, name='count')\n",
    "\n",
    "series1_aligned = series1.reindex(series2.index).fillna(0)\n",
    "\n",
    "# Calculate the ratio and format as string\n",
    "result = series1_aligned / series2\n",
    "formatted_result = result.apply(lambda x: f\"{x:.0%}\")\n",
    "\n",
    "# Combine the two series\n",
    "combined_series = series1_aligned.astype(str) + \"/\" + series2.astype(str) + \" (\" + formatted_result + \")\"\n",
    "\n",
    "print(combined_series)\n"
   ]
  },
  {
   "cell_type": "code",
   "execution_count": 11,
   "metadata": {},
   "outputs": [
    {
     "data": {
      "text/plain": [
       "gene\n",
       "gyrA       670971\n",
       "rrs        522322\n",
       "rpoC       508252\n",
       "rrl        503108\n",
       "embA       289453\n",
       "mmpL5      285863\n",
       "rpoB       278048\n",
       "clpC1      246191\n",
       "embB       235966\n",
       "rpsL       189191\n",
       "PPE35      188896\n",
       "fprA       186174\n",
       "gid        172437\n",
       "Rv1979c    170503\n",
       "whiB6      169146\n",
       "katG       165235\n",
       "ald        164828\n",
       "embC       161971\n",
       "rpsA       161781\n",
       "tlyA       149695\n",
       "fgd1       135426\n",
       "rpoA       129223\n",
       "aftB       127931\n",
       "mshA       126670\n",
       "fbiC       117931\n",
       "kasA       106268\n",
       "gyrB        77837\n",
       "Rv2752c     75833\n",
       "pncA        74039\n",
       "ccsA        73707\n",
       "inhA        66439\n",
       "Rv3236c     63067\n",
       "thyA        61490\n",
       "Rv3083      56273\n",
       "ndh         53898\n",
       "Rv1258c     50703\n",
       "ethA        50536\n",
       "ahpC        47889\n",
       "rplC        43808\n",
       "mmpS5       43471\n",
       "folC        39463\n",
       "thyX        37946\n",
       "ubiA        36804\n",
       "fbiB        35925\n",
       "fabG1       33327\n",
       "fbiD        32937\n",
       "alr         30611\n",
       "eis         27123\n",
       "pepQ        25431\n",
       "embR        21930\n",
       "atpE        19244\n",
       "whiB7       13313\n",
       "panD        13007\n",
       "ethR        11853\n",
       "fbiA        10812\n",
       "ribD        10616\n",
       "ddn         10223\n",
       "mmpR5        7961\n",
       "Name: count, dtype: int64"
      ]
     },
     "execution_count": 11,
     "metadata": {},
     "output_type": "execute_result"
    }
   ],
   "source": [
    "df['gene'].value_counts()"
   ]
  },
  {
   "cell_type": "code",
   "execution_count": 12,
   "metadata": {},
   "outputs": [
    {
     "data": {
      "text/plain": [
       "gene\n",
       "fabG1    33327\n",
       "Name: count, dtype: int64"
      ]
     },
     "execution_count": 12,
     "metadata": {},
     "output_type": "execute_result"
    }
   ],
   "source": [
    "df1['gene'].value_counts()"
   ]
  },
  {
   "cell_type": "code",
   "execution_count": 5,
   "metadata": {},
   "outputs": [
    {
     "data": {
      "text/html": [
       "<div>\n",
       "<style scoped>\n",
       "    .dataframe tbody tr th:only-of-type {\n",
       "        vertical-align: middle;\n",
       "    }\n",
       "\n",
       "    .dataframe tbody tr th {\n",
       "        vertical-align: top;\n",
       "    }\n",
       "\n",
       "    .dataframe thead th {\n",
       "        text-align: right;\n",
       "    }\n",
       "</style>\n",
       "<table border=\"1\" class=\"dataframe\">\n",
       "  <thead>\n",
       "    <tr style=\"text-align: right;\">\n",
       "      <th></th>\n",
       "      <th>pLeft_ID</th>\n",
       "      <th>pLeft_coord</th>\n",
       "      <th>pLeft_length</th>\n",
       "      <th>pLeft_Tm</th>\n",
       "      <th>pLeft_GC</th>\n",
       "      <th>pLeft_Sequences</th>\n",
       "      <th>pLeft_EndStability</th>\n",
       "      <th>pRight_ID</th>\n",
       "      <th>pRight_coord</th>\n",
       "      <th>pRight_length</th>\n",
       "      <th>pRight_Tm</th>\n",
       "      <th>pRight_GC</th>\n",
       "      <th>pRight_Sequences</th>\n",
       "      <th>pRight_EndStability</th>\n",
       "      <th>Penalty</th>\n",
       "      <th>Product_size</th>\n",
       "      <th>Amplicone_type</th>\n",
       "      <th>Redesign</th>\n",
       "      <th>Designed_ranges</th>\n",
       "    </tr>\n",
       "  </thead>\n",
       "  <tbody>\n",
       "    <tr>\n",
       "      <th>0</th>\n",
       "      <td>P1-L0</td>\n",
       "      <td>761087</td>\n",
       "      <td>20</td>\n",
       "      <td>60.033405</td>\n",
       "      <td>50.000000</td>\n",
       "      <td>NaN</td>\n",
       "      <td>2.57</td>\n",
       "      <td>P1-R0</td>\n",
       "      <td>761445</td>\n",
       "      <td>18</td>\n",
       "      <td>60.726180</td>\n",
       "      <td>66.666667</td>\n",
       "      <td>NaN</td>\n",
       "      <td>3.69</td>\n",
       "      <td>2.759585</td>\n",
       "      <td>358</td>\n",
       "      <td>Non_specific</td>\n",
       "      <td>['-']</td>\n",
       "      <td>[761087, 761445]</td>\n",
       "    </tr>\n",
       "    <tr>\n",
       "      <th>1</th>\n",
       "      <td>P2-L0</td>\n",
       "      <td>2155074</td>\n",
       "      <td>20</td>\n",
       "      <td>59.827648</td>\n",
       "      <td>60.000000</td>\n",
       "      <td>NaN</td>\n",
       "      <td>3.51</td>\n",
       "      <td>P2-R0</td>\n",
       "      <td>2155436</td>\n",
       "      <td>20</td>\n",
       "      <td>60.179081</td>\n",
       "      <td>60.000000</td>\n",
       "      <td>NaN</td>\n",
       "      <td>4.11</td>\n",
       "      <td>0.351433</td>\n",
       "      <td>362</td>\n",
       "      <td>Non_specific</td>\n",
       "      <td>['-']</td>\n",
       "      <td>[2155074, 2155436]</td>\n",
       "    </tr>\n",
       "    <tr>\n",
       "      <th>2</th>\n",
       "      <td>P3-L0</td>\n",
       "      <td>4247449</td>\n",
       "      <td>20</td>\n",
       "      <td>59.822859</td>\n",
       "      <td>55.000000</td>\n",
       "      <td>NaN</td>\n",
       "      <td>2.24</td>\n",
       "      <td>P3-R0</td>\n",
       "      <td>4247838</td>\n",
       "      <td>19</td>\n",
       "      <td>60.004320</td>\n",
       "      <td>52.631579</td>\n",
       "      <td>NaN</td>\n",
       "      <td>2.85</td>\n",
       "      <td>1.181461</td>\n",
       "      <td>389</td>\n",
       "      <td>Non_specific</td>\n",
       "      <td>['-']</td>\n",
       "      <td>[4247449, 4247838]</td>\n",
       "    </tr>\n",
       "    <tr>\n",
       "      <th>3</th>\n",
       "      <td>P4-L0</td>\n",
       "      <td>2288903</td>\n",
       "      <td>20</td>\n",
       "      <td>60.179194</td>\n",
       "      <td>60.000000</td>\n",
       "      <td>NaN</td>\n",
       "      <td>3.46</td>\n",
       "      <td>P4-R0</td>\n",
       "      <td>2289254</td>\n",
       "      <td>20</td>\n",
       "      <td>60.599204</td>\n",
       "      <td>60.000000</td>\n",
       "      <td>NaN</td>\n",
       "      <td>6.13</td>\n",
       "      <td>0.778398</td>\n",
       "      <td>351</td>\n",
       "      <td>Non_specific</td>\n",
       "      <td>['-']</td>\n",
       "      <td>[2288903, 2289254]</td>\n",
       "    </tr>\n",
       "    <tr>\n",
       "      <th>4</th>\n",
       "      <td>P5-L0</td>\n",
       "      <td>781654</td>\n",
       "      <td>19</td>\n",
       "      <td>60.446445</td>\n",
       "      <td>57.894737</td>\n",
       "      <td>NaN</td>\n",
       "      <td>2.90</td>\n",
       "      <td>P5-R0</td>\n",
       "      <td>782004</td>\n",
       "      <td>20</td>\n",
       "      <td>60.108992</td>\n",
       "      <td>55.000000</td>\n",
       "      <td>NaN</td>\n",
       "      <td>4.02</td>\n",
       "      <td>1.555437</td>\n",
       "      <td>350</td>\n",
       "      <td>Non_specific</td>\n",
       "      <td>['-']</td>\n",
       "      <td>[781654, 782004]</td>\n",
       "    </tr>\n",
       "    <tr>\n",
       "      <th>5</th>\n",
       "      <td>P6-L1</td>\n",
       "      <td>4247250</td>\n",
       "      <td>20</td>\n",
       "      <td>60.750911</td>\n",
       "      <td>60.000000</td>\n",
       "      <td>NaN</td>\n",
       "      <td>4.30</td>\n",
       "      <td>P6-R1</td>\n",
       "      <td>4247602</td>\n",
       "      <td>18</td>\n",
       "      <td>60.437359</td>\n",
       "      <td>66.666667</td>\n",
       "      <td>NaN</td>\n",
       "      <td>5.19</td>\n",
       "      <td>3.188270</td>\n",
       "      <td>352</td>\n",
       "      <td>Non_specific</td>\n",
       "      <td>['-']</td>\n",
       "      <td>[4247250, 4247602]</td>\n",
       "    </tr>\n",
       "    <tr>\n",
       "      <th>6</th>\n",
       "      <td>P7-L0</td>\n",
       "      <td>1673419</td>\n",
       "      <td>20</td>\n",
       "      <td>59.970965</td>\n",
       "      <td>60.000000</td>\n",
       "      <td>NaN</td>\n",
       "      <td>5.14</td>\n",
       "      <td>P7-R0</td>\n",
       "      <td>1673835</td>\n",
       "      <td>20</td>\n",
       "      <td>59.905954</td>\n",
       "      <td>50.000000</td>\n",
       "      <td>NaN</td>\n",
       "      <td>4.06</td>\n",
       "      <td>0.123080</td>\n",
       "      <td>416</td>\n",
       "      <td>Non_specific</td>\n",
       "      <td>['-']</td>\n",
       "      <td>[1673419, 1673835]</td>\n",
       "    </tr>\n",
       "    <tr>\n",
       "      <th>7</th>\n",
       "      <td>P8-L0</td>\n",
       "      <td>7344</td>\n",
       "      <td>20</td>\n",
       "      <td>60.109458</td>\n",
       "      <td>55.000000</td>\n",
       "      <td>NaN</td>\n",
       "      <td>4.04</td>\n",
       "      <td>P8-R0</td>\n",
       "      <td>7698</td>\n",
       "      <td>20</td>\n",
       "      <td>60.179081</td>\n",
       "      <td>60.000000</td>\n",
       "      <td>NaN</td>\n",
       "      <td>2.92</td>\n",
       "      <td>0.288539</td>\n",
       "      <td>354</td>\n",
       "      <td>Non_specific</td>\n",
       "      <td>['-']</td>\n",
       "      <td>[7344, 7698]</td>\n",
       "    </tr>\n",
       "    <tr>\n",
       "      <th>8</th>\n",
       "      <td>P9-L0</td>\n",
       "      <td>2288582</td>\n",
       "      <td>19</td>\n",
       "      <td>60.599797</td>\n",
       "      <td>63.157895</td>\n",
       "      <td>NaN</td>\n",
       "      <td>4.45</td>\n",
       "      <td>P9-R0</td>\n",
       "      <td>2288998</td>\n",
       "      <td>20</td>\n",
       "      <td>60.108615</td>\n",
       "      <td>60.000000</td>\n",
       "      <td>NaN</td>\n",
       "      <td>4.34</td>\n",
       "      <td>1.708412</td>\n",
       "      <td>416</td>\n",
       "      <td>Non_specific</td>\n",
       "      <td>['-']</td>\n",
       "      <td>[2288582, 2288998]</td>\n",
       "    </tr>\n",
       "    <tr>\n",
       "      <th>9</th>\n",
       "      <td>P10-L0</td>\n",
       "      <td>1472411</td>\n",
       "      <td>20</td>\n",
       "      <td>60.038526</td>\n",
       "      <td>55.000000</td>\n",
       "      <td>NaN</td>\n",
       "      <td>4.35</td>\n",
       "      <td>P10-R0</td>\n",
       "      <td>1472826</td>\n",
       "      <td>20</td>\n",
       "      <td>60.037605</td>\n",
       "      <td>55.000000</td>\n",
       "      <td>NaN</td>\n",
       "      <td>6.01</td>\n",
       "      <td>0.076131</td>\n",
       "      <td>415</td>\n",
       "      <td>Non_specific</td>\n",
       "      <td>['-']</td>\n",
       "      <td>[1472411, 1472826]</td>\n",
       "    </tr>\n",
       "  </tbody>\n",
       "</table>\n",
       "</div>"
      ],
      "text/plain": [
       "  pLeft_ID  pLeft_coord  pLeft_length   pLeft_Tm   pLeft_GC  pLeft_Sequences  \\\n",
       "0    P1-L0       761087            20  60.033405  50.000000              NaN   \n",
       "1    P2-L0      2155074            20  59.827648  60.000000              NaN   \n",
       "2    P3-L0      4247449            20  59.822859  55.000000              NaN   \n",
       "3    P4-L0      2288903            20  60.179194  60.000000              NaN   \n",
       "4    P5-L0       781654            19  60.446445  57.894737              NaN   \n",
       "5    P6-L1      4247250            20  60.750911  60.000000              NaN   \n",
       "6    P7-L0      1673419            20  59.970965  60.000000              NaN   \n",
       "7    P8-L0         7344            20  60.109458  55.000000              NaN   \n",
       "8    P9-L0      2288582            19  60.599797  63.157895              NaN   \n",
       "9   P10-L0      1472411            20  60.038526  55.000000              NaN   \n",
       "\n",
       "   pLeft_EndStability pRight_ID  pRight_coord  pRight_length  pRight_Tm  \\\n",
       "0                2.57     P1-R0        761445             18  60.726180   \n",
       "1                3.51     P2-R0       2155436             20  60.179081   \n",
       "2                2.24     P3-R0       4247838             19  60.004320   \n",
       "3                3.46     P4-R0       2289254             20  60.599204   \n",
       "4                2.90     P5-R0        782004             20  60.108992   \n",
       "5                4.30     P6-R1       4247602             18  60.437359   \n",
       "6                5.14     P7-R0       1673835             20  59.905954   \n",
       "7                4.04     P8-R0          7698             20  60.179081   \n",
       "8                4.45     P9-R0       2288998             20  60.108615   \n",
       "9                4.35    P10-R0       1472826             20  60.037605   \n",
       "\n",
       "   pRight_GC  pRight_Sequences  pRight_EndStability   Penalty  Product_size  \\\n",
       "0  66.666667               NaN                 3.69  2.759585           358   \n",
       "1  60.000000               NaN                 4.11  0.351433           362   \n",
       "2  52.631579               NaN                 2.85  1.181461           389   \n",
       "3  60.000000               NaN                 6.13  0.778398           351   \n",
       "4  55.000000               NaN                 4.02  1.555437           350   \n",
       "5  66.666667               NaN                 5.19  3.188270           352   \n",
       "6  50.000000               NaN                 4.06  0.123080           416   \n",
       "7  60.000000               NaN                 2.92  0.288539           354   \n",
       "8  60.000000               NaN                 4.34  1.708412           416   \n",
       "9  55.000000               NaN                 6.01  0.076131           415   \n",
       "\n",
       "  Amplicone_type Redesign     Designed_ranges  \n",
       "0   Non_specific    ['-']    [761087, 761445]  \n",
       "1   Non_specific    ['-']  [2155074, 2155436]  \n",
       "2   Non_specific    ['-']  [4247449, 4247838]  \n",
       "3   Non_specific    ['-']  [2288903, 2289254]  \n",
       "4   Non_specific    ['-']    [781654, 782004]  \n",
       "5   Non_specific    ['-']  [4247250, 4247602]  \n",
       "6   Non_specific    ['-']  [1673419, 1673835]  \n",
       "7   Non_specific    ['-']        [7344, 7698]  \n",
       "8   Non_specific    ['-']  [2288582, 2288998]  \n",
       "9   Non_specific    ['-']  [1472411, 1472826]  "
      ]
     },
     "execution_count": 5,
     "metadata": {},
     "output_type": "execute_result"
    }
   ],
   "source": [
    "reference_design = './test/Amplicon_design_output/Primer_design-accepted_primers-10-400.csv'\n",
    "pd.read_csv(reference_design, header = 0)"
   ]
  },
  {
   "cell_type": "code",
   "execution_count": 5,
   "metadata": {},
   "outputs": [],
   "source": [
    "susana_design = pd.read_excel('/mnt/storage10/lwang/Projects/Amplicone_design_tool/model2in1/amplicon_TB_2023_V2.xlsx', header = 0)\n",
    "susana_design = susana_design.iloc[:-3]"
   ]
  },
  {
   "cell_type": "code",
   "execution_count": 6,
   "metadata": {},
   "outputs": [],
   "source": [
    "susana_design = pd.read_excel('/mnt/storage10/lwang/Projects/Amplicone_design_tool/model2in1/amplicon_TB_2023_V2.xlsx', header = 0)\n",
    "susana_design = susana_design.iloc[:-3]\n",
    "susana_design.to_csv('reference_design.csv', index = False)"
   ]
  },
  {
   "cell_type": "code",
   "execution_count": 16,
   "metadata": {},
   "outputs": [],
   "source": [
    "df1 = pd.read_csv('/mnt/storage10/lwang/Projects/Amplicone_design_tool/model2in1/test/Amplicon_design_output/Primer_design-accepted_primers-4-400.csv', header = 0)"
   ]
  },
  {
   "cell_type": "code",
   "execution_count": 17,
   "metadata": {},
   "outputs": [],
   "source": [
    "def modify_primer_name(primer, amplicone_type):\n",
    "    prefix = 'sp' if 'Gene_specific' in amplicone_type elif 'ns' if 'Non_specific' in amplicone_type elif 'spol' if 'spol' in amplicone_type else ''\n",
    "    parts = primer.split('-')\n",
    "    if len(parts) > 1:\n",
    "        parts[-1] = 'L' + str(int(parts[-1][1:]) + 1)  # Increment the number\n",
    "    parts.insert(1, prefix)\n",
    "    return '-'.join(parts)\n",
    "\n",
    "# Apply modifications\n",
    "df1['pLeft_ID'] = df1.apply(lambda x: modify_primer_name(x['pLeft_ID'], x['Amplicone_type']), axis=1)\n",
    "df1['pRight_ID'] = df1.apply(lambda x: modify_primer_name(x['pRight_ID'], x['Amplicone_type']), axis=1)"
   ]
  },
  {
   "cell_type": "code",
   "execution_count": 18,
   "metadata": {},
   "outputs": [
    {
     "data": {
      "text/html": [
       "<div>\n",
       "<style scoped>\n",
       "    .dataframe tbody tr th:only-of-type {\n",
       "        vertical-align: middle;\n",
       "    }\n",
       "\n",
       "    .dataframe tbody tr th {\n",
       "        vertical-align: top;\n",
       "    }\n",
       "\n",
       "    .dataframe thead th {\n",
       "        text-align: right;\n",
       "    }\n",
       "</style>\n",
       "<table border=\"1\" class=\"dataframe\">\n",
       "  <thead>\n",
       "    <tr style=\"text-align: right;\">\n",
       "      <th></th>\n",
       "      <th>index</th>\n",
       "      <th>pLeft_ID</th>\n",
       "      <th>pLeft_coord</th>\n",
       "      <th>pLeft_length</th>\n",
       "      <th>pLeft_Tm</th>\n",
       "      <th>pLeft_GC</th>\n",
       "      <th>pLeft_Sequences</th>\n",
       "      <th>pLeft_EndStability</th>\n",
       "      <th>pRight_ID</th>\n",
       "      <th>pRight_coord</th>\n",
       "      <th>pRight_length</th>\n",
       "      <th>pRight_Tm</th>\n",
       "      <th>pRight_GC</th>\n",
       "      <th>pRight_Sequences</th>\n",
       "      <th>pRight_EndStability</th>\n",
       "      <th>Penalty</th>\n",
       "      <th>Product_size</th>\n",
       "      <th>Amplicone_type</th>\n",
       "      <th>Redesign</th>\n",
       "      <th>Designed_ranges</th>\n",
       "    </tr>\n",
       "  </thead>\n",
       "  <tbody>\n",
       "    <tr>\n",
       "      <th>0</th>\n",
       "      <td>0</td>\n",
       "      <td>P1-sp-L1</td>\n",
       "      <td>761087</td>\n",
       "      <td>20</td>\n",
       "      <td>60.033405</td>\n",
       "      <td>50.0</td>\n",
       "      <td>AGCCAGCTGAGCCAATTCAT</td>\n",
       "      <td>2.57</td>\n",
       "      <td>P1-sp-L1</td>\n",
       "      <td>761445</td>\n",
       "      <td>18</td>\n",
       "      <td>60.726180</td>\n",
       "      <td>66.666667</td>\n",
       "      <td>CGATCGATGCGGACGGTC</td>\n",
       "      <td>3.69</td>\n",
       "      <td>2.759585</td>\n",
       "      <td>358</td>\n",
       "      <td>Gene_specific</td>\n",
       "      <td>['-']</td>\n",
       "      <td>[761087, 761445]</td>\n",
       "    </tr>\n",
       "    <tr>\n",
       "      <th>1</th>\n",
       "      <td>0</td>\n",
       "      <td>P2-sp-L1</td>\n",
       "      <td>2155074</td>\n",
       "      <td>20</td>\n",
       "      <td>59.827648</td>\n",
       "      <td>60.0</td>\n",
       "      <td>CTCTTCGTCAGCTCCCACTC</td>\n",
       "      <td>3.51</td>\n",
       "      <td>P2-sp-L1</td>\n",
       "      <td>2155436</td>\n",
       "      <td>20</td>\n",
       "      <td>60.179081</td>\n",
       "      <td>60.000000</td>\n",
       "      <td>GGGTTCACGTAGATCAGCCC</td>\n",
       "      <td>4.11</td>\n",
       "      <td>0.351433</td>\n",
       "      <td>362</td>\n",
       "      <td>Gene_specific</td>\n",
       "      <td>['-']</td>\n",
       "      <td>[2155074, 2155436]</td>\n",
       "    </tr>\n",
       "    <tr>\n",
       "      <th>2</th>\n",
       "      <td>0</td>\n",
       "      <td>P1-ns-L1</td>\n",
       "      <td>4247449</td>\n",
       "      <td>20</td>\n",
       "      <td>59.822859</td>\n",
       "      <td>55.0</td>\n",
       "      <td>GCCGGCTACATGTCCAACTA</td>\n",
       "      <td>2.24</td>\n",
       "      <td>P1-ns-L1</td>\n",
       "      <td>4247838</td>\n",
       "      <td>19</td>\n",
       "      <td>60.004320</td>\n",
       "      <td>52.631579</td>\n",
       "      <td>TTACCGCCGRATTCACACT</td>\n",
       "      <td>2.85</td>\n",
       "      <td>1.181461</td>\n",
       "      <td>389</td>\n",
       "      <td>Non_specific</td>\n",
       "      <td>['-']</td>\n",
       "      <td>[4247449, 4247838]</td>\n",
       "    </tr>\n",
       "    <tr>\n",
       "      <th>3</th>\n",
       "      <td>0</td>\n",
       "      <td>P2-ns-L1</td>\n",
       "      <td>2288903</td>\n",
       "      <td>20</td>\n",
       "      <td>60.179194</td>\n",
       "      <td>60.0</td>\n",
       "      <td>CCGTTCTCGTCGACTCCTTC</td>\n",
       "      <td>3.46</td>\n",
       "      <td>P2-ns-L1</td>\n",
       "      <td>2289254</td>\n",
       "      <td>20</td>\n",
       "      <td>60.599204</td>\n",
       "      <td>60.000000</td>\n",
       "      <td>CCCGCATACGTCCACCATAC</td>\n",
       "      <td>6.13</td>\n",
       "      <td>0.778398</td>\n",
       "      <td>351</td>\n",
       "      <td>Non_specific</td>\n",
       "      <td>['-']</td>\n",
       "      <td>[2288903, 2289254]</td>\n",
       "    </tr>\n",
       "  </tbody>\n",
       "</table>\n",
       "</div>"
      ],
      "text/plain": [
       "   index  pLeft_ID  pLeft_coord  pLeft_length   pLeft_Tm  pLeft_GC  \\\n",
       "0      0  P1-sp-L1       761087            20  60.033405      50.0   \n",
       "1      0  P2-sp-L1      2155074            20  59.827648      60.0   \n",
       "2      0  P1-ns-L1      4247449            20  59.822859      55.0   \n",
       "3      0  P2-ns-L1      2288903            20  60.179194      60.0   \n",
       "\n",
       "        pLeft_Sequences  pLeft_EndStability pRight_ID  pRight_coord  \\\n",
       "0  AGCCAGCTGAGCCAATTCAT                2.57  P1-sp-L1        761445   \n",
       "1  CTCTTCGTCAGCTCCCACTC                3.51  P2-sp-L1       2155436   \n",
       "2  GCCGGCTACATGTCCAACTA                2.24  P1-ns-L1       4247838   \n",
       "3  CCGTTCTCGTCGACTCCTTC                3.46  P2-ns-L1       2289254   \n",
       "\n",
       "   pRight_length  pRight_Tm  pRight_GC      pRight_Sequences  \\\n",
       "0             18  60.726180  66.666667    CGATCGATGCGGACGGTC   \n",
       "1             20  60.179081  60.000000  GGGTTCACGTAGATCAGCCC   \n",
       "2             19  60.004320  52.631579   TTACCGCCGRATTCACACT   \n",
       "3             20  60.599204  60.000000  CCCGCATACGTCCACCATAC   \n",
       "\n",
       "   pRight_EndStability   Penalty  Product_size Amplicone_type Redesign  \\\n",
       "0                 3.69  2.759585           358  Gene_specific    ['-']   \n",
       "1                 4.11  0.351433           362  Gene_specific    ['-']   \n",
       "2                 2.85  1.181461           389   Non_specific    ['-']   \n",
       "3                 6.13  0.778398           351   Non_specific    ['-']   \n",
       "\n",
       "      Designed_ranges  \n",
       "0    [761087, 761445]  \n",
       "1  [2155074, 2155436]  \n",
       "2  [4247449, 4247838]  \n",
       "3  [2288903, 2289254]  "
      ]
     },
     "execution_count": 18,
     "metadata": {},
     "output_type": "execute_result"
    }
   ],
   "source": [
    "df1"
   ]
  },
  {
   "cell_type": "code",
   "execution_count": 9,
   "metadata": {},
   "outputs": [
    {
     "data": {
      "text/html": [
       "<div>\n",
       "<style scoped>\n",
       "    .dataframe tbody tr th:only-of-type {\n",
       "        vertical-align: middle;\n",
       "    }\n",
       "\n",
       "    .dataframe tbody tr th {\n",
       "        vertical-align: top;\n",
       "    }\n",
       "\n",
       "    .dataframe thead th {\n",
       "        text-align: right;\n",
       "    }\n",
       "</style>\n",
       "<table border=\"1\" class=\"dataframe\">\n",
       "  <thead>\n",
       "    <tr style=\"text-align: right;\">\n",
       "      <th></th>\n",
       "      <th>index</th>\n",
       "      <th>pLeft_ID</th>\n",
       "      <th>pLeft_coord</th>\n",
       "      <th>pLeft_length</th>\n",
       "      <th>pLeft_Tm</th>\n",
       "      <th>pLeft_GC</th>\n",
       "      <th>pLeft_Sequences</th>\n",
       "      <th>pLeft_EndStability</th>\n",
       "      <th>pRight_ID</th>\n",
       "      <th>pRight_coord</th>\n",
       "      <th>pRight_length</th>\n",
       "      <th>pRight_Tm</th>\n",
       "      <th>pRight_GC</th>\n",
       "      <th>pRight_Sequences</th>\n",
       "      <th>pRight_EndStability</th>\n",
       "      <th>Penalty</th>\n",
       "      <th>Product_size</th>\n",
       "      <th>Amplicone_type</th>\n",
       "      <th>Redesign</th>\n",
       "      <th>Designed_ranges</th>\n",
       "    </tr>\n",
       "  </thead>\n",
       "  <tbody>\n",
       "    <tr>\n",
       "      <th>0</th>\n",
       "      <td>0</td>\n",
       "      <td>P1-L0</td>\n",
       "      <td>761087</td>\n",
       "      <td>20</td>\n",
       "      <td>60.033405</td>\n",
       "      <td>50.0</td>\n",
       "      <td>AGCCAGCTGAGCCAATTCAT</td>\n",
       "      <td>2.57</td>\n",
       "      <td>P1-R0</td>\n",
       "      <td>761445</td>\n",
       "      <td>18</td>\n",
       "      <td>60.726180</td>\n",
       "      <td>66.666667</td>\n",
       "      <td>CGATCGATGCGGACGGTC</td>\n",
       "      <td>3.69</td>\n",
       "      <td>2.759585</td>\n",
       "      <td>358</td>\n",
       "      <td>Gene_specific</td>\n",
       "      <td>['-']</td>\n",
       "      <td>[761087, 761445]</td>\n",
       "    </tr>\n",
       "    <tr>\n",
       "      <th>1</th>\n",
       "      <td>0</td>\n",
       "      <td>P2-L0</td>\n",
       "      <td>2155074</td>\n",
       "      <td>20</td>\n",
       "      <td>59.827648</td>\n",
       "      <td>60.0</td>\n",
       "      <td>CTCTTCGTCAGCTCCCACTC</td>\n",
       "      <td>3.51</td>\n",
       "      <td>P2-R0</td>\n",
       "      <td>2155436</td>\n",
       "      <td>20</td>\n",
       "      <td>60.179081</td>\n",
       "      <td>60.000000</td>\n",
       "      <td>GGGTTCACGTAGATCAGCCC</td>\n",
       "      <td>4.11</td>\n",
       "      <td>0.351433</td>\n",
       "      <td>362</td>\n",
       "      <td>Gene_specific</td>\n",
       "      <td>['-']</td>\n",
       "      <td>[2155074, 2155436]</td>\n",
       "    </tr>\n",
       "    <tr>\n",
       "      <th>2</th>\n",
       "      <td>0</td>\n",
       "      <td>P1-L0</td>\n",
       "      <td>4247449</td>\n",
       "      <td>20</td>\n",
       "      <td>59.822859</td>\n",
       "      <td>55.0</td>\n",
       "      <td>GCCGGCTACATGTCCAACTA</td>\n",
       "      <td>2.24</td>\n",
       "      <td>P1-R0</td>\n",
       "      <td>4247838</td>\n",
       "      <td>19</td>\n",
       "      <td>60.004320</td>\n",
       "      <td>52.631579</td>\n",
       "      <td>TTACCGCCGRATTCACACT</td>\n",
       "      <td>2.85</td>\n",
       "      <td>1.181461</td>\n",
       "      <td>389</td>\n",
       "      <td>Non_specific</td>\n",
       "      <td>['-']</td>\n",
       "      <td>[4247449, 4247838]</td>\n",
       "    </tr>\n",
       "    <tr>\n",
       "      <th>3</th>\n",
       "      <td>0</td>\n",
       "      <td>P2-L0</td>\n",
       "      <td>2288903</td>\n",
       "      <td>20</td>\n",
       "      <td>60.179194</td>\n",
       "      <td>60.0</td>\n",
       "      <td>CCGTTCTCGTCGACTCCTTC</td>\n",
       "      <td>3.46</td>\n",
       "      <td>P2-R0</td>\n",
       "      <td>2289254</td>\n",
       "      <td>20</td>\n",
       "      <td>60.599204</td>\n",
       "      <td>60.000000</td>\n",
       "      <td>CCCGCATACGTCCACCATAC</td>\n",
       "      <td>6.13</td>\n",
       "      <td>0.778398</td>\n",
       "      <td>351</td>\n",
       "      <td>Non_specific</td>\n",
       "      <td>['-']</td>\n",
       "      <td>[2288903, 2289254]</td>\n",
       "    </tr>\n",
       "  </tbody>\n",
       "</table>\n",
       "</div>"
      ],
      "text/plain": [
       "   index pLeft_ID  pLeft_coord  pLeft_length   pLeft_Tm  pLeft_GC  \\\n",
       "0      0    P1-L0       761087            20  60.033405      50.0   \n",
       "1      0    P2-L0      2155074            20  59.827648      60.0   \n",
       "2      0    P1-L0      4247449            20  59.822859      55.0   \n",
       "3      0    P2-L0      2288903            20  60.179194      60.0   \n",
       "\n",
       "        pLeft_Sequences  pLeft_EndStability pRight_ID  pRight_coord  \\\n",
       "0  AGCCAGCTGAGCCAATTCAT                2.57     P1-R0        761445   \n",
       "1  CTCTTCGTCAGCTCCCACTC                3.51     P2-R0       2155436   \n",
       "2  GCCGGCTACATGTCCAACTA                2.24     P1-R0       4247838   \n",
       "3  CCGTTCTCGTCGACTCCTTC                3.46     P2-R0       2289254   \n",
       "\n",
       "   pRight_length  pRight_Tm  pRight_GC      pRight_Sequences  \\\n",
       "0             18  60.726180  66.666667    CGATCGATGCGGACGGTC   \n",
       "1             20  60.179081  60.000000  GGGTTCACGTAGATCAGCCC   \n",
       "2             19  60.004320  52.631579   TTACCGCCGRATTCACACT   \n",
       "3             20  60.599204  60.000000  CCCGCATACGTCCACCATAC   \n",
       "\n",
       "   pRight_EndStability   Penalty  Product_size Amplicone_type Redesign  \\\n",
       "0                 3.69  2.759585           358  Gene_specific    ['-']   \n",
       "1                 4.11  0.351433           362  Gene_specific    ['-']   \n",
       "2                 2.85  1.181461           389   Non_specific    ['-']   \n",
       "3                 6.13  0.778398           351   Non_specific    ['-']   \n",
       "\n",
       "      Designed_ranges  \n",
       "0    [761087, 761445]  \n",
       "1  [2155074, 2155436]  \n",
       "2  [4247449, 4247838]  \n",
       "3  [2288903, 2289254]  "
      ]
     },
     "execution_count": 9,
     "metadata": {},
     "output_type": "execute_result"
    }
   ],
   "source": [
    "df1"
   ]
  },
  {
   "cell_type": "code",
   "execution_count": 40,
   "metadata": {},
   "outputs": [
    {
     "name": "stdout",
     "output_type": "stream",
     "text": [
      "{'Gibbs': -24.099999999999998, 'Entropy': -375.6, 'Enthalpy': -140.6, 'Gibbs5P': -5.74, 'Gibbs3P': -7.260000000000001}\n",
      "<class 'dict'>\n",
      "Oligo: AGAGTTGGTGCGGCGTAA\n",
      "ThermoDict: {'Gibbs': -24.099999999999998, 'Entropy': -375.6, 'Enthalpy': -140.6, 'Gibbs5P': -5.74, 'Gibbs3P': -7.260000000000001}\n",
      "TmVar: <class '__main__.TmVar'>\n",
      "Type of ThermoDict: <class 'dict'>\n"
     ]
    }
   ],
   "source": [
    "seq = 'AGAGTTGGTGCGGCGTAA'\n",
    "(dg, tm) = Thermo.simplified_tm(seq, complement_sequence(seq), TmVar)\n"
   ]
  },
  {
   "cell_type": "code",
   "execution_count": 1,
   "metadata": {},
   "outputs": [
    {
     "ename": "NameError",
     "evalue": "name 'pd' is not defined",
     "output_type": "error",
     "traceback": [
      "\u001b[0;31m---------------------------------------------------------------------------\u001b[0m",
      "\u001b[0;31mNameError\u001b[0m                                 Traceback (most recent call last)",
      "\u001b[1;32m/mnt/storage10/lwang/Projects/Amplicon_design_tool/amplicon4tb/scratch.ipynb Cell 19\u001b[0m line \u001b[0;36m1\n\u001b[0;32m----> <a href='vscode-notebook-cell://ssh-remote%2Bs10/mnt/storage10/lwang/Projects/Amplicon_design_tool/amplicon4tb/scratch.ipynb#Y165sdnNjb2RlLXJlbW90ZQ%3D%3D?line=0'>1</a>\u001b[0m pd\u001b[39m.\u001b[39mread(\u001b[39m'\u001b[39m\u001b[39m/mnt/storage10/lwang/Projects/Amplicon_design_tool/test/Amplicon_design_output/Primer_design-accepted_primers-42-400.csv\u001b[39m\u001b[39m'\u001b[39m)\u001b[39m.\u001b[39mhead()\n",
      "\u001b[0;31mNameError\u001b[0m: name 'pd' is not defined"
     ]
    }
   ],
   "source": []
  },
  {
   "cell_type": "code",
   "execution_count": 48,
   "metadata": {},
   "outputs": [],
   "source": [
    "ref_genome = 'MTB-h37rv_asm19595v2-eg18.fa'\n",
    "\n",
    "def find_sequence_location(query_seq, fasta_file=ref_genome):\n",
    "    ref_genome = SeqIO.read(fasta_file, \"fasta\")\n",
    "    position = ref_genome.seq.find(query_seq)\n",
    "    if position != -1:\n",
    "        return [position, position+len(query_seq)]\n",
    "    else:\n",
    "        print('!!!Primer not found in the reference genome')\n",
    "        return 0\n",
    "    \n",
    "def reverse_complement_sequence(seq):\n",
    "    complement = {\"A\": \"T\", \"T\": \"A\", \"C\": \"G\", \"G\": \"C\"}\n",
    "    reverse_seq = seq[::-1]\n",
    "    return \"\".join(complement[base] for base in reverse_seq)\n",
    "\n",
    "def check_for_snp(seq, priority, plength, forward, cut_off=1.3):\n",
    "    if forward == True:\n",
    "        ploc = find_sequence_location(seq)[0]\n",
    "    else:    \n",
    "        ploc = find_sequence_location(reverse_complement_sequence(seq))[0]\n",
    "    snp_freq = priority[(priority['genome_pos']>= ploc) & (priority['genome_pos']<=ploc+plength)]['weight']\n",
    "    print(snp_freq.max())\n",
    "    if snp_freq.max() > cut_off:\n",
    "        return True\n",
    "    else:\n",
    "        return False"
   ]
  },
  {
   "cell_type": "code",
   "execution_count": 2,
   "metadata": {},
   "outputs": [],
   "source": [
    "full_data = pd.read_csv('snp_priority.csv')\n",
    "# check_for_snp('CTCTTCGTCAGCTCCCACTC', full_data, 20, True, 1.5)"
   ]
  },
  {
   "cell_type": "code",
   "execution_count": 3,
   "metadata": {},
   "outputs": [
    {
     "name": "stdout",
     "output_type": "stream",
     "text": [
      "<class 'pandas.core.frame.DataFrame'>\n",
      "RangeIndex: 268368 entries, 0 to 268367\n",
      "Data columns (total 10 columns):\n",
      " #   Column      Non-Null Count   Dtype  \n",
      "---  ------      --------------   -----  \n",
      " 0   sample_id   268368 non-null  object \n",
      " 1   genome_pos  268368 non-null  int64  \n",
      " 2   gene        268368 non-null  object \n",
      " 3   change      268368 non-null  object \n",
      " 4   freq        268368 non-null  float64\n",
      " 5   type        268368 non-null  object \n",
      " 6   sublin      265459 non-null  object \n",
      " 7   drtype      268368 non-null  object \n",
      " 8   drugs       268368 non-null  object \n",
      " 9   weight      268368 non-null  float64\n",
      "dtypes: float64(2), int64(1), object(7)\n",
      "memory usage: 20.5+ MB\n"
     ]
    }
   ],
   "source": [
    "full_data.info()"
   ]
  },
  {
   "cell_type": "code",
   "execution_count": 1,
   "metadata": {},
   "outputs": [
    {
     "ename": "NameError",
     "evalue": "name 'full_data' is not defined",
     "output_type": "error",
     "traceback": [
      "\u001b[0;31m---------------------------------------------------------------------------\u001b[0m",
      "\u001b[0;31mNameError\u001b[0m                                 Traceback (most recent call last)",
      "\u001b[1;32m/mnt/storage10/lwang/Projects/Amplicone_design_tool/model2in1/scratch.ipynb Cell 6\u001b[0m line \u001b[0;36m1\n\u001b[0;32m----> <a href='vscode-notebook-cell://ssh-remote%2Bs10/mnt/storage10/lwang/Projects/Amplicone_design_tool/model2in1/scratch.ipynb#W5sdnNjb2RlLXJlbW90ZQ%3D%3D?line=0'>1</a>\u001b[0m full_data\n",
      "\u001b[0;31mNameError\u001b[0m: name 'full_data' is not defined"
     ]
    }
   ],
   "source": [
    "full_data"
   ]
  },
  {
   "cell_type": "code",
   "execution_count": 26,
   "metadata": {},
   "outputs": [],
   "source": [
    "TmVar = {\n",
    "    'DivalentSaltConc': 2,\n",
    "    'MonovalentSaltConc': 10,\n",
    "    'dNTPConc': 0.2,\n",
    "    'OligoConc': 0.5\n",
    "}\n"
   ]
  },
  {
   "cell_type": "code",
   "execution_count": 28,
   "metadata": {},
   "outputs": [],
   "source": [
    "class TmVar:\n",
    "\tDivalentSaltConc = 2\n",
    "\tMonovalentSaltConc = 10\n",
    "\tdNTPConc = 0.2\n",
    "\tOligoConc = 0.5\n",
    " "
   ]
  },
  {
   "cell_type": "code",
   "execution_count": 32,
   "metadata": {},
   "outputs": [
    {
     "ename": "TypeError",
     "evalue": "'type' object does not support item assignment",
     "output_type": "error",
     "traceback": [
      "\u001b[0;31m---------------------------------------------------------------------------\u001b[0m",
      "\u001b[0;31mTypeError\u001b[0m                                 Traceback (most recent call last)",
      "\u001b[1;32m/mnt/storage10/lwang/Projects/Amplicone_design_tool/model2in1/scratch.ipynb Cell 8\u001b[0m line \u001b[0;36m1\n\u001b[0;32m----> <a href='vscode-notebook-cell://ssh-remote%2Bs10/mnt/storage10/lwang/Projects/Amplicone_design_tool/model2in1/scratch.ipynb#Y155sdnNjb2RlLXJlbW90ZQ%3D%3D?line=0'>1</a>\u001b[0m TmVar[\u001b[39m'\u001b[39;49m\u001b[39m111\u001b[39;49m\u001b[39m'\u001b[39;49m] \u001b[39m=\u001b[39m \u001b[39m111\u001b[39m\n",
      "\u001b[0;31mTypeError\u001b[0m: 'type' object does not support item assignment"
     ]
    }
   ],
   "source": [
    "TmVar['111'] = 111"
   ]
  },
  {
   "cell_type": "markdown",
   "metadata": {},
   "source": [
    "# Susana design test"
   ]
  },
  {
   "cell_type": "code",
   "execution_count": 1,
   "metadata": {},
   "outputs": [],
   "source": [
    "def calculate_gc_content(sequence):\n",
    "    \"\"\"\n",
    "    Calculate the GC content of a DNA sequence.\n",
    "\n",
    "    Parameters:\n",
    "    - sequence: The DNA sequence (string)\n",
    "\n",
    "    Returns:\n",
    "    - float: The GC content as a percentage\n",
    "    \"\"\"\n",
    "    \n",
    "    # Check if the sequence is empty\n",
    "    if len(sequence) == 0:\n",
    "        return 0.0\n",
    "    \n",
    "    # Count the number of G's and C's in the sequence\n",
    "    gc_count = sequence.count('G') + sequence.count('C')\n",
    "    \n",
    "    # Calculate the GC content\n",
    "    gc_content = (gc_count / len(sequence)) * 100\n",
    "    \n",
    "    return gc_content\n",
    "\n",
    "\n",
    "\n",
    "def calculate_tm_nearest_neighbor(sequence, na_concentration):\n",
    "    if len(sequence) == 0:\n",
    "        raise ValueError(\"Sequence length must be greater than 0\")\n",
    "    gc_count = sequence.count('G') + sequence.count('C')\n",
    "    total_length = len(sequence)\n",
    "    percent_gc = (gc_count / total_length) * 100\n",
    "    tm = 81.5 + 16.6 * math.log10(na_concentration) + 0.41 * percent_gc - 675 / total_length\n",
    "    return tm\n",
    "\n",
    "def simplified_tm(seq):\n",
    "    # Simplified melting temperature calculation based on base pair count\n",
    "    return (seq.count('A') + seq.count('T')) * 2 + (seq.count('C') + seq.count('G')) * 4\n"
   ]
  },
  {
   "cell_type": "code",
   "execution_count": 25,
   "metadata": {},
   "outputs": [
    {
     "name": "stdout",
     "output_type": "stream",
     "text": [
      "max_gc 0\n",
      "min_gc 100\n",
      "max_tm 63.024451980920674\n",
      "min_tm 63.024451980920674\n",
      "max_dg -24.099999999999998\n",
      "min_dg -24.099999999999998\n",
      "max_tm_simple 0\n",
      "min_tm_simple 100\n"
     ]
    }
   ],
   "source": [
    "max_gc = 0\n",
    "min_gc = 100\n",
    "max_dg = -100\n",
    "min_dg = 100\n",
    "max_tm = 0\n",
    "min_tm = 100\n",
    "max_tm_simple = 0\n",
    "min_tm_simple = 100\n",
    "for x in susana_design['forward'].tolist() + susana_design['reverse'].tolist(): \n",
    "    (dg, tm) = Thermo.simplified_tm(seq, complement_sequence(seq))\n",
    "    if tm > max_tm:\n",
    "        max_tm = tm\n",
    "    elif tm < min_tm:\n",
    "        min_tm = tm\n",
    "    if dg['Gibbs'] > max_dg:\n",
    "        max_dg = dg['Gibbs']\n",
    "    elif dg['Gibbs'] < min_dg:\n",
    "        min_dg = dg['Gibbs']\n",
    "    # if calculate_tm_nearest_neighbor(x, 50) > max_tm:\n",
    "    #     max_tm = calculate_tm_nearest_neighbor(x, 50)\n",
    "    # elif calculate_tm_nearest_neighbor(x, 50) < min_tm:\n",
    "    #     min_tm = calculate_tm_nearest_neighbor(x, 50)\n",
    "    # if simplified_tm(x) > max_tm_simple:\n",
    "    #     max_tm_simple = simplified_tm(x)\n",
    "    # elif simplified_tm(x) < min_tm_simple:\n",
    "    #     min_tm_simple = simplified_tm(x)\n",
    "        \n",
    "print('max_gc', max_gc)\n",
    "print('min_gc', min_gc)\n",
    "print('max_tm', max_tm)\n",
    "print('min_tm', min_tm)\n",
    "print('max_dg', max_dg)\n",
    "print('min_dg', min_dg)\n",
    "print('max_tm_simple', max_tm_simple)\n",
    "print('min_tm_simple', min_tm_simple)"
   ]
  },
  {
   "cell_type": "code",
   "execution_count": null,
   "metadata": {},
   "outputs": [],
   "source": [
    "from itertools import product\n",
    "\n",
    "def calc_self_any(primer):\n",
    "    max_score = 0\n",
    "    for i in range(len(primer)):\n",
    "        for j in range(i+1, len(primer)):\n",
    "            score = 0\n",
    "            for k, l in zip(primer[i:], primer[j:]):\n",
    "                if k == l:\n",
    "                    score += 1\n",
    "            max_score = max(max_score, score)\n",
    "    return max_score\n",
    "\n",
    "def calc_self_end(primer):\n",
    "    max_score = 0\n",
    "    for i in range(len(primer)):\n",
    "        score = 0\n",
    "        for k, l in zip(primer[i:], reversed(primer[:len(primer) - i])):\n",
    "            if k == l:\n",
    "                score += 1\n",
    "        max_score = max(max_score, score)\n",
    "    return max_score\n",
    "\n",
    "def calc_pair_compl_any(primer1, primer2):\n",
    "    max_score = 0\n",
    "    for i in range(len(primer1)):\n",
    "        for j in range(len(primer2)):\n",
    "            score = 0\n",
    "            for k, l in zip(primer1[i:], primer2[j:]):\n",
    "                if k == l:\n",
    "                    score += 1\n",
    "            max_score = max(max_score, score)\n",
    "    return max_score\n",
    "\n",
    "def calc_pair_compl_end(primer1, primer2):\n",
    "    max_score = 0\n",
    "    for i in range(len(primer1)):\n",
    "        score = 0\n",
    "        for k, l in zip(primer1[i:], reversed(primer2[:len(primer1) - i])):\n",
    "            if k == l:\n",
    "                score += 1\n",
    "        max_score = max(max_score, score)\n",
    "    return max_score\n",
    "\n",
    "# Test the functions\n",
    "primer1 = \"ATCGATCG\"\n",
    "primer2 = \"GCTAGCTA\"\n",
    "\n",
    "for x,y in zip(susana_design['forward'].tolist(), susana_design['reverse'].tolist()): \n",
    "    print(\"PRIMER_MAX_SELF_ANY for primer1:\", calc_self_any(x))   \n",
    "    print(\"PRIMER_MAX_SELF_END for x:\", calc_self_end(x))   \n",
    "    print(\"PRIMER_PAIR_MAX_COMPL_ANY:\", calc_pair_compl_any(x, y))  \n",
    "    print(\"PRIMER_PAIR_MAX_COMPL_END:\", calc_pair_compl_end(x, y))  \n"
   ]
  },
  {
   "cell_type": "code",
   "execution_count": 13,
   "metadata": {},
   "outputs": [],
   "source": [
    "ref_genome = 'MTB-h37rv_asm19595v2-eg18.fa'\n",
    "def find_sequence_location(query_seq, fasta_file=ref_genome):\n",
    "    ref_genome = SeqIO.read(fasta_file, \"fasta\")\n",
    "    position = ref_genome.seq.find(query_seq)\n",
    "    if position != -1:\n",
    "        return [position, position+len(query_seq)]\n",
    "    else:\n",
    "        print('!!!Primer not found in the reference genome')\n",
    "        return 0\n",
    "\n",
    "# pLeft_coord = []\n",
    "# pLeft_coord.append(find_sequence_location('CATCGCACGTCGTCTTTCCG', ref_genome)[0])\n",
    "\n",
    "# find_sequence_location('CATCGCACGTCGTCTTTCCG')[0]\n",
    "# find_sequence_location(complement_sequence('CATCGCACGTCGTCTTTCCG'))\n",
    "#%%\n",
    "def simplified_tm(seq):\n",
    "    # Simplified melting temperature calculation based on base pair count\n",
    "    return (seq.count('A') + seq.count('T')) * 2 + (seq.count('C') + seq.count('G')) * 4\n",
    "\n",
    "def simplified_dg(seq):\n",
    "    # Simplified Gibbs free energy calculation based on the nearest-neighbor model (not accurate)\n",
    "    nn_params = {\n",
    "        'AA': -1.0, 'TT': -1.0,\n",
    "        'AT': -0.9, 'TA': -0.9,\n",
    "        'CA': -1.7, 'TG': -1.7,\n",
    "        'GT': -1.5, 'AC': -1.5,\n",
    "        'CT': -1.6, 'AG': -1.6,\n",
    "        'GA': -1.5, 'TC': -1.5,\n",
    "        'CG': -2.8, 'GC': -2.3,\n",
    "        'GG': -1.9, 'CC': -1.9\n",
    "    }\n",
    "    dg = 0\n",
    "    for i in range(len(seq) - 1):\n",
    "        dinucleotide = seq[i:i+2]\n",
    "        dg += nn_params.get(dinucleotide, 0)\n",
    "    return dg\n",
    "\n",
    "def calculate_similarity(seq1, seq2):\n",
    "    matches = sum(1 for a, b in zip(seq1, seq2) if a == b)\n",
    "    return matches / len(seq1) * 100\n",
    "\n",
    "def check_last_n_base_pairs(seq1, seq2, n):\n",
    "    \"\"\"\n",
    "    Check if the last n base pairs of two sequences are the same.\n",
    "\n",
    "    Parameters:\n",
    "    - seq1: The first sequence (string)\n",
    "    - seq2: The second sequence (string)\n",
    "    - n: The number of base pairs to compare from the end (integer)\n",
    "\n",
    "    Returns:\n",
    "    - bool: True if the last n base pairs are the same, otherwise False\n",
    "    \"\"\"\n",
    "    \n",
    "    # Check if either sequence is shorter than n\n",
    "    if len(seq1) < n or len(seq2) < n:\n",
    "        return False\n",
    "    \n",
    "    # Get the last n base pairs from each sequence\n",
    "    last_n_seq1 = seq1[-n:]\n",
    "    last_n_seq2 = seq2[-n:]\n",
    "    \n",
    "    # Compare the last n base pairs\n",
    "    return last_n_seq1 == last_n_seq2\n",
    "\n",
    "# Example usage\n",
    "# result = check_last_n_base_pairs(\"ATCGGA\", \"TTTGGA\", 2)\n",
    "# print(\"Are the last 2 base pairs the same?\", result)  # Output should be True\n",
    "\n",
    "# result = check_last_n_base_pairs(\"ATCGGA\", \"TTTGTA\", 2)\n",
    "# print(\"Are the last 2 base pairs the same?\", result)  # Output should be False\n",
    "\n",
    "#%%\n",
    "def has_multiple_binding_sites(sequence, genome, similarity_threshold=90, min_tm=50, max_dg=-10):\n",
    "    seq_len = len(sequence)\n",
    "    genome_len = len(genome)\n",
    "    count = 0\n",
    "    n = 4\n",
    "    for i in range(genome_len - seq_len + 1):\n",
    "        within_tm_threshold, within_dg_threshold = False, False\n",
    "        subseq = genome[i:i + seq_len]\n",
    "        reverse_comp_subseq = reverse_complement_sequence(subseq)\n",
    "        if calculate_similarity(subseq, sequence)>similarity_threshold:\n",
    "            if check_last_n_base_pairs(subseq, sequence, n):\n",
    "                # print('>>>Calculated_similarity')\n",
    "                within_tm_threshold, within_dg_threshold = False, False\n",
    "                tm = simplified_tm(subseq)\n",
    "                dg = simplified_dg(subseq)\n",
    "                \n",
    "                within_tm_threshold = tm >= min_tm\n",
    "                within_dg_threshold = dg <= max_dg\n",
    "        elif calculate_similarity(reverse_comp_subseq, sequence)>similarity_threshold:\n",
    "            if check_last_n_base_pairs(reverse_comp_subseq, sequence, n):\n",
    "                # print('>>>Calculated_similarity')\n",
    "                within_tm_threshold, within_dg_threshold = False, False\n",
    "                tm = simplified_tm(reverse_comp_subseq)\n",
    "                dg = simplified_dg(reverse_comp_subseq)\n",
    "                \n",
    "                within_tm_threshold = tm >= min_tm\n",
    "                within_dg_threshold = dg <= max_dg\n",
    "            \n",
    "        if within_tm_threshold & within_dg_threshold:\n",
    "            # print(genome[i:i + seq_len])\n",
    "            # print('>>>within_tm_threshold & within_dg_threshold')\n",
    "            count += 1\n",
    "            if count > 1:\n",
    "                print(max(calculate_similarity(subseq, sequence), calculate_similarity(reverse_comp_subseq, sequence)))\n",
    "                return True  # Early exit if more than one binding site is found\n",
    "    print(max(calculate_similarity(subseq, sequence), calculate_similarity(reverse_comp_subseq, sequence)))\n",
    "    return False  # Return False if only one or no binding sites are found\n"
   ]
  },
  {
   "cell_type": "code",
   "execution_count": 11,
   "metadata": {},
   "outputs": [],
   "source": [
    "def complement_sequence(dna_sequence):\n",
    "    trans = str.maketrans('ATCG', 'TAGC')\n",
    "    return dna_sequence.upper().translate(trans)\n",
    "\n",
    "# print(complement_sequence(\"ATGCGTA\"))\n",
    "# Example usage:\n",
    "# dna_sequence = \"ATGCGTA\"\n",
    "# complement_sequence = complement_sequence(dna_sequence)\n",
    "# print(complement_sequence)  # Output: TACGCAT\n",
    "#%%\n",
    "def reverse_complement_sequence(seq):\n",
    "    complement = {\"A\": \"T\", \"T\": \"A\", \"C\": \"G\", \"G\": \"C\"}\n",
    "    reverse_seq = seq[::-1]\n",
    "    return \"\".join(complement[base] for base in reverse_seq)\n",
    "\n",
    "def genome_size(fasta_file):\n",
    "    total_length = 0\n",
    "    with open(fasta_file, 'r') as file:\n",
    "        for line in file:\n",
    "            if not line.startswith('>'):\n",
    "                total_length += len(line.strip())\n",
    "    return total_length\n",
    "\n",
    "def extract_sequence_from_fasta(start_pos, end_pos, padding = 150, fasta_file= 'MTB-h37rv_asm19595v2-eg18.fa', sequence_id='Chromosome'):\n",
    "    \"\"\"\n",
    "    Extracts a subsequence from a FASTA file based on the given sequence ID, start position, and end position.\n",
    "    \"\"\"\n",
    "    # Iterate over the sequences in the FASTA file\n",
    "    for record in SeqIO.parse(fasta_file, \"fasta\"):\n",
    "        # Check if the current sequence ID matches the desired sequence ID\n",
    "        \n",
    "        if record.id == sequence_id:\n",
    "            # Extract the subsequence based on the start and end positions\n",
    "            subsequence = record.seq[start_pos-padding:end_pos+padding]\n",
    "            return str(subsequence)  # Return the subsequence as a string\n",
    "    # If the sequence ID is not found, return None\n",
    "    return None\n",
    "genome = extract_sequence_from_fasta(0, genome_size(ref_genome),0)\n",
    "\n"
   ]
  },
  {
   "cell_type": "code",
   "execution_count": 14,
   "metadata": {},
   "outputs": [
    {
     "name": "stdout",
     "output_type": "stream",
     "text": [
      "83.33333333333334\n",
      "True\n",
      "85.0\n",
      "True\n",
      "100.0\n",
      "True\n",
      "82.35294117647058\n",
      "True\n",
      "10.0\n",
      "False\n",
      "100.0\n",
      "True\n",
      "10.0\n",
      "False\n",
      "20.0\n",
      "False\n",
      "20.0\n",
      "False\n",
      "35.0\n",
      "False\n",
      "35.0\n",
      "False\n",
      "25.0\n",
      "False\n",
      "31.57894736842105\n",
      "False\n",
      "82.35294117647058\n",
      "True\n",
      "83.33333333333334\n",
      "True\n",
      "82.35294117647058\n",
      "True\n",
      "84.21052631578947\n",
      "True\n",
      "100.0\n",
      "True\n",
      "82.35294117647058\n",
      "True\n",
      "82.35294117647058\n",
      "True\n",
      "30.0\n",
      "False\n",
      "30.0\n",
      "False\n",
      "25.0\n",
      "False\n",
      "83.33333333333334\n",
      "True\n",
      "84.21052631578947\n",
      "True\n",
      "100.0\n",
      "True\n",
      "94.11764705882352\n",
      "True\n",
      "36.84210526315789\n",
      "False\n",
      "35.0\n",
      "False\n",
      "100.0\n",
      "True\n",
      "82.35294117647058\n",
      "True\n",
      "83.33333333333334\n",
      "True\n",
      "82.35294117647058\n",
      "True\n",
      "35.0\n",
      "False\n",
      "85.71428571428571\n",
      "True\n",
      "81.81818181818183\n",
      "True\n",
      "20.0\n",
      "False\n",
      "85.0\n",
      "True\n",
      "88.23529411764706\n",
      "True\n",
      "82.35294117647058\n",
      "True\n",
      "15.0\n",
      "False\n",
      "88.23529411764706\n",
      "True\n",
      "31.57894736842105\n",
      "False\n",
      "35.0\n",
      "False\n",
      "30.0\n",
      "False\n",
      "30.0\n",
      "False\n",
      "84.21052631578947\n",
      "True\n",
      "85.0\n",
      "True\n",
      "20.0\n",
      "False\n",
      "20.833333333333336\n",
      "False\n",
      "100.0\n",
      "True\n",
      "84.21052631578947\n",
      "True\n",
      "31.57894736842105\n",
      "False\n",
      "20.0\n",
      "False\n",
      "82.35294117647058\n",
      "True\n",
      "82.35294117647058\n",
      "True\n",
      "30.0\n",
      "False\n",
      "30.0\n",
      "False\n",
      "83.33333333333334\n",
      "True\n",
      "100.0\n",
      "True\n",
      "35.0\n",
      "False\n",
      "82.35294117647058\n",
      "True\n",
      "100.0\n",
      "True\n",
      "30.0\n",
      "False\n",
      "35.0\n",
      "False\n",
      "82.35294117647058\n",
      "True\n",
      "82.35294117647058\n",
      "True\n",
      "15.0\n",
      "False\n",
      "84.21052631578947\n",
      "True\n"
     ]
    },
    {
     "ename": "KeyboardInterrupt",
     "evalue": "",
     "output_type": "error",
     "traceback": [
      "\u001b[0;31m---------------------------------------------------------------------------\u001b[0m",
      "\u001b[0;31mKeyboardInterrupt\u001b[0m                         Traceback (most recent call last)",
      "\u001b[1;32m/mnt/storage10/lwang/Projects/Amplicone_design_tool/model2in1/scratch.ipynb Cell 10\u001b[0m line \u001b[0;36m2\n\u001b[1;32m      <a href='vscode-notebook-cell://ssh-remote%2Bs10/mnt/storage10/lwang/Projects/Amplicone_design_tool/model2in1/scratch.ipynb#X10sdnNjb2RlLXJlbW90ZQ%3D%3D?line=0'>1</a>\u001b[0m \u001b[39mfor\u001b[39;00m x \u001b[39min\u001b[39;00m susana_design[\u001b[39m'\u001b[39m\u001b[39mforward\u001b[39m\u001b[39m'\u001b[39m]\u001b[39m.\u001b[39mtolist() \u001b[39m+\u001b[39m susana_design[\u001b[39m'\u001b[39m\u001b[39mreverse\u001b[39m\u001b[39m'\u001b[39m]\u001b[39m.\u001b[39mtolist(): \n\u001b[0;32m----> <a href='vscode-notebook-cell://ssh-remote%2Bs10/mnt/storage10/lwang/Projects/Amplicone_design_tool/model2in1/scratch.ipynb#X10sdnNjb2RlLXJlbW90ZQ%3D%3D?line=1'>2</a>\u001b[0m     \u001b[39mprint\u001b[39m(has_multiple_binding_sites(x, genome, similarity_threshold\u001b[39m=\u001b[39;49m\u001b[39m80\u001b[39;49m, min_tm\u001b[39m=\u001b[39;49m\u001b[39m50\u001b[39;49m, max_dg\u001b[39m=\u001b[39;49m\u001b[39m-\u001b[39;49m\u001b[39m10\u001b[39;49m))\n",
      "\u001b[1;32m/mnt/storage10/lwang/Projects/Amplicone_design_tool/model2in1/scratch.ipynb Cell 10\u001b[0m line \u001b[0;36m8\n\u001b[1;32m     <a href='vscode-notebook-cell://ssh-remote%2Bs10/mnt/storage10/lwang/Projects/Amplicone_design_tool/model2in1/scratch.ipynb#X10sdnNjb2RlLXJlbW90ZQ%3D%3D?line=81'>82</a>\u001b[0m subseq \u001b[39m=\u001b[39m genome[i:i \u001b[39m+\u001b[39m seq_len]\n\u001b[1;32m     <a href='vscode-notebook-cell://ssh-remote%2Bs10/mnt/storage10/lwang/Projects/Amplicone_design_tool/model2in1/scratch.ipynb#X10sdnNjb2RlLXJlbW90ZQ%3D%3D?line=82'>83</a>\u001b[0m reverse_comp_subseq \u001b[39m=\u001b[39m reverse_complement_sequence(subseq)\n\u001b[0;32m---> <a href='vscode-notebook-cell://ssh-remote%2Bs10/mnt/storage10/lwang/Projects/Amplicone_design_tool/model2in1/scratch.ipynb#X10sdnNjb2RlLXJlbW90ZQ%3D%3D?line=83'>84</a>\u001b[0m \u001b[39mif\u001b[39;00m calculate_similarity(subseq, sequence)\u001b[39m>\u001b[39msimilarity_threshold:\n\u001b[1;32m     <a href='vscode-notebook-cell://ssh-remote%2Bs10/mnt/storage10/lwang/Projects/Amplicone_design_tool/model2in1/scratch.ipynb#X10sdnNjb2RlLXJlbW90ZQ%3D%3D?line=84'>85</a>\u001b[0m     \u001b[39mif\u001b[39;00m check_last_n_base_pairs(subseq, sequence, n):\n\u001b[1;32m     <a href='vscode-notebook-cell://ssh-remote%2Bs10/mnt/storage10/lwang/Projects/Amplicone_design_tool/model2in1/scratch.ipynb#X10sdnNjb2RlLXJlbW90ZQ%3D%3D?line=85'>86</a>\u001b[0m         \u001b[39m# print('>>>Calculated_similarity')\u001b[39;00m\n\u001b[1;32m     <a href='vscode-notebook-cell://ssh-remote%2Bs10/mnt/storage10/lwang/Projects/Amplicone_design_tool/model2in1/scratch.ipynb#X10sdnNjb2RlLXJlbW90ZQ%3D%3D?line=86'>87</a>\u001b[0m         within_tm_threshold, within_dg_threshold \u001b[39m=\u001b[39m \u001b[39mFalse\u001b[39;00m, \u001b[39mFalse\u001b[39;00m\n",
      "\u001b[1;32m/mnt/storage10/lwang/Projects/Amplicone_design_tool/model2in1/scratch.ipynb Cell 10\u001b[0m line \u001b[0;36m4\n\u001b[1;32m     <a href='vscode-notebook-cell://ssh-remote%2Bs10/mnt/storage10/lwang/Projects/Amplicone_design_tool/model2in1/scratch.ipynb#X10sdnNjb2RlLXJlbW90ZQ%3D%3D?line=38'>39</a>\u001b[0m \u001b[39mdef\u001b[39;00m \u001b[39mcalculate_similarity\u001b[39m(seq1, seq2):\n\u001b[0;32m---> <a href='vscode-notebook-cell://ssh-remote%2Bs10/mnt/storage10/lwang/Projects/Amplicone_design_tool/model2in1/scratch.ipynb#X10sdnNjb2RlLXJlbW90ZQ%3D%3D?line=39'>40</a>\u001b[0m     matches \u001b[39m=\u001b[39m \u001b[39msum\u001b[39m(\u001b[39m1\u001b[39m \u001b[39mfor\u001b[39;00m a, b \u001b[39min\u001b[39;00m \u001b[39mzip\u001b[39m(seq1, seq2) \u001b[39mif\u001b[39;00m a \u001b[39m==\u001b[39m b)\n\u001b[1;32m     <a href='vscode-notebook-cell://ssh-remote%2Bs10/mnt/storage10/lwang/Projects/Amplicone_design_tool/model2in1/scratch.ipynb#X10sdnNjb2RlLXJlbW90ZQ%3D%3D?line=40'>41</a>\u001b[0m     \u001b[39mreturn\u001b[39;00m matches \u001b[39m/\u001b[39m \u001b[39mlen\u001b[39m(seq1) \u001b[39m*\u001b[39m \u001b[39m100\u001b[39m\n",
      "\u001b[1;32m/mnt/storage10/lwang/Projects/Amplicone_design_tool/model2in1/scratch.ipynb Cell 10\u001b[0m line \u001b[0;36m4\n\u001b[1;32m     <a href='vscode-notebook-cell://ssh-remote%2Bs10/mnt/storage10/lwang/Projects/Amplicone_design_tool/model2in1/scratch.ipynb#X10sdnNjb2RlLXJlbW90ZQ%3D%3D?line=38'>39</a>\u001b[0m \u001b[39mdef\u001b[39;00m \u001b[39mcalculate_similarity\u001b[39m(seq1, seq2):\n\u001b[0;32m---> <a href='vscode-notebook-cell://ssh-remote%2Bs10/mnt/storage10/lwang/Projects/Amplicone_design_tool/model2in1/scratch.ipynb#X10sdnNjb2RlLXJlbW90ZQ%3D%3D?line=39'>40</a>\u001b[0m     matches \u001b[39m=\u001b[39m \u001b[39msum\u001b[39m(\u001b[39m1\u001b[39m \u001b[39mfor\u001b[39;00m a, b \u001b[39min\u001b[39;00m \u001b[39mzip\u001b[39m(seq1, seq2) \u001b[39mif\u001b[39;00m a \u001b[39m==\u001b[39m b)\n\u001b[1;32m     <a href='vscode-notebook-cell://ssh-remote%2Bs10/mnt/storage10/lwang/Projects/Amplicone_design_tool/model2in1/scratch.ipynb#X10sdnNjb2RlLXJlbW90ZQ%3D%3D?line=40'>41</a>\u001b[0m     \u001b[39mreturn\u001b[39;00m matches \u001b[39m/\u001b[39m \u001b[39mlen\u001b[39m(seq1) \u001b[39m*\u001b[39m \u001b[39m100\u001b[39m\n",
      "\u001b[0;31mKeyboardInterrupt\u001b[0m: "
     ]
    }
   ],
   "source": [
    "for x in susana_design['forward'].tolist() + susana_design['reverse'].tolist(): \n",
    "    print(has_multiple_binding_sites(x, genome, similarity_threshold=80, min_tm=50, max_dg=-10))\n"
   ]
  },
  {
   "cell_type": "code",
   "execution_count": null,
   "metadata": {},
   "outputs": [],
   "source": [
    "# Example usage\n",
    "gc_content = calculate_gc_content(\"ATCGGCAT\")\n"
   ]
  },
  {
   "cell_type": "code",
   "execution_count": 2,
   "metadata": {},
   "outputs": [],
   "source": [
    "from Bio.Blast.Applications import NcbiblastnCommandline\n",
    "from Bio import SeqIO\n",
    "from Bio.Blast import NCBIXML\n",
    "import subprocess"
   ]
  },
  {
   "cell_type": "code",
   "execution_count": 2,
   "metadata": {},
   "outputs": [
    {
     "name": "stdout",
     "output_type": "stream",
     "text": [
      "TACGCAT\n"
     ]
    }
   ],
   "source": [
    "def complement_sequence(dna_sequence):\n",
    "    trans = str.maketrans('ATCG', 'TAGC')\n",
    "    return dna_sequence.upper().translate(trans)\n",
    "\n",
    "# print(complement_sequence(\"ATGCGTA\"))\n",
    "# # Example usage:\n",
    "# # dna_sequence = \"ATGCGTA\"\n",
    "# # complement_sequence = complement_sequence(dna_sequence)\n",
    "# # print(complement_sequence)  # Output: TACGCAT\n",
    "# #%%\n",
    "def reverse_complement_sequence(seq):\n",
    "    complement = {\"A\": \"T\", \"T\": \"A\", \"C\": \"G\", \"G\": \"C\"}\n",
    "    reverse_seq = seq[::-1]\n",
    "    return \"\".join(complement[base] for base in reverse_seq)\n"
   ]
  },
  {
   "cell_type": "code",
   "execution_count": null,
   "metadata": {},
   "outputs": [],
   "source": [
    "def calculate_mismatches(seq1, seq2):\n",
    "    return sum(1 for a, b in zip(seq1, seq2) if a != b)\n",
    "\n",
    "def find_alignments(sequence, genome, target_site):\n",
    "    alignments = []\n",
    "    seq_len = len(sequence)\n",
    "    genome_len = len(genome)\n",
    "    \n",
    "    for i in range(genome_len - seq_len + 1):\n",
    "        subseq = genome[i:i+seq_len]\n",
    "        mismatches = calculate_mismatches(sequence, subseq)\n",
    "        binding_location = (i, i+seq_len)\n",
    "        distance_from_target = min(abs(i - target_site), abs(i + seq_len - target_site))\n",
    "        \n",
    "        alignment_info = {\n",
    "            'binding_location': binding_location,\n",
    "            'mismatches': mismatches,\n",
    "            'distance_from_target': distance_from_target\n",
    "        }\n",
    "        alignments.append(alignment_info)\n",
    "    \n",
    "    return alignments\n",
    "\n",
    "# Usage\n",
    "sequence = 'ATG'\n",
    "genome = 'ATGCGTATGACGTAG'\n",
    "target_site = 7  # Assume the target site is at position 7\n",
    "alignments = find_alignments(sequence, genome, target_site)\n",
    "\n",
    "for alignment in alignments:\n",
    "    binding_location = alignment['binding_location']\n",
    "    mismatches = alignment['mismatches']\n",
    "    distance_from_target = alignment['distance_from_target']\n",
    "    print(f'Binding location: {binding_location}, Mismatches: {mismatches}, Distance from target: {distance_from_target}')\n",
    "\n"
   ]
  },
  {
   "cell_type": "code",
   "execution_count": null,
   "metadata": {},
   "outputs": [],
   "source": [
    "def calculate_mismatches(seq1, seq2):\n",
    "    return sum(1 for a, b in zip(seq1, seq2) if a != b)\n",
    "\n",
    "def find_alignments(sequence, genome, target_site):\n",
    "    alignments = []\n",
    "    seq_len = len(sequence)\n",
    "    genome_len = len(genome)\n",
    "    \n",
    "    for i in range(genome_len - seq_len + 1):\n",
    "        subseq = genome[i:i+seq_len]\n",
    "        mismatches = calculate_mismatches(sequence, subseq)\n",
    "        binding_location = (i, i+seq_len)\n",
    "        distance_from_target = min(abs(i - target_site), abs(i + seq_len - target_site))\n",
    "        \n",
    "        alignment_info = {\n",
    "            'binding_location': binding_location,\n",
    "            'mismatches': mismatches,\n",
    "            'distance_from_target': distance_from_target\n",
    "        }\n",
    "        alignments.append(alignment_info)\n",
    "    \n",
    "    return alignments\n",
    "\n",
    "# Usage\n",
    "sequence = 'ATG'\n",
    "genome = 'ATGCGTATGACGTAG'\n",
    "target_site = 7  # Assume the target site is at position 7\n",
    "alignments = find_alignments(sequence, genome, target_site)\n",
    "\n",
    "for alignment in alignments:\n",
    "    binding_location = alignment['binding_location']\n",
    "    mismatches = alignment['mismatches']\n",
    "    distance_from_target = alignment['distance_from_target']\n",
    "    print(f'Binding location: {binding_location}, Mismatches: {mismatches}, Distance from target: {distance_from_target}')"
   ]
  },
  {
   "cell_type": "code",
   "execution_count": 76,
   "metadata": {},
   "outputs": [
    {
     "data": {
      "text/plain": [
       "'CGAGCCGTTGCCGGTAGGTTGCGGCTGGTTATCGACGGTACTGTCCACATTTGTGGATAGCCATGTGGACAGTTCACCTGCCCACAACAACGGTTGTAGCTCGACCCGGAACCAAGACCCGGAACTAACGAGAACCAGGGAGATACGTCG'"
      ]
     },
     "execution_count": 76,
     "metadata": {},
     "output_type": "execute_result"
    }
   ],
   "source": [
    "ref_genome = '/mnt/storage10/lwang/Projects/Amplicone_design_tool/model/MTB-h37rv_asm19595v2-eg18.fa'\n",
    "\n",
    "def genome_size(fasta_file):\n",
    "    total_length = 0\n",
    "    with open(fasta_file, 'r') as file:\n",
    "        for line in file:\n",
    "            if not line.startswith('>'):\n",
    "                total_length += len(line.strip())\n",
    "    return total_length\n",
    "\n",
    "def extract_sequence_from_fasta(start_pos, end_pos, padding = 150, fasta_file= 'MTB-h37rv_asm19595v2-eg18.fa', sequence_id='Chromosome'):\n",
    "    \"\"\"\n",
    "    Extracts a subsequence from a FASTA file based on the given sequence ID, start position, and end position.\n",
    "    \"\"\"\n",
    "    # Iterate over the sequences in the FASTA file\n",
    "    for record in SeqIO.parse(fasta_file, \"fasta\"):\n",
    "        # Check if the current sequence ID matches the desired sequence ID\n",
    "        \n",
    "        if record.id == sequence_id:\n",
    "            # Extract the subsequence based on the start and end positions\n",
    "            subsequence = record.seq[start_pos-padding:end_pos+padding]\n",
    "            return str(subsequence)  # Return the subsequence as a string\n",
    "    # If the sequence ID is not found, return None\n",
    "    return None\n",
    "\n",
    "extract_sequence_from_fasta(0, genome_size(ref_genome))"
   ]
  },
  {
   "cell_type": "code",
   "execution_count": 74,
   "metadata": {},
   "outputs": [
    {
     "data": {
      "text/plain": [
       "4411532"
      ]
     },
     "execution_count": 74,
     "metadata": {},
     "output_type": "execute_result"
    }
   ],
   "source": [
    "genome_size(ref_genome)"
   ]
  },
  {
   "cell_type": "code",
   "execution_count": 78,
   "metadata": {},
   "outputs": [
    {
     "data": {
      "text/plain": [
       "4411532"
      ]
     },
     "execution_count": 78,
     "metadata": {},
     "output_type": "execute_result"
    }
   ],
   "source": [
    "genome_size(ref_genome)"
   ]
  },
  {
   "cell_type": "code",
   "execution_count": 80,
   "metadata": {},
   "outputs": [
    {
     "name": "stdout",
     "output_type": "stream",
     "text": [
      "TACGCAT\n"
     ]
    }
   ],
   "source": [
    "import primer_selection"
   ]
  },
  {
   "cell_type": "code",
   "execution_count": null,
   "metadata": {},
   "outputs": [],
   "source": [
    "primer_selection.extract_sequence_from_fasta(0, genome_size(ref_genome),0)"
   ]
  },
  {
   "cell_type": "code",
   "execution_count": 83,
   "metadata": {},
   "outputs": [
    {
     "name": "stdout",
     "output_type": "stream",
     "text": [
      "True\n"
     ]
    }
   ],
   "source": [
    "def simplified_tm(seq):\n",
    "    # Simplified melting temperature calculation based on base pair count\n",
    "    return (seq.count('A') + seq.count('T')) * 2 + (seq.count('C') + seq.count('G')) * 4\n",
    "\n",
    "def simplified_dg(seq):\n",
    "    nn_params = {\n",
    "        'AA': -1.0, 'TT': -1.0,\n",
    "        'AT': -0.9, 'TA': -0.9,\n",
    "        'CA': -1.7, 'TG': -1.7,\n",
    "        'GT': -1.5, 'AC': -1.5,\n",
    "        'CT': -1.6, 'AG': -1.6,\n",
    "        'GA': -1.5, 'TC': -1.5,\n",
    "        'CG': -2.8, 'GC': -2.3,\n",
    "        'GG': -1.9, 'CC': -1.9\n",
    "    }\n",
    "    dg = 0\n",
    "    for i in range(len(seq) - 1):\n",
    "        dinucleotide = seq[i:i+2]\n",
    "        dg += nn_params.get(dinucleotide, 0)  # Adds 0 if dinucleotide not found\n",
    "    return dg\n",
    "\n",
    "\n",
    "def is_good_primer_candidate(primer, genome, target_site, max_mismatches, binding_location_range, max_distance_from_target, min_tm, max_dg):\n",
    "    primer_len = len(primer)\n",
    "    genome_len = len(genome)\n",
    "    \n",
    "    for i in range(genome_len - primer_len + 1):\n",
    "        subseq = genome[i:i+primer_len]\n",
    "        mismatches = calculate_mismatches(primer, subseq)\n",
    "        distance_from_target = min(abs(i - target_site), abs(i + primer_len - target_site))\n",
    "        \n",
    "        # Check if the alignment meets the thresholds\n",
    "        within_mismatch_threshold = mismatches <= max_mismatches\n",
    "        within_binding_location_range = binding_location_range[0] <= i <= binding_location_range[1]\n",
    "        within_distance_threshold = distance_from_target <= max_distance_from_target\n",
    "        \n",
    "        # Evaluate binding strength\n",
    "        tm = simplified_tm(subseq)\n",
    "        dg = simplified_dg(subseq)\n",
    "        strong_binding = tm >= min_tm and dg <= max_dg\n",
    "        \n",
    "        # If a strong alternative binding site is found, return False\n",
    "        summary = within_mismatch_threshold + within_binding_location_range + within_distance_threshold + strong_binding\n",
    "        # if within_mismatch_threshold and within_binding_location_range and within_distance_threshold and strong_binding:\n",
    "        if summary > 3:\n",
    "            return False\n",
    "    return True  # No strong alternative binding sites found\n",
    "\n",
    "# Usage\n",
    "primer = 'CGAACTCGAGGCTGCCTACT'\n",
    "genome = primer_selection.extract_sequence_from_fasta(0, genome_size(ref_genome),0)\n",
    "target_site = 7\n",
    "max_mismatches = 2\n",
    "binding_location_range = (0, 15)\n",
    "max_distance_from_target = 50\n",
    "min_tm = 50  # Example threshold for minimum melting temperature\n",
    "max_dg = -10  # Example threshold for maximum Gibbs free energy\n",
    "\n",
    "is_good_candidate = is_good_primer_candidate(primer, genome, target_site, max_mismatches, binding_location_range, max_distance_from_target, min_tm, max_dg)\n",
    "print(is_good_candidate)\n"
   ]
  },
  {
   "cell_type": "code",
   "execution_count": null,
   "metadata": {},
   "outputs": [],
   "source": [
    "    for i in range(genome_len - seq_len + 1):\n",
    "        subseq = genome[i:i + seq_len]\n",
    "        tm = simplified_tm(sequence)\n",
    "        dg = simplified_dg(sequence)\n",
    "\n",
    "        within_similarity_threshold = calculate_similarity(sequence, subseq, similarity_threshold)\n",
    "        within_tm_threshold = tm >= min_tm\n",
    "        within_dg_threshold = dg <= max_dg\n",
    "\n",
    "        if within_similarity_threshold and within_tm_threshold and within_dg_threshold:\n",
    "            count += 1\n",
    "            if count > 1:\n",
    "                return True  # Early exit if more than one binding site is found\n",
    "\n",
    "    return False  # Return False if only one or no binding sites are found"
   ]
  },
  {
   "cell_type": "markdown",
   "metadata": {},
   "source": [
    "## Below is the code used from testing alternative binding"
   ]
  },
  {
   "cell_type": "code",
   "execution_count": 140,
   "metadata": {},
   "outputs": [
    {
     "name": "stdout",
     "output_type": "stream",
     "text": [
      "CGAACTCGAGGCTGCCTACT\n",
      "CGGACTCGAGGGTGCCTTCT\n",
      "True\n"
     ]
    }
   ],
   "source": [
    "def simplified_tm(seq):\n",
    "    # Simplified melting temperature calculation based on base pair count\n",
    "    return (seq.count('A') + seq.count('T')) * 2 + (seq.count('C') + seq.count('G')) * 4\n",
    "\n",
    "def simplified_dg(seq):\n",
    "    # Simplified Gibbs free energy calculation based on the nearest-neighbor model (not accurate)\n",
    "    nn_params = {\n",
    "        'AA': -1.0, 'TT': -1.0,\n",
    "        'AT': -0.9, 'TA': -0.9,\n",
    "        'CA': -1.7, 'TG': -1.7,\n",
    "        'GT': -1.5, 'AC': -1.5,\n",
    "        'CT': -1.6, 'AG': -1.6,\n",
    "        'GA': -1.5, 'TC': -1.5,\n",
    "        'CG': -2.8, 'GC': -2.3,\n",
    "        'GG': -1.9, 'CC': -1.9\n",
    "    }\n",
    "    dg = 0\n",
    "    for i in range(len(seq) - 1):\n",
    "        dinucleotide = seq[i:i+2]\n",
    "        dg += nn_params.get(dinucleotide, 0)\n",
    "    return dg\n",
    "\n",
    "def calculate_similarity(seq1, seq2):\n",
    "    matches = sum(1 for a, b in zip(seq1, seq2) if a == b)\n",
    "    return matches / len(seq1) * 100\n",
    "\n",
    "def has_multiple_binding_sites(sequence, genome, similarity_threshold, min_tm=60, max_dg=-10):\n",
    "    seq_len = len(sequence)\n",
    "    genome_len = len(genome)\n",
    "    count = 0\n",
    "\n",
    "    for i in range(genome_len - seq_len + 1):\n",
    "        subseq = genome[i:i + seq_len]\n",
    "        if calculate_similarity(subseq, sequence)>similarity_threshold:\n",
    "            tm = simplified_tm(subseq)\n",
    "            dg = simplified_dg(subseq)\n",
    "            \n",
    "            within_tm_threshold = tm >= min_tm\n",
    "            within_dg_threshold = dg <= max_dg\n",
    "\n",
    "            if within_tm_threshold and within_dg_threshold:\n",
    "                print(genome[i:i + seq_len])\n",
    "                count += 1\n",
    "                if count > 1:\n",
    "                    return True  # Early exit if more than one binding site is found\n",
    "\n",
    "    return False  # Return False if only one or no binding sites are found\n",
    "\n",
    "# Usage:\n",
    "primer = 'CGAACTCGAGGCTGCCTACT'\n",
    "# primer = 'GCTCGTCCATGTCCCACCAT'\n",
    "genome = primer_selection.extract_sequence_from_fasta(0, genome_size(ref_genome),0)\n",
    "result = has_multiple_binding_sites(primer, genome, 81)\n",
    "print(result)  # Output: True or False\n"
   ]
  },
  {
   "cell_type": "code",
   "execution_count": 132,
   "metadata": {},
   "outputs": [
    {
     "name": "stdout",
     "output_type": "stream",
     "text": [
      "CGAACTCGAGGCTGCCTACT\n",
      "CGAACTCGAGGCTGCCTACT\n",
      "True\n"
     ]
    }
   ],
   "source": [
    "def has_multiple_binding_sites(sequence, genome):\n",
    "    seq_len = len(sequence)\n",
    "    genome_len = len(genome)\n",
    "    count = 0\n",
    "\n",
    "    for i in range(genome_len - seq_len + 1):\n",
    "        subseq = genome[i:i + seq_len]\n",
    "        if subseq == sequence:\n",
    "            print(genome[i:i + seq_len])\n",
    "            count += 1\n",
    "            if count > 1:\n",
    "                return True  # Early exit if more than one binding site is found\n",
    "\n",
    "    return False  # Return False if only one or no binding sites are found\n",
    "\n",
    "# Usage:\n",
    "primer = 'CGAACTCGAGGCTGCCTACT'\n",
    "# primer = 'GCTCGTCCATGTCCCACCAT'\n",
    "genome = primer_selection.extract_sequence_from_fasta(0, genome_size(ref_genome),0)\n",
    "result = has_multiple_binding_sites(primer, genome)\n",
    "print(result)  # Output: True or False\n"
   ]
  },
  {
   "cell_type": "code",
   "execution_count": 103,
   "metadata": {},
   "outputs": [
    {
     "name": "stdout",
     "output_type": "stream",
     "text": [
      "False\n"
     ]
    }
   ],
   "source": [
    "def calculate_similarity(seq1, seq2):\n",
    "    matches = sum(1 for a, b in zip(seq1, seq2) if a == b)\n",
    "    return matches / len(seq1) * 100\n",
    "\n",
    "def has_multiple_binding_sites(sequence, genome, similarity_threshold):\n",
    "    seq_len = len(sequence)\n",
    "    genome_len = len(genome)\n",
    "    count = 0\n",
    "\n",
    "    for i in range(genome_len - seq_len + 1):\n",
    "        subseq = genome[i:i + seq_len]\n",
    "        similarity = calculate_similarity(sequence, subseq)\n",
    "        if similarity >= similarity_threshold:\n",
    "            count += 1\n",
    "            if count > 1:\n",
    "                return True  # Early exit if more than one binding site is found\n",
    "\n",
    "    return False  # Return False if only one or no binding sites are found\n",
    "\n",
    "# Usage:\n",
    "# primer = 'CGAACTCGAGGCTGCCTACT'\n",
    "primer = 'GCTCGTCCATGTCCCACCAT'\n",
    "genome = primer_selection.extract_sequence_from_fasta(0, genome_size(ref_genome),0)\n",
    "similarity_threshold = 91  # For example, 90% similarity\n",
    "result = has_multiple_binding_sites(primer, genome, similarity_threshold)\n",
    "print(result)  # Output: True or False\n"
   ]
  },
  {
   "cell_type": "code",
   "execution_count": 104,
   "metadata": {},
   "outputs": [
    {
     "name": "stdout",
     "output_type": "stream",
     "text": [
      "False\n"
     ]
    }
   ],
   "source": [
    "def simplified_tm(seq):\n",
    "    # Simplified melting temperature calculation based on base pair count\n",
    "    return (seq.count('A') + seq.count('T')) * 2 + (seq.count('C') + seq.count('G')) * 4\n",
    "\n",
    "def simplified_dg(seq):\n",
    "    # Simplified Gibbs free energy calculation based on the nearest-neighbor model (not accurate)\n",
    "    nn_params = {\n",
    "        'AA': -1.0, 'TT': -1.0,\n",
    "        'AT': -0.9, 'TA': -0.9,\n",
    "        'CA': -1.7, 'TG': -1.7,\n",
    "        'GT': -1.5, 'AC': -1.5,\n",
    "        'CT': -1.6, 'AG': -1.6,\n",
    "        'GA': -1.5, 'TC': -1.5,\n",
    "        'CG': -2.8, 'GC': -2.3,\n",
    "        'GG': -1.9, 'CC': -1.9\n",
    "    }\n",
    "    dg = 0\n",
    "    for i in range(len(seq) - 1):\n",
    "        dinucleotide = seq[i:i+2]\n",
    "        dg += nn_params.get(dinucleotide, 0)\n",
    "    return dg\n",
    "\n",
    "def has_multiple_binding_sites(sequence, genome, similarity_threshold, min_tm, max_dg):\n",
    "    seq_len = len(sequence)\n",
    "    genome_len = len(genome)\n",
    "    count = 0\n",
    "\n",
    "    for i in range(genome_len - seq_len + 1):\n",
    "        subseq = genome[i:i + seq_len]\n",
    "        similarity = calculate_similarity(sequence, subseq)\n",
    "        tm = simplified_tm(subseq)\n",
    "        dg = simplified_dg(subseq)\n",
    "\n",
    "        # Check if the alignment meets the thresholds\n",
    "        within_similarity_threshold = similarity >= similarity_threshold\n",
    "        within_tm_threshold = tm >= min_tm\n",
    "        within_dg_threshold = dg <= max_dg\n",
    "\n",
    "        if within_similarity_threshold and within_tm_threshold and within_dg_threshold:\n",
    "            count += 1\n",
    "            if count > 1:\n",
    "                return True  # Early exit if more than one binding site is found\n",
    "\n",
    "    return False  # Return False if only one or no binding sites are found\n",
    "\n",
    "# Usage:\n",
    "primer = 'GCTCGTCCATGTCCCACCAT'\n",
    "genome = primer_selection.extract_sequence_from_fasta(0, genome_size(ref_genome),0)\n",
    "similarity_threshold = 70  # For example, 90% similarity\n",
    "min_tm = 40  # Example threshold for minimum melting temperature\n",
    "max_dg = -10  # Example threshold for maximum Gibbs free energy\n",
    "\n",
    "result = has_multiple_binding_sites(sequence, genome, similarity_threshold, min_tm, max_dg)\n",
    "print(result)  # Output: True or False\n"
   ]
  },
  {
   "cell_type": "code",
   "execution_count": 130,
   "metadata": {},
   "outputs": [
    {
     "name": "stdout",
     "output_type": "stream",
     "text": [
      "True\n"
     ]
    }
   ],
   "source": [
    "def calculate_similarity(seq1, seq2, similarity_threshold):\n",
    "    required_matches = len(seq1) * similarity_threshold / 100\n",
    "    matches = 0\n",
    "    for a, b in zip(seq1, seq2):\n",
    "        if a == b:\n",
    "            matches += 1\n",
    "        if matches >= required_matches:\n",
    "            return True\n",
    "    return False    \n",
    "\n",
    "def simplified_tm(seq):\n",
    "    return (seq.count('A') + seq.count('T')) * 2 + (seq.count('C') + seq.count('G')) * 4\n",
    "\n",
    "def simplified_dg(seq):\n",
    "    nn_params = {\n",
    "        'AA': -1.0, 'TT': -1.0,\n",
    "        'AT': -0.9, 'TA': -0.9,\n",
    "        'CA': -1.7, 'TG': -1.7,\n",
    "        'GT': -1.5, 'AC': -1.5,\n",
    "        'CT': -1.6, 'AG': -1.6,\n",
    "        'GA': -1.5, 'TC': -1.5,\n",
    "        'CG': -2.8, 'GC': -2.3,\n",
    "        'GG': -1.9, 'CC': -1.9\n",
    "    }\n",
    "    dg = 0\n",
    "    for i in range(len(seq) - 1):\n",
    "        dinucleotide = seq[i:i+2]\n",
    "        dg += nn_params.get(dinucleotide, 0)\n",
    "    return dg\n",
    "\n",
    "def precompute_dinucleotide_params(genome):\n",
    "    unique_dinucleotides = set(genome[i:i+2] for i in range(len(genome) - 1))\n",
    "    tm_params = {dinuc: simplified_tm(dinuc) for dinuc in unique_dinucleotides}\n",
    "    dg_params = {dinuc: simplified_dg(dinuc) for dinuc in unique_dinucleotides}\n",
    "    return tm_params, dg_params\n",
    "\n",
    "tm_params, dg_params = precompute_dinucleotide_params(genome)\n",
    "\n",
    "def has_multiple_binding_sites(sequence, genome, similarity_threshold, min_tm, max_dg):\n",
    "    seq_len = len(sequence)\n",
    "    genome_len = len(genome)\n",
    "    count = 0\n",
    "    for i in range(genome_len - seq_len + 1):\n",
    "        subseq = genome[i:i + seq_len]\n",
    "        tm = simplified_tm(sequence)\n",
    "        dg = simplified_dg(sequence)\n",
    "\n",
    "        within_similarity_threshold = calculate_similarity(sequence, subseq, similarity_threshold)\n",
    "        within_tm_threshold = tm >= min_tm\n",
    "        within_dg_threshold = dg <= max_dg\n",
    "\n",
    "        if within_similarity_threshold and within_tm_threshold and within_dg_threshold:\n",
    "            count += 1\n",
    "            if count > 1:\n",
    "                return True  # Early exit if more than one binding site is found\n",
    "\n",
    "    return False  # Return False if only one or no binding sites are found\n",
    "\n",
    "# Usage:\n",
    "primer = 'GCTCGTCCATGTCCCACCAT'\n",
    "genome = primer_selection.extract_sequence_from_fasta(0, genome_size(ref_genome),0)\n",
    "similarity_threshold = 70  # For example, 90% similarity\n",
    "min_tm = 40  # Example threshold for minimum melting temperature\n",
    "max_dg = -10  # Example threshold for maximum Gibbs free energy\n",
    "\n",
    "result = not has_multiple_binding_sites(sequence, genome, similarity_threshold, min_tm, max_dg)\n",
    "print(result)  # Output: True or False"
   ]
  },
  {
   "cell_type": "code",
   "execution_count": 108,
   "metadata": {},
   "outputs": [],
   "source": [
    "tm_params, dg_params = precompute_dinucleotide_params(genome)\n"
   ]
  },
  {
   "cell_type": "code",
   "execution_count": 118,
   "metadata": {},
   "outputs": [],
   "source": [
    "tm = sum(tm_params[genome[i:i+2]] for i in range(len(primer) - 1))\n"
   ]
  },
  {
   "cell_type": "code",
   "execution_count": 119,
   "metadata": {},
   "outputs": [
    {
     "data": {
      "text/plain": [
       "122"
      ]
     },
     "execution_count": 119,
     "metadata": {},
     "output_type": "execute_result"
    }
   ],
   "source": [
    "tm"
   ]
  },
  {
   "cell_type": "code",
   "execution_count": 116,
   "metadata": {},
   "outputs": [
    {
     "data": {
      "text/plain": [
       "{'CA': 6,\n",
       " 'AC': 6,\n",
       " 'TG': 6,\n",
       " 'GG': 8,\n",
       " 'TT': 4,\n",
       " 'CT': 6,\n",
       " 'CC': 8,\n",
       " 'GA': 6,\n",
       " 'AT': 4,\n",
       " 'AA': 4,\n",
       " 'GC': 8,\n",
       " 'GT': 6,\n",
       " 'AG': 6,\n",
       " 'CG': 8,\n",
       " 'TC': 6,\n",
       " 'TA': 4}"
      ]
     },
     "execution_count": 116,
     "metadata": {},
     "output_type": "execute_result"
    }
   ],
   "source": [
    "tm_params"
   ]
  },
  {
   "cell_type": "code",
   "execution_count": 4,
   "metadata": {},
   "outputs": [
    {
     "name": "stdout",
     "output_type": "stream",
     "text": [
      "GC Content: 60.00%\n"
     ]
    }
   ],
   "source": [
    "def gc_content(sequence):\n",
    "    if len(sequence) == 0:\n",
    "        raise ValueError(\"Sequence length must be greater than 0\")\n",
    "    gc_count = sequence.count('G') + sequence.count('C')\n",
    "    total_length = len(sequence)\n",
    "    gc_content_percentage = (gc_count / total_length) * 100\n",
    "    return gc_content_percentage\n",
    "\n",
    "# Example usage:\n",
    "sequence = 'GCTCGTCCATGTCCCACCAT'\n",
    "gc_percentage = gc_content(sequence)\n",
    "print(f'GC Content: {gc_percentage:.2f}%')\n"
   ]
  },
  {
   "cell_type": "code",
   "execution_count": 3,
   "metadata": {},
   "outputs": [
    {
     "name": "stdout",
     "output_type": "stream",
     "text": [
      "Melting Temperature (Tm): 50.75°C\n"
     ]
    }
   ],
   "source": [
    "import math\n",
    "\n",
    "def calculate_tm_nearest_neighbor(sequence, na_concentration):\n",
    "    if len(sequence) == 0:\n",
    "        raise ValueError(\"Sequence length must be greater than 0\")\n",
    "    gc_count = sequence.count('G') + sequence.count('C')\n",
    "    total_length = len(sequence)\n",
    "    percent_gc = (gc_count / total_length) * 100\n",
    "    tm = 81.5 + 16.6 * math.log10(na_concentration) + 0.41 * percent_gc - 675 / total_length\n",
    "    return tm\n",
    "\n",
    "# Example usage:\n",
    "sequence = 'GCTCGTCCATGTCCCACCAT'\n",
    "na_concentration = 0.05  # Example sodium ion concentration in mol/L\n",
    "tm = calculate_tm_nearest_neighbor(sequence, na_concentration)\n",
    "print(f'Melting Temperature (Tm): {tm:.2f}°C')\n"
   ]
  },
  {
   "cell_type": "code",
   "execution_count": 5,
   "metadata": {},
   "outputs": [
    {
     "name": "stdout",
     "output_type": "stream",
     "text": [
      "Melting Temperature (Tm): 64°C\n"
     ]
    }
   ],
   "source": [
    "def calculate_tm(sequence):\n",
    "    if len(sequence) == 0:\n",
    "        raise ValueError(\"Sequence length must be greater than 0\")\n",
    "    gc_count = sequence.count('G') + sequence.count('C')\n",
    "    at_count = sequence.count('A') + sequence.count('T')\n",
    "    tm = (gc_count * 4) + (at_count * 2)\n",
    "    return tm\n",
    "\n",
    "# Example usage:\n",
    "sequence = 'GCTCGTCCATGTCCCACCAT'\n",
    "tm = calculate_tm(sequence)\n",
    "print(f'Melting Temperature (Tm): {tm}°C')\n"
   ]
  },
  {
   "cell_type": "code",
   "execution_count": 2,
   "metadata": {},
   "outputs": [],
   "source": [
    "spol = pd.read_csv('/mnt/storage10/lwang/Projects/Amplicone_design_tool/model/raw.githubusercontent.com_GaryNapier_spolpred_master_data_spoligotypes.csv')"
   ]
  },
  {
   "cell_type": "code",
   "execution_count": 4,
   "metadata": {},
   "outputs": [
    {
     "data": {
      "text/plain": [
       "Index(['id', 'pct_reads_mapped', 'num_reads_mapped', 'median_coverage',\n",
       "       'main_lineage', 'sublineage', 'octal_spoligotype', 'binary_spoligotype',\n",
       "       'spacer1', 'spacer2', 'spacer3', 'spacer4', 'spacer5', 'spacer6',\n",
       "       'spacer7', 'spacer8', 'spacer9', 'spacer10', 'spacer11', 'spacer12',\n",
       "       'spacer13', 'spacer14', 'spacer15', 'spacer16', 'spacer17', 'spacer18',\n",
       "       'spacer19', 'spacer20', 'spacer21', 'spacer22', 'spacer23', 'spacer24',\n",
       "       'spacer25', 'spacer26', 'spacer27', 'spacer28', 'spacer29', 'spacer30',\n",
       "       'spacer31', 'spacer32', 'spacer33', 'spacer34', 'spacer35', 'spacer36',\n",
       "       'spacer37', 'spacer38', 'spacer39', 'spacer40', 'spacer41', 'spacer42',\n",
       "       'spacer43'],\n",
       "      dtype='object')"
      ]
     },
     "execution_count": 4,
     "metadata": {},
     "output_type": "execute_result"
    }
   ],
   "source": [
    "spol.columns"
   ]
  },
  {
   "cell_type": "markdown",
   "metadata": {},
   "source": [
    "# database check"
   ]
  },
  {
   "cell_type": "code",
   "execution_count": 3,
   "metadata": {},
   "outputs": [],
   "source": [
    "# qwer = pd.read_csv('/mnt/storage7/jody/philippines/projects/all_philippines/tbprofiler_new/variants.txt')\n",
    "s7_variants = pd.read_csv('/mnt/storage10/lwang/Projects/Amplicone_design_tool/model/variants.txt')"
   ]
  },
  {
   "cell_type": "code",
   "execution_count": 43,
   "metadata": {},
   "outputs": [],
   "source": [
    "full_data = pd.read_csv('/mnt/storage10/jody/projects/variant_dump/variants.csv')\n"
   ]
  },
  {
   "cell_type": "code",
   "execution_count": 15,
   "metadata": {},
   "outputs": [],
   "source": [
    "tb_drug_resistance_genes = {\n",
    "    'gyrB': ['Levofloxacin'],\n",
    "    'gyrA': ['Levofloxacin'],\n",
    "    'mshA': ['Isoniazid'],\n",
    "    'rpoB': ['Rifampicin'],\n",
    "    'rpoC': ['Rifampicin'],\n",
    "    'rpsL': ['Streptomycin'],\n",
    "    'embR': ['Ethambutol'],\n",
    "    'rrs': ['Kanamycin', 'Capreomycin', 'Amikacin', 'Streptomycin'],\n",
    "    'fabG1': ['Isoniazid'],\n",
    "    'inhA': ['Isoniazid'],\n",
    "    'rpsA': ['Pyrazinamide'],\n",
    "    'tlyA': ['Capreomycin'],\n",
    "    'ndh': ['Isoniazid'],\n",
    "    'katG': ['Isoniazid'],\n",
    "    'pncA': ['Pyrazinamide'],\n",
    "    'kasA': ['Isoniazid'],\n",
    "    'eis': ['Kanamycin', 'Amikacin'],\n",
    "    'ahpC': ['Isoniazid'],\n",
    "    'rpoA': ['Rifampicin'],\n",
    "    'panD': ['Pyrazinamide'],\n",
    "    'embC': ['Ethambutol'],\n",
    "    'embA': ['Ethambutol'],\n",
    "    'embB': ['Ethambutol'],\n",
    "    'ubiA': ['Ethambutol'],\n",
    "    'gid': ['Streptomycin']\n",
    "}\n",
    "full_data['weight'] = full_data['freq']\n",
    "\n",
    "full_data.loc[full_data['gene'].isin(tb_drug_resistance_genes.keys()), 'weight'] += 0.5\n"
   ]
  },
  {
   "cell_type": "code",
   "execution_count": 36,
   "metadata": {},
   "outputs": [],
   "source": [
    "gene_names = [\n",
    "    'PPE35', 'Rv1258c', 'Rv1979c', 'Rv2752c', 'Rv3083', 'Rv3236c', 'aftB', 'ahpC', 'ald', 'alr', \n",
    "    'atpE', 'ccsA', 'clpC1', 'ddn', 'eis', 'embA', 'embB', 'embC', 'embR', 'ethA', 'ethR', 'fabG1', \n",
    "    'fbiA', 'fbiB', 'fbiC', 'fbiD', 'fgd1', 'folC', 'fprA', 'gid', 'gyrA', 'gyrB', 'inhA', 'kasA', \n",
    "    'katG', 'mmpL5', 'mmpR5', 'mmpS5', 'mshA', 'ndh', 'panD', 'pepQ', 'pncA', 'ribD', 'rplC', 'rpoA', \n",
    "    'rpoB', 'rpoC', 'rpsA', 'rpsL', 'rrl', 'rrs', 'thyA', 'thyX', 'tlyA', 'ubiA', 'whiB6', 'whiB7'\n",
    "]"
   ]
  },
  {
   "cell_type": "code",
   "execution_count": null,
   "metadata": {},
   "outputs": [],
   "source": [
    "for x, n, g in zip(full_data.groupby('gene')['genome_pos'].max(), full_data.groupby('gene')['genome_pos'].min(), gene_names):\n",
    "    gene_range = full_data[full_data['gene']==g]\n",
    "    covered = gene_range[(gene_range['genome_pos']>=n)&(gene_range['genome_pos']<=x)]\n",
    "    print('==================================')\n",
    "    print(x, n)\n",
    "    print(gene_range['genome_pos'].max(), gene_range['genome_pos'].min())\n",
    "    print(g, len(covered), len(gene_range), len(covered)/len(gene_range))\n",
    "    "
   ]
  },
  {
   "cell_type": "code",
   "execution_count": null,
   "metadata": {},
   "outputs": [],
   "source": [
    "for x, n, g in zip(full_data.groupby('gene')['genome_pos'].max(), full_data.groupby('gene')['genome_pos'].min(), gene_names):\n",
    "    gene_range = s7_variants[s7_variants['gene']==g]\n",
    "    covered = gene_range[(gene_range['genome_pos']>=n)&(gene_range['genome_pos']<=x)]\n",
    "    print('==================================')\n",
    "    print(x, n)\n",
    "    print(gene_range['genome_pos'].max(), gene_range['genome_pos'].min())\n",
    "    print(g, len(covered), len(gene_range), len(covered)/len(gene_range))\n",
    "    "
   ]
  },
  {
   "cell_type": "code",
   "execution_count": 21,
   "metadata": {},
   "outputs": [],
   "source": [
    "overlap = set(s7_variants['sample_id'].unique().tolist()).intersection(set(full_data['sample_id'].unique().tolist()))\n"
   ]
  },
  {
   "cell_type": "code",
   "execution_count": null,
   "metadata": {},
   "outputs": [],
   "source": [
    "full_data[full_data['change']=='p.Ala403Ser']"
   ]
  },
  {
   "cell_type": "code",
   "execution_count": 7,
   "metadata": {},
   "outputs": [
    {
     "data": {
      "text/html": [
       "<div>\n",
       "<style scoped>\n",
       "    .dataframe tbody tr th:only-of-type {\n",
       "        vertical-align: middle;\n",
       "    }\n",
       "\n",
       "    .dataframe tbody tr th {\n",
       "        vertical-align: top;\n",
       "    }\n",
       "\n",
       "    .dataframe thead th {\n",
       "        text-align: right;\n",
       "    }\n",
       "</style>\n",
       "<table border=\"1\" class=\"dataframe\">\n",
       "  <thead>\n",
       "    <tr style=\"text-align: right;\">\n",
       "      <th></th>\n",
       "      <th>sample_id</th>\n",
       "      <th>genome_pos</th>\n",
       "      <th>gene</th>\n",
       "      <th>change</th>\n",
       "      <th>freq</th>\n",
       "      <th>type</th>\n",
       "      <th>sublin</th>\n",
       "      <th>drtype</th>\n",
       "      <th>drugs</th>\n",
       "    </tr>\n",
       "  </thead>\n",
       "  <tbody>\n",
       "    <tr>\n",
       "      <th>0</th>\n",
       "      <td>ERR9787047</td>\n",
       "      <td>6446</td>\n",
       "      <td>gyrB</td>\n",
       "      <td>p.Ala403Ser</td>\n",
       "      <td>1.000000</td>\n",
       "      <td>missense_variant</td>\n",
       "      <td>lineage6.1.1</td>\n",
       "      <td>Sensitive</td>\n",
       "      <td>NaN</td>\n",
       "    </tr>\n",
       "    <tr>\n",
       "      <th>141</th>\n",
       "      <td>SRR8902561</td>\n",
       "      <td>6446</td>\n",
       "      <td>gyrB</td>\n",
       "      <td>p.Ala403Ser</td>\n",
       "      <td>1.000000</td>\n",
       "      <td>missense_variant</td>\n",
       "      <td>La1.8.1</td>\n",
       "      <td>Other</td>\n",
       "      <td>NaN</td>\n",
       "    </tr>\n",
       "    <tr>\n",
       "      <th>2273</th>\n",
       "      <td>ERR2815611</td>\n",
       "      <td>6446</td>\n",
       "      <td>gyrB</td>\n",
       "      <td>p.Ala403Ser</td>\n",
       "      <td>0.985075</td>\n",
       "      <td>missense_variant</td>\n",
       "      <td>La1.1</td>\n",
       "      <td>Sensitive</td>\n",
       "      <td>NaN</td>\n",
       "    </tr>\n",
       "    <tr>\n",
       "      <th>2336</th>\n",
       "      <td>ERR3439434</td>\n",
       "      <td>6446</td>\n",
       "      <td>gyrB</td>\n",
       "      <td>p.Ala403Ser</td>\n",
       "      <td>1.000000</td>\n",
       "      <td>missense_variant</td>\n",
       "      <td>La1.8.1</td>\n",
       "      <td>Other</td>\n",
       "      <td>NaN</td>\n",
       "    </tr>\n",
       "    <tr>\n",
       "      <th>3706</th>\n",
       "      <td>SRR14782548</td>\n",
       "      <td>6446</td>\n",
       "      <td>gyrB</td>\n",
       "      <td>p.Ala403Ser</td>\n",
       "      <td>0.976190</td>\n",
       "      <td>missense_variant</td>\n",
       "      <td>La1.2.BCG</td>\n",
       "      <td>Other</td>\n",
       "      <td>NaN</td>\n",
       "    </tr>\n",
       "    <tr>\n",
       "      <th>...</th>\n",
       "      <td>...</td>\n",
       "      <td>...</td>\n",
       "      <td>...</td>\n",
       "      <td>...</td>\n",
       "      <td>...</td>\n",
       "      <td>...</td>\n",
       "      <td>...</td>\n",
       "      <td>...</td>\n",
       "      <td>...</td>\n",
       "    </tr>\n",
       "    <tr>\n",
       "      <th>7414917</th>\n",
       "      <td>ERR2512732</td>\n",
       "      <td>6446</td>\n",
       "      <td>gyrB</td>\n",
       "      <td>p.Ala403Ser</td>\n",
       "      <td>1.000000</td>\n",
       "      <td>missense_variant</td>\n",
       "      <td>La1.8.1</td>\n",
       "      <td>Other</td>\n",
       "      <td>NaN</td>\n",
       "    </tr>\n",
       "    <tr>\n",
       "      <th>7415030</th>\n",
       "      <td>ERR192047</td>\n",
       "      <td>6446</td>\n",
       "      <td>gyrB</td>\n",
       "      <td>p.Ala403Ser</td>\n",
       "      <td>1.000000</td>\n",
       "      <td>missense_variant</td>\n",
       "      <td>La1.8.1</td>\n",
       "      <td>Other</td>\n",
       "      <td>NaN</td>\n",
       "    </tr>\n",
       "    <tr>\n",
       "      <th>7415606</th>\n",
       "      <td>ERR4192560</td>\n",
       "      <td>6446</td>\n",
       "      <td>gyrB</td>\n",
       "      <td>p.Ala403Ser</td>\n",
       "      <td>1.000000</td>\n",
       "      <td>missense_variant</td>\n",
       "      <td>lineage6.1.1</td>\n",
       "      <td>Sensitive</td>\n",
       "      <td>NaN</td>\n",
       "    </tr>\n",
       "    <tr>\n",
       "      <th>7415792</th>\n",
       "      <td>SRR1735567</td>\n",
       "      <td>6446</td>\n",
       "      <td>gyrB</td>\n",
       "      <td>p.Ala403Ser</td>\n",
       "      <td>1.000000</td>\n",
       "      <td>missense_variant</td>\n",
       "      <td>La1.2.BCG</td>\n",
       "      <td>Other</td>\n",
       "      <td>NaN</td>\n",
       "    </tr>\n",
       "    <tr>\n",
       "      <th>7420193</th>\n",
       "      <td>ERR4188235</td>\n",
       "      <td>6446</td>\n",
       "      <td>gyrB</td>\n",
       "      <td>p.Ala403Ser</td>\n",
       "      <td>1.000000</td>\n",
       "      <td>missense_variant</td>\n",
       "      <td>La1.8.1</td>\n",
       "      <td>Other</td>\n",
       "      <td>NaN</td>\n",
       "    </tr>\n",
       "  </tbody>\n",
       "</table>\n",
       "<p>10112 rows × 9 columns</p>\n",
       "</div>"
      ],
      "text/plain": [
       "           sample_id  genome_pos  gene       change      freq  \\\n",
       "0         ERR9787047        6446  gyrB  p.Ala403Ser  1.000000   \n",
       "141       SRR8902561        6446  gyrB  p.Ala403Ser  1.000000   \n",
       "2273      ERR2815611        6446  gyrB  p.Ala403Ser  0.985075   \n",
       "2336      ERR3439434        6446  gyrB  p.Ala403Ser  1.000000   \n",
       "3706     SRR14782548        6446  gyrB  p.Ala403Ser  0.976190   \n",
       "...              ...         ...   ...          ...       ...   \n",
       "7414917   ERR2512732        6446  gyrB  p.Ala403Ser  1.000000   \n",
       "7415030    ERR192047        6446  gyrB  p.Ala403Ser  1.000000   \n",
       "7415606   ERR4192560        6446  gyrB  p.Ala403Ser  1.000000   \n",
       "7415792   SRR1735567        6446  gyrB  p.Ala403Ser  1.000000   \n",
       "7420193   ERR4188235        6446  gyrB  p.Ala403Ser  1.000000   \n",
       "\n",
       "                     type        sublin     drtype drugs  \n",
       "0        missense_variant  lineage6.1.1  Sensitive   NaN  \n",
       "141      missense_variant       La1.8.1      Other   NaN  \n",
       "2273     missense_variant         La1.1  Sensitive   NaN  \n",
       "2336     missense_variant       La1.8.1      Other   NaN  \n",
       "3706     missense_variant     La1.2.BCG      Other   NaN  \n",
       "...                   ...           ...        ...   ...  \n",
       "7414917  missense_variant       La1.8.1      Other   NaN  \n",
       "7415030  missense_variant       La1.8.1      Other   NaN  \n",
       "7415606  missense_variant  lineage6.1.1  Sensitive   NaN  \n",
       "7415792  missense_variant     La1.2.BCG      Other   NaN  \n",
       "7420193  missense_variant       La1.8.1      Other   NaN  \n",
       "\n",
       "[10112 rows x 9 columns]"
      ]
     },
     "execution_count": 7,
     "metadata": {},
     "output_type": "execute_result"
    }
   ],
   "source": [
    "full_data[full_data['change']=='p.Ala403Ser']"
   ]
  },
  {
   "cell_type": "code",
   "execution_count": 5,
   "metadata": {},
   "outputs": [
    {
     "data": {
      "text/plain": [
       "(7420996, 9)"
      ]
     },
     "execution_count": 5,
     "metadata": {},
     "output_type": "execute_result"
    }
   ],
   "source": [
    "full_data.shape"
   ]
  },
  {
   "cell_type": "code",
   "execution_count": null,
   "metadata": {},
   "outputs": [],
   "source": [
    "full_data"
   ]
  },
  {
   "cell_type": "code",
   "execution_count": 19,
   "metadata": {},
   "outputs": [],
   "source": [
    "import random\n",
    "\n",
    "def generate_random_gene_seq(length):\n",
    "    bases = ['A', 'T', 'C', 'G']\n",
    "    return ''.join(random.choice(bases) for _ in range(length))\n",
    "\n",
    "random_gene_seq = generate_random_gene_seq(300)\n",
    "# print(f\"Random Gene Sequence of Length 100: {random_gene_seq}\")\n"
   ]
  },
  {
   "cell_type": "code",
   "execution_count": 23,
   "metadata": {},
   "outputs": [
    {
     "data": {
      "text/plain": [
       "'CGTCTGTACATGCCGCTCTATTACAATTATTCCACAAGGGTCAAGGGGCCGCTGCGCTCGGAACGCTCGTGATAGCGCTATCTCAACGCTATTACGGTAGATTCGACTTAAACACATACCTAAGCGCAAGGTAGCACGGCGGGCGTCTTTTAAACTTGGGCATCGCGACCACCGGCCAATTACGGTTTAGCTATCGTCTTACTTAGGCTATAGAGCGCTTTGCCAGAACAAAGGAAAGCGTAAGGATAACCACGGTTCGATGTTGATGGGCGACGACAGGTAGCTCGATCCTCCACTCCG'"
      ]
     },
     "execution_count": 23,
     "metadata": {},
     "output_type": "execute_result"
    }
   ],
   "source": [
    "random_gene_seq"
   ]
  },
  {
   "cell_type": "code",
   "execution_count": null,
   "metadata": {},
   "outputs": [],
   "source": [
    "import primer3\n",
    "\n",
    "# Define sequence arguments\n",
    "seq_args = {\n",
    "    'SEQUENCE_ID': 'example',\n",
    "    'SEQUENCE_TEMPLATE': random_gene_seq,\n",
    "    'SEQUENCE_INCLUDED_REGION': [15, len(random_gene_seq) - 15]\n",
    "}\n",
    "\n",
    "# Define global arguments\n",
    "global_args = {\n",
    "    'PRIMER_TASK': 'generic',\n",
    "    'PRIMER_PICK_LEFT_PRIMER': 1,\n",
    "    'PRIMER_PICK_INTERNAL_OLIGO': 1,\n",
    "    'PRIMER_PICK_RIGHT_PRIMER': 1,\n",
    "    'PRIMER_OPT_SIZE': 20,\n",
    "    'PRIMER_MIN_SIZE': 18,\n",
    "    'PRIMER_MAX_SIZE': 25,\n",
    "    'PRIMER_NUM_RETURN': 5,\n",
    "    'PRIMER_MIN_TM': 57.0,\n",
    "    'PRIMER_MAX_TM': 63.0,\n",
    "    'PRIMER_MIN_GC': 20.0,\n",
    "    'PRIMER_MAX_GC': 80.0,\n",
    "    'PRIMER_MAX_POLY_X': 100,\n",
    "    'PRIMER_INTERNAL_MAX_POLY_X': 100,\n",
    "    'PRIMER_SALT_MONOVALENT': 50.0,\n",
    "    'PRIMER_DNA_CONC': 50.0,\n",
    "    'PRIMER_MAX_NS_ACCEPTED': 0,\n",
    "    'PRIMER_MAX_SELF_ANY': 12,\n",
    "    'PRIMER_MAX_SELF_END': 8,\n",
    "    'PRIMER_PAIR_MAX_COMPL_ANY': 12,\n",
    "    'PRIMER_PAIR_MAX_COMPL_END': 8\n",
    "}\n",
    "\n",
    "# Run the primer design\n",
    "designs = primer3.design_primers(seq_args, global_args)\n",
    "designs = bindings.design_primers(seq_args, global_args)\n",
    "\n",
    "# Output results\n",
    "for key, value in designs.items():\n",
    "    print(f\"{key}: {value}\")\n"
   ]
  },
  {
   "cell_type": "code",
   "execution_count": 12,
   "metadata": {},
   "outputs": [
    {
     "name": "stdout",
     "output_type": "stream",
     "text": [
      "Start of SEQUENCE_INCLUDED_REGION:  1\n",
      "Length of SEQUENCE_INCLUDED_REGION:  70\n",
      "Total length of SEQUENCE_TEMPLATE:  71\n"
     ]
    }
   ],
   "source": [
    "# Print to validate\n",
    "print(\"Start of SEQUENCE_INCLUDED_REGION: \", seq_args['SEQUENCE_INCLUDED_REGION'][0])\n",
    "print(\"Length of SEQUENCE_INCLUDED_REGION: \", seq_args['SEQUENCE_INCLUDED_REGION'][1])\n",
    "print(\"Total length of SEQUENCE_TEMPLATE: \", len(seq_args['SEQUENCE_TEMPLATE']))\n",
    "\n",
    "# Validate bounds\n",
    "if seq_args['SEQUENCE_INCLUDED_REGION'][0] + seq_args['SEQUENCE_INCLUDED_REGION'][1] > len(seq_args['SEQUENCE_TEMPLATE']):\n",
    "    print(\"Error: SEQUENCE_INCLUDED_REGION is out of bounds\")\n"
   ]
  },
  {
   "cell_type": "code",
   "execution_count": 3,
   "metadata": {},
   "outputs": [
    {
     "data": {
      "text/plain": [
       "1500"
      ]
     },
     "execution_count": 3,
     "metadata": {},
     "output_type": "execute_result"
    }
   ],
   "source": [
    "seq = 'AGTGCTTTCGCACGTCGTACCCCTCGGGTAGCTGGCGCTGGATCAGGCTCAGGAACATCTTCCGCATGCGCCGTGGCCACTTCTGGCAGGCGCTGTACACGGCCGCCTGGCGCAGCACGTTCTTCCACCGTACCGCGGTGTAGGCCATGGTCTCCGGCAGCCAGCGGTTGAGCTTCTCGGCGATGCCGTCCCGGTCTGGCTGCGACACGATGTAGGTGGGTGAGCGCTGCAGCATCGTGACGTGCTTGGCGCCCGAGTCCGCCAGCGCCGGCACGAGCGTGACCGCCGTTGCGCCACTGCCGATCACGACGATGTTCTTAGCGTCGTAGTCGAGGTCCTCGGGCCAGTGCTGCGGATGGATGATCGGCCCGACGAAATCCTCCGAGCCGGCGAATCTCGGCGAGTAGCCCTCGTCGTAGTTGTAGTAGCCGCTGCACAGAAAGAGGAATTCGCAGGTGAGGGCGCTGAGCGTGCCGTGGCTTTGGATGTGAACGGTCCAGCGGTTTTCCGCGGTCGACCAATCGGCACTGATCACCTTGTGGTGGAACCGGATATGCCTGTCGATTCCATACATGGCCGCGGTGCTCTTGACGTACTCGAGGATGGGCTTGCCGTCGGCGATCGCCTGCCGTCCGGTCCAGGGACGGAATCGGAAACCTAGCGTGTACATGTCGGAGTCGGAGCGAATTCCGGGATAACGGAACAAATCCCAGGTGCCGCCCATGGATTCCCGCTTTTCCAGGATGGCGTAGCTCTTGGTCGGGCAACGGTCCTGCAGGTGCCAGGCCGCGCTGACACCGGAGATTCCAGCGCCCACGATGACAACGTCGAGGTGCTCGGTCATGGATCCACGCTATCAACGTAATGTCGAGGCCGTCAACGAGATGTCGACACTATCGACACGTAGTAAGCTGCCAGGGTGACCACCTCCGCGGCCAGTCAGGCTTCGCTGCCTAGGGGCCGGCGCACCGCGCGGCCGTCCGGCGACGATCGTGAACTGGCGATCCTCGCCACCGCCGAGAACCTTCTCGAGGACCGTCCGCTGGCCGATATCTCGGTCGACGATCTGGCCAAGGGCGCCGGTATCTCGAGGCCGACGTTCTACTTCTATTTCCCATCCAAGGAAGCGGTGCTGCTGACCCTGCTGGACCGGGTGGTCAATCAAGCCGACATGGCCCTACAGACCCTTGCCGAGAATCCCGCCGACACCGACCGCGAGAACATGTGGCGCACCGGGATCAACGTGTTCTTCGAGACATTCGGGTCGCACAAGGCGGTAACCCGAGCCGGTCAGGCCGCCAGGGCAACCAGTGTCGAAGTCGCCGAACTGTGGTCGACGTTTATGCAGAAGTGGATCGCCTACACGGCCGCCGTGATCGACGCCGAACGCGACCGAGGCGCGGCGCCGCGCACCCTGCCGGCCCATGAACTGGCCACAGCGCTCAACCTGATGAACGAGCGGACGCTGTTCGCGTCATTCGCCGGCGAACAGCCCTCGGT'\n",
    "len(seq)"
   ]
  },
  {
   "cell_type": "code",
   "execution_count": 8,
   "metadata": {},
   "outputs": [
    {
     "data": {
      "text/plain": [
       "'CACGATGTAGGTGGGTGAGCGCTGC'"
      ]
     },
     "execution_count": 8,
     "metadata": {},
     "output_type": "execute_result"
    }
   ],
   "source": [
    "seq[205:230]"
   ]
  },
  {
   "cell_type": "code",
   "execution_count": null,
   "metadata": {},
   "outputs": [],
   "source": [
    "ACTGCCGATCACGACGATGT"
   ]
  },
  {
   "cell_type": "code",
   "execution_count": 13,
   "metadata": {},
   "outputs": [
    {
     "data": {
      "text/plain": [
       "295"
      ]
     },
     "execution_count": 13,
     "metadata": {},
     "output_type": "execute_result"
    }
   ],
   "source": [
    "left_seq = 'AGTGCTTTCGCACGTCGTACCCCTCGGGTAGCTGGCGCTGGATCAGGCTCAGGAACATCTTCCGCATGCGCCGTGGCCACTTCTGGCAGGCGCTGTACACGGCCGCCTGGCGCAGCACGTTCTTCCACCGTACCGCGGTGTAGGCCATGGTCTCCGGCAGCCAGCGGTTGAGCTTCTCGGCGATGCCGTCCCGGTCTGGCTGCGACACGATGTAGGTGGGTGAGCGCTGCAGCATCGTGACGTGCTTGGCGCCCGAGTCCGCCAGCGCCGGCACGAGCGTGACCGCCGTTGCGCC'\n",
    "len(left_seq)"
   ]
  },
  {
   "cell_type": "code",
   "execution_count": null,
   "metadata": {},
   "outputs": [],
   "source": []
  },
  {
   "cell_type": "code",
   "execution_count": 10,
   "metadata": {},
   "outputs": [
    {
     "data": {
      "text/plain": [
       "'AGTGCTTTCGCACGTCGTACCCCTCGGGTAGCTGGCGCTGGATCAGGCTCAGGAACATCTTCCGCATGCGCCGTGGCCACTTCTGGCAGGCGCTGTACACGGCCGCCTGGCGCAGCACGTTCTTCCACCGTACCGCGGTGTAGGCCATGGTCTCCGGCAGCCAGCGGTTGAGCTTCTCGGCGATGCCGTCCCGGTCTGGCTGCGACACGATGTAGGTGGGTGAGCGCTGCAGCATCGTGACGTGCTTGGCGCCCGAGTCCGCCAGCGCCGGCACGAGCGTGACCGCCGTTGCGCC'"
      ]
     },
     "execution_count": 10,
     "metadata": {},
     "output_type": "execute_result"
    }
   ],
   "source": [
    "left_seq"
   ]
  },
  {
   "cell_type": "code",
   "execution_count": 12,
   "metadata": {},
   "outputs": [
    {
     "data": {
      "text/plain": [
       "'AACCGGATATGCCTGTCGAT'"
      ]
     },
     "execution_count": 12,
     "metadata": {},
     "output_type": "execute_result"
    }
   ],
   "source": [
    "primer_selection.extract_sequence_from_fasta(4327174, 4327174+20, padding=0)"
   ]
  },
  {
   "cell_type": "code",
   "execution_count": 15,
   "metadata": {},
   "outputs": [
    {
     "data": {
      "text/plain": [
       "'CGGTTTTCCGCGGTCGACCA'"
      ]
     },
     "execution_count": 15,
     "metadata": {},
     "output_type": "execute_result"
    }
   ],
   "source": [
    "primer_selection.extract_sequence_from_fasta(4327129, 4327129+20, padding=0)\n"
   ]
  },
  {
   "cell_type": "code",
   "execution_count": 14,
   "metadata": {},
   "outputs": [
    {
     "data": {
      "text/plain": [
       "4327424"
      ]
     },
     "execution_count": 14,
     "metadata": {},
     "output_type": "execute_result"
    }
   ],
   "source": [
    "4327129 + 295"
   ]
  },
  {
   "cell_type": "code",
   "execution_count": 36,
   "metadata": {},
   "outputs": [
    {
     "name": "stdout",
     "output_type": "stream",
     "text": [
      "Sequence found in Chromosome from position 760286 to 760306\n"
     ]
    }
   ],
   "source": [
    "from Bio import SeqIO\n",
    "\n",
    "def find_sequence_location(fasta_file, query_sequence):\n",
    "    for record in SeqIO.parse(fasta_file, \"fasta\"):\n",
    "        sequence = str(record.seq)\n",
    "        if query_sequence in sequence:\n",
    "            start_index = sequence.index(query_sequence)\n",
    "            end_index = start_index + len(query_sequence)\n",
    "            return f\"Sequence found in {record.id} from position {start_index} to {end_index}\"\n",
    "    return \"Sequence not found in the FASTA file\"\n",
    "\n",
    "# Example usage\n",
    "fasta_file = \"/mnt/storage10/lwang/Projects/Amplicone_design_tool/MTB-h37rv_asm19595v2-eg18.fa\"\n",
    "query_sequence = \"ATCATCAACGGGACCGAGCG\"\n",
    "\n",
    "result = find_sequence_location(fasta_file, query_sequence)\n",
    "print(result)\n"
   ]
  },
  {
   "cell_type": "code",
   "execution_count": 40,
   "metadata": {},
   "outputs": [
    {
     "name": "stdout",
     "output_type": "stream",
     "text": [
      "Sequence found in Chromosome from position 760365 to 760385\n"
     ]
    }
   ],
   "source": [
    "fasta_file = \"/mnt/storage10/lwang/Projects/Amplicone_design_tool/MTB-h37rv_asm19595v2-eg18.fa\"\n",
    "query_sequence = \"AGTCCACCGACAAGACGCTG\"\n",
    "\n",
    "result = find_sequence_location(fasta_file, query_sequence)\n",
    "print(result)"
   ]
  },
  {
   "cell_type": "code",
   "execution_count": 35,
   "metadata": {},
   "outputs": [
    {
     "data": {
      "text/plain": [
       "4327879"
      ]
     },
     "execution_count": 35,
     "metadata": {},
     "output_type": "execute_result"
    }
   ],
   "source": [
    "4328229-350"
   ]
  },
  {
   "cell_type": "code",
   "execution_count": 41,
   "metadata": {},
   "outputs": [
    {
     "data": {
      "text/plain": [
       "'Sequence found in Chromosome from position 13 to 33'"
      ]
     },
     "execution_count": 41,
     "metadata": {},
     "output_type": "execute_result"
    }
   ],
   "source": [
    "find_sequence_location(fasta_file, 'CCGGTTCAGGCTTCACCACA')"
   ]
  },
  {
   "cell_type": "code",
   "execution_count": 45,
   "metadata": {},
   "outputs": [],
   "source": [
    "from Bio import SeqIO\n",
    "\n",
    "def find_sequence_location(query_sequence, position, fasta_file):\n",
    "    closest_start = float('inf')\n",
    "    closest_end = float('inf')\n",
    "    closest_record = None\n",
    "\n",
    "    for record in SeqIO.parse(fasta_file, \"fasta\"):\n",
    "        sequence = str(record.seq)\n",
    "        index = sequence.find(query_sequence)\n",
    "        \n",
    "        while index != -1:\n",
    "            start_index = index\n",
    "            end_index = index + len(query_sequence)\n",
    "            \n",
    "            if abs(position - start_index) < abs(position - closest_start):\n",
    "                closest_start = start_index\n",
    "                closest_end = end_index\n",
    "                closest_record = record.id\n",
    "\n",
    "            index = sequence.find(query_sequence, index + 1)\n",
    "\n",
    "    if closest_record is not None:\n",
    "        return closest_start, closest_end\n",
    "    else:\n",
    "        print(\"Primer Sequence not found in FASTA file.\")\n",
    "        return 0,0"
   ]
  },
  {
   "cell_type": "code",
   "execution_count": 50,
   "metadata": {},
   "outputs": [
    {
     "data": {
      "text/plain": [
       "(4325973, 4325993)"
      ]
     },
     "execution_count": 50,
     "metadata": {},
     "output_type": "execute_result"
    }
   ],
   "source": [
    "find_sequence_location('GCCTAAACCGGCGCTAAACC', 4326008, fasta_file='/mnt/storage10/lwang/Projects/Amplicone_design_tool/MTB-h37rv_asm19595v2-eg18.fa')\n"
   ]
  },
  {
   "cell_type": "code",
   "execution_count": 28,
   "metadata": {},
   "outputs": [
    {
     "data": {
      "text/plain": [
       "'ACTGCCGATCACGACGATGT'"
      ]
     },
     "execution_count": 28,
     "metadata": {},
     "output_type": "execute_result"
    }
   ],
   "source": [
    "primer_selection.extract_sequence_from_fasta(4326924, 4326944, padding=0)\n"
   ]
  },
  {
   "cell_type": "code",
   "execution_count": 25,
   "metadata": {},
   "outputs": [],
   "source": [
    "from Bio import SeqIO\n",
    "\n",
    "def find_sequence_location(fasta_file, query_sequence, position):\n",
    "    closest_start = float('inf')\n",
    "    closest_end = float('inf')\n",
    "    closest_record = None\n",
    "\n",
    "    for record in SeqIO.parse(fasta_file, \"fasta\"):\n",
    "        sequence = str(record.seq)\n",
    "        index = sequence.find(query_sequence)\n",
    "        \n",
    "        while index != -1:\n",
    "            start_index = index\n",
    "            end_index = index + len(query_sequence)\n",
    "            \n",
    "            if abs(position - start_index) < abs(position - closest_start):\n",
    "                closest_start = start_index\n",
    "                closest_end = end_index\n",
    "                closest_record = record.id\n",
    "\n",
    "            index = sequence.find(query_sequence, index + 1)\n",
    "\n",
    "    if closest_record is not None:\n",
    "        return closest_start, closest_end\n",
    "    else:\n",
    "        return \"Sequence not found in the FASTA file\""
   ]
  },
  {
   "cell_type": "code",
   "execution_count": 29,
   "metadata": {},
   "outputs": [
    {
     "data": {
      "text/plain": [
       "4326924"
      ]
     },
     "execution_count": 29,
     "metadata": {},
     "output_type": "execute_result"
    }
   ],
   "source": [
    "query_sequence ='ACTGCCGATCACGACGATGT'\n",
    "# query_sequence = primer_selection.reverse_complement_sequence(query_sequence)\n",
    "find_sequence_location(fasta_file, query_sequence, 4327932)[0]\n",
    "# print(result)"
   ]
  },
  {
   "cell_type": "code",
   "execution_count": null,
   "metadata": {},
   "outputs": [],
   "source": [
    "4327129 4327629"
   ]
  },
  {
   "cell_type": "code",
   "execution_count": null,
   "metadata": {},
   "outputs": [],
   "source": [
    "4327129"
   ]
  },
  {
   "cell_type": "code",
   "execution_count": 20,
   "metadata": {},
   "outputs": [
    {
     "data": {
      "text/plain": [
       "4326629"
      ]
     },
     "execution_count": 20,
     "metadata": {},
     "output_type": "execute_result"
    }
   ],
   "source": [
    "[[4326879, 4327879],\n",
    " [2282776, 2283776],\n",
    " [2285958, 2286958],\n",
    " [4246734, 4247734],\n",
    " [4244193, 4245193],\n",
    " [2280899, 2281899],\n",
    " [2152912, 2153912],\n",
    " [2284954, 2285954],\n",
    " [2747141, 2748141],\n",
    " [1834840, 1835840],\n",
    " [2150990, 2151990],\n",
    " [2277174, 2278174],\n",
    " [3067958, 3068958],\n",
    " [2147188, 2148188],\n",
    " [2138550, 2139550],\n",
    " [2281712, 2282712],\n",
    " [2283527, 2284527],\n",
    " [1416371, 1417371],\n",
    " [3840393, 3841393],\n",
    " [3073502, 3074502],\n",
    " [2149884, 2150884],\n",
    " [2276296, 2277296],\n",
    " [2279554, 2280554],\n",
    " [2287239, 2288239],\n",
    " [2141412, 2142412],\n",
    " [2140159, 2141159],\n",
    " [2148199, 2149199],\n",
    " [2144518, 2145518],\n",
    " [3086947, 3087947],\n",
    " [2128861, 2129861]]"
   ]
  }
 ],
 "metadata": {
  "kernelspec": {
   "display_name": "ml-s10",
   "language": "python",
   "name": "python3"
  },
  "language_info": {
   "codemirror_mode": {
    "name": "ipython",
    "version": 3
   },
   "file_extension": ".py",
   "mimetype": "text/x-python",
   "name": "python",
   "nbconvert_exporter": "python",
   "pygments_lexer": "ipython3",
   "version": "3.11.2"
  },
  "orig_nbformat": 4
 },
 "nbformat": 4,
 "nbformat_minor": 2
}
