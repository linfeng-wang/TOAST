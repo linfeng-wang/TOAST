{
 "cells": [
  {
   "cell_type": "code",
   "execution_count": 1,
   "metadata": {},
   "outputs": [
    {
     "name": "stderr",
     "output_type": "stream",
     "text": [
      "/tmp/ipykernel_940664/2667737495.py:18: DeprecationWarning: the imp module is deprecated in favour of importlib and slated for removal in Python 3.12; see the module's documentation for alternative uses\n",
      "  from imp import reload\n"
     ]
    }
   ],
   "source": [
    "import numpy as np\n",
    "import pandas as pd\n",
    "import matplotlib.pyplot as plt\n",
    "%matplotlib inline\n",
    "from functools import partial\n",
    "from random import choices, randint, randrange, random, sample\n",
    "from typing import List, Optional, Callable, Tuple\n",
    "import numpy as np\n",
    "# from geneticalgorithm import geneticalgorithm as ga\n",
    "import pandas as pd\n",
    "from collections import Counter\n",
    "from tqdm import tqdm\n",
    "import time\n",
    "from Bio.SeqUtils import MeltingTemp\n",
    "from Bio import SeqIO\n",
    "from plotly import graph_objects as go\n",
    "import json\n",
    "from imp import reload\n",
    "# import primer_selection\n",
    "# reload(primer_selection)\n",
    "# import testing\n",
    "# reload(testing)\n",
    "import math\n",
    "from itertools import combinations\n",
    "\n",
    "from primer3 import calc_heterodimer\n"
   ]
  },
  {
   "cell_type": "code",
   "execution_count": 2,
   "metadata": {},
   "outputs": [],
   "source": [
    "def value_counts_list(lst):\n",
    "    \"\"\"\n",
    "    Computes the frequency count of unique elements in a list and returns a dictionary, sorted by frequency count in\n",
    "    descending order.\n",
    "\n",
    "    Args:\n",
    "    - lst (list): List of elements\n",
    "\n",
    "    Returns:\n",
    "    - dict: Dictionary with unique elements as keys and their frequency count as values, sorted by frequency count\n",
    "      in descending order\n",
    "    \"\"\"\n",
    "    value_counts = {}\n",
    "    for item in lst:\n",
    "        if item in value_counts:\n",
    "            value_counts[item] += 1\n",
    "        else:\n",
    "            value_counts[item] = 1\n",
    "    sorted_value_counts = dict(sorted(value_counts.items(), key=lambda x: x[1], reverse=True))\n",
    "    return sorted_value_counts\n",
    "\n",
    "def print_full(x):\n",
    "    pd.set_option('display.max_rows', None)\n",
    "    pd.set_option('display.max_columns', None)\n",
    "    pd.set_option('display.width', 2000)\n",
    "    pd.set_option('display.float_format', '{:20,.2f}'.format)\n",
    "    pd.set_option('display.max_colwidth', None)\n",
    "    print(x)\n",
    "    pd.reset_option('display.max_rows')\n",
    "    pd.reset_option('display.max_columns')\n",
    "    pd.reset_option('display.width')\n",
    "    pd.reset_option('display.float_format')\n",
    "    pd.reset_option('display.max_colwidth')"
   ]
  },
  {
   "cell_type": "code",
   "execution_count": 3,
   "metadata": {},
   "outputs": [],
   "source": [
    "SNP_inclusion = pd.read_csv('/mnt/storage10/lwang/Projects/TOAST/cache/Amplicon_design_output_seg1/Amplicon_design_output/SNP_inclusion-33-300_800_50_3.csv')"
   ]
  },
  {
   "cell_type": "code",
   "execution_count": 4,
   "metadata": {},
   "outputs": [],
   "source": [
    "SNP_inclusion['SNP'] = SNP_inclusion['SNP'].str.replace('p.', '', regex=False)\n",
    "SNP_inclusion['SNP'] = SNP_inclusion['SNP'].str.replace('c.', '', regex=False)"
   ]
  },
  {
   "cell_type": "code",
   "execution_count": 5,
   "metadata": {},
   "outputs": [],
   "source": [
    "gene = []\n",
    "snps = []\n",
    "for x in SNP_inclusion['SNP'].unique():\n",
    "    gene.append(x.split('-')[0])\n",
    "    snps.append(x.split('-')[1])\n",
    "    \n",
    "SNP_inclusion['Gene'] = gene\n",
    "SNP_inclusion['SNP_'] = snps"
   ]
  },
  {
   "cell_type": "code",
   "execution_count": 6,
   "metadata": {},
   "outputs": [
    {
     "data": {
      "text/html": [
       "<div>\n",
       "<style scoped>\n",
       "    .dataframe tbody tr th:only-of-type {\n",
       "        vertical-align: middle;\n",
       "    }\n",
       "\n",
       "    .dataframe tbody tr th {\n",
       "        vertical-align: top;\n",
       "    }\n",
       "\n",
       "    .dataframe thead th {\n",
       "        text-align: right;\n",
       "    }\n",
       "</style>\n",
       "<table border=\"1\" class=\"dataframe\">\n",
       "  <thead>\n",
       "    <tr style=\"text-align: right;\">\n",
       "      <th></th>\n",
       "      <th>SNP</th>\n",
       "      <th>Genomic_pos</th>\n",
       "      <th>Amplicon_ID</th>\n",
       "      <th>Gene</th>\n",
       "      <th>SNP_</th>\n",
       "    </tr>\n",
       "  </thead>\n",
       "  <tbody>\n",
       "    <tr>\n",
       "      <th>0</th>\n",
       "      <td>gyrB-Arg446Cys</td>\n",
       "      <td>6575</td>\n",
       "      <td>A21-ns</td>\n",
       "      <td>gyrB</td>\n",
       "      <td>Arg446Cys</td>\n",
       "    </tr>\n",
       "    <tr>\n",
       "      <th>1</th>\n",
       "      <td>gyrB-Arg446His</td>\n",
       "      <td>6576</td>\n",
       "      <td>A21-ns</td>\n",
       "      <td>gyrB</td>\n",
       "      <td>Arg446His</td>\n",
       "    </tr>\n",
       "    <tr>\n",
       "      <th>2</th>\n",
       "      <td>gyrB-Arg446Leu</td>\n",
       "      <td>6576</td>\n",
       "      <td>A21-ns</td>\n",
       "      <td>gyrB</td>\n",
       "      <td>Arg446Leu</td>\n",
       "    </tr>\n",
       "    <tr>\n",
       "      <th>3</th>\n",
       "      <td>gyrB-Ser447Phe</td>\n",
       "      <td>6579</td>\n",
       "      <td>A21-ns</td>\n",
       "      <td>gyrB</td>\n",
       "      <td>Ser447Phe</td>\n",
       "    </tr>\n",
       "    <tr>\n",
       "      <th>4</th>\n",
       "      <td>gyrB-Asp461Asn</td>\n",
       "      <td>6620</td>\n",
       "      <td>A21-ns</td>\n",
       "      <td>gyrB</td>\n",
       "      <td>Asp461Asn</td>\n",
       "    </tr>\n",
       "    <tr>\n",
       "      <th>...</th>\n",
       "      <td>...</td>\n",
       "      <td>...</td>\n",
       "      <td>...</td>\n",
       "      <td>...</td>\n",
       "      <td>...</td>\n",
       "    </tr>\n",
       "    <tr>\n",
       "      <th>3532</th>\n",
       "      <td>gid-48_51delTGGC</td>\n",
       "      <td>4408151</td>\n",
       "      <td>A10-ns</td>\n",
       "      <td>gid</td>\n",
       "      <td>48_51delTGGC</td>\n",
       "    </tr>\n",
       "    <tr>\n",
       "      <th>3533</th>\n",
       "      <td>gid-48delT</td>\n",
       "      <td>4408154</td>\n",
       "      <td>A10-ns</td>\n",
       "      <td>gid</td>\n",
       "      <td>48delT</td>\n",
       "    </tr>\n",
       "    <tr>\n",
       "      <th>3534</th>\n",
       "      <td>gid-42delG</td>\n",
       "      <td>4408160</td>\n",
       "      <td>A10-ns</td>\n",
       "      <td>gid</td>\n",
       "      <td>42delG</td>\n",
       "    </tr>\n",
       "    <tr>\n",
       "      <th>3535</th>\n",
       "      <td>gid-41delC</td>\n",
       "      <td>4408161</td>\n",
       "      <td>A10-ns</td>\n",
       "      <td>gid</td>\n",
       "      <td>41delC</td>\n",
       "    </tr>\n",
       "    <tr>\n",
       "      <th>3536</th>\n",
       "      <td>gid-39delA</td>\n",
       "      <td>4408163</td>\n",
       "      <td>A10-ns</td>\n",
       "      <td>gid</td>\n",
       "      <td>39delA</td>\n",
       "    </tr>\n",
       "  </tbody>\n",
       "</table>\n",
       "<p>3537 rows × 5 columns</p>\n",
       "</div>"
      ],
      "text/plain": [
       "                   SNP  Genomic_pos Amplicon_ID  Gene          SNP_\n",
       "0       gyrB-Arg446Cys         6575      A21-ns  gyrB     Arg446Cys\n",
       "1       gyrB-Arg446His         6576      A21-ns  gyrB     Arg446His\n",
       "2       gyrB-Arg446Leu         6576      A21-ns  gyrB     Arg446Leu\n",
       "3       gyrB-Ser447Phe         6579      A21-ns  gyrB     Ser447Phe\n",
       "4       gyrB-Asp461Asn         6620      A21-ns  gyrB     Asp461Asn\n",
       "...                ...          ...         ...   ...           ...\n",
       "3532  gid-48_51delTGGC      4408151      A10-ns   gid  48_51delTGGC\n",
       "3533        gid-48delT      4408154      A10-ns   gid        48delT\n",
       "3534        gid-42delG      4408160      A10-ns   gid        42delG\n",
       "3535        gid-41delC      4408161      A10-ns   gid        41delC\n",
       "3536        gid-39delA      4408163      A10-ns   gid        39delA\n",
       "\n",
       "[3537 rows x 5 columns]"
      ]
     },
     "execution_count": 6,
     "metadata": {},
     "output_type": "execute_result"
    }
   ],
   "source": [
    "SNP_inclusion"
   ]
  },
  {
   "cell_type": "code",
   "execution_count": 7,
   "metadata": {},
   "outputs": [],
   "source": [
    "SNP_inclusion[['Amplicon_ID', 'Gene', 'SNP_']].to_csv('snp_inclusion1.csv', index=False)"
   ]
  },
  {
   "cell_type": "code",
   "execution_count": 8,
   "metadata": {},
   "outputs": [],
   "source": [
    "# gene = []\n",
    "# snps = []\n",
    "# for g in SNP_inclusion['gene'].unique():\n",
    "#     gene.append(g)\n",
    "#     snp_ = SNP_inclusion[SNP_inclusion['gene'] == g]['SNP']\n",
    "#     snp_ = [x.split('.')[1] for x in snp_]\n",
    "#     snp_ = ', '.join(snp_)\n",
    "#     snps.append(snp_)\n",
    "\n",
    "# df = pd.DataFrame({'gene': gene, 'SNP': snps})"
   ]
  },
  {
   "cell_type": "code",
   "execution_count": 9,
   "metadata": {},
   "outputs": [],
   "source": [
    "SNP_inclusion = SNP_inclusion[SNP_inclusion['Amplicon_ID'] != '-']"
   ]
  },
  {
   "cell_type": "code",
   "execution_count": 10,
   "metadata": {},
   "outputs": [
    {
     "data": {
      "text/html": [
       "<div>\n",
       "<style scoped>\n",
       "    .dataframe tbody tr th:only-of-type {\n",
       "        vertical-align: middle;\n",
       "    }\n",
       "\n",
       "    .dataframe tbody tr th {\n",
       "        vertical-align: top;\n",
       "    }\n",
       "\n",
       "    .dataframe thead th {\n",
       "        text-align: right;\n",
       "    }\n",
       "</style>\n",
       "<table border=\"1\" class=\"dataframe\">\n",
       "  <thead>\n",
       "    <tr style=\"text-align: right;\">\n",
       "      <th></th>\n",
       "      <th>SNP</th>\n",
       "      <th>Genomic_pos</th>\n",
       "      <th>Amplicon_ID</th>\n",
       "      <th>Gene</th>\n",
       "      <th>SNP_</th>\n",
       "    </tr>\n",
       "  </thead>\n",
       "  <tbody>\n",
       "    <tr>\n",
       "      <th>0</th>\n",
       "      <td>gyrB-Arg446Cys</td>\n",
       "      <td>6575</td>\n",
       "      <td>A21-ns</td>\n",
       "      <td>gyrB</td>\n",
       "      <td>Arg446Cys</td>\n",
       "    </tr>\n",
       "    <tr>\n",
       "      <th>1</th>\n",
       "      <td>gyrB-Arg446His</td>\n",
       "      <td>6576</td>\n",
       "      <td>A21-ns</td>\n",
       "      <td>gyrB</td>\n",
       "      <td>Arg446His</td>\n",
       "    </tr>\n",
       "    <tr>\n",
       "      <th>2</th>\n",
       "      <td>gyrB-Arg446Leu</td>\n",
       "      <td>6576</td>\n",
       "      <td>A21-ns</td>\n",
       "      <td>gyrB</td>\n",
       "      <td>Arg446Leu</td>\n",
       "    </tr>\n",
       "    <tr>\n",
       "      <th>3</th>\n",
       "      <td>gyrB-Ser447Phe</td>\n",
       "      <td>6579</td>\n",
       "      <td>A21-ns</td>\n",
       "      <td>gyrB</td>\n",
       "      <td>Ser447Phe</td>\n",
       "    </tr>\n",
       "    <tr>\n",
       "      <th>4</th>\n",
       "      <td>gyrB-Asp461Asn</td>\n",
       "      <td>6620</td>\n",
       "      <td>A21-ns</td>\n",
       "      <td>gyrB</td>\n",
       "      <td>Asp461Asn</td>\n",
       "    </tr>\n",
       "    <tr>\n",
       "      <th>...</th>\n",
       "      <td>...</td>\n",
       "      <td>...</td>\n",
       "      <td>...</td>\n",
       "      <td>...</td>\n",
       "      <td>...</td>\n",
       "    </tr>\n",
       "    <tr>\n",
       "      <th>3532</th>\n",
       "      <td>gid-48_51delTGGC</td>\n",
       "      <td>4408151</td>\n",
       "      <td>A10-ns</td>\n",
       "      <td>gid</td>\n",
       "      <td>48_51delTGGC</td>\n",
       "    </tr>\n",
       "    <tr>\n",
       "      <th>3533</th>\n",
       "      <td>gid-48delT</td>\n",
       "      <td>4408154</td>\n",
       "      <td>A10-ns</td>\n",
       "      <td>gid</td>\n",
       "      <td>48delT</td>\n",
       "    </tr>\n",
       "    <tr>\n",
       "      <th>3534</th>\n",
       "      <td>gid-42delG</td>\n",
       "      <td>4408160</td>\n",
       "      <td>A10-ns</td>\n",
       "      <td>gid</td>\n",
       "      <td>42delG</td>\n",
       "    </tr>\n",
       "    <tr>\n",
       "      <th>3535</th>\n",
       "      <td>gid-41delC</td>\n",
       "      <td>4408161</td>\n",
       "      <td>A10-ns</td>\n",
       "      <td>gid</td>\n",
       "      <td>41delC</td>\n",
       "    </tr>\n",
       "    <tr>\n",
       "      <th>3536</th>\n",
       "      <td>gid-39delA</td>\n",
       "      <td>4408163</td>\n",
       "      <td>A10-ns</td>\n",
       "      <td>gid</td>\n",
       "      <td>39delA</td>\n",
       "    </tr>\n",
       "  </tbody>\n",
       "</table>\n",
       "<p>3277 rows × 5 columns</p>\n",
       "</div>"
      ],
      "text/plain": [
       "                   SNP  Genomic_pos Amplicon_ID  Gene          SNP_\n",
       "0       gyrB-Arg446Cys         6575      A21-ns  gyrB     Arg446Cys\n",
       "1       gyrB-Arg446His         6576      A21-ns  gyrB     Arg446His\n",
       "2       gyrB-Arg446Leu         6576      A21-ns  gyrB     Arg446Leu\n",
       "3       gyrB-Ser447Phe         6579      A21-ns  gyrB     Ser447Phe\n",
       "4       gyrB-Asp461Asn         6620      A21-ns  gyrB     Asp461Asn\n",
       "...                ...          ...         ...   ...           ...\n",
       "3532  gid-48_51delTGGC      4408151      A10-ns   gid  48_51delTGGC\n",
       "3533        gid-48delT      4408154      A10-ns   gid        48delT\n",
       "3534        gid-42delG      4408160      A10-ns   gid        42delG\n",
       "3535        gid-41delC      4408161      A10-ns   gid        41delC\n",
       "3536        gid-39delA      4408163      A10-ns   gid        39delA\n",
       "\n",
       "[3277 rows x 5 columns]"
      ]
     },
     "execution_count": 10,
     "metadata": {},
     "output_type": "execute_result"
    }
   ],
   "source": [
    "SNP_inclusion"
   ]
  },
  {
   "cell_type": "code",
   "execution_count": 11,
   "metadata": {},
   "outputs": [
    {
     "ename": "NameError",
     "evalue": "name 'snp_' is not defined",
     "output_type": "error",
     "traceback": [
      "\u001b[0;31m---------------------------------------------------------------------------\u001b[0m",
      "\u001b[0;31mNameError\u001b[0m                                 Traceback (most recent call last)",
      "Cell \u001b[0;32mIn[11], line 1\u001b[0m\n\u001b[0;32m----> 1\u001b[0m \u001b[43msnp_\u001b[49m\u001b[38;5;241m.\u001b[39mtolist()\n",
      "\u001b[0;31mNameError\u001b[0m: name 'snp_' is not defined"
     ]
    }
   ],
   "source": [
    "snp_.tolist()"
   ]
  },
  {
   "cell_type": "code",
   "execution_count": 12,
   "metadata": {},
   "outputs": [],
   "source": [
    "gene = []\n",
    "snps = []\n",
    "amplicon = []\n",
    "for g in SNP_inclusion['Amplicon_ID'].unique():\n",
    "    amplicon.append(g)\n",
    "    snp_ = SNP_inclusion[SNP_inclusion['Amplicon_ID'] == g]['SNP_']\n",
    "    gene_ = SNP_inclusion[SNP_inclusion['Amplicon_ID'] == g]['Gene']\n",
    "    # snp_ = [x.split('.')[1] for x in snp_]\n",
    "    # snp_ = ', '.join(snp_)\n",
    "    snps.append(len(snp_))\n",
    "    gene.append(gene_.unique()[0])\n",
    "\n",
    "df = pd.DataFrame({'Amplicon_ID': amplicon, 'Gene': gene, 'SNP': snps})"
   ]
  },
  {
   "cell_type": "code",
   "execution_count": 13,
   "metadata": {},
   "outputs": [],
   "source": [
    "\n",
    "import pandas as pd\n",
    "\n",
    "# Assuming 'df' is your DataFrame and 'amplicon_id' is the column you want to sort by.\n",
    "\n",
    "# Define the desired custom order for 'amplicon_id'\n",
    "desired_order = [\n",
    "    'A1-ns',\n",
    "    'A1-sp',\n",
    "    'A1-sp,A2-sp',\n",
    "    'A2-sp',\n",
    "    'A2-sp,A3-sp',\n",
    "    'A2-ns',\n",
    "    'A3-sp',\n",
    "    'A3-ns',\n",
    "    'A4-sp',\n",
    "    'A4-ns',\n",
    "    'A5-ns',\n",
    "    'A6-ns',\n",
    "    'A7-ns',\n",
    "    'A8-ns',\n",
    "    'A9-ns,A12-ns',\n",
    "    'A9-ns',\n",
    "    'A10-ns',\n",
    "    'A11-ns',\n",
    "    'A12-ns',\n",
    "    'A13-ns',\n",
    "    'A14-ns,A23-ns',\n",
    "    'A14-ns',\n",
    "    'A14-ns,A18-ns',\n",
    "    'A15-ns,A18-ns',\n",
    "    'A15-ns',\n",
    "    'A16-ns',\n",
    "    'A17-ns',\n",
    "    'A18-ns',\n",
    "    'A19-ns',\n",
    "    'A20-ns',\n",
    "    'A21-ns',\n",
    "    'A22-ns',\n",
    "    'A23-ns',\n",
    "    'A24-ns',\n",
    "    'A25-ns',\n",
    "    'A26-ns',\n",
    "    'A27-ns',\n",
    "    'A28-ns',\n",
    "    'A29-ns',\n",
    "    '-'\n",
    "]\n",
    "\n",
    "# Convert the 'amplicon_id' column to a categorical data type with the specified order\n",
    "df['Amplicon_ID'] = pd.Categorical(df['Amplicon_ID'], categories=desired_order, ordered=True)\n",
    "\n",
    "# Sort the DataFrame according to the 'amplicon_ID' column\n",
    "df_sorted = df.sort_values('Amplicon_ID')\n",
    "\n",
    "# Reset index if needed\n",
    "df_sorted = df_sorted.reset_index(drop=True)\n",
    "\n",
    "# Display the sorted DataFrame\n"
   ]
  },
  {
   "cell_type": "code",
   "execution_count": 14,
   "metadata": {},
   "outputs": [
    {
     "data": {
      "text/html": [
       "<div>\n",
       "<style scoped>\n",
       "    .dataframe tbody tr th:only-of-type {\n",
       "        vertical-align: middle;\n",
       "    }\n",
       "\n",
       "    .dataframe tbody tr th {\n",
       "        vertical-align: top;\n",
       "    }\n",
       "\n",
       "    .dataframe thead th {\n",
       "        text-align: right;\n",
       "    }\n",
       "</style>\n",
       "<table border=\"1\" class=\"dataframe\">\n",
       "  <thead>\n",
       "    <tr style=\"text-align: right;\">\n",
       "      <th></th>\n",
       "      <th>Amplicon_ID</th>\n",
       "      <th>Gene</th>\n",
       "      <th>SNP</th>\n",
       "    </tr>\n",
       "  </thead>\n",
       "  <tbody>\n",
       "    <tr>\n",
       "      <th>0</th>\n",
       "      <td>A1-ns</td>\n",
       "      <td>rpoB</td>\n",
       "      <td>160</td>\n",
       "    </tr>\n",
       "    <tr>\n",
       "      <th>1</th>\n",
       "      <td>A1-sp</td>\n",
       "      <td>katG</td>\n",
       "      <td>116</td>\n",
       "    </tr>\n",
       "    <tr>\n",
       "      <th>2</th>\n",
       "      <td>A1-sp,A2-sp</td>\n",
       "      <td>katG</td>\n",
       "      <td>19</td>\n",
       "    </tr>\n",
       "    <tr>\n",
       "      <th>3</th>\n",
       "      <td>A2-sp</td>\n",
       "      <td>katG</td>\n",
       "      <td>296</td>\n",
       "    </tr>\n",
       "    <tr>\n",
       "      <th>4</th>\n",
       "      <td>A2-sp,A3-sp</td>\n",
       "      <td>katG</td>\n",
       "      <td>10</td>\n",
       "    </tr>\n",
       "    <tr>\n",
       "      <th>5</th>\n",
       "      <td>A2-ns</td>\n",
       "      <td>pncA</td>\n",
       "      <td>961</td>\n",
       "    </tr>\n",
       "    <tr>\n",
       "      <th>6</th>\n",
       "      <td>A3-sp</td>\n",
       "      <td>katG</td>\n",
       "      <td>308</td>\n",
       "    </tr>\n",
       "    <tr>\n",
       "      <th>7</th>\n",
       "      <td>A3-ns</td>\n",
       "      <td>embB</td>\n",
       "      <td>89</td>\n",
       "    </tr>\n",
       "    <tr>\n",
       "      <th>8</th>\n",
       "      <td>A4-sp</td>\n",
       "      <td>mmpR5</td>\n",
       "      <td>6</td>\n",
       "    </tr>\n",
       "    <tr>\n",
       "      <th>9</th>\n",
       "      <td>A4-ns</td>\n",
       "      <td>rpsL</td>\n",
       "      <td>11</td>\n",
       "    </tr>\n",
       "    <tr>\n",
       "      <th>10</th>\n",
       "      <td>A5-ns</td>\n",
       "      <td>fabG1</td>\n",
       "      <td>9</td>\n",
       "    </tr>\n",
       "    <tr>\n",
       "      <th>11</th>\n",
       "      <td>A6-ns</td>\n",
       "      <td>ddn</td>\n",
       "      <td>3</td>\n",
       "    </tr>\n",
       "    <tr>\n",
       "      <th>12</th>\n",
       "      <td>A7-ns</td>\n",
       "      <td>rrl</td>\n",
       "      <td>2</td>\n",
       "    </tr>\n",
       "    <tr>\n",
       "      <th>13</th>\n",
       "      <td>A8-ns</td>\n",
       "      <td>gyrB</td>\n",
       "      <td>17</td>\n",
       "    </tr>\n",
       "    <tr>\n",
       "      <th>14</th>\n",
       "      <td>A9-ns,A12-ns</td>\n",
       "      <td>rrs</td>\n",
       "      <td>8</td>\n",
       "    </tr>\n",
       "    <tr>\n",
       "      <th>15</th>\n",
       "      <td>A9-ns</td>\n",
       "      <td>rrs</td>\n",
       "      <td>6</td>\n",
       "    </tr>\n",
       "    <tr>\n",
       "      <th>16</th>\n",
       "      <td>A10-ns</td>\n",
       "      <td>gid</td>\n",
       "      <td>136</td>\n",
       "    </tr>\n",
       "    <tr>\n",
       "      <th>17</th>\n",
       "      <td>A11-ns</td>\n",
       "      <td>rplC</td>\n",
       "      <td>1</td>\n",
       "    </tr>\n",
       "    <tr>\n",
       "      <th>18</th>\n",
       "      <td>A12-ns</td>\n",
       "      <td>rrs</td>\n",
       "      <td>11</td>\n",
       "    </tr>\n",
       "    <tr>\n",
       "      <th>19</th>\n",
       "      <td>A13-ns</td>\n",
       "      <td>eis</td>\n",
       "      <td>10</td>\n",
       "    </tr>\n",
       "    <tr>\n",
       "      <th>20</th>\n",
       "      <td>A14-ns,A23-ns</td>\n",
       "      <td>ethA</td>\n",
       "      <td>33</td>\n",
       "    </tr>\n",
       "    <tr>\n",
       "      <th>21</th>\n",
       "      <td>A14-ns</td>\n",
       "      <td>ethA</td>\n",
       "      <td>357</td>\n",
       "    </tr>\n",
       "    <tr>\n",
       "      <th>22</th>\n",
       "      <td>A14-ns,A18-ns</td>\n",
       "      <td>ethA</td>\n",
       "      <td>29</td>\n",
       "    </tr>\n",
       "    <tr>\n",
       "      <th>23</th>\n",
       "      <td>A15-ns,A18-ns</td>\n",
       "      <td>ethA</td>\n",
       "      <td>13</td>\n",
       "    </tr>\n",
       "    <tr>\n",
       "      <th>24</th>\n",
       "      <td>A15-ns</td>\n",
       "      <td>ethA</td>\n",
       "      <td>98</td>\n",
       "    </tr>\n",
       "    <tr>\n",
       "      <th>25</th>\n",
       "      <td>A16-ns</td>\n",
       "      <td>embA</td>\n",
       "      <td>6</td>\n",
       "    </tr>\n",
       "    <tr>\n",
       "      <th>26</th>\n",
       "      <td>A17-ns</td>\n",
       "      <td>inhA</td>\n",
       "      <td>7</td>\n",
       "    </tr>\n",
       "    <tr>\n",
       "      <th>27</th>\n",
       "      <td>A18-ns</td>\n",
       "      <td>ethA</td>\n",
       "      <td>242</td>\n",
       "    </tr>\n",
       "    <tr>\n",
       "      <th>28</th>\n",
       "      <td>A19-ns</td>\n",
       "      <td>ahpC</td>\n",
       "      <td>14</td>\n",
       "    </tr>\n",
       "    <tr>\n",
       "      <th>29</th>\n",
       "      <td>A20-ns</td>\n",
       "      <td>folC</td>\n",
       "      <td>16</td>\n",
       "    </tr>\n",
       "    <tr>\n",
       "      <th>30</th>\n",
       "      <td>A21-ns</td>\n",
       "      <td>gyrB</td>\n",
       "      <td>24</td>\n",
       "    </tr>\n",
       "    <tr>\n",
       "      <th>31</th>\n",
       "      <td>A22-ns</td>\n",
       "      <td>embB</td>\n",
       "      <td>4</td>\n",
       "    </tr>\n",
       "    <tr>\n",
       "      <th>32</th>\n",
       "      <td>A23-ns</td>\n",
       "      <td>ethA</td>\n",
       "      <td>83</td>\n",
       "    </tr>\n",
       "    <tr>\n",
       "      <th>33</th>\n",
       "      <td>A24-ns</td>\n",
       "      <td>alr</td>\n",
       "      <td>2</td>\n",
       "    </tr>\n",
       "    <tr>\n",
       "      <th>34</th>\n",
       "      <td>A25-ns</td>\n",
       "      <td>thyX</td>\n",
       "      <td>1</td>\n",
       "    </tr>\n",
       "    <tr>\n",
       "      <th>35</th>\n",
       "      <td>A26-ns</td>\n",
       "      <td>tlyA</td>\n",
       "      <td>149</td>\n",
       "    </tr>\n",
       "    <tr>\n",
       "      <th>36</th>\n",
       "      <td>A27-ns</td>\n",
       "      <td>thyA</td>\n",
       "      <td>8</td>\n",
       "    </tr>\n",
       "    <tr>\n",
       "      <th>37</th>\n",
       "      <td>A28-ns</td>\n",
       "      <td>rpoB</td>\n",
       "      <td>1</td>\n",
       "    </tr>\n",
       "    <tr>\n",
       "      <th>38</th>\n",
       "      <td>A29-ns</td>\n",
       "      <td>thyA</td>\n",
       "      <td>11</td>\n",
       "    </tr>\n",
       "  </tbody>\n",
       "</table>\n",
       "</div>"
      ],
      "text/plain": [
       "      Amplicon_ID   Gene  SNP\n",
       "0           A1-ns   rpoB  160\n",
       "1           A1-sp   katG  116\n",
       "2     A1-sp,A2-sp   katG   19\n",
       "3           A2-sp   katG  296\n",
       "4     A2-sp,A3-sp   katG   10\n",
       "5           A2-ns   pncA  961\n",
       "6           A3-sp   katG  308\n",
       "7           A3-ns   embB   89\n",
       "8           A4-sp  mmpR5    6\n",
       "9           A4-ns   rpsL   11\n",
       "10          A5-ns  fabG1    9\n",
       "11          A6-ns    ddn    3\n",
       "12          A7-ns    rrl    2\n",
       "13          A8-ns   gyrB   17\n",
       "14   A9-ns,A12-ns    rrs    8\n",
       "15          A9-ns    rrs    6\n",
       "16         A10-ns    gid  136\n",
       "17         A11-ns   rplC    1\n",
       "18         A12-ns    rrs   11\n",
       "19         A13-ns    eis   10\n",
       "20  A14-ns,A23-ns   ethA   33\n",
       "21         A14-ns   ethA  357\n",
       "22  A14-ns,A18-ns   ethA   29\n",
       "23  A15-ns,A18-ns   ethA   13\n",
       "24         A15-ns   ethA   98\n",
       "25         A16-ns   embA    6\n",
       "26         A17-ns   inhA    7\n",
       "27         A18-ns   ethA  242\n",
       "28         A19-ns   ahpC   14\n",
       "29         A20-ns   folC   16\n",
       "30         A21-ns   gyrB   24\n",
       "31         A22-ns   embB    4\n",
       "32         A23-ns   ethA   83\n",
       "33         A24-ns    alr    2\n",
       "34         A25-ns   thyX    1\n",
       "35         A26-ns   tlyA  149\n",
       "36         A27-ns   thyA    8\n",
       "37         A28-ns   rpoB    1\n",
       "38         A29-ns   thyA   11"
      ]
     },
     "execution_count": 14,
     "metadata": {},
     "output_type": "execute_result"
    }
   ],
   "source": [
    "df_sorted"
   ]
  },
  {
   "cell_type": "code",
   "execution_count": 15,
   "metadata": {},
   "outputs": [],
   "source": [
    "df_sorted.to_csv('snp_inclusion.csv', index=False)"
   ]
  },
  {
   "cell_type": "markdown",
   "metadata": {},
   "source": [
    "# cache"
   ]
  },
  {
   "cell_type": "code",
   "execution_count": 16,
   "metadata": {},
   "outputs": [
    {
     "name": "stdout",
     "output_type": "stream",
     "text": [
      "['gyrB']\n",
      "['gyrB' 'gyrA']\n"
     ]
    },
    {
     "ename": "AttributeError",
     "evalue": "'NoneType' object has no attribute 'append'",
     "output_type": "error",
     "traceback": [
      "\u001b[0;31m---------------------------------------------------------------------------\u001b[0m",
      "\u001b[0;31mAttributeError\u001b[0m                            Traceback (most recent call last)",
      "Cell \u001b[0;32mIn[16], line 11\u001b[0m\n\u001b[1;32m      9\u001b[0m gene_ \u001b[38;5;241m=\u001b[39m SNP_inclusion[SNP_inclusion[\u001b[38;5;124m'\u001b[39m\u001b[38;5;124mAmplicon_ID\u001b[39m\u001b[38;5;124m'\u001b[39m] \u001b[38;5;241m==\u001b[39m g][\u001b[38;5;124m'\u001b[39m\u001b[38;5;124mGene\u001b[39m\u001b[38;5;124m'\u001b[39m]\u001b[38;5;241m.\u001b[39munique()\n\u001b[1;32m     10\u001b[0m \u001b[38;5;28mprint\u001b[39m(gene_)\n\u001b[0;32m---> 11\u001b[0m gene \u001b[38;5;241m=\u001b[39m \u001b[43mgene\u001b[49m\u001b[38;5;241;43m.\u001b[39;49m\u001b[43mappend\u001b[49m(gene_)\n\u001b[1;32m     12\u001b[0m snp_ \u001b[38;5;241m=\u001b[39m \u001b[38;5;124m'\u001b[39m\u001b[38;5;124m, \u001b[39m\u001b[38;5;124m'\u001b[39m\u001b[38;5;241m.\u001b[39mjoin(snp_)\n\u001b[1;32m     13\u001b[0m snps\u001b[38;5;241m.\u001b[39mappend(snp_)   \n",
      "\u001b[0;31mAttributeError\u001b[0m: 'NoneType' object has no attribute 'append'"
     ]
    }
   ],
   "source": [
    "amplicon = []\n",
    "snps = []\n",
    "gene = []\n",
    "for g in SNP_inclusion['Amplicon_ID'].unique():\n",
    "    amplicon.append(g)\n",
    "    snp_ = SNP_inclusion[SNP_inclusion['Amplicon_ID'] == g]['SNP']\n",
    "    # print(snp_) \n",
    "    # snp_ = [x.split('.')[1] for x in snp_]\n",
    "    gene_ = SNP_inclusion[SNP_inclusion['Amplicon_ID'] == g]['Gene'].unique()\n",
    "    print(gene_)\n",
    "    gene = gene.append(gene_)\n",
    "    snp_ = ', '.join(snp_)\n",
    "    snps.append(snp_)   \n",
    "    \n",
    "\n",
    "df = pd.DataFrame({'Amplicon': amplicon, 'Gene':gene, 'SNP': snps})"
   ]
  },
  {
   "cell_type": "markdown",
   "metadata": {},
   "source": [
    "# dr determining snps"
   ]
  },
  {
   "cell_type": "code",
   "execution_count": 17,
   "metadata": {},
   "outputs": [
    {
     "name": "stderr",
     "output_type": "stream",
     "text": [
      "/mnt/storage10/lwang/miniconda3/envs/primer_selection/lib/python3.11/site-packages/openpyxl/worksheet/_read_only.py:81: UserWarning: Unknown extension is not supported and will be removed\n",
      "  for idx, row in parser.parse():\n"
     ]
    }
   ],
   "source": [
    "mmc2 = pd.read_excel('mmc2.xlsx', sheet_name='All characterisations', header=1) \n"
   ]
  },
  {
   "cell_type": "code",
   "execution_count": 18,
   "metadata": {},
   "outputs": [
    {
     "data": {
      "text/plain": [
       "Resistant\n",
       "1     98\n",
       "2     20\n",
       "3      6\n",
       "4      6\n",
       "6      1\n",
       "18     1\n",
       "Name: count, dtype: int64"
      ]
     },
     "execution_count": 18,
     "metadata": {},
     "output_type": "execute_result"
    }
   ],
   "source": [
    "mmc2[(mmc2['Resistant'] != 0) & (mmc2['Final characterisation based on'] == 'training set')]['Resistant'].value_counts()"
   ]
  },
  {
   "cell_type": "code",
   "execution_count": 19,
   "metadata": {},
   "outputs": [],
   "source": [
    "dr_det = pd.read_csv('dr_det.csv')"
   ]
  },
  {
   "cell_type": "markdown",
   "metadata": {},
   "source": [
    "### identifying location of the snps\n"
   ]
  },
  {
   "cell_type": "code",
   "execution_count": 20,
   "metadata": {},
   "outputs": [
    {
     "name": "stdout",
     "output_type": "stream",
     "text": [
      "Genomic position of katG_S315T: 2155168\n"
     ]
    },
    {
     "name": "stderr",
     "output_type": "stream",
     "text": [
      "/mnt/storage10/lwang/miniconda3/envs/primer_selection/lib/python3.11/site-packages/Bio/SeqFeature.py:1940: BiopythonDeprecationWarning: Alias location.position is deprecated and will be removed in a future release. Use location directly, or int(location). However, that will fail for UnknownPosition, and for OneOfPosition and WithinPosition will give the default rather than left-most value.\n",
      "  warnings.warn(\n"
     ]
    }
   ],
   "source": [
    "from Bio import SeqIO\n",
    "\n",
    "# Load the reference genome\n",
    "genome_record = SeqIO.read('NC_000962.3[1..4411532].flat', 'genbank')\n",
    "\n",
    "# Function to find genomic position\n",
    "def find_genomic_position(gene_name, aa_position):\n",
    "    for feature in genome_record.features:\n",
    "        if feature.type == 'CDS' and 'gene' in feature.qualifiers:\n",
    "            if gene_name in feature.qualifiers['gene']:\n",
    "                gene_start = feature.location.start.position\n",
    "                gene_end = feature.location.end.position\n",
    "                strand = feature.location.strand\n",
    "                # Calculate codon position\n",
    "                codon_position = (aa_position - 1) * 3\n",
    "                if strand == 1:\n",
    "                    genomic_position = gene_start + codon_position\n",
    "                else:\n",
    "                    genomic_position = gene_end - codon_position - 1\n",
    "                return genomic_position\n",
    "    return None\n",
    "\n",
    "# Example usage\n",
    "mutation = 'katG_S315T'\n",
    "gene_name, mutation_info = mutation.split('_')\n",
    "aa_position = int(''.join(filter(str.isdigit, mutation_info)))\n",
    "\n",
    "genomic_pos = find_genomic_position(gene_name, aa_position)\n",
    "print(f\"Genomic position of {mutation}: {genomic_pos}\")\n"
   ]
  },
  {
   "cell_type": "code",
   "execution_count": 21,
   "metadata": {},
   "outputs": [
    {
     "name": "stdout",
     "output_type": "stream",
     "text": [
      "Genomic position of gid_141delC: 4407781\n"
     ]
    }
   ],
   "source": [
    "\n",
    "mutation = 'gid_141delC'\n",
    "gene_name, mutation_info = mutation.split('_')\n",
    "aa_position = int(''.join(filter(str.isdigit, mutation_info)))\n",
    "\n",
    "genomic_pos = find_genomic_position(gene_name, aa_position)\n",
    "print(f\"Genomic position of {mutation}: {genomic_pos}\")"
   ]
  },
  {
   "cell_type": "code",
   "execution_count": 22,
   "metadata": {},
   "outputs": [
    {
     "name": "stdout",
     "output_type": "stream",
     "text": [
      "ahpC_C-57T\n",
      "Genomic position of ahpC_C-57T: 2726360\n",
      "eis_G-10A\n",
      "Genomic position of eis_G-10A: 2715304\n",
      "embB_D354A\n",
      "Genomic position of embB_D354A: 4247572\n",
      "embB_G406A\n",
      "Genomic position of embB_G406A: 4247728\n",
      "embB_G406D\n",
      "Genomic position of embB_G406D: 4247728\n",
      "embB_G406S\n",
      "Genomic position of embB_G406S: 4247728\n",
      "embB_H1002R\n",
      "Genomic position of embB_H1002R: 4249516\n",
      "embB_M306I\n",
      "Genomic position of embB_M306I: 4247428\n",
      "embB_M306V\n",
      "Genomic position of embB_M306V: 4247428\n",
      "embB_Q497K\n",
      "Genomic position of embB_Q497K: 4248001\n",
      "embB_Q497R\n",
      "Genomic position of embB_Q497R: 4248001\n",
      "fabG1_C-15T\n",
      "Genomic position of fabG1_C-15T: 1673481\n",
      "fabG1_G-17T\n",
      "Genomic position of fabG1_G-17T: 1673487\n",
      "fabG1_T-8C\n",
      "Genomic position of fabG1_T-8C: 1673460\n",
      "gidB_141_delC\n"
     ]
    },
    {
     "ename": "ValueError",
     "evalue": "too many values to unpack (expected 2)",
     "output_type": "error",
     "traceback": [
      "\u001b[0;31m---------------------------------------------------------------------------\u001b[0m",
      "\u001b[0;31mValueError\u001b[0m                                Traceback (most recent call last)",
      "Cell \u001b[0;32mIn[22], line 3\u001b[0m\n\u001b[1;32m      1\u001b[0m \u001b[38;5;28;01mfor\u001b[39;00m x \u001b[38;5;129;01min\u001b[39;00m dr_det[\u001b[38;5;124m'\u001b[39m\u001b[38;5;124mMutations\u001b[39m\u001b[38;5;124m'\u001b[39m]:\n\u001b[1;32m      2\u001b[0m     \u001b[38;5;28mprint\u001b[39m(x)\n\u001b[0;32m----> 3\u001b[0m     gene_name, mutation_info \u001b[38;5;241m=\u001b[39m x\u001b[38;5;241m.\u001b[39msplit(\u001b[38;5;124m'\u001b[39m\u001b[38;5;124m_\u001b[39m\u001b[38;5;124m'\u001b[39m)\n\u001b[1;32m      4\u001b[0m     aa_position \u001b[38;5;241m=\u001b[39m \u001b[38;5;28mint\u001b[39m(\u001b[38;5;124m'\u001b[39m\u001b[38;5;124m'\u001b[39m\u001b[38;5;241m.\u001b[39mjoin(\u001b[38;5;28mfilter\u001b[39m(\u001b[38;5;28mstr\u001b[39m\u001b[38;5;241m.\u001b[39misdigit, mutation_info)))\n\u001b[1;32m      5\u001b[0m     genomic_pos \u001b[38;5;241m=\u001b[39m find_genomic_position(gene_name, aa_position)\n",
      "\u001b[0;31mValueError\u001b[0m: too many values to unpack (expected 2)"
     ]
    }
   ],
   "source": [
    "for x in dr_det['Mutations']:\n",
    "    print(x)\n",
    "    gene_name, mutation_info = x.split('_')\n",
    "    aa_position = int(''.join(filter(str.isdigit, mutation_info)))\n",
    "    genomic_pos = find_genomic_position(gene_name, aa_position)\n",
    "    print(f\"Genomic position of {x}: {genomic_pos}\")"
   ]
  },
  {
   "cell_type": "markdown",
   "metadata": {},
   "source": [
    "## who resistance"
   ]
  },
  {
   "cell_type": "code",
   "execution_count": 23,
   "metadata": {},
   "outputs": [],
   "source": [
    "who = pd.read_excel('WHO-UCN-GTB-PCI-2021.7-eng.xlsx', sheet_name='Mutation_catalogue', header=1)"
   ]
  },
  {
   "cell_type": "code",
   "execution_count": 24,
   "metadata": {},
   "outputs": [
    {
     "data": {
      "text/plain": [
       "Unnamed: 51\n",
       "3) Uncertain significance     15910\n",
       "2) Assoc w R - Interim         1004\n",
       "5) Not assoc w R                213\n",
       "1) Assoc w R                    196\n",
       "combo                            40\n",
       "4) Not assoc w R - Interim       33\n",
       "Name: count, dtype: int64"
      ]
     },
     "execution_count": 24,
     "metadata": {},
     "output_type": "execute_result"
    }
   ],
   "source": [
    "who['Unnamed: 51'].value_counts()   "
   ]
  },
  {
   "cell_type": "code",
   "execution_count": 25,
   "metadata": {},
   "outputs": [],
   "source": [
    "who = who[['Unnamed: 0','Unnamed: 2','Unnamed: 3','Unnamed: 51']]\n",
    "who = who.dropna()\n",
    "who.loc[:, 'gene'] = who['Unnamed: 2'].apply(lambda x: x.split('_')[0])\n",
    "who = who[who['Unnamed: 51'].isin(['2) Assoc w R - Interim', '1) Assoc w R'])]"
   ]
  },
  {
   "cell_type": "code",
   "execution_count": 26,
   "metadata": {},
   "outputs": [],
   "source": [
    "detected = pd.DataFrame(columns=['DR', 'SNP', 'Genomic_position', 'Grading', 'Gene'])\n",
    "\n",
    "bed_df = pd.read_csv('33amplicon.bed', sep='\\t', header=None)\n",
    "\n",
    "# Initialize a list to store depth information\n",
    "depth_info = []\n",
    "\n",
    "# Calculate depth for each genomic range in the BED file\n",
    "all_on_target_reads = 0\n",
    "for index, row in bed_df.iterrows():\n",
    "    name = row[3]\n",
    "    chrom = row[0]\n",
    "    start = row[1]\n",
    "    end = row[2]\n",
    "    for i, r in who.iterrows():\n",
    "        if r['Unnamed: 3'] in (range(start, end+1)):\n",
    "            detected.loc[len(detected)] = [r['Unnamed: 0'], r['Unnamed: 2'], r['Unnamed: 3'], r['Unnamed: 51'], r['gene']]\n",
    "            # detected = detected.append({'DR': r['Unnamed: 0'], 'SNP': r['Unnamed: 2'], 'Genomic_position': r['Unnamed: 3'], 'Grading': r['Unnamed: 51']}, ignore_index=True)\n",
    "        else:\n",
    "            continue\n",
    "detected.drop_duplicates(inplace=True)"
   ]
  },
  {
   "cell_type": "code",
   "execution_count": 27,
   "metadata": {},
   "outputs": [
    {
     "data": {
      "text/plain": [
       "0      INH\n",
       "1      INH\n",
       "2      INH\n",
       "3      INH\n",
       "4      INH\n",
       "      ... \n",
       "772    CAP\n",
       "773    CAP\n",
       "774    CAP\n",
       "775    CAP\n",
       "776    CAP\n",
       "Name: DR, Length: 742, dtype: object"
      ]
     },
     "execution_count": 27,
     "metadata": {},
     "output_type": "execute_result"
    }
   ],
   "source": [
    "detected['DR']"
   ]
  },
  {
   "cell_type": "code",
   "execution_count": 28,
   "metadata": {},
   "outputs": [
    {
     "data": {
      "text/plain": [
       "DR\n",
       "ETH    1.000000\n",
       "PZA    0.933735\n",
       "STM    1.000000\n",
       "INH    1.000000\n",
       "RIF    1.000000\n",
       "CAP    0.633333\n",
       "KAN    1.000000\n",
       "AMI    1.000000\n",
       "EMB    1.000000\n",
       "Name: count, dtype: float64"
      ]
     },
     "execution_count": 28,
     "metadata": {},
     "output_type": "execute_result"
    }
   ],
   "source": [
    "detected['DR'].value_counts() / who['Unnamed: 0'].value_counts()"
   ]
  },
  {
   "cell_type": "code",
   "execution_count": 29,
   "metadata": {},
   "outputs": [
    {
     "name": "stdout",
     "output_type": "stream",
     "text": [
      "DR\n",
      "ETH    270\n",
      "PZA    155\n",
      "STM    143\n",
      "INH     97\n",
      "RIF     45\n",
      "CAP     19\n",
      "KAN      8\n",
      "AMI      4\n",
      "EMB      1\n",
      "Name: count, dtype: int64\n",
      "Unnamed: 0\n",
      "ETH    270\n",
      "PZA    166\n",
      "STM    143\n",
      "INH     97\n",
      "RIF     45\n",
      "CAP     30\n",
      "KAN      8\n",
      "AMI      4\n",
      "EMB      1\n",
      "Name: count, dtype: int64\n",
      "---------------------------------\n",
      "Gene\n",
      "ethA    265\n",
      "pncA    155\n",
      "gid     140\n",
      "katG     92\n",
      "rpoB     45\n",
      "tlyA     16\n",
      "rrs      12\n",
      "inhA     10\n",
      "eis       6\n",
      "embA      1\n",
      "Name: count, dtype: int64\n",
      "gene\n",
      "ethA    265\n",
      "pncA    166\n",
      "gid     140\n",
      "katG     92\n",
      "rpoB     45\n",
      "tlyA     27\n",
      "rrs      12\n",
      "inhA     10\n",
      "eis       6\n",
      "embA      1\n",
      "Name: count, dtype: int64\n",
      "---------------------------------\n",
      "Grading\n",
      "2) Assoc w R - Interim    707\n",
      "1) Assoc w R               35\n",
      "Name: count, dtype: int64\n",
      "Unnamed: 51\n",
      "2) Assoc w R - Interim    727\n",
      "1) Assoc w R               37\n",
      "Name: count, dtype: int64\n"
     ]
    }
   ],
   "source": [
    "print(detected['DR'].value_counts())\n",
    "print(who['Unnamed: 0'].value_counts())\n",
    "print('---------------------------------')\n",
    "print(detected['Gene'].value_counts())\n",
    "print(who['gene'].value_counts())\n",
    "print('---------------------------------')\n",
    "\n",
    "print(detected['Grading'].value_counts())\n",
    "print(who['Unnamed: 51'].value_counts())\n"
   ]
  },
  {
   "cell_type": "code",
   "execution_count": 30,
   "metadata": {},
   "outputs": [
    {
     "name": "stdout",
     "output_type": "stream",
     "text": [
      "     Detected Count  Who Count  Percentage (%)\n",
      "ETH             270        270      100.000000\n",
      "PZA             155        166       93.373494\n",
      "STM             143        143      100.000000\n",
      "INH              97         97      100.000000\n",
      "RIF              45         45      100.000000\n",
      "CAP              19         30       63.333333\n",
      "KAN               8          8      100.000000\n",
      "AMI               4          4      100.000000\n",
      "EMB               1          1      100.000000\n"
     ]
    }
   ],
   "source": [
    "# Get the value counts for each column\n",
    "detected_counts = detected['DR'].value_counts()\n",
    "who_counts = who['Unnamed: 0'].value_counts()\n",
    "\n",
    "# Calculate the percentage\n",
    "percentage = (detected_counts / who_counts) * 100\n",
    "\n",
    "# Combine counts and percentages in a DataFrame for easier viewing\n",
    "result = pd.DataFrame({\n",
    "    'Detected Count': detected_counts,\n",
    "    'Who Count': who_counts,\n",
    "    'Percentage (%)': percentage\n",
    "})\n",
    "\n",
    "# Display the result\n",
    "print(result)   \n"
   ]
  },
  {
   "cell_type": "code",
   "execution_count": 31,
   "metadata": {},
   "outputs": [],
   "source": [
    "result.to_csv('who_result.csv', index=True)"
   ]
  },
  {
   "cell_type": "code",
   "execution_count": 32,
   "metadata": {},
   "outputs": [],
   "source": [
    "amplicon_ranges = pd.read_csv('/mnt/storage10/lwang/Projects/TOAST/cache/Amplicon_design_output_seg1/Amplicon_design_output/Primer_design-accepted_primers-33-300_800_50_3-newAcopy1.csv')\n",
    "snp_priority = pd.read_csv('/mnt/storage10/lwang/Projects/TOAST/toast/db/snp_priority.csv')\n",
    "snp_priority = snp_priority.drop_duplicates(subset=['change'])"
   ]
  },
  {
   "cell_type": "code",
   "execution_count": 34,
   "metadata": {},
   "outputs": [
    {
     "name": "stderr",
     "output_type": "stream",
     "text": [
      "/tmp/ipykernel_4064488/1000910402.py:5: FutureWarning: The behavior of DataFrame concatenation with empty or all-NA entries is deprecated. In a future version, this will no longer exclude empty or all-NA columns when determining the result dtypes. To retain the old behavior, exclude the relevant entries before the concat operation.\n",
      "  _ = pd.concat([_, insert_])\n"
     ]
    }
   ],
   "source": [
    "_ = pd.DataFrame(columns=snp_priority.columns)\n",
    "for i, row in amplicon_ranges.iterrows():\n",
    "    # print(row['Amplicon_ID'], row['Start'], row['End'])\n",
    "    insert_ = snp_priority[(snp_priority['genome_pos'] >= row['pLeft_coord']) & (snp_priority['genome_pos'] <= row['pRight_coord'])]\n",
    "    _ = pd.concat([_, insert_])\n",
    "    # print(snp_priority['gene'].value_counts())\n",
    "    # break\n",
    "    "
   ]
  },
  {
   "cell_type": "code",
   "execution_count": 38,
   "metadata": {},
   "outputs": [
    {
     "data": {
      "text/plain": [
       "gene\n",
       "ahpC      92.857143\n",
       "ald             NaN\n",
       "alr       66.666667\n",
       "ddn      100.000000\n",
       "eis      100.000000\n",
       "embA      50.000000\n",
       "embB      92.000000\n",
       "embC            NaN\n",
       "embR            NaN\n",
       "ethA     100.676437\n",
       "ethR     100.000000\n",
       "fabG1    100.000000\n",
       "fbiA            NaN\n",
       "fgd1            NaN\n",
       "folC     100.000000\n",
       "gid       99.193548\n",
       "gyrA     100.000000\n",
       "gyrB     100.000000\n",
       "inhA      88.888889\n",
       "kasA            NaN\n",
       "katG      91.577699\n",
       "mmpR5    100.000000\n",
       "panD            NaN\n",
       "pncA      72.354949\n",
       "ribD            NaN\n",
       "rplC     100.000000\n",
       "rpoB      98.170732\n",
       "rpoC            NaN\n",
       "rpsA            NaN\n",
       "rpsL     100.000000\n",
       "rrl      100.000000\n",
       "rrs      126.923077\n",
       "thyA      29.670330\n",
       "thyX     100.000000\n",
       "tlyA      56.015038\n",
       "Name: count, dtype: float64"
      ]
     },
     "execution_count": 38,
     "metadata": {},
     "output_type": "execute_result"
    }
   ],
   "source": [
    "_['gene'].value_counts()/snp_priority['gene'].value_counts().round(2)*100"
   ]
  },
  {
   "cell_type": "code",
   "execution_count": 7,
   "metadata": {},
   "outputs": [],
   "source": [
    "import numpy as np"
   ]
  },
  {
   "cell_type": "code",
   "execution_count": 8,
   "metadata": {},
   "outputs": [
    {
     "data": {
      "text/plain": [
       "650.0"
      ]
     },
     "execution_count": 8,
     "metadata": {},
     "output_type": "execute_result"
    }
   ],
   "source": [
    "np.mean([x for x in range(500, 801,50)])"
   ]
  },
  {
   "cell_type": "code",
   "execution_count": 5,
   "metadata": {},
   "outputs": [
    {
     "data": {
      "image/png": "[encoded data removed]",
      "text/plain": [
       "<Figure size 1000x600 with 1 Axes>"
      ]
     },
     "metadata": {},
     "output_type": "display_data"
    }
   ],
   "source": [
    "# Re-import necessary libraries after reset\n",
    "import matplotlib.pyplot as plt\n",
    "\n",
    "# Re-define data after reset\n",
    "amplicons = [i for i in range(0, 51)]\n",
    "snp_coverage = [\n",
    "    0,16.0, 30.5, 43.0, 55.0, 63.7, 63.7, 63.8, 69.8, 75.1, 75.2,\n",
    "    79.5, 82.7, 85.1, 87.3, 89.7, 91.5, 92.9, 93.8, 94.4, 95.0,\n",
    "    95.6, 96.0, 96.5, 96.9, 97.3, 97.6, 97.9, 98.3, 98.5, 98.7,\n",
    "    98.9, 99.1, 99.2, 99.4, 99.5, 99.6, 99.6, 99.7, 99.7, 99.8,\n",
    "    99.8, 99.8, 99.9, 99.9, 99.9, 99.9, 99.9, 99.9, 100.0, 100.0\n",
    "]\n",
    "\n",
    "snp_coverage_curve2 = [\n",
    "    0,16.0, 30.1, 39.3, 48.0, 56.2, 56.3, 61.6, 66.9, 67.0, 67.0,\n",
    "    67.0, 69.9, 72.7, 75.7, 78.3, 80.5, 82.8, 84.4, 85.8, 87.2,\n",
    "    88.5, 89.5, 90.4, 91.8, 92.4, 92.9, 93.5, 93.9, 94.3, 94.7,\n",
    "    95.1, 95.5, 95.9, 96.2, 96.5, 96.7, 97.0, 97.2, 97.5, 97.7,\n",
    "    97.8, 98.0, 98.2, 98.3, 98.4, 98.6, 98.7, 98.8, 98.9, 99.0\n",
    "]\n",
    "\n",
    "snp_coverage_curve3 = [\n",
    "    0,16.1, 30.7, 43.2, 55.2, 63.8, 63.9, 63.9, 70.0, 75.3, 75.4,\n",
    "    80.0, 83.2, 85.9, 88.1, 90.2, 92.2, 93.7, 94.6, 95.2, 95.7,\n",
    "    96.3, 96.8, 97.2, 97.5, 97.9, 98.2, 98.5, 98.7, 98.9, 99.0,\n",
    "    99.2, 99.3, 99.4, 99.5, 99.6, 99.7, 99.7, 99.8, 99.8, 99.8,\n",
    "    99.9, 99.9, 99.9, 99.9, 99.9, 99.9, 99.9, 100.0, 100.0, 100.0\n",
    "]\n",
    "\n",
    "# Plot all three curves\n",
    "plt.figure(figsize=(10, 6))\n",
    "plt.plot(amplicons, snp_coverage, marker='o', linestyle='-', color='blue', label='650bps amplicon')\n",
    "plt.plot(amplicons, snp_coverage_curve2, marker='x', linestyle='--', color='orange', label='300bps amplicon')\n",
    "plt.plot(amplicons, snp_coverage_curve3, marker='s', linestyle='-.', color='green', label='800bps amplicon')\n",
    "\n",
    "# Customize the plot\n",
    "plt.title('SNP Coverage Across Amplicons', fontsize=16)\n",
    "plt.xlabel('Amplicon', fontsize=14)\n",
    "plt.ylabel('SNP Coverage (%)', fontsize=14)\n",
    "plt.xticks(rotation=90, fontsize=10)  # Rotate x-axis labels for better readability\n",
    "plt.yticks(fontsize=12)\n",
    "plt.ylim(0, 105)  # Set y-axis limit slightly above 100 for visibility\n",
    "plt.grid(axis='y', linestyle='--', alpha=0.7)\n",
    "plt.legend(fontsize=12, loc='upper left', bbox_to_anchor=(1, 1))  # Move legend outside the plot\n",
    "\n",
    "# Add horizontal and vertical lines\n",
    "plt.hlines(y=100, xmin=1, xmax=50, color='red', linestyle='--', alpha=0.7)\n",
    "plt.vlines(x=33, ymin=0, ymax=100, color='green', linestyle='--', alpha=0.7)\n",
    "\n",
    "plt.tight_layout()\n",
    "plt.show()\n"
   ]
  },
  {
   "cell_type": "code",
   "execution_count": null,
   "metadata": {},
   "outputs": [
    {
     "data": {
      "image/png": "[encoded data removed]",
      "text/plain": [
       "<Figure size 1000x600 with 1 Axes>"
      ]
     },
     "metadata": {},
     "output_type": "display_data"
    }
   ],
   "source": [
    "# Re-import necessary libraries after reset\n",
    "import matplotlib.pyplot as plt\n",
    "\n",
    "# Data for the line plot\n",
    "amplicons = [i for i in range(0, 51)]\n",
    "snp_coverage = [\n",
    "    0, 16.0, 30.5, 43.0, 55.0, 63.7, 63.75, 63.8, 69.8, 75.1, 75.2,\n",
    "    79.5, 82.7, 85.1, 87.3, 89.7, 91.5, 92.9, 93.8, 94.4, 95.0,\n",
    "    95.6, 96.0, 96.5, 96.9, 97.3, 97.6, 97.9, 98.3, 98.5, 98.7,\n",
    "    98.9, 99.1, 99.2, 99.4, 99.5, 99.6, 99.6, 99.7, 99.7, 99.8,\n",
    "    99.8, 99.8, 99.9, 99.9, 99.9, 99.9, 99.9, 99.9, 100.0, 100.0\n",
    "]\n",
    "\n",
    "# Data for the second curve\n",
    "snp_coverage_curve2 = [\n",
    "    0, 16.0, 30.1, 39.3, 48.0, 56.2, 56.3, 61.6, 66.9, 67.0, 67.0,\n",
    "    67.0, 69.9, 72.7, 75.7, 78.3, 80.5, 82.8, 84.4, 85.8, 87.2,\n",
    "    88.5, 89.5, 90.4, 91.8, 92.4, 92.9, 93.5, 93.9, 94.3, 94.7,\n",
    "    95.1, 95.5, 95.9, 96.2, 96.5, 96.7, 97.0, 97.2, 97.5, 97.7,\n",
    "    97.8, 98.0, 98.2, 98.3, 98.4, 98.6, 98.7, 98.8, 98.9, 99.0\n",
    "]\n",
    "\n",
    "# Plot both curves\n",
    "plt.figure(figsize=(10, 6))\n",
    "plt.plot(amplicons, snp_coverage, marker='o', linestyle='-', color='blue', label='650bps amplicon')\n",
    "plt.plot(amplicons, snp_coverage_curve2, marker='x', linestyle='--', color='orange', label='300bps amplicon')\n",
    "\n",
    "# Customize the plot\n",
    "plt.title('SNP Coverage Across Amplicons', fontsize=16)\n",
    "plt.xlabel('Amplicon', fontsize=14)\n",
    "plt.ylabel('SNP Coverage (%)', fontsize=14)\n",
    "plt.xticks(rotation=90, fontsize=10)  # Rotate x-axis labels for better readability\n",
    "plt.yticks(fontsize=12)\n",
    "plt.ylim(0, 105)  # Set y-axis limit slightly above 100 for visibility\n",
    "plt.grid(axis='y', linestyle='--', alpha=0.7)\n",
    "plt.legend(fontsize=12)\n",
    "plt.tight_layout()\n",
    "plt.hlines(y=100, xmin=0, xmax=50, color='red', linestyle='--', alpha=0.7)\n",
    "plt.vlines(x=33, ymin=0, ymax=100, color='green', linestyle='--', alpha=0.7)\n",
    "# Show the plot\n",
    "plt.show()\n"
   ]
  },
  {
   "cell_type": "code",
   "execution_count": 4,
   "metadata": {},
   "outputs": [
    {
     "data": {
      "image/png": "[encoded data removed]",
      "text/plain": [
       "<Figure size 1200x600 with 1 Axes>"
      ]
     },
     "metadata": {},
     "output_type": "display_data"
    }
   ],
   "source": [
    "import matplotlib.pyplot as plt\n",
    "\n",
    "# Define data for three SNP coverage curves\n",
    "amplicons1 = [i for i in range(0, 74)]\n",
    "snp_coverage_curve1 = [\n",
    "    0, 3.3, 11.4, 29.3, 32.4, 32.8, 33.0, 33.0, 33.3, 33.7, 33.8, 34.2, 39.2,\n",
    "    51.0, 51.3, 51.7, 56.2, 56.4, 56.7, 57.2, 57.8, 58.6, 58.8, 64.4, 64.4,\n",
    "    68.2, 69.0, 69.1, 75.6, 75.8, 83.0, 87.8, 88.4, 88.7, 88.9, 89.0, 93.6,\n",
    "    93.6, 93.9, 94.3, 94.4, 95.5, 95.7, 96.0, 96.4, 96.6, 96.8, 97.0, 97.3,\n",
    "    97.4, 97.6, 97.6, 97.8, 97.9, 98.2, 98.2, 98.4, 98.4, 98.5, 98.6, 98.6,\n",
    "    98.8, 98.9, 98.9, 99.0, 99.1, 99.2, 99.2, 99.3, 99.3, 99.4, 99.4, 99.4, 99.5\n",
    "]\n",
    "\n",
    "amplicons2 = [i for i in range(0, 80)]\n",
    "snp_coverage_curve2 = [\n",
    "    0, 3.2, 7.1, 9.1, 9.5, 19.0, 19.1, 19.4, 19.8, 19.8, 19.8, 19.9, 22.8, 23.7, 23.9,\n",
    "    28.3, 28.7, 28.9, 33.0, 33.2, 39.1, 44.3, 50.1, 50.3, 50.6, 51.1, 51.2, 52.0,\n",
    "    52.2, 52.2, 56.8, 56.9, 60.1, 64.0, 64.4, 64.5, 64.5, 66.0, 66.2, 69.3, 69.6,\n",
    "    69.6, 70.2, 73.8, 74.3, 74.4, 74.5, 75.1, 75.4, 75.4, 79.1, 82.3, 82.4, 85.4,\n",
    "    85.4, 85.6, 85.8, 85.9, 87.7, 90.3, 91.4, 92.3, 92.4, 92.5, 92.5, 92.6, 92.7,\n",
    "    92.9, 94.1, 94.3, 94.4, 94.7, 94.9, 94.9, 95.0, 95.8, 95.9, 96.0, 96.1, 96.3\n",
    "]\n",
    "\n",
    "amplicons3 = [i for i in range(0, 76)]\n",
    "snp_coverage_curve3 = [\n",
    "    0, 3.4, 13.3, 31.5, 34.8, 35.2, 35.3, 35.4, 35.7, 36.2, 36.2, 36.7, 41.7, 56.2, \n",
    "    56.6, 56.9, 64.7, 64.9, 65.2, 65.8, 66.4, 67.1, 67.3, 67.4, 67.4, 75.2, 76.0,\n",
    "    84.4, 84.5, 84.9, 85.5, 87.7, 87.7, 88.0, 88.1, 91.5, 91.7, 91.8, 93.0, 95.7,\n",
    "    95.8, 95.9, 96.3, 96.5, 96.8, 97.0, 97.2, 97.3, 97.4, 97.6, 97.9, 98.4, 98.4,\n",
    "    98.5, 98.6, 98.7, 98.8, 98.9, 98.9, 99.0, 99.1, 99.2, 99.2, 99.3, 99.4, 99.5,\n",
    "    99.6, 99.6, 99.7, 99.7, 99.8, 99.8, 99.8, 99.9, 99.9, 100.0\n",
    "]\n",
    "\n",
    "# Plot all three curves\n",
    "plt.figure(figsize=(12, 6))\n",
    "plt.plot(amplicons1, snp_coverage_curve1, marker='o', linestyle='-', color='purple', label='650bps amplicon')\n",
    "plt.plot(amplicons2, snp_coverage_curve2, marker='x', linestyle='--', color='orange', label='300bps amplicon')\n",
    "plt.plot(amplicons3, snp_coverage_curve3, marker='s', linestyle='-.', color='green', label='800bps amplicon')\n",
    "\n",
    "plt.hlines(y=100, xmin=0, xmax=61, color='red', linestyle='--', alpha=0.7)\n",
    "plt.vlines(x=33, ymin=0, ymax=100, color='green', linestyle='--', alpha=0.7)\n",
    "\n",
    "# Customize the plot\n",
    "plt.title('SNP Coverage Across Amplicons', fontsize=16)\n",
    "plt.xlabel('Number of Amplicon', fontsize=14)\n",
    "plt.ylabel('Mutation Coverage (%)', fontsize=14)\n",
    "plt.xticks(rotation=0, fontsize=12)  # Rotate x-axis labels for better readability\n",
    "plt.yticks(fontsize=12)\n",
    "plt.ylim(0, 105)  # Y-axis limit slightly above 100 for visibility\n",
    "plt.xlim(0,61)\n",
    "plt.grid(axis='y', linestyle='--', alpha=0.7)\n",
    "# plt.legend(fontsize=12)\n",
    "plt.legend(fontsize=12, loc='upper left', bbox_to_anchor=(0.78, 0.25))  # Move legend outside the plot\n",
    "\n",
    "\n",
    "# Show the plot\n",
    "plt.tight_layout()\n",
    "plt.show()\n"
   ]
  },
  {
   "cell_type": "code",
   "execution_count": null,
   "metadata": {},
   "outputs": [],
   "source": []
  }
 ],
 "metadata": {
  "kernelspec": {
   "display_name": "primer_selection",
   "language": "python",
   "name": "python3"
  },
  "language_info": {
   "codemirror_mode": {
    "name": "ipython",
    "version": 3
   },
   "file_extension": ".py",
   "mimetype": "text/x-python",
   "name": "python",
   "nbconvert_exporter": "python",
   "pygments_lexer": "ipython3",
   "version": "3.11.6"
  }
 },
 "nbformat": 4,
 "nbformat_minor": 2
}
