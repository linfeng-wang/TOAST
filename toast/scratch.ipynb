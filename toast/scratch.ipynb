{
 "cells": [
  {
   "cell_type": "code",
   "execution_count": 2,
   "metadata": {},
   "outputs": [
    {
     "name": "stderr",
     "output_type": "stream",
     "text": [
      "/tmp/ipykernel_3796973/2147551372.py:18: DeprecationWarning: the imp module is deprecated in favour of importlib and slated for removal in Python 3.12; see the module's documentation for alternative uses\n",
      "  from imp import reload\n"
     ]
    },
    {
     "data": {
      "text/plain": [
       "<module 'Thermo' from '/mnt/storage10/lwang/Projects/Amplicon_design_tool/amplicon4tb/Thermo.py'>"
      ]
     },
     "execution_count": 2,
     "metadata": {},
     "output_type": "execute_result"
    }
   ],
   "source": [
    "import numpy as np\n",
    "import pandas as pd\n",
    "import matplotlib.pyplot as plt\n",
    "%matplotlib inline\n",
    "from functools import partial\n",
    "from random import choices, randint, randrange, random, sample\n",
    "from typing import List, Optional, Callable, Tuple\n",
    "import numpy as np\n",
    "# from geneticalgorithm import geneticalgorithm as ga\n",
    "import pandas as pd\n",
    "from collections import Counter\n",
    "from tqdm import tqdm\n",
    "import time\n",
    "from Bio.SeqUtils import MeltingTemp\n",
    "from Bio import SeqIO\n",
    "from plotly import graph_objects as go\n",
    "import json\n",
    "from imp import reload\n",
    "import primer_selection\n",
    "reload(primer_selection)\n",
    "# import testing\n",
    "# reload(testing)\n",
    "import math\n",
    "import Thermo\n",
    "reload(Thermo)"
   ]
  },
  {
   "cell_type": "code",
   "execution_count": 6,
   "metadata": {},
   "outputs": [],
   "source": [
    "pd.read_csv('/mnt/storage10/lwang/Projects/Amplicon_design_tool/test/Amplicon_design_output/Primer_design-accepted_primers-42-400.csv').head().to_excel('test.xlsx')"
   ]
  },
  {
   "cell_type": "code",
   "execution_count": 7,
   "metadata": {},
   "outputs": [],
   "source": [
    "genes = pd.read_csv('/mnt/storage10/lwang/Projects/Amplicon_design_tool/db/MTB-h37rv_asm19595v2-eg18.gff', sep = '\\t', header = None, skiprows=[0,1,2,3,4,5,6])\n",
    "genes = genes[genes[2]=='gene']\n",
    "genes['Name'] = genes[8].str.extract(r'Name=([^;]*)')\n",
    "genes = genes[[3,4,'Name']]\n",
    "genes.columns = ['start', 'end', 'gene']"
   ]
  },
  {
   "cell_type": "code",
   "execution_count": 9,
   "metadata": {},
   "outputs": [],
   "source": [
    "genes = genes[~genes['gene'].isna()]"
   ]
  },
  {
   "cell_type": "code",
   "execution_count": 7,
   "metadata": {},
   "outputs": [],
   "source": [
    "df = pd.read_csv('/mnt/storage10/lwang/Projects/Amplicon_design_tool/db/variants.csv')\n",
    "# df = df[~df['drugs'].isna()]\n",
    "# df = df[~df['type'].isin(['synonymous_variant','non_coding_transcript_exon_variant'])]\n",
    "# df = df[df['gene']=='fabG1']\n",
    "\n",
    "# print(df['genome_pos'].min())\n",
    "# print(df['genome_pos'].max())"
   ]
  },
  {
   "cell_type": "code",
   "execution_count": 10,
   "metadata": {},
   "outputs": [
    {
     "data": {
      "text/plain": [
       "gene\n",
       "PPE35      NaN\n",
       "Rv1258c    NaN\n",
       "Rv1979c    NaN\n",
       "Rv2752c    NaN\n",
       "Rv3083     NaN\n",
       "Rv3236c    NaN\n",
       "aftB       NaN\n",
       "ahpC       NaN\n",
       "ald        NaN\n",
       "alr        NaN\n",
       "atpE       NaN\n",
       "ccsA       NaN\n",
       "clpC1      NaN\n",
       "ddn        NaN\n",
       "eis        NaN\n",
       "embA       NaN\n",
       "embB       NaN\n",
       "embC       NaN\n",
       "embR       NaN\n",
       "ethA       NaN\n",
       "ethR       NaN\n",
       "fabG1      1.0\n",
       "fbiA       NaN\n",
       "fbiB       NaN\n",
       "fbiC       NaN\n",
       "fbiD       NaN\n",
       "fgd1       NaN\n",
       "folC       NaN\n",
       "fprA       NaN\n",
       "gid        NaN\n",
       "gyrA       NaN\n",
       "gyrB       NaN\n",
       "inhA       NaN\n",
       "kasA       NaN\n",
       "katG       NaN\n",
       "mmpL5      NaN\n",
       "mmpR5      NaN\n",
       "mmpS5      NaN\n",
       "mshA       NaN\n",
       "ndh        NaN\n",
       "panD       NaN\n",
       "pepQ       NaN\n",
       "pncA       NaN\n",
       "ribD       NaN\n",
       "rplC       NaN\n",
       "rpoA       NaN\n",
       "rpoB       NaN\n",
       "rpoC       NaN\n",
       "rpsA       NaN\n",
       "rpsL       NaN\n",
       "rrl        NaN\n",
       "rrs        NaN\n",
       "thyA       NaN\n",
       "thyX       NaN\n",
       "tlyA       NaN\n",
       "ubiA       NaN\n",
       "whiB6      NaN\n",
       "whiB7      NaN\n",
       "Name: count, dtype: float64"
      ]
     },
     "execution_count": 10,
     "metadata": {},
     "output_type": "execute_result"
    }
   ],
   "source": [
    "df1['gene'].value_counts()/df['gene'].value_counts()"
   ]
  },
  {
   "cell_type": "code",
   "execution_count": 4,
   "metadata": {},
   "outputs": [
    {
     "data": {
      "text/plain": [
       "array(['c.-15C>T', 'c.-60C>G', 'c.-8T>C', ..., 'p.Glu59Gly', 'p.Ala43Pro',\n",
       "       'p.Arg25Pro'], dtype=object)"
      ]
     },
     "execution_count": 4,
     "metadata": {},
     "output_type": "execute_result"
    }
   ],
   "source": [
    "df = pd.read_csv('/mnt/storage10/lwang/Projects/Amplicon_design_tool/db/variants.csv')\n",
    "df1 = df[df['gene']=='fabG1']\n",
    "df1['change'].unique()"
   ]
  },
  {
   "cell_type": "code",
   "execution_count": 17,
   "metadata": {},
   "outputs": [
    {
     "name": "stdout",
     "output_type": "stream",
     "text": [
      "fabG1    3.0/10 (30%)\n",
      "PPE35    1.0/10 (10%)\n",
      "fprA     1.0/10 (10%)\n",
      "gid       0.0/10 (0%)\n",
      "Name: count, dtype: object\n"
     ]
    }
   ],
   "source": [
    "import pandas as pd\n",
    "\n",
    "# Example Series\n",
    "series1 = pd.Series({'fabG1': 3, 'PPE35': 1, 'fprA': 1}, name='count')\n",
    "series2 = pd.Series({'fabG1': 10, 'PPE35': 10, 'fprA': 10, 'gid': 10}, name='count')\n",
    "\n",
    "series1_aligned = series1.reindex(series2.index).fillna(0)\n",
    "\n",
    "# Calculate the ratio and format as string\n",
    "result = series1_aligned / series2\n",
    "formatted_result = result.apply(lambda x: f\"{x:.0%}\")\n",
    "\n",
    "# Combine the two series\n",
    "combined_series = series1_aligned.astype(str) + \"/\" + series2.astype(str) + \" (\" + formatted_result + \")\"\n",
    "\n",
    "print(combined_series)\n"
   ]
  },
  {
   "cell_type": "code",
   "execution_count": 11,
   "metadata": {},
   "outputs": [
    {
     "data": {
      "text/plain": [
       "gene\n",
       "gyrA       670971\n",
       "rrs        522322\n",
       "rpoC       508252\n",
       "rrl        503108\n",
       "embA       289453\n",
       "mmpL5      285863\n",
       "rpoB       278048\n",
       "clpC1      246191\n",
       "embB       235966\n",
       "rpsL       189191\n",
       "PPE35      188896\n",
       "fprA       186174\n",
       "gid        172437\n",
       "Rv1979c    170503\n",
       "whiB6      169146\n",
       "katG       165235\n",
       "ald        164828\n",
       "embC       161971\n",
       "rpsA       161781\n",
       "tlyA       149695\n",
       "fgd1       135426\n",
       "rpoA       129223\n",
       "aftB       127931\n",
       "mshA       126670\n",
       "fbiC       117931\n",
       "kasA       106268\n",
       "gyrB        77837\n",
       "Rv2752c     75833\n",
       "pncA        74039\n",
       "ccsA        73707\n",
       "inhA        66439\n",
       "Rv3236c     63067\n",
       "thyA        61490\n",
       "Rv3083      56273\n",
       "ndh         53898\n",
       "Rv1258c     50703\n",
       "ethA        50536\n",
       "ahpC        47889\n",
       "rplC        43808\n",
       "mmpS5       43471\n",
       "folC        39463\n",
       "thyX        37946\n",
       "ubiA        36804\n",
       "fbiB        35925\n",
       "fabG1       33327\n",
       "fbiD        32937\n",
       "alr         30611\n",
       "eis         27123\n",
       "pepQ        25431\n",
       "embR        21930\n",
       "atpE        19244\n",
       "whiB7       13313\n",
       "panD        13007\n",
       "ethR        11853\n",
       "fbiA        10812\n",
       "ribD        10616\n",
       "ddn         10223\n",
       "mmpR5        7961\n",
       "Name: count, dtype: int64"
      ]
     },
     "execution_count": 11,
     "metadata": {},
     "output_type": "execute_result"
    }
   ],
   "source": [
    "df['gene'].value_counts()"
   ]
  },
  {
   "cell_type": "code",
   "execution_count": 12,
   "metadata": {},
   "outputs": [
    {
     "data": {
      "text/plain": [
       "gene\n",
       "fabG1    33327\n",
       "Name: count, dtype: int64"
      ]
     },
     "execution_count": 12,
     "metadata": {},
     "output_type": "execute_result"
    }
   ],
   "source": [
    "df1['gene'].value_counts()"
   ]
  },
  {
   "cell_type": "code",
   "execution_count": 5,
   "metadata": {},
   "outputs": [
    {
     "data": {
      "text/html": [
       "<div>\n",
       "<style scoped>\n",
       "    .dataframe tbody tr th:only-of-type {\n",
       "        vertical-align: middle;\n",
       "    }\n",
       "\n",
       "    .dataframe tbody tr th {\n",
       "        vertical-align: top;\n",
       "    }\n",
       "\n",
       "    .dataframe thead th {\n",
       "        text-align: right;\n",
       "    }\n",
       "</style>\n",
       "<table border=\"1\" class=\"dataframe\">\n",
       "  <thead>\n",
       "    <tr style=\"text-align: right;\">\n",
       "      <th></th>\n",
       "      <th>pLeft_ID</th>\n",
       "      <th>pLeft_coord</th>\n",
       "      <th>pLeft_length</th>\n",
       "      <th>pLeft_Tm</th>\n",
       "      <th>pLeft_GC</th>\n",
       "      <th>pLeft_Sequences</th>\n",
       "      <th>pLeft_EndStability</th>\n",
       "      <th>pRight_ID</th>\n",
       "      <th>pRight_coord</th>\n",
       "      <th>pRight_length</th>\n",
       "      <th>pRight_Tm</th>\n",
       "      <th>pRight_GC</th>\n",
       "      <th>pRight_Sequences</th>\n",
       "      <th>pRight_EndStability</th>\n",
       "      <th>Penalty</th>\n",
       "      <th>Product_size</th>\n",
       "      <th>Amplicone_type</th>\n",
       "      <th>Redesign</th>\n",
       "      <th>Designed_ranges</th>\n",
       "    </tr>\n",
       "  </thead>\n",
       "  <tbody>\n",
       "    <tr>\n",
       "      <th>0</th>\n",
       "      <td>P1-L0</td>\n",
       "      <td>761087</td>\n",
       "      <td>20</td>\n",
       "      <td>60.033405</td>\n",
       "      <td>50.000000</td>\n",
       "      <td>NaN</td>\n",
       "      <td>2.57</td>\n",
       "      <td>P1-R0</td>\n",
       "      <td>761445</td>\n",
       "      <td>18</td>\n",
       "      <td>60.726180</td>\n",
       "      <td>66.666667</td>\n",
       "      <td>NaN</td>\n",
       "      <td>3.69</td>\n",
       "      <td>2.759585</td>\n",
       "      <td>358</td>\n",
       "      <td>Non_specific</td>\n",
       "      <td>['-']</td>\n",
       "      <td>[761087, 761445]</td>\n",
       "    </tr>\n",
       "    <tr>\n",
       "      <th>1</th>\n",
       "      <td>P2-L0</td>\n",
       "      <td>2155074</td>\n",
       "      <td>20</td>\n",
       "      <td>59.827648</td>\n",
       "      <td>60.000000</td>\n",
       "      <td>NaN</td>\n",
       "      <td>3.51</td>\n",
       "      <td>P2-R0</td>\n",
       "      <td>2155436</td>\n",
       "      <td>20</td>\n",
       "      <td>60.179081</td>\n",
       "      <td>60.000000</td>\n",
       "      <td>NaN</td>\n",
       "      <td>4.11</td>\n",
       "      <td>0.351433</td>\n",
       "      <td>362</td>\n",
       "      <td>Non_specific</td>\n",
       "      <td>['-']</td>\n",
       "      <td>[2155074, 2155436]</td>\n",
       "    </tr>\n",
       "    <tr>\n",
       "      <th>2</th>\n",
       "      <td>P3-L0</td>\n",
       "      <td>4247449</td>\n",
       "      <td>20</td>\n",
       "      <td>59.822859</td>\n",
       "      <td>55.000000</td>\n",
       "      <td>NaN</td>\n",
       "      <td>2.24</td>\n",
       "      <td>P3-R0</td>\n",
       "      <td>4247838</td>\n",
       "      <td>19</td>\n",
       "      <td>60.004320</td>\n",
       "      <td>52.631579</td>\n",
       "      <td>NaN</td>\n",
       "      <td>2.85</td>\n",
       "      <td>1.181461</td>\n",
       "      <td>389</td>\n",
       "      <td>Non_specific</td>\n",
       "      <td>['-']</td>\n",
       "      <td>[4247449, 4247838]</td>\n",
       "    </tr>\n",
       "    <tr>\n",
       "      <th>3</th>\n",
       "      <td>P4-L0</td>\n",
       "      <td>2288903</td>\n",
       "      <td>20</td>\n",
       "      <td>60.179194</td>\n",
       "      <td>60.000000</td>\n",
       "      <td>NaN</td>\n",
       "      <td>3.46</td>\n",
       "      <td>P4-R0</td>\n",
       "      <td>2289254</td>\n",
       "      <td>20</td>\n",
       "      <td>60.599204</td>\n",
       "      <td>60.000000</td>\n",
       "      <td>NaN</td>\n",
       "      <td>6.13</td>\n",
       "      <td>0.778398</td>\n",
       "      <td>351</td>\n",
       "      <td>Non_specific</td>\n",
       "      <td>['-']</td>\n",
       "      <td>[2288903, 2289254]</td>\n",
       "    </tr>\n",
       "    <tr>\n",
       "      <th>4</th>\n",
       "      <td>P5-L0</td>\n",
       "      <td>781654</td>\n",
       "      <td>19</td>\n",
       "      <td>60.446445</td>\n",
       "      <td>57.894737</td>\n",
       "      <td>NaN</td>\n",
       "      <td>2.90</td>\n",
       "      <td>P5-R0</td>\n",
       "      <td>782004</td>\n",
       "      <td>20</td>\n",
       "      <td>60.108992</td>\n",
       "      <td>55.000000</td>\n",
       "      <td>NaN</td>\n",
       "      <td>4.02</td>\n",
       "      <td>1.555437</td>\n",
       "      <td>350</td>\n",
       "      <td>Non_specific</td>\n",
       "      <td>['-']</td>\n",
       "      <td>[781654, 782004]</td>\n",
       "    </tr>\n",
       "    <tr>\n",
       "      <th>5</th>\n",
       "      <td>P6-L1</td>\n",
       "      <td>4247250</td>\n",
       "      <td>20</td>\n",
       "      <td>60.750911</td>\n",
       "      <td>60.000000</td>\n",
       "      <td>NaN</td>\n",
       "      <td>4.30</td>\n",
       "      <td>P6-R1</td>\n",
       "      <td>4247602</td>\n",
       "      <td>18</td>\n",
       "      <td>60.437359</td>\n",
       "      <td>66.666667</td>\n",
       "      <td>NaN</td>\n",
       "      <td>5.19</td>\n",
       "      <td>3.188270</td>\n",
       "      <td>352</td>\n",
       "      <td>Non_specific</td>\n",
       "      <td>['-']</td>\n",
       "      <td>[4247250, 4247602]</td>\n",
       "    </tr>\n",
       "    <tr>\n",
       "      <th>6</th>\n",
       "      <td>P7-L0</td>\n",
       "      <td>1673419</td>\n",
       "      <td>20</td>\n",
       "      <td>59.970965</td>\n",
       "      <td>60.000000</td>\n",
       "      <td>NaN</td>\n",
       "      <td>5.14</td>\n",
       "      <td>P7-R0</td>\n",
       "      <td>1673835</td>\n",
       "      <td>20</td>\n",
       "      <td>59.905954</td>\n",
       "      <td>50.000000</td>\n",
       "      <td>NaN</td>\n",
       "      <td>4.06</td>\n",
       "      <td>0.123080</td>\n",
       "      <td>416</td>\n",
       "      <td>Non_specific</td>\n",
       "      <td>['-']</td>\n",
       "      <td>[1673419, 1673835]</td>\n",
       "    </tr>\n",
       "    <tr>\n",
       "      <th>7</th>\n",
       "      <td>P8-L0</td>\n",
       "      <td>7344</td>\n",
       "      <td>20</td>\n",
       "      <td>60.109458</td>\n",
       "      <td>55.000000</td>\n",
       "      <td>NaN</td>\n",
       "      <td>4.04</td>\n",
       "      <td>P8-R0</td>\n",
       "      <td>7698</td>\n",
       "      <td>20</td>\n",
       "      <td>60.179081</td>\n",
       "      <td>60.000000</td>\n",
       "      <td>NaN</td>\n",
       "      <td>2.92</td>\n",
       "      <td>0.288539</td>\n",
       "      <td>354</td>\n",
       "      <td>Non_specific</td>\n",
       "      <td>['-']</td>\n",
       "      <td>[7344, 7698]</td>\n",
       "    </tr>\n",
       "    <tr>\n",
       "      <th>8</th>\n",
       "      <td>P9-L0</td>\n",
       "      <td>2288582</td>\n",
       "      <td>19</td>\n",
       "      <td>60.599797</td>\n",
       "      <td>63.157895</td>\n",
       "      <td>NaN</td>\n",
       "      <td>4.45</td>\n",
       "      <td>P9-R0</td>\n",
       "      <td>2288998</td>\n",
       "      <td>20</td>\n",
       "      <td>60.108615</td>\n",
       "      <td>60.000000</td>\n",
       "      <td>NaN</td>\n",
       "      <td>4.34</td>\n",
       "      <td>1.708412</td>\n",
       "      <td>416</td>\n",
       "      <td>Non_specific</td>\n",
       "      <td>['-']</td>\n",
       "      <td>[2288582, 2288998]</td>\n",
       "    </tr>\n",
       "    <tr>\n",
       "      <th>9</th>\n",
       "      <td>P10-L0</td>\n",
       "      <td>1472411</td>\n",
       "      <td>20</td>\n",
       "      <td>60.038526</td>\n",
       "      <td>55.000000</td>\n",
       "      <td>NaN</td>\n",
       "      <td>4.35</td>\n",
       "      <td>P10-R0</td>\n",
       "      <td>1472826</td>\n",
       "      <td>20</td>\n",
       "      <td>60.037605</td>\n",
       "      <td>55.000000</td>\n",
       "      <td>NaN</td>\n",
       "      <td>6.01</td>\n",
       "      <td>0.076131</td>\n",
       "      <td>415</td>\n",
       "      <td>Non_specific</td>\n",
       "      <td>['-']</td>\n",
       "      <td>[1472411, 1472826]</td>\n",
       "    </tr>\n",
       "  </tbody>\n",
       "</table>\n",
       "</div>"
      ],
      "text/plain": [
       "  pLeft_ID  pLeft_coord  pLeft_length   pLeft_Tm   pLeft_GC  pLeft_Sequences  \\\n",
       "0    P1-L0       761087            20  60.033405  50.000000              NaN   \n",
       "1    P2-L0      2155074            20  59.827648  60.000000              NaN   \n",
       "2    P3-L0      4247449            20  59.822859  55.000000              NaN   \n",
       "3    P4-L0      2288903            20  60.179194  60.000000              NaN   \n",
       "4    P5-L0       781654            19  60.446445  57.894737              NaN   \n",
       "5    P6-L1      4247250            20  60.750911  60.000000              NaN   \n",
       "6    P7-L0      1673419            20  59.970965  60.000000              NaN   \n",
       "7    P8-L0         7344            20  60.109458  55.000000              NaN   \n",
       "8    P9-L0      2288582            19  60.599797  63.157895              NaN   \n",
       "9   P10-L0      1472411            20  60.038526  55.000000              NaN   \n",
       "\n",
       "   pLeft_EndStability pRight_ID  pRight_coord  pRight_length  pRight_Tm  \\\n",
       "0                2.57     P1-R0        761445             18  60.726180   \n",
       "1                3.51     P2-R0       2155436             20  60.179081   \n",
       "2                2.24     P3-R0       4247838             19  60.004320   \n",
       "3                3.46     P4-R0       2289254             20  60.599204   \n",
       "4                2.90     P5-R0        782004             20  60.108992   \n",
       "5                4.30     P6-R1       4247602             18  60.437359   \n",
       "6                5.14     P7-R0       1673835             20  59.905954   \n",
       "7                4.04     P8-R0          7698             20  60.179081   \n",
       "8                4.45     P9-R0       2288998             20  60.108615   \n",
       "9                4.35    P10-R0       1472826             20  60.037605   \n",
       "\n",
       "   pRight_GC  pRight_Sequences  pRight_EndStability   Penalty  Product_size  \\\n",
       "0  66.666667               NaN                 3.69  2.759585           358   \n",
       "1  60.000000               NaN                 4.11  0.351433           362   \n",
       "2  52.631579               NaN                 2.85  1.181461           389   \n",
       "3  60.000000               NaN                 6.13  0.778398           351   \n",
       "4  55.000000               NaN                 4.02  1.555437           350   \n",
       "5  66.666667               NaN                 5.19  3.188270           352   \n",
       "6  50.000000               NaN                 4.06  0.123080           416   \n",
       "7  60.000000               NaN                 2.92  0.288539           354   \n",
       "8  60.000000               NaN                 4.34  1.708412           416   \n",
       "9  55.000000               NaN                 6.01  0.076131           415   \n",
       "\n",
       "  Amplicone_type Redesign     Designed_ranges  \n",
       "0   Non_specific    ['-']    [761087, 761445]  \n",
       "1   Non_specific    ['-']  [2155074, 2155436]  \n",
       "2   Non_specific    ['-']  [4247449, 4247838]  \n",
       "3   Non_specific    ['-']  [2288903, 2289254]  \n",
       "4   Non_specific    ['-']    [781654, 782004]  \n",
       "5   Non_specific    ['-']  [4247250, 4247602]  \n",
       "6   Non_specific    ['-']  [1673419, 1673835]  \n",
       "7   Non_specific    ['-']        [7344, 7698]  \n",
       "8   Non_specific    ['-']  [2288582, 2288998]  \n",
       "9   Non_specific    ['-']  [1472411, 1472826]  "
      ]
     },
     "execution_count": 5,
     "metadata": {},
     "output_type": "execute_result"
    }
   ],
   "source": [
    "reference_design = './test/Amplicon_design_output/Primer_design-accepted_primers-10-400.csv'\n",
    "pd.read_csv(reference_design, header = 0)"
   ]
  },
  {
   "cell_type": "code",
   "execution_count": 5,
   "metadata": {},
   "outputs": [],
   "source": [
    "susana_design = pd.read_excel('/mnt/storage10/lwang/Projects/Amplicone_design_tool/model2in1/amplicon_TB_2023_V2.xlsx', header = 0)\n",
    "susana_design = susana_design.iloc[:-3]"
   ]
  },
  {
   "cell_type": "code",
   "execution_count": 6,
   "metadata": {},
   "outputs": [],
   "source": [
    "susana_design = pd.read_excel('/mnt/storage10/lwang/Projects/Amplicone_design_tool/model2in1/amplicon_TB_2023_V2.xlsx', header = 0)\n",
    "susana_design = susana_design.iloc[:-3]\n",
    "susana_design.to_csv('reference_design.csv', index = False)"
   ]
  },
  {
   "cell_type": "code",
   "execution_count": 16,
   "metadata": {},
   "outputs": [],
   "source": [
    "df1 = pd.read_csv('/mnt/storage10/lwang/Projects/Amplicone_design_tool/model2in1/test/Amplicon_design_output/Primer_design-accepted_primers-4-400.csv', header = 0)"
   ]
  },
  {
   "cell_type": "code",
   "execution_count": 17,
   "metadata": {},
   "outputs": [],
   "source": [
    "def modify_primer_name(primer, amplicone_type):\n",
    "    prefix = 'sp' if 'Gene_specific' in amplicone_type elif 'ns' if 'Non_specific' in amplicone_type elif 'spol' if 'spol' in amplicone_type else ''\n",
    "    parts = primer.split('-')\n",
    "    if len(parts) > 1:\n",
    "        parts[-1] = 'L' + str(int(parts[-1][1:]) + 1)  # Increment the number\n",
    "    parts.insert(1, prefix)\n",
    "    return '-'.join(parts)\n",
    "\n",
    "# Apply modifications\n",
    "df1['pLeft_ID'] = df1.apply(lambda x: modify_primer_name(x['pLeft_ID'], x['Amplicone_type']), axis=1)\n",
    "df1['pRight_ID'] = df1.apply(lambda x: modify_primer_name(x['pRight_ID'], x['Amplicone_type']), axis=1)"
   ]
  },
  {
   "cell_type": "code",
   "execution_count": 18,
   "metadata": {},
   "outputs": [
    {
     "data": {
      "text/html": [
       "<div>\n",
       "<style scoped>\n",
       "    .dataframe tbody tr th:only-of-type {\n",
       "        vertical-align: middle;\n",
       "    }\n",
       "\n",
       "    .dataframe tbody tr th {\n",
       "        vertical-align: top;\n",
       "    }\n",
       "\n",
       "    .dataframe thead th {\n",
       "        text-align: right;\n",
       "    }\n",
       "</style>\n",
       "<table border=\"1\" class=\"dataframe\">\n",
       "  <thead>\n",
       "    <tr style=\"text-align: right;\">\n",
       "      <th></th>\n",
       "      <th>index</th>\n",
       "      <th>pLeft_ID</th>\n",
       "      <th>pLeft_coord</th>\n",
       "      <th>pLeft_length</th>\n",
       "      <th>pLeft_Tm</th>\n",
       "      <th>pLeft_GC</th>\n",
       "      <th>pLeft_Sequences</th>\n",
       "      <th>pLeft_EndStability</th>\n",
       "      <th>pRight_ID</th>\n",
       "      <th>pRight_coord</th>\n",
       "      <th>pRight_length</th>\n",
       "      <th>pRight_Tm</th>\n",
       "      <th>pRight_GC</th>\n",
       "      <th>pRight_Sequences</th>\n",
       "      <th>pRight_EndStability</th>\n",
       "      <th>Penalty</th>\n",
       "      <th>Product_size</th>\n",
       "      <th>Amplicone_type</th>\n",
       "      <th>Redesign</th>\n",
       "      <th>Designed_ranges</th>\n",
       "    </tr>\n",
       "  </thead>\n",
       "  <tbody>\n",
       "    <tr>\n",
       "      <th>0</th>\n",
       "      <td>0</td>\n",
       "      <td>P1-sp-L1</td>\n",
       "      <td>761087</td>\n",
       "      <td>20</td>\n",
       "      <td>60.033405</td>\n",
       "      <td>50.0</td>\n",
       "      <td>AGCCAGCTGAGCCAATTCAT</td>\n",
       "      <td>2.57</td>\n",
       "      <td>P1-sp-L1</td>\n",
       "      <td>761445</td>\n",
       "      <td>18</td>\n",
       "      <td>60.726180</td>\n",
       "      <td>66.666667</td>\n",
       "      <td>CGATCGATGCGGACGGTC</td>\n",
       "      <td>3.69</td>\n",
       "      <td>2.759585</td>\n",
       "      <td>358</td>\n",
       "      <td>Gene_specific</td>\n",
       "      <td>['-']</td>\n",
       "      <td>[761087, 761445]</td>\n",
       "    </tr>\n",
       "    <tr>\n",
       "      <th>1</th>\n",
       "      <td>0</td>\n",
       "      <td>P2-sp-L1</td>\n",
       "      <td>2155074</td>\n",
       "      <td>20</td>\n",
       "      <td>59.827648</td>\n",
       "      <td>60.0</td>\n",
       "      <td>CTCTTCGTCAGCTCCCACTC</td>\n",
       "      <td>3.51</td>\n",
       "      <td>P2-sp-L1</td>\n",
       "      <td>2155436</td>\n",
       "      <td>20</td>\n",
       "      <td>60.179081</td>\n",
       "      <td>60.000000</td>\n",
       "      <td>GGGTTCACGTAGATCAGCCC</td>\n",
       "      <td>4.11</td>\n",
       "      <td>0.351433</td>\n",
       "      <td>362</td>\n",
       "      <td>Gene_specific</td>\n",
       "      <td>['-']</td>\n",
       "      <td>[2155074, 2155436]</td>\n",
       "    </tr>\n",
       "    <tr>\n",
       "      <th>2</th>\n",
       "      <td>0</td>\n",
       "      <td>P1-ns-L1</td>\n",
       "      <td>4247449</td>\n",
       "      <td>20</td>\n",
       "      <td>59.822859</td>\n",
       "      <td>55.0</td>\n",
       "      <td>GCCGGCTACATGTCCAACTA</td>\n",
       "      <td>2.24</td>\n",
       "      <td>P1-ns-L1</td>\n",
       "      <td>4247838</td>\n",
       "      <td>19</td>\n",
       "      <td>60.004320</td>\n",
       "      <td>52.631579</td>\n",
       "      <td>TTACCGCCGRATTCACACT</td>\n",
       "      <td>2.85</td>\n",
       "      <td>1.181461</td>\n",
       "      <td>389</td>\n",
       "      <td>Non_specific</td>\n",
       "      <td>['-']</td>\n",
       "      <td>[4247449, 4247838]</td>\n",
       "    </tr>\n",
       "    <tr>\n",
       "      <th>3</th>\n",
       "      <td>0</td>\n",
       "      <td>P2-ns-L1</td>\n",
       "      <td>2288903</td>\n",
       "      <td>20</td>\n",
       "      <td>60.179194</td>\n",
       "      <td>60.0</td>\n",
       "      <td>CCGTTCTCGTCGACTCCTTC</td>\n",
       "      <td>3.46</td>\n",
       "      <td>P2-ns-L1</td>\n",
       "      <td>2289254</td>\n",
       "      <td>20</td>\n",
       "      <td>60.599204</td>\n",
       "      <td>60.000000</td>\n",
       "      <td>CCCGCATACGTCCACCATAC</td>\n",
       "      <td>6.13</td>\n",
       "      <td>0.778398</td>\n",
       "      <td>351</td>\n",
       "      <td>Non_specific</td>\n",
       "      <td>['-']</td>\n",
       "      <td>[2288903, 2289254]</td>\n",
       "    </tr>\n",
       "  </tbody>\n",
       "</table>\n",
       "</div>"
      ],
      "text/plain": [
       "   index  pLeft_ID  pLeft_coord  pLeft_length   pLeft_Tm  pLeft_GC  \\\n",
       "0      0  P1-sp-L1       761087            20  60.033405      50.0   \n",
       "1      0  P2-sp-L1      2155074            20  59.827648      60.0   \n",
       "2      0  P1-ns-L1      4247449            20  59.822859      55.0   \n",
       "3      0  P2-ns-L1      2288903            20  60.179194      60.0   \n",
       "\n",
       "        pLeft_Sequences  pLeft_EndStability pRight_ID  pRight_coord  \\\n",
       "0  AGCCAGCTGAGCCAATTCAT                2.57  P1-sp-L1        761445   \n",
       "1  CTCTTCGTCAGCTCCCACTC                3.51  P2-sp-L1       2155436   \n",
       "2  GCCGGCTACATGTCCAACTA                2.24  P1-ns-L1       4247838   \n",
       "3  CCGTTCTCGTCGACTCCTTC                3.46  P2-ns-L1       2289254   \n",
       "\n",
       "   pRight_length  pRight_Tm  pRight_GC      pRight_Sequences  \\\n",
       "0             18  60.726180  66.666667    CGATCGATGCGGACGGTC   \n",
       "1             20  60.179081  60.000000  GGGTTCACGTAGATCAGCCC   \n",
       "2             19  60.004320  52.631579   TTACCGCCGRATTCACACT   \n",
       "3             20  60.599204  60.000000  CCCGCATACGTCCACCATAC   \n",
       "\n",
       "   pRight_EndStability   Penalty  Product_size Amplicone_type Redesign  \\\n",
       "0                 3.69  2.759585           358  Gene_specific    ['-']   \n",
       "1                 4.11  0.351433           362  Gene_specific    ['-']   \n",
       "2                 2.85  1.181461           389   Non_specific    ['-']   \n",
       "3                 6.13  0.778398           351   Non_specific    ['-']   \n",
       "\n",
       "      Designed_ranges  \n",
       "0    [761087, 761445]  \n",
       "1  [2155074, 2155436]  \n",
       "2  [4247449, 4247838]  \n",
       "3  [2288903, 2289254]  "
      ]
     },
     "execution_count": 18,
     "metadata": {},
     "output_type": "execute_result"
    }
   ],
   "source": [
    "df1"
   ]
  },
  {
   "cell_type": "code",
   "execution_count": 9,
   "metadata": {},
   "outputs": [
    {
     "data": {
      "text/html": [
       "<div>\n",
       "<style scoped>\n",
       "    .dataframe tbody tr th:only-of-type {\n",
       "        vertical-align: middle;\n",
       "    }\n",
       "\n",
       "    .dataframe tbody tr th {\n",
       "        vertical-align: top;\n",
       "    }\n",
       "\n",
       "    .dataframe thead th {\n",
       "        text-align: right;\n",
       "    }\n",
       "</style>\n",
       "<table border=\"1\" class=\"dataframe\">\n",
       "  <thead>\n",
       "    <tr style=\"text-align: right;\">\n",
       "      <th></th>\n",
       "      <th>index</th>\n",
       "      <th>pLeft_ID</th>\n",
       "      <th>pLeft_coord</th>\n",
       "      <th>pLeft_length</th>\n",
       "      <th>pLeft_Tm</th>\n",
       "      <th>pLeft_GC</th>\n",
       "      <th>pLeft_Sequences</th>\n",
       "      <th>pLeft_EndStability</th>\n",
       "      <th>pRight_ID</th>\n",
       "      <th>pRight_coord</th>\n",
       "      <th>pRight_length</th>\n",
       "      <th>pRight_Tm</th>\n",
       "      <th>pRight_GC</th>\n",
       "      <th>pRight_Sequences</th>\n",
       "      <th>pRight_EndStability</th>\n",
       "      <th>Penalty</th>\n",
       "      <th>Product_size</th>\n",
       "      <th>Amplicone_type</th>\n",
       "      <th>Redesign</th>\n",
       "      <th>Designed_ranges</th>\n",
       "    </tr>\n",
       "  </thead>\n",
       "  <tbody>\n",
       "    <tr>\n",
       "      <th>0</th>\n",
       "      <td>0</td>\n",
       "      <td>P1-L0</td>\n",
       "      <td>761087</td>\n",
       "      <td>20</td>\n",
       "      <td>60.033405</td>\n",
       "      <td>50.0</td>\n",
       "      <td>AGCCAGCTGAGCCAATTCAT</td>\n",
       "      <td>2.57</td>\n",
       "      <td>P1-R0</td>\n",
       "      <td>761445</td>\n",
       "      <td>18</td>\n",
       "      <td>60.726180</td>\n",
       "      <td>66.666667</td>\n",
       "      <td>CGATCGATGCGGACGGTC</td>\n",
       "      <td>3.69</td>\n",
       "      <td>2.759585</td>\n",
       "      <td>358</td>\n",
       "      <td>Gene_specific</td>\n",
       "      <td>['-']</td>\n",
       "      <td>[761087, 761445]</td>\n",
       "    </tr>\n",
       "    <tr>\n",
       "      <th>1</th>\n",
       "      <td>0</td>\n",
       "      <td>P2-L0</td>\n",
       "      <td>2155074</td>\n",
       "      <td>20</td>\n",
       "      <td>59.827648</td>\n",
       "      <td>60.0</td>\n",
       "      <td>CTCTTCGTCAGCTCCCACTC</td>\n",
       "      <td>3.51</td>\n",
       "      <td>P2-R0</td>\n",
       "      <td>2155436</td>\n",
       "      <td>20</td>\n",
       "      <td>60.179081</td>\n",
       "      <td>60.000000</td>\n",
       "      <td>GGGTTCACGTAGATCAGCCC</td>\n",
       "      <td>4.11</td>\n",
       "      <td>0.351433</td>\n",
       "      <td>362</td>\n",
       "      <td>Gene_specific</td>\n",
       "      <td>['-']</td>\n",
       "      <td>[2155074, 2155436]</td>\n",
       "    </tr>\n",
       "    <tr>\n",
       "      <th>2</th>\n",
       "      <td>0</td>\n",
       "      <td>P1-L0</td>\n",
       "      <td>4247449</td>\n",
       "      <td>20</td>\n",
       "      <td>59.822859</td>\n",
       "      <td>55.0</td>\n",
       "      <td>GCCGGCTACATGTCCAACTA</td>\n",
       "      <td>2.24</td>\n",
       "      <td>P1-R0</td>\n",
       "      <td>4247838</td>\n",
       "      <td>19</td>\n",
       "      <td>60.004320</td>\n",
       "      <td>52.631579</td>\n",
       "      <td>TTACCGCCGRATTCACACT</td>\n",
       "      <td>2.85</td>\n",
       "      <td>1.181461</td>\n",
       "      <td>389</td>\n",
       "      <td>Non_specific</td>\n",
       "      <td>['-']</td>\n",
       "      <td>[4247449, 4247838]</td>\n",
       "    </tr>\n",
       "    <tr>\n",
       "      <th>3</th>\n",
       "      <td>0</td>\n",
       "      <td>P2-L0</td>\n",
       "      <td>2288903</td>\n",
       "      <td>20</td>\n",
       "      <td>60.179194</td>\n",
       "      <td>60.0</td>\n",
       "      <td>CCGTTCTCGTCGACTCCTTC</td>\n",
       "      <td>3.46</td>\n",
       "      <td>P2-R0</td>\n",
       "      <td>2289254</td>\n",
       "      <td>20</td>\n",
       "      <td>60.599204</td>\n",
       "      <td>60.000000</td>\n",
       "      <td>CCCGCATACGTCCACCATAC</td>\n",
       "      <td>6.13</td>\n",
       "      <td>0.778398</td>\n",
       "      <td>351</td>\n",
       "      <td>Non_specific</td>\n",
       "      <td>['-']</td>\n",
       "      <td>[2288903, 2289254]</td>\n",
       "    </tr>\n",
       "  </tbody>\n",
       "</table>\n",
       "</div>"
      ],
      "text/plain": [
       "   index pLeft_ID  pLeft_coord  pLeft_length   pLeft_Tm  pLeft_GC  \\\n",
       "0      0    P1-L0       761087            20  60.033405      50.0   \n",
       "1      0    P2-L0      2155074            20  59.827648      60.0   \n",
       "2      0    P1-L0      4247449            20  59.822859      55.0   \n",
       "3      0    P2-L0      2288903            20  60.179194      60.0   \n",
       "\n",
       "        pLeft_Sequences  pLeft_EndStability pRight_ID  pRight_coord  \\\n",
       "0  AGCCAGCTGAGCCAATTCAT                2.57     P1-R0        761445   \n",
       "1  CTCTTCGTCAGCTCCCACTC                3.51     P2-R0       2155436   \n",
       "2  GCCGGCTACATGTCCAACTA                2.24     P1-R0       4247838   \n",
       "3  CCGTTCTCGTCGACTCCTTC                3.46     P2-R0       2289254   \n",
       "\n",
       "   pRight_length  pRight_Tm  pRight_GC      pRight_Sequences  \\\n",
       "0             18  60.726180  66.666667    CGATCGATGCGGACGGTC   \n",
       "1             20  60.179081  60.000000  GGGTTCACGTAGATCAGCCC   \n",
       "2             19  60.004320  52.631579   TTACCGCCGRATTCACACT   \n",
       "3             20  60.599204  60.000000  CCCGCATACGTCCACCATAC   \n",
       "\n",
       "   pRight_EndStability   Penalty  Product_size Amplicone_type Redesign  \\\n",
       "0                 3.69  2.759585           358  Gene_specific    ['-']   \n",
       "1                 4.11  0.351433           362  Gene_specific    ['-']   \n",
       "2                 2.85  1.181461           389   Non_specific    ['-']   \n",
       "3                 6.13  0.778398           351   Non_specific    ['-']   \n",
       "\n",
       "      Designed_ranges  \n",
       "0    [761087, 761445]  \n",
       "1  [2155074, 2155436]  \n",
       "2  [4247449, 4247838]  \n",
       "3  [2288903, 2289254]  "
      ]
     },
     "execution_count": 9,
     "metadata": {},
     "output_type": "execute_result"
    }
   ],
   "source": [
    "df1"
   ]
  },
  {
   "cell_type": "code",
   "execution_count": 40,
   "metadata": {},
   "outputs": [
    {
     "name": "stdout",
     "output_type": "stream",
     "text": [
      "{'Gibbs': -24.099999999999998, 'Entropy': -375.6, 'Enthalpy': -140.6, 'Gibbs5P': -5.74, 'Gibbs3P': -7.260000000000001}\n",
      "<class 'dict'>\n",
      "Oligo: AGAGTTGGTGCGGCGTAA\n",
      "ThermoDict: {'Gibbs': -24.099999999999998, 'Entropy': -375.6, 'Enthalpy': -140.6, 'Gibbs5P': -5.74, 'Gibbs3P': -7.260000000000001}\n",
      "TmVar: <class '__main__.TmVar'>\n",
      "Type of ThermoDict: <class 'dict'>\n"
     ]
    }
   ],
   "source": [
    "seq = 'AGAGTTGGTGCGGCGTAA'\n",
    "(dg, tm) = Thermo.simplified_tm(seq, complement_sequence(seq), TmVar)\n"
   ]
  },
  {
   "cell_type": "code",
   "execution_count": 1,
   "metadata": {},
   "outputs": [
    {
     "ename": "NameError",
     "evalue": "name 'pd' is not defined",
     "output_type": "error",
     "traceback": [
      "\u001b[0;31m---------------------------------------------------------------------------\u001b[0m",
      "\u001b[0;31mNameError\u001b[0m                                 Traceback (most recent call last)",
      "\u001b[1;32m/mnt/storage10/lwang/Projects/Amplicon_design_tool/amplicon4tb/scratch.ipynb Cell 19\u001b[0m line \u001b[0;36m1\n\u001b[0;32m----> <a href='vscode-notebook-cell://ssh-remote%2Bs10/mnt/storage10/lwang/Projects/Amplicon_design_tool/amplicon4tb/scratch.ipynb#Y165sdnNjb2RlLXJlbW90ZQ%3D%3D?line=0'>1</a>\u001b[0m pd\u001b[39m.\u001b[39mread(\u001b[39m'\u001b[39m\u001b[39m/mnt/storage10/lwang/Projects/Amplicon_design_tool/test/Amplicon_design_output/Primer_design-accepted_primers-42-400.csv\u001b[39m\u001b[39m'\u001b[39m)\u001b[39m.\u001b[39mhead()\n",
      "\u001b[0;31mNameError\u001b[0m: name 'pd' is not defined"
     ]
    }
   ],
   "source": []
  },
  {
   "cell_type": "code",
   "execution_count": 48,
   "metadata": {},
   "outputs": [],
   "source": [
    "ref_genome = 'MTB-h37rv_asm19595v2-eg18.fa'\n",
    "\n",
    "def find_sequence_location(query_seq, fasta_file=ref_genome):\n",
    "    ref_genome = SeqIO.read(fasta_file, \"fasta\")\n",
    "    position = ref_genome.seq.find(query_seq)\n",
    "    if position != -1:\n",
    "        return [position, position+len(query_seq)]\n",
    "    else:\n",
    "        print('!!!Primer not found in the reference genome')\n",
    "        return 0\n",
    "    \n",
    "def reverse_complement_sequence(seq):\n",
    "    complement = {\"A\": \"T\", \"T\": \"A\", \"C\": \"G\", \"G\": \"C\"}\n",
    "    reverse_seq = seq[::-1]\n",
    "    return \"\".join(complement[base] for base in reverse_seq)\n",
    "\n",
    "def check_for_snp(seq, priority, plength, forward, cut_off=1.3):\n",
    "    if forward == True:\n",
    "        ploc = find_sequence_location(seq)[0]\n",
    "    else:    \n",
    "        ploc = find_sequence_location(reverse_complement_sequence(seq))[0]\n",
    "    snp_freq = priority[(priority['genome_pos']>= ploc) & (priority['genome_pos']<=ploc+plength)]['weight']\n",
    "    print(snp_freq.max())\n",
    "    if snp_freq.max() > cut_off:\n",
    "        return True\n",
    "    else:\n",
    "        return False"
   ]
  },
  {
   "cell_type": "code",
   "execution_count": 2,
   "metadata": {},
   "outputs": [],
   "source": [
    "full_data = pd.read_csv('snp_priority.csv')\n",
    "# check_for_snp('CTCTTCGTCAGCTCCCACTC', full_data, 20, True, 1.5)"
   ]
  },
  {
   "cell_type": "code",
   "execution_count": 3,
   "metadata": {},
   "outputs": [
    {
     "name": "stdout",
     "output_type": "stream",
     "text": [
      "<class 'pandas.core.frame.DataFrame'>\n",
      "RangeIndex: 268368 entries, 0 to 268367\n",
      "Data columns (total 10 columns):\n",
      " #   Column      Non-Null Count   Dtype  \n",
      "---  ------      --------------   -----  \n",
      " 0   sample_id   268368 non-null  object \n",
      " 1   genome_pos  268368 non-null  int64  \n",
      " 2   gene        268368 non-null  object \n",
      " 3   change      268368 non-null  object \n",
      " 4   freq        268368 non-null  float64\n",
      " 5   type        268368 non-null  object \n",
      " 6   sublin      265459 non-null  object \n",
      " 7   drtype      268368 non-null  object \n",
      " 8   drugs       268368 non-null  object \n",
      " 9   weight      268368 non-null  float64\n",
      "dtypes: float64(2), int64(1), object(7)\n",
      "memory usage: 20.5+ MB\n"
     ]
    }
   ],
   "source": [
    "full_data.info()"
   ]
  },
  {
   "cell_type": "code",
   "execution_count": 1,
   "metadata": {},
   "outputs": [
    {
     "ename": "NameError",
     "evalue": "name 'full_data' is not defined",
     "output_type": "error",
     "traceback": [
      "\u001b[0;31m---------------------------------------------------------------------------\u001b[0m",
      "\u001b[0;31mNameError\u001b[0m                                 Traceback (most recent call last)",
      "\u001b[1;32m/mnt/storage10/lwang/Projects/Amplicone_design_tool/model2in1/scratch.ipynb Cell 6\u001b[0m line \u001b[0;36m1\n\u001b[0;32m----> <a href='vscode-notebook-cell://ssh-remote%2Bs10/mnt/storage10/lwang/Projects/Amplicone_design_tool/model2in1/scratch.ipynb#W5sdnNjb2RlLXJlbW90ZQ%3D%3D?line=0'>1</a>\u001b[0m full_data\n",
      "\u001b[0;31mNameError\u001b[0m: name 'full_data' is not defined"
     ]
    }
   ],
   "source": [
    "full_data"
   ]
  },
  {
   "cell_type": "code",
   "execution_count": 26,
   "metadata": {},
   "outputs": [],
   "source": [
    "TmVar = {\n",
    "    'DivalentSaltConc': 2,\n",
    "    'MonovalentSaltConc': 10,\n",
    "    'dNTPConc': 0.2,\n",
    "    'OligoConc': 0.5\n",
    "}\n"
   ]
  },
  {
   "cell_type": "code",
   "execution_count": 28,
   "metadata": {},
   "outputs": [],
   "source": [
    "class TmVar:\n",
    "\tDivalentSaltConc = 2\n",
    "\tMonovalentSaltConc = 10\n",
    "\tdNTPConc = 0.2\n",
    "\tOligoConc = 0.5\n",
    " "
   ]
  },
  {
   "cell_type": "code",
   "execution_count": 32,
   "metadata": {},
   "outputs": [
    {
     "ename": "TypeError",
     "evalue": "'type' object does not support item assignment",
     "output_type": "error",
     "traceback": [
      "\u001b[0;31m---------------------------------------------------------------------------\u001b[0m",
      "\u001b[0;31mTypeError\u001b[0m                                 Traceback (most recent call last)",
      "\u001b[1;32m/mnt/storage10/lwang/Projects/Amplicone_design_tool/model2in1/scratch.ipynb Cell 8\u001b[0m line \u001b[0;36m1\n\u001b[0;32m----> <a href='vscode-notebook-cell://ssh-remote%2Bs10/mnt/storage10/lwang/Projects/Amplicone_design_tool/model2in1/scratch.ipynb#Y155sdnNjb2RlLXJlbW90ZQ%3D%3D?line=0'>1</a>\u001b[0m TmVar[\u001b[39m'\u001b[39;49m\u001b[39m111\u001b[39;49m\u001b[39m'\u001b[39;49m] \u001b[39m=\u001b[39m \u001b[39m111\u001b[39m\n",
      "\u001b[0;31mTypeError\u001b[0m: 'type' object does not support item assignment"
     ]
    }
   ],
   "source": [
    "TmVar['111'] = 111"
   ]
  },
  {
   "cell_type": "markdown",
   "metadata": {},
   "source": [
    "# Susana design test"
   ]
  },
  {
   "cell_type": "code",
   "execution_count": 1,
   "metadata": {},
   "outputs": [],
   "source": [
    "def calculate_gc_content(sequence):\n",
    "    \"\"\"\n",
    "    Calculate the GC content of a DNA sequence.\n",
    "\n",
    "    Parameters:\n",
    "    - sequence: The DNA sequence (string)\n",
    "\n",
    "    Returns:\n",
    "    - float: The GC content as a percentage\n",
    "    \"\"\"\n",
    "    \n",
    "    # Check if the sequence is empty\n",
    "    if len(sequence) == 0:\n",
    "        return 0.0\n",
    "    \n",
    "    # Count the number of G's and C's in the sequence\n",
    "    gc_count = sequence.count('G') + sequence.count('C')\n",
    "    \n",
    "    # Calculate the GC content\n",
    "    gc_content = (gc_count / len(sequence)) * 100\n",
    "    \n",
    "    return gc_content\n",
    "\n",
    "\n",
    "\n",
    "def calculate_tm_nearest_neighbor(sequence, na_concentration):\n",
    "    if len(sequence) == 0:\n",
    "        raise ValueError(\"Sequence length must be greater than 0\")\n",
    "    gc_count = sequence.count('G') + sequence.count('C')\n",
    "    total_length = len(sequence)\n",
    "    percent_gc = (gc_count / total_length) * 100\n",
    "    tm = 81.5 + 16.6 * math.log10(na_concentration) + 0.41 * percent_gc - 675 / total_length\n",
    "    return tm\n",
    "\n",
    "def simplified_tm(seq):\n",
    "    # Simplified melting temperature calculation based on base pair count\n",
    "    return (seq.count('A') + seq.count('T')) * 2 + (seq.count('C') + seq.count('G')) * 4\n"
   ]
  },
  {
   "cell_type": "code",
   "execution_count": 25,
   "metadata": {},
   "outputs": [
    {
     "name": "stdout",
     "output_type": "stream",
     "text": [
      "max_gc 0\n",
      "min_gc 100\n",
      "max_tm 63.024451980920674\n",
      "min_tm 63.024451980920674\n",
      "max_dg -24.099999999999998\n",
      "min_dg -24.099999999999998\n",
      "max_tm_simple 0\n",
      "min_tm_simple 100\n"
     ]
    }
   ],
   "source": [
    "max_gc = 0\n",
    "min_gc = 100\n",
    "max_dg = -100\n",
    "min_dg = 100\n",
    "max_tm = 0\n",
    "min_tm = 100\n",
    "max_tm_simple = 0\n",
    "min_tm_simple = 100\n",
    "for x in susana_design['forward'].tolist() + susana_design['reverse'].tolist(): \n",
    "    (dg, tm) = Thermo.simplified_tm(seq, complement_sequence(seq))\n",
    "    if tm > max_tm:\n",
    "        max_tm = tm\n",
    "    elif tm < min_tm:\n",
    "        min_tm = tm\n",
    "    if dg['Gibbs'] > max_dg:\n",
    "        max_dg = dg['Gibbs']\n",
    "    elif dg['Gibbs'] < min_dg:\n",
    "        min_dg = dg['Gibbs']\n",
    "    # if calculate_tm_nearest_neighbor(x, 50) > max_tm:\n",
    "    #     max_tm = calculate_tm_nearest_neighbor(x, 50)\n",
    "    # elif calculate_tm_nearest_neighbor(x, 50) < min_tm:\n",
    "    #     min_tm = calculate_tm_nearest_neighbor(x, 50)\n",
    "    # if simplified_tm(x) > max_tm_simple:\n",
    "    #     max_tm_simple = simplified_tm(x)\n",
    "    # elif simplified_tm(x) < min_tm_simple:\n",
    "    #     min_tm_simple = simplified_tm(x)\n",
    "        \n",
    "print('max_gc', max_gc)\n",
    "print('min_gc', min_gc)\n",
    "print('max_tm', max_tm)\n",
    "print('min_tm', min_tm)\n",
    "print('max_dg', max_dg)\n",
    "print('min_dg', min_dg)\n",
    "print('max_tm_simple', max_tm_simple)\n",
    "print('min_tm_simple', min_tm_simple)"
   ]
  },
  {
   "cell_type": "code",
   "execution_count": null,
   "metadata": {},
   "outputs": [],
   "source": [
    "from itertools import product\n",
    "\n",
    "def calc_self_any(primer):\n",
    "    max_score = 0\n",
    "    for i in range(len(primer)):\n",
    "        for j in range(i+1, len(primer)):\n",
    "            score = 0\n",
    "            for k, l in zip(primer[i:], primer[j:]):\n",
    "                if k == l:\n",
    "                    score += 1\n",
    "            max_score = max(max_score, score)\n",
    "    return max_score\n",
    "\n",
    "def calc_self_end(primer):\n",
    "    max_score = 0\n",
    "    for i in range(len(primer)):\n",
    "        score = 0\n",
    "        for k, l in zip(primer[i:], reversed(primer[:len(primer) - i])):\n",
    "            if k == l:\n",
    "                score += 1\n",
    "        max_score = max(max_score, score)\n",
    "    return max_score\n",
    "\n",
    "def calc_pair_compl_any(primer1, primer2):\n",
    "    max_score = 0\n",
    "    for i in range(len(primer1)):\n",
    "        for j in range(len(primer2)):\n",
    "            score = 0\n",
    "            for k, l in zip(primer1[i:], primer2[j:]):\n",
    "                if k == l:\n",
    "                    score += 1\n",
    "            max_score = max(max_score, score)\n",
    "    return max_score\n",
    "\n",
    "def calc_pair_compl_end(primer1, primer2):\n",
    "    max_score = 0\n",
    "    for i in range(len(primer1)):\n",
    "        score = 0\n",
    "        for k, l in zip(primer1[i:], reversed(primer2[:len(primer1) - i])):\n",
    "            if k == l:\n",
    "                score += 1\n",
    "        max_score = max(max_score, score)\n",
    "    return max_score\n",
    "\n",
    "# Test the functions\n",
    "primer1 = \"ATCGATCG\"\n",
    "primer2 = \"GCTAGCTA\"\n",
    "\n",
    "for x,y in zip(susana_design['forward'].tolist(), susana_design['reverse'].tolist()): \n",
    "    print(\"PRIMER_MAX_SELF_ANY for primer1:\", calc_self_any(x))   \n",
    "    print(\"PRIMER_MAX_SELF_END for x:\", calc_self_end(x))   \n",
    "    print(\"PRIMER_PAIR_MAX_COMPL_ANY:\", calc_pair_compl_any(x, y))  \n",
    "    print(\"PRIMER_PAIR_MAX_COMPL_END:\", calc_pair_compl_end(x, y))  \n"
   ]
  },
  {
   "cell_type": "code",
   "execution_count": 13,
   "metadata": {},
   "outputs": [],
   "source": [
    "ref_genome = 'MTB-h37rv_asm19595v2-eg18.fa'\n",
    "def find_sequence_location(query_seq, fasta_file=ref_genome):\n",
    "    ref_genome = SeqIO.read(fasta_file, \"fasta\")\n",
    "    position = ref_genome.seq.find(query_seq)\n",
    "    if position != -1:\n",
    "        return [position, position+len(query_seq)]\n",
    "    else:\n",
    "        print('!!!Primer not found in the reference genome')\n",
    "        return 0\n",
    "\n",
    "# pLeft_coord = []\n",
    "# pLeft_coord.append(find_sequence_location('CATCGCACGTCGTCTTTCCG', ref_genome)[0])\n",
    "\n",
    "# find_sequence_location('CATCGCACGTCGTCTTTCCG')[0]\n",
    "# find_sequence_location(complement_sequence('CATCGCACGTCGTCTTTCCG'))\n",
    "#%%\n",
    "def simplified_tm(seq):\n",
    "    # Simplified melting temperature calculation based on base pair count\n",
    "    return (seq.count('A') + seq.count('T')) * 2 + (seq.count('C') + seq.count('G')) * 4\n",
    "\n",
    "def simplified_dg(seq):\n",
    "    # Simplified Gibbs free energy calculation based on the nearest-neighbor model (not accurate)\n",
    "    nn_params = {\n",
    "        'AA': -1.0, 'TT': -1.0,\n",
    "        'AT': -0.9, 'TA': -0.9,\n",
    "        'CA': -1.7, 'TG': -1.7,\n",
    "        'GT': -1.5, 'AC': -1.5,\n",
    "        'CT': -1.6, 'AG': -1.6,\n",
    "        'GA': -1.5, 'TC': -1.5,\n",
    "        'CG': -2.8, 'GC': -2.3,\n",
    "        'GG': -1.9, 'CC': -1.9\n",
    "    }\n",
    "    dg = 0\n",
    "    for i in range(len(seq) - 1):\n",
    "        dinucleotide = seq[i:i+2]\n",
    "        dg += nn_params.get(dinucleotide, 0)\n",
    "    return dg\n",
    "\n",
    "def calculate_similarity(seq1, seq2):\n",
    "    matches = sum(1 for a, b in zip(seq1, seq2) if a == b)\n",
    "    return matches / len(seq1) * 100\n",
    "\n",
    "def check_last_n_base_pairs(seq1, seq2, n):\n",
    "    \"\"\"\n",
    "    Check if the last n base pairs of two sequences are the same.\n",
    "\n",
    "    Parameters:\n",
    "    - seq1: The first sequence (string)\n",
    "    - seq2: The second sequence (string)\n",
    "    - n: The number of base pairs to compare from the end (integer)\n",
    "\n",
    "    Returns:\n",
    "    - bool: True if the last n base pairs are the same, otherwise False\n",
    "    \"\"\"\n",
    "    \n",
    "    # Check if either sequence is shorter than n\n",
    "    if len(seq1) < n or len(seq2) < n:\n",
    "        return False\n",
    "    \n",
    "    # Get the last n base pairs from each sequence\n",
    "    last_n_seq1 = seq1[-n:]\n",
    "    last_n_seq2 = seq2[-n:]\n",
    "    \n",
    "    # Compare the last n base pairs\n",
    "    return last_n_seq1 == last_n_seq2\n",
    "\n",
    "# Example usage\n",
    "# result = check_last_n_base_pairs(\"ATCGGA\", \"TTTGGA\", 2)\n",
    "# print(\"Are the last 2 base pairs the same?\", result)  # Output should be True\n",
    "\n",
    "# result = check_last_n_base_pairs(\"ATCGGA\", \"TTTGTA\", 2)\n",
    "# print(\"Are the last 2 base pairs the same?\", result)  # Output should be False\n",
    "\n",
    "#%%\n",
    "def has_multiple_binding_sites(sequence, genome, similarity_threshold=90, min_tm=50, max_dg=-10):\n",
    "    seq_len = len(sequence)\n",
    "    genome_len = len(genome)\n",
    "    count = 0\n",
    "    n = 4\n",
    "    for i in range(genome_len - seq_len + 1):\n",
    "        within_tm_threshold, within_dg_threshold = False, False\n",
    "        subseq = genome[i:i + seq_len]\n",
    "        reverse_comp_subseq = reverse_complement_sequence(subseq)\n",
    "        if calculate_similarity(subseq, sequence)>similarity_threshold:\n",
    "            if check_last_n_base_pairs(subseq, sequence, n):\n",
    "                # print('>>>Calculated_similarity')\n",
    "                within_tm_threshold, within_dg_threshold = False, False\n",
    "                tm = simplified_tm(subseq)\n",
    "                dg = simplified_dg(subseq)\n",
    "                \n",
    "                within_tm_threshold = tm >= min_tm\n",
    "                within_dg_threshold = dg <= max_dg\n",
    "        elif calculate_similarity(reverse_comp_subseq, sequence)>similarity_threshold:\n",
    "            if check_last_n_base_pairs(reverse_comp_subseq, sequence, n):\n",
    "                # print('>>>Calculated_similarity')\n",
    "                within_tm_threshold, within_dg_threshold = False, False\n",
    "                tm = simplified_tm(reverse_comp_subseq)\n",
    "                dg = simplified_dg(reverse_comp_subseq)\n",
    "                \n",
    "                within_tm_threshold = tm >= min_tm\n",
    "                within_dg_threshold = dg <= max_dg\n",
    "            \n",
    "        if within_tm_threshold & within_dg_threshold:\n",
    "            # print(genome[i:i + seq_len])\n",
    "            # print('>>>within_tm_threshold & within_dg_threshold')\n",
    "            count += 1\n",
    "            if count > 1:\n",
    "                print(max(calculate_similarity(subseq, sequence), calculate_similarity(reverse_comp_subseq, sequence)))\n",
    "                return True  # Early exit if more than one binding site is found\n",
    "    print(max(calculate_similarity(subseq, sequence), calculate_similarity(reverse_comp_subseq, sequence)))\n",
    "    return False  # Return False if only one or no binding sites are found\n"
   ]
  },
  {
   "cell_type": "code",
   "execution_count": 11,
   "metadata": {},
   "outputs": [],
   "source": [
    "def complement_sequence(dna_sequence):\n",
    "    trans = str.maketrans('ATCG', 'TAGC')\n",
    "    return dna_sequence.upper().translate(trans)\n",
    "\n",
    "# print(complement_sequence(\"ATGCGTA\"))\n",
    "# Example usage:\n",
    "# dna_sequence = \"ATGCGTA\"\n",
    "# complement_sequence = complement_sequence(dna_sequence)\n",
    "# print(complement_sequence)  # Output: TACGCAT\n",
    "#%%\n",
    "def reverse_complement_sequence(seq):\n",
    "    complement = {\"A\": \"T\", \"T\": \"A\", \"C\": \"G\", \"G\": \"C\"}\n",
    "    reverse_seq = seq[::-1]\n",
    "    return \"\".join(complement[base] for base in reverse_seq)\n",
    "\n",
    "def genome_size(fasta_file):\n",
    "    total_length = 0\n",
    "    with open(fasta_file, 'r') as file:\n",
    "        for line in file:\n",
    "            if not line.startswith('>'):\n",
    "                total_length += len(line.strip())\n",
    "    return total_length\n",
    "\n",
    "def extract_sequence_from_fasta(start_pos, end_pos, padding = 150, fasta_file= 'MTB-h37rv_asm19595v2-eg18.fa', sequence_id='Chromosome'):\n",
    "    \"\"\"\n",
    "    Extracts a subsequence from a FASTA file based on the given sequence ID, start position, and end position.\n",
    "    \"\"\"\n",
    "    # Iterate over the sequences in the FASTA file\n",
    "    for record in SeqIO.parse(fasta_file, \"fasta\"):\n",
    "        # Check if the current sequence ID matches the desired sequence ID\n",
    "        \n",
    "        if record.id == sequence_id:\n",
    "            # Extract the subsequence based on the start and end positions\n",
    "            subsequence = record.seq[start_pos-padding:end_pos+padding]\n",
    "            return str(subsequence)  # Return the subsequence as a string\n",
    "    # If the sequence ID is not found, return None\n",
    "    return None\n",
    "genome = extract_sequence_from_fasta(0, genome_size(ref_genome),0)\n",
    "\n"
   ]
  },
  {
   "cell_type": "code",
   "execution_count": 14,
   "metadata": {},
   "outputs": [
    {
     "name": "stdout",
     "output_type": "stream",
     "text": [
      "83.33333333333334\n",
      "True\n",
      "85.0\n",
      "True\n",
      "100.0\n",
      "True\n",
      "82.35294117647058\n",
      "True\n",
      "10.0\n",
      "False\n",
      "100.0\n",
      "True\n",
      "10.0\n",
      "False\n",
      "20.0\n",
      "False\n",
      "20.0\n",
      "False\n",
      "35.0\n",
      "False\n",
      "35.0\n",
      "False\n",
      "25.0\n",
      "False\n",
      "31.57894736842105\n",
      "False\n",
      "82.35294117647058\n",
      "True\n",
      "83.33333333333334\n",
      "True\n",
      "82.35294117647058\n",
      "True\n",
      "84.21052631578947\n",
      "True\n",
      "100.0\n",
      "True\n",
      "82.35294117647058\n",
      "True\n",
      "82.35294117647058\n",
      "True\n",
      "30.0\n",
      "False\n",
      "30.0\n",
      "False\n",
      "25.0\n",
      "False\n",
      "83.33333333333334\n",
      "True\n",
      "84.21052631578947\n",
      "True\n",
      "100.0\n",
      "True\n",
      "94.11764705882352\n",
      "True\n",
      "36.84210526315789\n",
      "False\n",
      "35.0\n",
      "False\n",
      "100.0\n",
      "True\n",
      "82.35294117647058\n",
      "True\n",
      "83.33333333333334\n",
      "True\n",
      "82.35294117647058\n",
      "True\n",
      "35.0\n",
      "False\n",
      "85.71428571428571\n",
      "True\n",
      "81.81818181818183\n",
      "True\n",
      "20.0\n",
      "False\n",
      "85.0\n",
      "True\n",
      "88.23529411764706\n",
      "True\n",
      "82.35294117647058\n",
      "True\n",
      "15.0\n",
      "False\n",
      "88.23529411764706\n",
      "True\n",
      "31.57894736842105\n",
      "False\n",
      "35.0\n",
      "False\n",
      "30.0\n",
      "False\n",
      "30.0\n",
      "False\n",
      "84.21052631578947\n",
      "True\n",
      "85.0\n",
      "True\n",
      "20.0\n",
      "False\n",
      "20.833333333333336\n",
      "False\n",
      "100.0\n",
      "True\n",
      "84.21052631578947\n",
      "True\n",
      "31.57894736842105\n",
      "False\n",
      "20.0\n",
      "False\n",
      "82.35294117647058\n",
      "True\n",
      "82.35294117647058\n",
      "True\n",
      "30.0\n",
      "False\n",
      "30.0\n",
      "False\n",
      "83.33333333333334\n",
      "True\n",
      "100.0\n",
      "True\n",
      "35.0\n",
      "False\n",
      "82.35294117647058\n",
      "True\n",
      "100.0\n",
      "True\n",
      "30.0\n",
      "False\n",
      "35.0\n",
      "False\n",
      "82.35294117647058\n",
      "True\n",
      "82.35294117647058\n",
      "True\n",
      "15.0\n",
      "False\n",
      "84.21052631578947\n",
      "True\n"
     ]
    },
    {
     "ename": "KeyboardInterrupt",
     "evalue": "",
     "output_type": "error",
     "traceback": [
      "\u001b[0;31m---------------------------------------------------------------------------\u001b[0m",
      "\u001b[0;31mKeyboardInterrupt\u001b[0m                         Traceback (most recent call last)",
      "\u001b[1;32m/mnt/storage10/lwang/Projects/Amplicone_design_tool/model2in1/scratch.ipynb Cell 10\u001b[0m line \u001b[0;36m2\n\u001b[1;32m      <a href='vscode-notebook-cell://ssh-remote%2Bs10/mnt/storage10/lwang/Projects/Amplicone_design_tool/model2in1/scratch.ipynb#X10sdnNjb2RlLXJlbW90ZQ%3D%3D?line=0'>1</a>\u001b[0m \u001b[39mfor\u001b[39;00m x \u001b[39min\u001b[39;00m susana_design[\u001b[39m'\u001b[39m\u001b[39mforward\u001b[39m\u001b[39m'\u001b[39m]\u001b[39m.\u001b[39mtolist() \u001b[39m+\u001b[39m susana_design[\u001b[39m'\u001b[39m\u001b[39mreverse\u001b[39m\u001b[39m'\u001b[39m]\u001b[39m.\u001b[39mtolist(): \n\u001b[0;32m----> <a href='vscode-notebook-cell://ssh-remote%2Bs10/mnt/storage10/lwang/Projects/Amplicone_design_tool/model2in1/scratch.ipynb#X10sdnNjb2RlLXJlbW90ZQ%3D%3D?line=1'>2</a>\u001b[0m     \u001b[39mprint\u001b[39m(has_multiple_binding_sites(x, genome, similarity_threshold\u001b[39m=\u001b[39;49m\u001b[39m80\u001b[39;49m, min_tm\u001b[39m=\u001b[39;49m\u001b[39m50\u001b[39;49m, max_dg\u001b[39m=\u001b[39;49m\u001b[39m-\u001b[39;49m\u001b[39m10\u001b[39;49m))\n",
      "\u001b[1;32m/mnt/storage10/lwang/Projects/Amplicone_design_tool/model2in1/scratch.ipynb Cell 10\u001b[0m line \u001b[0;36m8\n\u001b[1;32m     <a href='vscode-notebook-cell://ssh-remote%2Bs10/mnt/storage10/lwang/Projects/Amplicone_design_tool/model2in1/scratch.ipynb#X10sdnNjb2RlLXJlbW90ZQ%3D%3D?line=81'>82</a>\u001b[0m subseq \u001b[39m=\u001b[39m genome[i:i \u001b[39m+\u001b[39m seq_len]\n\u001b[1;32m     <a href='vscode-notebook-cell://ssh-remote%2Bs10/mnt/storage10/lwang/Projects/Amplicone_design_tool/model2in1/scratch.ipynb#X10sdnNjb2RlLXJlbW90ZQ%3D%3D?line=82'>83</a>\u001b[0m reverse_comp_subseq \u001b[39m=\u001b[39m reverse_complement_sequence(subseq)\n\u001b[0;32m---> <a href='vscode-notebook-cell://ssh-remote%2Bs10/mnt/storage10/lwang/Projects/Amplicone_design_tool/model2in1/scratch.ipynb#X10sdnNjb2RlLXJlbW90ZQ%3D%3D?line=83'>84</a>\u001b[0m \u001b[39mif\u001b[39;00m calculate_similarity(subseq, sequence)\u001b[39m>\u001b[39msimilarity_threshold:\n\u001b[1;32m     <a href='vscode-notebook-cell://ssh-remote%2Bs10/mnt/storage10/lwang/Projects/Amplicone_design_tool/model2in1/scratch.ipynb#X10sdnNjb2RlLXJlbW90ZQ%3D%3D?line=84'>85</a>\u001b[0m     \u001b[39mif\u001b[39;00m check_last_n_base_pairs(subseq, sequence, n):\n\u001b[1;32m     <a href='vscode-notebook-cell://ssh-remote%2Bs10/mnt/storage10/lwang/Projects/Amplicone_design_tool/model2in1/scratch.ipynb#X10sdnNjb2RlLXJlbW90ZQ%3D%3D?line=85'>86</a>\u001b[0m         \u001b[39m# print('>>>Calculated_similarity')\u001b[39;00m\n\u001b[1;32m     <a href='vscode-notebook-cell://ssh-remote%2Bs10/mnt/storage10/lwang/Projects/Amplicone_design_tool/model2in1/scratch.ipynb#X10sdnNjb2RlLXJlbW90ZQ%3D%3D?line=86'>87</a>\u001b[0m         within_tm_threshold, within_dg_threshold \u001b[39m=\u001b[39m \u001b[39mFalse\u001b[39;00m, \u001b[39mFalse\u001b[39;00m\n",
      "\u001b[1;32m/mnt/storage10/lwang/Projects/Amplicone_design_tool/model2in1/scratch.ipynb Cell 10\u001b[0m line \u001b[0;36m4\n\u001b[1;32m     <a href='vscode-notebook-cell://ssh-remote%2Bs10/mnt/storage10/lwang/Projects/Amplicone_design_tool/model2in1/scratch.ipynb#X10sdnNjb2RlLXJlbW90ZQ%3D%3D?line=38'>39</a>\u001b[0m \u001b[39mdef\u001b[39;00m \u001b[39mcalculate_similarity\u001b[39m(seq1, seq2):\n\u001b[0;32m---> <a href='vscode-notebook-cell://ssh-remote%2Bs10/mnt/storage10/lwang/Projects/Amplicone_design_tool/model2in1/scratch.ipynb#X10sdnNjb2RlLXJlbW90ZQ%3D%3D?line=39'>40</a>\u001b[0m     matches \u001b[39m=\u001b[39m \u001b[39msum\u001b[39m(\u001b[39m1\u001b[39m \u001b[39mfor\u001b[39;00m a, b \u001b[39min\u001b[39;00m \u001b[39mzip\u001b[39m(seq1, seq2) \u001b[39mif\u001b[39;00m a \u001b[39m==\u001b[39m b)\n\u001b[1;32m     <a href='vscode-notebook-cell://ssh-remote%2Bs10/mnt/storage10/lwang/Projects/Amplicone_design_tool/model2in1/scratch.ipynb#X10sdnNjb2RlLXJlbW90ZQ%3D%3D?line=40'>41</a>\u001b[0m     \u001b[39mreturn\u001b[39;00m matches \u001b[39m/\u001b[39m \u001b[39mlen\u001b[39m(seq1) \u001b[39m*\u001b[39m \u001b[39m100\u001b[39m\n",
      "\u001b[1;32m/mnt/storage10/lwang/Projects/Amplicone_design_tool/model2in1/scratch.ipynb Cell 10\u001b[0m line \u001b[0;36m4\n\u001b[1;32m     <a href='vscode-notebook-cell://ssh-remote%2Bs10/mnt/storage10/lwang/Projects/Amplicone_design_tool/model2in1/scratch.ipynb#X10sdnNjb2RlLXJlbW90ZQ%3D%3D?line=38'>39</a>\u001b[0m \u001b[39mdef\u001b[39;00m \u001b[39mcalculate_similarity\u001b[39m(seq1, seq2):\n\u001b[0;32m---> <a href='vscode-notebook-cell://ssh-remote%2Bs10/mnt/storage10/lwang/Projects/Amplicone_design_tool/model2in1/scratch.ipynb#X10sdnNjb2RlLXJlbW90ZQ%3D%3D?line=39'>40</a>\u001b[0m     matches \u001b[39m=\u001b[39m \u001b[39msum\u001b[39m(\u001b[39m1\u001b[39m \u001b[39mfor\u001b[39;00m a, b \u001b[39min\u001b[39;00m \u001b[39mzip\u001b[39m(seq1, seq2) \u001b[39mif\u001b[39;00m a \u001b[39m==\u001b[39m b)\n\u001b[1;32m     <a href='vscode-notebook-cell://ssh-remote%2Bs10/mnt/storage10/lwang/Projects/Amplicone_design_tool/model2in1/scratch.ipynb#X10sdnNjb2RlLXJlbW90ZQ%3D%3D?line=40'>41</a>\u001b[0m     \u001b[39mreturn\u001b[39;00m matches \u001b[39m/\u001b[39m \u001b[39mlen\u001b[39m(seq1) \u001b[39m*\u001b[39m \u001b[39m100\u001b[39m\n",
      "\u001b[0;31mKeyboardInterrupt\u001b[0m: "
     ]
    }
   ],
   "source": [
    "for x in susana_design['forward'].tolist() + susana_design['reverse'].tolist(): \n",
    "    print(has_multiple_binding_sites(x, genome, similarity_threshold=80, min_tm=50, max_dg=-10))\n"
   ]
  },
  {
   "cell_type": "code",
   "execution_count": null,
   "metadata": {},
   "outputs": [],
   "source": [
    "# Example usage\n",
    "gc_content = calculate_gc_content(\"ATCGGCAT\")\n"
   ]
  },
  {
   "cell_type": "code",
   "execution_count": 2,
   "metadata": {},
   "outputs": [],
   "source": [
    "from Bio.Blast.Applications import NcbiblastnCommandline\n",
    "from Bio import SeqIO\n",
    "from Bio.Blast import NCBIXML\n",
    "import subprocess"
   ]
  },
  {
   "cell_type": "code",
   "execution_count": 2,
   "metadata": {},
   "outputs": [
    {
     "name": "stdout",
     "output_type": "stream",
     "text": [
      "TACGCAT\n"
     ]
    }
   ],
   "source": [
    "def complement_sequence(dna_sequence):\n",
    "    trans = str.maketrans('ATCG', 'TAGC')\n",
    "    return dna_sequence.upper().translate(trans)\n",
    "\n",
    "# print(complement_sequence(\"ATGCGTA\"))\n",
    "# # Example usage:\n",
    "# # dna_sequence = \"ATGCGTA\"\n",
    "# # complement_sequence = complement_sequence(dna_sequence)\n",
    "# # print(complement_sequence)  # Output: TACGCAT\n",
    "# #%%\n",
    "def reverse_complement_sequence(seq):\n",
    "    complement = {\"A\": \"T\", \"T\": \"A\", \"C\": \"G\", \"G\": \"C\"}\n",
    "    reverse_seq = seq[::-1]\n",
    "    return \"\".join(complement[base] for base in reverse_seq)\n"
   ]
  },
  {
   "cell_type": "code",
   "execution_count": null,
   "metadata": {},
   "outputs": [],
   "source": [
    "def calculate_mismatches(seq1, seq2):\n",
    "    return sum(1 for a, b in zip(seq1, seq2) if a != b)\n",
    "\n",
    "def find_alignments(sequence, genome, target_site):\n",
    "    alignments = []\n",
    "    seq_len = len(sequence)\n",
    "    genome_len = len(genome)\n",
    "    \n",
    "    for i in range(genome_len - seq_len + 1):\n",
    "        subseq = genome[i:i+seq_len]\n",
    "        mismatches = calculate_mismatches(sequence, subseq)\n",
    "        binding_location = (i, i+seq_len)\n",
    "        distance_from_target = min(abs(i - target_site), abs(i + seq_len - target_site))\n",
    "        \n",
    "        alignment_info = {\n",
    "            'binding_location': binding_location,\n",
    "            'mismatches': mismatches,\n",
    "            'distance_from_target': distance_from_target\n",
    "        }\n",
    "        alignments.append(alignment_info)\n",
    "    \n",
    "    return alignments\n",
    "\n",
    "# Usage\n",
    "sequence = 'ATG'\n",
    "genome = 'ATGCGTATGACGTAG'\n",
    "target_site = 7  # Assume the target site is at position 7\n",
    "alignments = find_alignments(sequence, genome, target_site)\n",
    "\n",
    "for alignment in alignments:\n",
    "    binding_location = alignment['binding_location']\n",
    "    mismatches = alignment['mismatches']\n",
    "    distance_from_target = alignment['distance_from_target']\n",
    "    print(f'Binding location: {binding_location}, Mismatches: {mismatches}, Distance from target: {distance_from_target}')\n",
    "\n"
   ]
  },
  {
   "cell_type": "code",
   "execution_count": null,
   "metadata": {},
   "outputs": [],
   "source": [
    "def calculate_mismatches(seq1, seq2):\n",
    "    return sum(1 for a, b in zip(seq1, seq2) if a != b)\n",
    "\n",
    "def find_alignments(sequence, genome, target_site):\n",
    "    alignments = []\n",
    "    seq_len = len(sequence)\n",
    "    genome_len = len(genome)\n",
    "    \n",
    "    for i in range(genome_len - seq_len + 1):\n",
    "        subseq = genome[i:i+seq_len]\n",
    "        mismatches = calculate_mismatches(sequence, subseq)\n",
    "        binding_location = (i, i+seq_len)\n",
    "        distance_from_target = min(abs(i - target_site), abs(i + seq_len - target_site))\n",
    "        \n",
    "        alignment_info = {\n",
    "            'binding_location': binding_location,\n",
    "            'mismatches': mismatches,\n",
    "            'distance_from_target': distance_from_target\n",
    "        }\n",
    "        alignments.append(alignment_info)\n",
    "    \n",
    "    return alignments\n",
    "\n",
    "# Usage\n",
    "sequence = 'ATG'\n",
    "genome = 'ATGCGTATGACGTAG'\n",
    "target_site = 7  # Assume the target site is at position 7\n",
    "alignments = find_alignments(sequence, genome, target_site)\n",
    "\n",
    "for alignment in alignments:\n",
    "    binding_location = alignment['binding_location']\n",
    "    mismatches = alignment['mismatches']\n",
    "    distance_from_target = alignment['distance_from_target']\n",
    "    print(f'Binding location: {binding_location}, Mismatches: {mismatches}, Distance from target: {distance_from_target}')"
   ]
  },
  {
   "cell_type": "code",
   "execution_count": 76,
   "metadata": {},
   "outputs": [
    {
     "data": {
      "text/plain": [
       "'CGAGCCGTTGCCGGTAGGTTGCGGCTGGTTATCGACGGTACTGTCCACATTTGTGGATAGCCATGTGGACAGTTCACCTGCCCACAACAACGGTTGTAGCTCGACCCGGAACCAAGACCCGGAACTAACGAGAACCAGGGAGATACGTCG'"
      ]
     },
     "execution_count": 76,
     "metadata": {},
     "output_type": "execute_result"
    }
   ],
   "source": [
    "ref_genome = '/mnt/storage10/lwang/Projects/Amplicone_design_tool/model/MTB-h37rv_asm19595v2-eg18.fa'\n",
    "\n",
    "def genome_size(fasta_file):\n",
    "    total_length = 0\n",
    "    with open(fasta_file, 'r') as file:\n",
    "        for line in file:\n",
    "            if not line.startswith('>'):\n",
    "                total_length += len(line.strip())\n",
    "    return total_length\n",
    "\n",
    "def extract_sequence_from_fasta(start_pos, end_pos, padding = 150, fasta_file= 'MTB-h37rv_asm19595v2-eg18.fa', sequence_id='Chromosome'):\n",
    "    \"\"\"\n",
    "    Extracts a subsequence from a FASTA file based on the given sequence ID, start position, and end position.\n",
    "    \"\"\"\n",
    "    # Iterate over the sequences in the FASTA file\n",
    "    for record in SeqIO.parse(fasta_file, \"fasta\"):\n",
    "        # Check if the current sequence ID matches the desired sequence ID\n",
    "        \n",
    "        if record.id == sequence_id:\n",
    "            # Extract the subsequence based on the start and end positions\n",
    "            subsequence = record.seq[start_pos-padding:end_pos+padding]\n",
    "            return str(subsequence)  # Return the subsequence as a string\n",
    "    # If the sequence ID is not found, return None\n",
    "    return None\n",
    "\n",
    "extract_sequence_from_fasta(0, genome_size(ref_genome))"
   ]
  },
  {
   "cell_type": "code",
   "execution_count": 74,
   "metadata": {},
   "outputs": [
    {
     "data": {
      "text/plain": [
       "4411532"
      ]
     },
     "execution_count": 74,
     "metadata": {},
     "output_type": "execute_result"
    }
   ],
   "source": [
    "genome_size(ref_genome)"
   ]
  },
  {
   "cell_type": "code",
   "execution_count": 78,
   "metadata": {},
   "outputs": [
    {
     "data": {
      "text/plain": [
       "4411532"
      ]
     },
     "execution_count": 78,
     "metadata": {},
     "output_type": "execute_result"
    }
   ],
   "source": [
    "genome_size(ref_genome)"
   ]
  },
  {
   "cell_type": "code",
   "execution_count": 80,
   "metadata": {},
   "outputs": [
    {
     "name": "stdout",
     "output_type": "stream",
     "text": [
      "TACGCAT\n"
     ]
    }
   ],
   "source": [
    "import primer_selection"
   ]
  },
  {
   "cell_type": "code",
   "execution_count": null,
   "metadata": {},
   "outputs": [],
   "source": [
    "primer_selection.extract_sequence_from_fasta(0, genome_size(ref_genome),0)"
   ]
  },
  {
   "cell_type": "code",
   "execution_count": 83,
   "metadata": {},
   "outputs": [
    {
     "name": "stdout",
     "output_type": "stream",
     "text": [
      "True\n"
     ]
    }
   ],
   "source": [
    "def simplified_tm(seq):\n",
    "    # Simplified melting temperature calculation based on base pair count\n",
    "    return (seq.count('A') + seq.count('T')) * 2 + (seq.count('C') + seq.count('G')) * 4\n",
    "\n",
    "def simplified_dg(seq):\n",
    "    nn_params = {\n",
    "        'AA': -1.0, 'TT': -1.0,\n",
    "        'AT': -0.9, 'TA': -0.9,\n",
    "        'CA': -1.7, 'TG': -1.7,\n",
    "        'GT': -1.5, 'AC': -1.5,\n",
    "        'CT': -1.6, 'AG': -1.6,\n",
    "        'GA': -1.5, 'TC': -1.5,\n",
    "        'CG': -2.8, 'GC': -2.3,\n",
    "        'GG': -1.9, 'CC': -1.9\n",
    "    }\n",
    "    dg = 0\n",
    "    for i in range(len(seq) - 1):\n",
    "        dinucleotide = seq[i:i+2]\n",
    "        dg += nn_params.get(dinucleotide, 0)  # Adds 0 if dinucleotide not found\n",
    "    return dg\n",
    "\n",
    "\n",
    "def is_good_primer_candidate(primer, genome, target_site, max_mismatches, binding_location_range, max_distance_from_target, min_tm, max_dg):\n",
    "    primer_len = len(primer)\n",
    "    genome_len = len(genome)\n",
    "    \n",
    "    for i in range(genome_len - primer_len + 1):\n",
    "        subseq = genome[i:i+primer_len]\n",
    "        mismatches = calculate_mismatches(primer, subseq)\n",
    "        distance_from_target = min(abs(i - target_site), abs(i + primer_len - target_site))\n",
    "        \n",
    "        # Check if the alignment meets the thresholds\n",
    "        within_mismatch_threshold = mismatches <= max_mismatches\n",
    "        within_binding_location_range = binding_location_range[0] <= i <= binding_location_range[1]\n",
    "        within_distance_threshold = distance_from_target <= max_distance_from_target\n",
    "        \n",
    "        # Evaluate binding strength\n",
    "        tm = simplified_tm(subseq)\n",
    "        dg = simplified_dg(subseq)\n",
    "        strong_binding = tm >= min_tm and dg <= max_dg\n",
    "        \n",
    "        # If a strong alternative binding site is found, return False\n",
    "        summary = within_mismatch_threshold + within_binding_location_range + within_distance_threshold + strong_binding\n",
    "        # if within_mismatch_threshold and within_binding_location_range and within_distance_threshold and strong_binding:\n",
    "        if summary > 3:\n",
    "            return False\n",
    "    return True  # No strong alternative binding sites found\n",
    "\n",
    "# Usage\n",
    "primer = 'CGAACTCGAGGCTGCCTACT'\n",
    "genome = primer_selection.extract_sequence_from_fasta(0, genome_size(ref_genome),0)\n",
    "target_site = 7\n",
    "max_mismatches = 2\n",
    "binding_location_range = (0, 15)\n",
    "max_distance_from_target = 50\n",
    "min_tm = 50  # Example threshold for minimum melting temperature\n",
    "max_dg = -10  # Example threshold for maximum Gibbs free energy\n",
    "\n",
    "is_good_candidate = is_good_primer_candidate(primer, genome, target_site, max_mismatches, binding_location_range, max_distance_from_target, min_tm, max_dg)\n",
    "print(is_good_candidate)\n"
   ]
  },
  {
   "cell_type": "code",
   "execution_count": null,
   "metadata": {},
   "outputs": [],
   "source": [
    "    for i in range(genome_len - seq_len + 1):\n",
    "        subseq = genome[i:i + seq_len]\n",
    "        tm = simplified_tm(sequence)\n",
    "        dg = simplified_dg(sequence)\n",
    "\n",
    "        within_similarity_threshold = calculate_similarity(sequence, subseq, similarity_threshold)\n",
    "        within_tm_threshold = tm >= min_tm\n",
    "        within_dg_threshold = dg <= max_dg\n",
    "\n",
    "        if within_similarity_threshold and within_tm_threshold and within_dg_threshold:\n",
    "            count += 1\n",
    "            if count > 1:\n",
    "                return True  # Early exit if more than one binding site is found\n",
    "\n",
    "    return False  # Return False if only one or no binding sites are found"
   ]
  },
  {
   "cell_type": "markdown",
   "metadata": {},
   "source": [
    "## Below is the code used from testing alternative binding"
   ]
  },
  {
   "cell_type": "code",
   "execution_count": 140,
   "metadata": {},
   "outputs": [
    {
     "name": "stdout",
     "output_type": "stream",
     "text": [
      "CGAACTCGAGGCTGCCTACT\n",
      "CGGACTCGAGGGTGCCTTCT\n",
      "True\n"
     ]
    }
   ],
   "source": [
    "def simplified_tm(seq):\n",
    "    # Simplified melting temperature calculation based on base pair count\n",
    "    return (seq.count('A') + seq.count('T')) * 2 + (seq.count('C') + seq.count('G')) * 4\n",
    "\n",
    "def simplified_dg(seq):\n",
    "    # Simplified Gibbs free energy calculation based on the nearest-neighbor model (not accurate)\n",
    "    nn_params = {\n",
    "        'AA': -1.0, 'TT': -1.0,\n",
    "        'AT': -0.9, 'TA': -0.9,\n",
    "        'CA': -1.7, 'TG': -1.7,\n",
    "        'GT': -1.5, 'AC': -1.5,\n",
    "        'CT': -1.6, 'AG': -1.6,\n",
    "        'GA': -1.5, 'TC': -1.5,\n",
    "        'CG': -2.8, 'GC': -2.3,\n",
    "        'GG': -1.9, 'CC': -1.9\n",
    "    }\n",
    "    dg = 0\n",
    "    for i in range(len(seq) - 1):\n",
    "        dinucleotide = seq[i:i+2]\n",
    "        dg += nn_params.get(dinucleotide, 0)\n",
    "    return dg\n",
    "\n",
    "def calculate_similarity(seq1, seq2):\n",
    "    matches = sum(1 for a, b in zip(seq1, seq2) if a == b)\n",
    "    return matches / len(seq1) * 100\n",
    "\n",
    "def has_multiple_binding_sites(sequence, genome, similarity_threshold, min_tm=60, max_dg=-10):\n",
    "    seq_len = len(sequence)\n",
    "    genome_len = len(genome)\n",
    "    count = 0\n",
    "\n",
    "    for i in range(genome_len - seq_len + 1):\n",
    "        subseq = genome[i:i + seq_len]\n",
    "        if calculate_similarity(subseq, sequence)>similarity_threshold:\n",
    "            tm = simplified_tm(subseq)\n",
    "            dg = simplified_dg(subseq)\n",
    "            \n",
    "            within_tm_threshold = tm >= min_tm\n",
    "            within_dg_threshold = dg <= max_dg\n",
    "\n",
    "            if within_tm_threshold and within_dg_threshold:\n",
    "                print(genome[i:i + seq_len])\n",
    "                count += 1\n",
    "                if count > 1:\n",
    "                    return True  # Early exit if more than one binding site is found\n",
    "\n",
    "    return False  # Return False if only one or no binding sites are found\n",
    "\n",
    "# Usage:\n",
    "primer = 'CGAACTCGAGGCTGCCTACT'\n",
    "# primer = 'GCTCGTCCATGTCCCACCAT'\n",
    "genome = primer_selection.extract_sequence_from_fasta(0, genome_size(ref_genome),0)\n",
    "result = has_multiple_binding_sites(primer, genome, 81)\n",
    "print(result)  # Output: True or False\n"
   ]
  },
  {
   "cell_type": "code",
   "execution_count": 132,
   "metadata": {},
   "outputs": [
    {
     "name": "stdout",
     "output_type": "stream",
     "text": [
      "CGAACTCGAGGCTGCCTACT\n",
      "CGAACTCGAGGCTGCCTACT\n",
      "True\n"
     ]
    }
   ],
   "source": [
    "def has_multiple_binding_sites(sequence, genome):\n",
    "    seq_len = len(sequence)\n",
    "    genome_len = len(genome)\n",
    "    count = 0\n",
    "\n",
    "    for i in range(genome_len - seq_len + 1):\n",
    "        subseq = genome[i:i + seq_len]\n",
    "        if subseq == sequence:\n",
    "            print(genome[i:i + seq_len])\n",
    "            count += 1\n",
    "            if count > 1:\n",
    "                return True  # Early exit if more than one binding site is found\n",
    "\n",
    "    return False  # Return False if only one or no binding sites are found\n",
    "\n",
    "# Usage:\n",
    "primer = 'CGAACTCGAGGCTGCCTACT'\n",
    "# primer = 'GCTCGTCCATGTCCCACCAT'\n",
    "genome = primer_selection.extract_sequence_from_fasta(0, genome_size(ref_genome),0)\n",
    "result = has_multiple_binding_sites(primer, genome)\n",
    "print(result)  # Output: True or False\n"
   ]
  },
  {
   "cell_type": "code",
   "execution_count": 103,
   "metadata": {},
   "outputs": [
    {
     "name": "stdout",
     "output_type": "stream",
     "text": [
      "False\n"
     ]
    }
   ],
   "source": [
    "def calculate_similarity(seq1, seq2):\n",
    "    matches = sum(1 for a, b in zip(seq1, seq2) if a == b)\n",
    "    return matches / len(seq1) * 100\n",
    "\n",
    "def has_multiple_binding_sites(sequence, genome, similarity_threshold):\n",
    "    seq_len = len(sequence)\n",
    "    genome_len = len(genome)\n",
    "    count = 0\n",
    "\n",
    "    for i in range(genome_len - seq_len + 1):\n",
    "        subseq = genome[i:i + seq_len]\n",
    "        similarity = calculate_similarity(sequence, subseq)\n",
    "        if similarity >= similarity_threshold:\n",
    "            count += 1\n",
    "            if count > 1:\n",
    "                return True  # Early exit if more than one binding site is found\n",
    "\n",
    "    return False  # Return False if only one or no binding sites are found\n",
    "\n",
    "# Usage:\n",
    "# primer = 'CGAACTCGAGGCTGCCTACT'\n",
    "primer = 'GCTCGTCCATGTCCCACCAT'\n",
    "genome = primer_selection.extract_sequence_from_fasta(0, genome_size(ref_genome),0)\n",
    "similarity_threshold = 91  # For example, 90% similarity\n",
    "result = has_multiple_binding_sites(primer, genome, similarity_threshold)\n",
    "print(result)  # Output: True or False\n"
   ]
  },
  {
   "cell_type": "code",
   "execution_count": 104,
   "metadata": {},
   "outputs": [
    {
     "name": "stdout",
     "output_type": "stream",
     "text": [
      "False\n"
     ]
    }
   ],
   "source": [
    "def simplified_tm(seq):\n",
    "    # Simplified melting temperature calculation based on base pair count\n",
    "    return (seq.count('A') + seq.count('T')) * 2 + (seq.count('C') + seq.count('G')) * 4\n",
    "\n",
    "def simplified_dg(seq):\n",
    "    # Simplified Gibbs free energy calculation based on the nearest-neighbor model (not accurate)\n",
    "    nn_params = {\n",
    "        'AA': -1.0, 'TT': -1.0,\n",
    "        'AT': -0.9, 'TA': -0.9,\n",
    "        'CA': -1.7, 'TG': -1.7,\n",
    "        'GT': -1.5, 'AC': -1.5,\n",
    "        'CT': -1.6, 'AG': -1.6,\n",
    "        'GA': -1.5, 'TC': -1.5,\n",
    "        'CG': -2.8, 'GC': -2.3,\n",
    "        'GG': -1.9, 'CC': -1.9\n",
    "    }\n",
    "    dg = 0\n",
    "    for i in range(len(seq) - 1):\n",
    "        dinucleotide = seq[i:i+2]\n",
    "        dg += nn_params.get(dinucleotide, 0)\n",
    "    return dg\n",
    "\n",
    "def has_multiple_binding_sites(sequence, genome, similarity_threshold, min_tm, max_dg):\n",
    "    seq_len = len(sequence)\n",
    "    genome_len = len(genome)\n",
    "    count = 0\n",
    "\n",
    "    for i in range(genome_len - seq_len + 1):\n",
    "        subseq = genome[i:i + seq_len]\n",
    "        similarity = calculate_similarity(sequence, subseq)\n",
    "        tm = simplified_tm(subseq)\n",
    "        dg = simplified_dg(subseq)\n",
    "\n",
    "        # Check if the alignment meets the thresholds\n",
    "        within_similarity_threshold = similarity >= similarity_threshold\n",
    "        within_tm_threshold = tm >= min_tm\n",
    "        within_dg_threshold = dg <= max_dg\n",
    "\n",
    "        if within_similarity_threshold and within_tm_threshold and within_dg_threshold:\n",
    "            count += 1\n",
    "            if count > 1:\n",
    "                return True  # Early exit if more than one binding site is found\n",
    "\n",
    "    return False  # Return False if only one or no binding sites are found\n",
    "\n",
    "# Usage:\n",
    "primer = 'GCTCGTCCATGTCCCACCAT'\n",
    "genome = primer_selection.extract_sequence_from_fasta(0, genome_size(ref_genome),0)\n",
    "similarity_threshold = 70  # For example, 90% similarity\n",
    "min_tm = 40  # Example threshold for minimum melting temperature\n",
    "max_dg = -10  # Example threshold for maximum Gibbs free energy\n",
    "\n",
    "result = has_multiple_binding_sites(sequence, genome, similarity_threshold, min_tm, max_dg)\n",
    "print(result)  # Output: True or False\n"
   ]
  },
  {
   "cell_type": "code",
   "execution_count": 130,
   "metadata": {},
   "outputs": [
    {
     "name": "stdout",
     "output_type": "stream",
     "text": [
      "True\n"
     ]
    }
   ],
   "source": [
    "def calculate_similarity(seq1, seq2, similarity_threshold):\n",
    "    required_matches = len(seq1) * similarity_threshold / 100\n",
    "    matches = 0\n",
    "    for a, b in zip(seq1, seq2):\n",
    "        if a == b:\n",
    "            matches += 1\n",
    "        if matches >= required_matches:\n",
    "            return True\n",
    "    return False    \n",
    "\n",
    "def simplified_tm(seq):\n",
    "    return (seq.count('A') + seq.count('T')) * 2 + (seq.count('C') + seq.count('G')) * 4\n",
    "\n",
    "def simplified_dg(seq):\n",
    "    nn_params = {\n",
    "        'AA': -1.0, 'TT': -1.0,\n",
    "        'AT': -0.9, 'TA': -0.9,\n",
    "        'CA': -1.7, 'TG': -1.7,\n",
    "        'GT': -1.5, 'AC': -1.5,\n",
    "        'CT': -1.6, 'AG': -1.6,\n",
    "        'GA': -1.5, 'TC': -1.5,\n",
    "        'CG': -2.8, 'GC': -2.3,\n",
    "        'GG': -1.9, 'CC': -1.9\n",
    "    }\n",
    "    dg = 0\n",
    "    for i in range(len(seq) - 1):\n",
    "        dinucleotide = seq[i:i+2]\n",
    "        dg += nn_params.get(dinucleotide, 0)\n",
    "    return dg\n",
    "\n",
    "def precompute_dinucleotide_params(genome):\n",
    "    unique_dinucleotides = set(genome[i:i+2] for i in range(len(genome) - 1))\n",
    "    tm_params = {dinuc: simplified_tm(dinuc) for dinuc in unique_dinucleotides}\n",
    "    dg_params = {dinuc: simplified_dg(dinuc) for dinuc in unique_dinucleotides}\n",
    "    return tm_params, dg_params\n",
    "\n",
    "tm_params, dg_params = precompute_dinucleotide_params(genome)\n",
    "\n",
    "def has_multiple_binding_sites(sequence, genome, similarity_threshold, min_tm, max_dg):\n",
    "    seq_len = len(sequence)\n",
    "    genome_len = len(genome)\n",
    "    count = 0\n",
    "    for i in range(genome_len - seq_len + 1):\n",
    "        subseq = genome[i:i + seq_len]\n",
    "        tm = simplified_tm(sequence)\n",
    "        dg = simplified_dg(sequence)\n",
    "\n",
    "        within_similarity_threshold = calculate_similarity(sequence, subseq, similarity_threshold)\n",
    "        within_tm_threshold = tm >= min_tm\n",
    "        within_dg_threshold = dg <= max_dg\n",
    "\n",
    "        if within_similarity_threshold and within_tm_threshold and within_dg_threshold:\n",
    "            count += 1\n",
    "            if count > 1:\n",
    "                return True  # Early exit if more than one binding site is found\n",
    "\n",
    "    return False  # Return False if only one or no binding sites are found\n",
    "\n",
    "# Usage:\n",
    "primer = 'GCTCGTCCATGTCCCACCAT'\n",
    "genome = primer_selection.extract_sequence_from_fasta(0, genome_size(ref_genome),0)\n",
    "similarity_threshold = 70  # For example, 90% similarity\n",
    "min_tm = 40  # Example threshold for minimum melting temperature\n",
    "max_dg = -10  # Example threshold for maximum Gibbs free energy\n",
    "\n",
    "result = not has_multiple_binding_sites(sequence, genome, similarity_threshold, min_tm, max_dg)\n",
    "print(result)  # Output: True or False"
   ]
  },
  {
   "cell_type": "code",
   "execution_count": 108,
   "metadata": {},
   "outputs": [],
   "source": [
    "tm_params, dg_params = precompute_dinucleotide_params(genome)\n"
   ]
  },
  {
   "cell_type": "code",
   "execution_count": 118,
   "metadata": {},
   "outputs": [],
   "source": [
    "tm = sum(tm_params[genome[i:i+2]] for i in range(len(primer) - 1))\n"
   ]
  },
  {
   "cell_type": "code",
   "execution_count": 119,
   "metadata": {},
   "outputs": [
    {
     "data": {
      "text/plain": [
       "122"
      ]
     },
     "execution_count": 119,
     "metadata": {},
     "output_type": "execute_result"
    }
   ],
   "source": [
    "tm"
   ]
  },
  {
   "cell_type": "code",
   "execution_count": 116,
   "metadata": {},
   "outputs": [
    {
     "data": {
      "text/plain": [
       "{'CA': 6,\n",
       " 'AC': 6,\n",
       " 'TG': 6,\n",
       " 'GG': 8,\n",
       " 'TT': 4,\n",
       " 'CT': 6,\n",
       " 'CC': 8,\n",
       " 'GA': 6,\n",
       " 'AT': 4,\n",
       " 'AA': 4,\n",
       " 'GC': 8,\n",
       " 'GT': 6,\n",
       " 'AG': 6,\n",
       " 'CG': 8,\n",
       " 'TC': 6,\n",
       " 'TA': 4}"
      ]
     },
     "execution_count": 116,
     "metadata": {},
     "output_type": "execute_result"
    }
   ],
   "source": [
    "tm_params"
   ]
  },
  {
   "cell_type": "code",
   "execution_count": 4,
   "metadata": {},
   "outputs": [
    {
     "name": "stdout",
     "output_type": "stream",
     "text": [
      "GC Content: 60.00%\n"
     ]
    }
   ],
   "source": [
    "def gc_content(sequence):\n",
    "    if len(sequence) == 0:\n",
    "        raise ValueError(\"Sequence length must be greater than 0\")\n",
    "    gc_count = sequence.count('G') + sequence.count('C')\n",
    "    total_length = len(sequence)\n",
    "    gc_content_percentage = (gc_count / total_length) * 100\n",
    "    return gc_content_percentage\n",
    "\n",
    "# Example usage:\n",
    "sequence = 'GCTCGTCCATGTCCCACCAT'\n",
    "gc_percentage = gc_content(sequence)\n",
    "print(f'GC Content: {gc_percentage:.2f}%')\n"
   ]
  },
  {
   "cell_type": "code",
   "execution_count": 3,
   "metadata": {},
   "outputs": [
    {
     "name": "stdout",
     "output_type": "stream",
     "text": [
      "Melting Temperature (Tm): 50.75°C\n"
     ]
    }
   ],
   "source": [
    "import math\n",
    "\n",
    "def calculate_tm_nearest_neighbor(sequence, na_concentration):\n",
    "    if len(sequence) == 0:\n",
    "        raise ValueError(\"Sequence length must be greater than 0\")\n",
    "    gc_count = sequence.count('G') + sequence.count('C')\n",
    "    total_length = len(sequence)\n",
    "    percent_gc = (gc_count / total_length) * 100\n",
    "    tm = 81.5 + 16.6 * math.log10(na_concentration) + 0.41 * percent_gc - 675 / total_length\n",
    "    return tm\n",
    "\n",
    "# Example usage:\n",
    "sequence = 'GCTCGTCCATGTCCCACCAT'\n",
    "na_concentration = 0.05  # Example sodium ion concentration in mol/L\n",
    "tm = calculate_tm_nearest_neighbor(sequence, na_concentration)\n",
    "print(f'Melting Temperature (Tm): {tm:.2f}°C')\n"
   ]
  },
  {
   "cell_type": "code",
   "execution_count": 5,
   "metadata": {},
   "outputs": [
    {
     "name": "stdout",
     "output_type": "stream",
     "text": [
      "Melting Temperature (Tm): 64°C\n"
     ]
    }
   ],
   "source": [
    "def calculate_tm(sequence):\n",
    "    if len(sequence) == 0:\n",
    "        raise ValueError(\"Sequence length must be greater than 0\")\n",
    "    gc_count = sequence.count('G') + sequence.count('C')\n",
    "    at_count = sequence.count('A') + sequence.count('T')\n",
    "    tm = (gc_count * 4) + (at_count * 2)\n",
    "    return tm\n",
    "\n",
    "# Example usage:\n",
    "sequence = 'GCTCGTCCATGTCCCACCAT'\n",
    "tm = calculate_tm(sequence)\n",
    "print(f'Melting Temperature (Tm): {tm}°C')\n"
   ]
  },
  {
   "cell_type": "code",
   "execution_count": 2,
   "metadata": {},
   "outputs": [],
   "source": [
    "spol = pd.read_csv('/mnt/storage10/lwang/Projects/Amplicone_design_tool/model/raw.githubusercontent.com_GaryNapier_spolpred_master_data_spoligotypes.csv')"
   ]
  },
  {
   "cell_type": "code",
   "execution_count": 4,
   "metadata": {},
   "outputs": [
    {
     "data": {
      "text/plain": [
       "Index(['id', 'pct_reads_mapped', 'num_reads_mapped', 'median_coverage',\n",
       "       'main_lineage', 'sublineage', 'octal_spoligotype', 'binary_spoligotype',\n",
       "       'spacer1', 'spacer2', 'spacer3', 'spacer4', 'spacer5', 'spacer6',\n",
       "       'spacer7', 'spacer8', 'spacer9', 'spacer10', 'spacer11', 'spacer12',\n",
       "       'spacer13', 'spacer14', 'spacer15', 'spacer16', 'spacer17', 'spacer18',\n",
       "       'spacer19', 'spacer20', 'spacer21', 'spacer22', 'spacer23', 'spacer24',\n",
       "       'spacer25', 'spacer26', 'spacer27', 'spacer28', 'spacer29', 'spacer30',\n",
       "       'spacer31', 'spacer32', 'spacer33', 'spacer34', 'spacer35', 'spacer36',\n",
       "       'spacer37', 'spacer38', 'spacer39', 'spacer40', 'spacer41', 'spacer42',\n",
       "       'spacer43'],\n",
       "      dtype='object')"
      ]
     },
     "execution_count": 4,
     "metadata": {},
     "output_type": "execute_result"
    }
   ],
   "source": [
    "spol.columns"
   ]
  },
  {
   "cell_type": "markdown",
   "metadata": {},
   "source": [
    "# database check"
   ]
  },
  {
   "cell_type": "code",
   "execution_count": 3,
   "metadata": {},
   "outputs": [],
   "source": [
    "# qwer = pd.read_csv('/mnt/storage7/jody/philippines/projects/all_philippines/tbprofiler_new/variants.txt')\n",
    "s7_variants = pd.read_csv('/mnt/storage10/lwang/Projects/Amplicone_design_tool/model/variants.txt')"
   ]
  },
  {
   "cell_type": "code",
   "execution_count": 43,
   "metadata": {},
   "outputs": [],
   "source": [
    "full_data = pd.read_csv('/mnt/storage10/jody/projects/variant_dump/variants.csv')\n"
   ]
  },
  {
   "cell_type": "code",
   "execution_count": 15,
   "metadata": {},
   "outputs": [],
   "source": [
    "tb_drug_resistance_genes = {\n",
    "    'gyrB': ['Levofloxacin'],\n",
    "    'gyrA': ['Levofloxacin'],\n",
    "    'mshA': ['Isoniazid'],\n",
    "    'rpoB': ['Rifampicin'],\n",
    "    'rpoC': ['Rifampicin'],\n",
    "    'rpsL': ['Streptomycin'],\n",
    "    'embR': ['Ethambutol'],\n",
    "    'rrs': ['Kanamycin', 'Capreomycin', 'Amikacin', 'Streptomycin'],\n",
    "    'fabG1': ['Isoniazid'],\n",
    "    'inhA': ['Isoniazid'],\n",
    "    'rpsA': ['Pyrazinamide'],\n",
    "    'tlyA': ['Capreomycin'],\n",
    "    'ndh': ['Isoniazid'],\n",
    "    'katG': ['Isoniazid'],\n",
    "    'pncA': ['Pyrazinamide'],\n",
    "    'kasA': ['Isoniazid'],\n",
    "    'eis': ['Kanamycin', 'Amikacin'],\n",
    "    'ahpC': ['Isoniazid'],\n",
    "    'rpoA': ['Rifampicin'],\n",
    "    'panD': ['Pyrazinamide'],\n",
    "    'embC': ['Ethambutol'],\n",
    "    'embA': ['Ethambutol'],\n",
    "    'embB': ['Ethambutol'],\n",
    "    'ubiA': ['Ethambutol'],\n",
    "    'gid': ['Streptomycin']\n",
    "}\n",
    "full_data['weight'] = full_data['freq']\n",
    "\n",
    "full_data.loc[full_data['gene'].isin(tb_drug_resistance_genes.keys()), 'weight'] += 0.5\n"
   ]
  },
  {
   "cell_type": "code",
   "execution_count": 36,
   "metadata": {},
   "outputs": [],
   "source": [
    "gene_names = [\n",
    "    'PPE35', 'Rv1258c', 'Rv1979c', 'Rv2752c', 'Rv3083', 'Rv3236c', 'aftB', 'ahpC', 'ald', 'alr', \n",
    "    'atpE', 'ccsA', 'clpC1', 'ddn', 'eis', 'embA', 'embB', 'embC', 'embR', 'ethA', 'ethR', 'fabG1', \n",
    "    'fbiA', 'fbiB', 'fbiC', 'fbiD', 'fgd1', 'folC', 'fprA', 'gid', 'gyrA', 'gyrB', 'inhA', 'kasA', \n",
    "    'katG', 'mmpL5', 'mmpR5', 'mmpS5', 'mshA', 'ndh', 'panD', 'pepQ', 'pncA', 'ribD', 'rplC', 'rpoA', \n",
    "    'rpoB', 'rpoC', 'rpsA', 'rpsL', 'rrl', 'rrs', 'thyA', 'thyX', 'tlyA', 'ubiA', 'whiB6', 'whiB7'\n",
    "]"
   ]
  },
  {
   "cell_type": "code",
   "execution_count": null,
   "metadata": {},
   "outputs": [],
   "source": [
    "for x, n, g in zip(full_data.groupby('gene')['genome_pos'].max(), full_data.groupby('gene')['genome_pos'].min(), gene_names):\n",
    "    gene_range = full_data[full_data['gene']==g]\n",
    "    covered = gene_range[(gene_range['genome_pos']>=n)&(gene_range['genome_pos']<=x)]\n",
    "    print('==================================')\n",
    "    print(x, n)\n",
    "    print(gene_range['genome_pos'].max(), gene_range['genome_pos'].min())\n",
    "    print(g, len(covered), len(gene_range), len(covered)/len(gene_range))\n",
    "    "
   ]
  },
  {
   "cell_type": "code",
   "execution_count": null,
   "metadata": {},
   "outputs": [],
   "source": [
    "for x, n, g in zip(full_data.groupby('gene')['genome_pos'].max(), full_data.groupby('gene')['genome_pos'].min(), gene_names):\n",
    "    gene_range = s7_variants[s7_variants['gene']==g]\n",
    "    covered = gene_range[(gene_range['genome_pos']>=n)&(gene_range['genome_pos']<=x)]\n",
    "    print('==================================')\n",
    "    print(x, n)\n",
    "    print(gene_range['genome_pos'].max(), gene_range['genome_pos'].min())\n",
    "    print(g, len(covered), len(gene_range), len(covered)/len(gene_range))\n",
    "    "
   ]
  },
  {
   "cell_type": "code",
   "execution_count": 21,
   "metadata": {},
   "outputs": [],
   "source": [
    "overlap = set(s7_variants['sample_id'].unique().tolist()).intersection(set(full_data['sample_id'].unique().tolist()))\n"
   ]
  },
  {
   "cell_type": "code",
   "execution_count": null,
   "metadata": {},
   "outputs": [],
   "source": [
    "full_data[full_data['change']=='p.Ala403Ser']"
   ]
  },
  {
   "cell_type": "code",
   "execution_count": 7,
   "metadata": {},
   "outputs": [
    {
     "data": {
      "text/html": [
       "<div>\n",
       "<style scoped>\n",
       "    .dataframe tbody tr th:only-of-type {\n",
       "        vertical-align: middle;\n",
       "    }\n",
       "\n",
       "    .dataframe tbody tr th {\n",
       "        vertical-align: top;\n",
       "    }\n",
       "\n",
       "    .dataframe thead th {\n",
       "        text-align: right;\n",
       "    }\n",
       "</style>\n",
       "<table border=\"1\" class=\"dataframe\">\n",
       "  <thead>\n",
       "    <tr style=\"text-align: right;\">\n",
       "      <th></th>\n",
       "      <th>sample_id</th>\n",
       "      <th>genome_pos</th>\n",
       "      <th>gene</th>\n",
       "      <th>change</th>\n",
       "      <th>freq</th>\n",
       "      <th>type</th>\n",
       "      <th>sublin</th>\n",
       "      <th>drtype</th>\n",
       "      <th>drugs</th>\n",
       "    </tr>\n",
       "  </thead>\n",
       "  <tbody>\n",
       "    <tr>\n",
       "      <th>0</th>\n",
       "      <td>ERR9787047</td>\n",
       "      <td>6446</td>\n",
       "      <td>gyrB</td>\n",
       "      <td>p.Ala403Ser</td>\n",
       "      <td>1.000000</td>\n",
       "      <td>missense_variant</td>\n",
       "      <td>lineage6.1.1</td>\n",
       "      <td>Sensitive</td>\n",
       "      <td>NaN</td>\n",
       "    </tr>\n",
       "    <tr>\n",
       "      <th>141</th>\n",
       "      <td>SRR8902561</td>\n",
       "      <td>6446</td>\n",
       "      <td>gyrB</td>\n",
       "      <td>p.Ala403Ser</td>\n",
       "      <td>1.000000</td>\n",
       "      <td>missense_variant</td>\n",
       "      <td>La1.8.1</td>\n",
       "      <td>Other</td>\n",
       "      <td>NaN</td>\n",
       "    </tr>\n",
       "    <tr>\n",
       "      <th>2273</th>\n",
       "      <td>ERR2815611</td>\n",
       "      <td>6446</td>\n",
       "      <td>gyrB</td>\n",
       "      <td>p.Ala403Ser</td>\n",
       "      <td>0.985075</td>\n",
       "      <td>missense_variant</td>\n",
       "      <td>La1.1</td>\n",
       "      <td>Sensitive</td>\n",
       "      <td>NaN</td>\n",
       "    </tr>\n",
       "    <tr>\n",
       "      <th>2336</th>\n",
       "      <td>ERR3439434</td>\n",
       "      <td>6446</td>\n",
       "      <td>gyrB</td>\n",
       "      <td>p.Ala403Ser</td>\n",
       "      <td>1.000000</td>\n",
       "      <td>missense_variant</td>\n",
       "      <td>La1.8.1</td>\n",
       "      <td>Other</td>\n",
       "      <td>NaN</td>\n",
       "    </tr>\n",
       "    <tr>\n",
       "      <th>3706</th>\n",
       "      <td>SRR14782548</td>\n",
       "      <td>6446</td>\n",
       "      <td>gyrB</td>\n",
       "      <td>p.Ala403Ser</td>\n",
       "      <td>0.976190</td>\n",
       "      <td>missense_variant</td>\n",
       "      <td>La1.2.BCG</td>\n",
       "      <td>Other</td>\n",
       "      <td>NaN</td>\n",
       "    </tr>\n",
       "    <tr>\n",
       "      <th>...</th>\n",
       "      <td>...</td>\n",
       "      <td>...</td>\n",
       "      <td>...</td>\n",
       "      <td>...</td>\n",
       "      <td>...</td>\n",
       "      <td>...</td>\n",
       "      <td>...</td>\n",
       "      <td>...</td>\n",
       "      <td>...</td>\n",
       "    </tr>\n",
       "    <tr>\n",
       "      <th>7414917</th>\n",
       "      <td>ERR2512732</td>\n",
       "      <td>6446</td>\n",
       "      <td>gyrB</td>\n",
       "      <td>p.Ala403Ser</td>\n",
       "      <td>1.000000</td>\n",
       "      <td>missense_variant</td>\n",
       "      <td>La1.8.1</td>\n",
       "      <td>Other</td>\n",
       "      <td>NaN</td>\n",
       "    </tr>\n",
       "    <tr>\n",
       "      <th>7415030</th>\n",
       "      <td>ERR192047</td>\n",
       "      <td>6446</td>\n",
       "      <td>gyrB</td>\n",
       "      <td>p.Ala403Ser</td>\n",
       "      <td>1.000000</td>\n",
       "      <td>missense_variant</td>\n",
       "      <td>La1.8.1</td>\n",
       "      <td>Other</td>\n",
       "      <td>NaN</td>\n",
       "    </tr>\n",
       "    <tr>\n",
       "      <th>7415606</th>\n",
       "      <td>ERR4192560</td>\n",
       "      <td>6446</td>\n",
       "      <td>gyrB</td>\n",
       "      <td>p.Ala403Ser</td>\n",
       "      <td>1.000000</td>\n",
       "      <td>missense_variant</td>\n",
       "      <td>lineage6.1.1</td>\n",
       "      <td>Sensitive</td>\n",
       "      <td>NaN</td>\n",
       "    </tr>\n",
       "    <tr>\n",
       "      <th>7415792</th>\n",
       "      <td>SRR1735567</td>\n",
       "      <td>6446</td>\n",
       "      <td>gyrB</td>\n",
       "      <td>p.Ala403Ser</td>\n",
       "      <td>1.000000</td>\n",
       "      <td>missense_variant</td>\n",
       "      <td>La1.2.BCG</td>\n",
       "      <td>Other</td>\n",
       "      <td>NaN</td>\n",
       "    </tr>\n",
       "    <tr>\n",
       "      <th>7420193</th>\n",
       "      <td>ERR4188235</td>\n",
       "      <td>6446</td>\n",
       "      <td>gyrB</td>\n",
       "      <td>p.Ala403Ser</td>\n",
       "      <td>1.000000</td>\n",
       "      <td>missense_variant</td>\n",
       "      <td>La1.8.1</td>\n",
       "      <td>Other</td>\n",
       "      <td>NaN</td>\n",
       "    </tr>\n",
       "  </tbody>\n",
       "</table>\n",
       "<p>10112 rows × 9 columns</p>\n",
       "</div>"
      ],
      "text/plain": [
       "           sample_id  genome_pos  gene       change      freq  \\\n",
       "0         ERR9787047        6446  gyrB  p.Ala403Ser  1.000000   \n",
       "141       SRR8902561        6446  gyrB  p.Ala403Ser  1.000000   \n",
       "2273      ERR2815611        6446  gyrB  p.Ala403Ser  0.985075   \n",
       "2336      ERR3439434        6446  gyrB  p.Ala403Ser  1.000000   \n",
       "3706     SRR14782548        6446  gyrB  p.Ala403Ser  0.976190   \n",
       "...              ...         ...   ...          ...       ...   \n",
       "7414917   ERR2512732        6446  gyrB  p.Ala403Ser  1.000000   \n",
       "7415030    ERR192047        6446  gyrB  p.Ala403Ser  1.000000   \n",
       "7415606   ERR4192560        6446  gyrB  p.Ala403Ser  1.000000   \n",
       "7415792   SRR1735567        6446  gyrB  p.Ala403Ser  1.000000   \n",
       "7420193   ERR4188235        6446  gyrB  p.Ala403Ser  1.000000   \n",
       "\n",
       "                     type        sublin     drtype drugs  \n",
       "0        missense_variant  lineage6.1.1  Sensitive   NaN  \n",
       "141      missense_variant       La1.8.1      Other   NaN  \n",
       "2273     missense_variant         La1.1  Sensitive   NaN  \n",
       "2336     missense_variant       La1.8.1      Other   NaN  \n",
       "3706     missense_variant     La1.2.BCG      Other   NaN  \n",
       "...                   ...           ...        ...   ...  \n",
       "7414917  missense_variant       La1.8.1      Other   NaN  \n",
       "7415030  missense_variant       La1.8.1      Other   NaN  \n",
       "7415606  missense_variant  lineage6.1.1  Sensitive   NaN  \n",
       "7415792  missense_variant     La1.2.BCG      Other   NaN  \n",
       "7420193  missense_variant       La1.8.1      Other   NaN  \n",
       "\n",
       "[10112 rows x 9 columns]"
      ]
     },
     "execution_count": 7,
     "metadata": {},
     "output_type": "execute_result"
    }
   ],
   "source": [
    "full_data[full_data['change']=='p.Ala403Ser']"
   ]
  },
  {
   "cell_type": "code",
   "execution_count": 5,
   "metadata": {},
   "outputs": [
    {
     "data": {
      "text/plain": [
       "(7420996, 9)"
      ]
     },
     "execution_count": 5,
     "metadata": {},
     "output_type": "execute_result"
    }
   ],
   "source": [
    "full_data.shape"
   ]
  },
  {
   "cell_type": "code",
   "execution_count": null,
   "metadata": {},
   "outputs": [],
   "source": [
    "full_data"
   ]
  },
  {
   "cell_type": "code",
   "execution_count": 19,
   "metadata": {},
   "outputs": [],
   "source": [
    "import random\n",
    "\n",
    "def generate_random_gene_seq(length):\n",
    "    bases = ['A', 'T', 'C', 'G']\n",
    "    return ''.join(random.choice(bases) for _ in range(length))\n",
    "\n",
    "random_gene_seq = generate_random_gene_seq(300)\n",
    "# print(f\"Random Gene Sequence of Length 100: {random_gene_seq}\")\n"
   ]
  },
  {
   "cell_type": "code",
   "execution_count": 23,
   "metadata": {},
   "outputs": [
    {
     "data": {
      "text/plain": [
       "'CGTCTGTACATGCCGCTCTATTACAATTATTCCACAAGGGTCAAGGGGCCGCTGCGCTCGGAACGCTCGTGATAGCGCTATCTCAACGCTATTACGGTAGATTCGACTTAAACACATACCTAAGCGCAAGGTAGCACGGCGGGCGTCTTTTAAACTTGGGCATCGCGACCACCGGCCAATTACGGTTTAGCTATCGTCTTACTTAGGCTATAGAGCGCTTTGCCAGAACAAAGGAAAGCGTAAGGATAACCACGGTTCGATGTTGATGGGCGACGACAGGTAGCTCGATCCTCCACTCCG'"
      ]
     },
     "execution_count": 23,
     "metadata": {},
     "output_type": "execute_result"
    }
   ],
   "source": [
    "random_gene_seq"
   ]
  },
  {
   "cell_type": "code",
   "execution_count": null,
   "metadata": {},
   "outputs": [],
   "source": [
    "import primer3\n",
    "\n",
    "# Define sequence arguments\n",
    "seq_args = {\n",
    "    'SEQUENCE_ID': 'example',\n",
    "    'SEQUENCE_TEMPLATE': random_gene_seq,\n",
    "    'SEQUENCE_INCLUDED_REGION': [15, len(random_gene_seq) - 15]\n",
    "}\n",
    "\n",
    "# Define global arguments\n",
    "global_args = {\n",
    "    'PRIMER_TASK': 'generic',\n",
    "    'PRIMER_PICK_LEFT_PRIMER': 1,\n",
    "    'PRIMER_PICK_INTERNAL_OLIGO': 1,\n",
    "    'PRIMER_PICK_RIGHT_PRIMER': 1,\n",
    "    'PRIMER_OPT_SIZE': 20,\n",
    "    'PRIMER_MIN_SIZE': 18,\n",
    "    'PRIMER_MAX_SIZE': 25,\n",
    "    'PRIMER_NUM_RETURN': 5,\n",
    "    'PRIMER_MIN_TM': 57.0,\n",
    "    'PRIMER_MAX_TM': 63.0,\n",
    "    'PRIMER_MIN_GC': 20.0,\n",
    "    'PRIMER_MAX_GC': 80.0,\n",
    "    'PRIMER_MAX_POLY_X': 100,\n",
    "    'PRIMER_INTERNAL_MAX_POLY_X': 100,\n",
    "    'PRIMER_SALT_MONOVALENT': 50.0,\n",
    "    'PRIMER_DNA_CONC': 50.0,\n",
    "    'PRIMER_MAX_NS_ACCEPTED': 0,\n",
    "    'PRIMER_MAX_SELF_ANY': 12,\n",
    "    'PRIMER_MAX_SELF_END': 8,\n",
    "    'PRIMER_PAIR_MAX_COMPL_ANY': 12,\n",
    "    'PRIMER_PAIR_MAX_COMPL_END': 8\n",
    "}\n",
    "\n",
    "# Run the primer design\n",
    "designs = primer3.design_primers(seq_args, global_args)\n",
    "designs = bindings.design_primers(seq_args, global_args)\n",
    "\n",
    "# Output results\n",
    "for key, value in designs.items():\n",
    "    print(f\"{key}: {value}\")\n"
   ]
  },
  {
   "cell_type": "code",
   "execution_count": 12,
   "metadata": {},
   "outputs": [
    {
     "name": "stdout",
     "output_type": "stream",
     "text": [
      "Start of SEQUENCE_INCLUDED_REGION:  1\n",
      "Length of SEQUENCE_INCLUDED_REGION:  70\n",
      "Total length of SEQUENCE_TEMPLATE:  71\n"
     ]
    }
   ],
   "source": [
    "# Print to validate\n",
    "print(\"Start of SEQUENCE_INCLUDED_REGION: \", seq_args['SEQUENCE_INCLUDED_REGION'][0])\n",
    "print(\"Length of SEQUENCE_INCLUDED_REGION: \", seq_args['SEQUENCE_INCLUDED_REGION'][1])\n",
    "print(\"Total length of SEQUENCE_TEMPLATE: \", len(seq_args['SEQUENCE_TEMPLATE']))\n",
    "\n",
    "# Validate bounds\n",
    "if seq_args['SEQUENCE_INCLUDED_REGION'][0] + seq_args['SEQUENCE_INCLUDED_REGION'][1] > len(seq_args['SEQUENCE_TEMPLATE']):\n",
    "    print(\"Error: SEQUENCE_INCLUDED_REGION is out of bounds\")\n"
   ]
  },
  {
   "cell_type": "code",
   "execution_count": 3,
   "metadata": {},
   "outputs": [
    {
     "data": {
      "text/plain": [
       "1500"
      ]
     },
     "execution_count": 3,
     "metadata": {},
     "output_type": "execute_result"
    }
   ],
   "source": [
    "seq = 'AGTGCTTTCGCACGTCGTACCCCTCGGGTAGCTGGCGCTGGATCAGGCTCAGGAACATCTTCCGCATGCGCCGTGGCCACTTCTGGCAGGCGCTGTACACGGCCGCCTGGCGCAGCACGTTCTTCCACCGTACCGCGGTGTAGGCCATGGTCTCCGGCAGCCAGCGGTTGAGCTTCTCGGCGATGCCGTCCCGGTCTGGCTGCGACACGATGTAGGTGGGTGAGCGCTGCAGCATCGTGACGTGCTTGGCGCCCGAGTCCGCCAGCGCCGGCACGAGCGTGACCGCCGTTGCGCCACTGCCGATCACGACGATGTTCTTAGCGTCGTAGTCGAGGTCCTCGGGCCAGTGCTGCGGATGGATGATCGGCCCGACGAAATCCTCCGAGCCGGCGAATCTCGGCGAGTAGCCCTCGTCGTAGTTGTAGTAGCCGCTGCACAGAAAGAGGAATTCGCAGGTGAGGGCGCTGAGCGTGCCGTGGCTTTGGATGTGAACGGTCCAGCGGTTTTCCGCGGTCGACCAATCGGCACTGATCACCTTGTGGTGGAACCGGATATGCCTGTCGATTCCATACATGGCCGCGGTGCTCTTGACGTACTCGAGGATGGGCTTGCCGTCGGCGATCGCCTGCCGTCCGGTCCAGGGACGGAATCGGAAACCTAGCGTGTACATGTCGGAGTCGGAGCGAATTCCGGGATAACGGAACAAATCCCAGGTGCCGCCCATGGATTCCCGCTTTTCCAGGATGGCGTAGCTCTTGGTCGGGCAACGGTCCTGCAGGTGCCAGGCCGCGCTGACACCGGAGATTCCAGCGCCCACGATGACAACGTCGAGGTGCTCGGTCATGGATCCACGCTATCAACGTAATGTCGAGGCCGTCAACGAGATGTCGACACTATCGACACGTAGTAAGCTGCCAGGGTGACCACCTCCGCGGCCAGTCAGGCTTCGCTGCCTAGGGGCCGGCGCACCGCGCGGCCGTCCGGCGACGATCGTGAACTGGCGATCCTCGCCACCGCCGAGAACCTTCTCGAGGACCGTCCGCTGGCCGATATCTCGGTCGACGATCTGGCCAAGGGCGCCGGTATCTCGAGGCCGACGTTCTACTTCTATTTCCCATCCAAGGAAGCGGTGCTGCTGACCCTGCTGGACCGGGTGGTCAATCAAGCCGACATGGCCCTACAGACCCTTGCCGAGAATCCCGCCGACACCGACCGCGAGAACATGTGGCGCACCGGGATCAACGTGTTCTTCGAGACATTCGGGTCGCACAAGGCGGTAACCCGAGCCGGTCAGGCCGCCAGGGCAACCAGTGTCGAAGTCGCCGAACTGTGGTCGACGTTTATGCAGAAGTGGATCGCCTACACGGCCGCCGTGATCGACGCCGAACGCGACCGAGGCGCGGCGCCGCGCACCCTGCCGGCCCATGAACTGGCCACAGCGCTCAACCTGATGAACGAGCGGACGCTGTTCGCGTCATTCGCCGGCGAACAGCCCTCGGT'\n",
    "len(seq)"
   ]
  },
  {
   "cell_type": "code",
   "execution_count": 8,
   "metadata": {},
   "outputs": [
    {
     "data": {
      "text/plain": [
       "'CACGATGTAGGTGGGTGAGCGCTGC'"
      ]
     },
     "execution_count": 8,
     "metadata": {},
     "output_type": "execute_result"
    }
   ],
   "source": [
    "seq[205:230]"
   ]
  },
  {
   "cell_type": "code",
   "execution_count": null,
   "metadata": {},
   "outputs": [],
   "source": [
    "ACTGCCGATCACGACGATGT"
   ]
  },
  {
   "cell_type": "code",
   "execution_count": 13,
   "metadata": {},
   "outputs": [
    {
     "data": {
      "text/plain": [
       "295"
      ]
     },
     "execution_count": 13,
     "metadata": {},
     "output_type": "execute_result"
    }
   ],
   "source": [
    "left_seq = 'AGTGCTTTCGCACGTCGTACCCCTCGGGTAGCTGGCGCTGGATCAGGCTCAGGAACATCTTCCGCATGCGCCGTGGCCACTTCTGGCAGGCGCTGTACACGGCCGCCTGGCGCAGCACGTTCTTCCACCGTACCGCGGTGTAGGCCATGGTCTCCGGCAGCCAGCGGTTGAGCTTCTCGGCGATGCCGTCCCGGTCTGGCTGCGACACGATGTAGGTGGGTGAGCGCTGCAGCATCGTGACGTGCTTGGCGCCCGAGTCCGCCAGCGCCGGCACGAGCGTGACCGCCGTTGCGCC'\n",
    "len(left_seq)"
   ]
  },
  {
   "cell_type": "code",
   "execution_count": null,
   "metadata": {},
   "outputs": [],
   "source": []
  },
  {
   "cell_type": "code",
   "execution_count": 10,
   "metadata": {},
   "outputs": [
    {
     "data": {
      "text/plain": [
       "'AGTGCTTTCGCACGTCGTACCCCTCGGGTAGCTGGCGCTGGATCAGGCTCAGGAACATCTTCCGCATGCGCCGTGGCCACTTCTGGCAGGCGCTGTACACGGCCGCCTGGCGCAGCACGTTCTTCCACCGTACCGCGGTGTAGGCCATGGTCTCCGGCAGCCAGCGGTTGAGCTTCTCGGCGATGCCGTCCCGGTCTGGCTGCGACACGATGTAGGTGGGTGAGCGCTGCAGCATCGTGACGTGCTTGGCGCCCGAGTCCGCCAGCGCCGGCACGAGCGTGACCGCCGTTGCGCC'"
      ]
     },
     "execution_count": 10,
     "metadata": {},
     "output_type": "execute_result"
    }
   ],
   "source": [
    "left_seq"
   ]
  },
  {
   "cell_type": "code",
   "execution_count": 12,
   "metadata": {},
   "outputs": [
    {
     "data": {
      "text/plain": [
       "'AACCGGATATGCCTGTCGAT'"
      ]
     },
     "execution_count": 12,
     "metadata": {},
     "output_type": "execute_result"
    }
   ],
   "source": [
    "primer_selection.extract_sequence_from_fasta(4327174, 4327174+20, padding=0)"
   ]
  },
  {
   "cell_type": "code",
   "execution_count": 15,
   "metadata": {},
   "outputs": [
    {
     "data": {
      "text/plain": [
       "'CGGTTTTCCGCGGTCGACCA'"
      ]
     },
     "execution_count": 15,
     "metadata": {},
     "output_type": "execute_result"
    }
   ],
   "source": [
    "primer_selection.extract_sequence_from_fasta(4327129, 4327129+20, padding=0)\n"
   ]
  },
  {
   "cell_type": "code",
   "execution_count": 14,
   "metadata": {},
   "outputs": [
    {
     "data": {
      "text/plain": [
       "4327424"
      ]
     },
     "execution_count": 14,
     "metadata": {},
     "output_type": "execute_result"
    }
   ],
   "source": [
    "4327129 + 295"
   ]
  },
  {
   "cell_type": "code",
   "execution_count": 36,
   "metadata": {},
   "outputs": [
    {
     "name": "stdout",
     "output_type": "stream",
     "text": [
      "Sequence found in Chromosome from position 760286 to 760306\n"
     ]
    }
   ],
   "source": [
    "from Bio import SeqIO\n",
    "\n",
    "def find_sequence_location(fasta_file, query_sequence):\n",
    "    for record in SeqIO.parse(fasta_file, \"fasta\"):\n",
    "        sequence = str(record.seq)\n",
    "        if query_sequence in sequence:\n",
    "            start_index = sequence.index(query_sequence)\n",
    "            end_index = start_index + len(query_sequence)\n",
    "            return f\"Sequence found in {record.id} from position {start_index} to {end_index}\"\n",
    "    return \"Sequence not found in the FASTA file\"\n",
    "\n",
    "# Example usage\n",
    "fasta_file = \"/mnt/storage10/lwang/Projects/Amplicone_design_tool/MTB-h37rv_asm19595v2-eg18.fa\"\n",
    "query_sequence = \"ATCATCAACGGGACCGAGCG\"\n",
    "\n",
    "result = find_sequence_location(fasta_file, query_sequence)\n",
    "print(result)\n"
   ]
  },
  {
   "cell_type": "code",
   "execution_count": 40,
   "metadata": {},
   "outputs": [
    {
     "name": "stdout",
     "output_type": "stream",
     "text": [
      "Sequence found in Chromosome from position 760365 to 760385\n"
     ]
    }
   ],
   "source": [
    "fasta_file = \"/mnt/storage10/lwang/Projects/Amplicone_design_tool/MTB-h37rv_asm19595v2-eg18.fa\"\n",
    "query_sequence = \"AGTCCACCGACAAGACGCTG\"\n",
    "\n",
    "result = find_sequence_location(fasta_file, query_sequence)\n",
    "print(result)"
   ]
  },
  {
   "cell_type": "code",
   "execution_count": 35,
   "metadata": {},
   "outputs": [
    {
     "data": {
      "text/plain": [
       "4327879"
      ]
     },
     "execution_count": 35,
     "metadata": {},
     "output_type": "execute_result"
    }
   ],
   "source": [
    "4328229-350"
   ]
  },
  {
   "cell_type": "code",
   "execution_count": 41,
   "metadata": {},
   "outputs": [
    {
     "data": {
      "text/plain": [
       "'Sequence found in Chromosome from position 13 to 33'"
      ]
     },
     "execution_count": 41,
     "metadata": {},
     "output_type": "execute_result"
    }
   ],
   "source": [
    "find_sequence_location(fasta_file, 'CCGGTTCAGGCTTCACCACA')"
   ]
  },
  {
   "cell_type": "code",
   "execution_count": 45,
   "metadata": {},
   "outputs": [],
   "source": [
    "from Bio import SeqIO\n",
    "\n",
    "def find_sequence_location(query_sequence, position, fasta_file):\n",
    "    closest_start = float('inf')\n",
    "    closest_end = float('inf')\n",
    "    closest_record = None\n",
    "\n",
    "    for record in SeqIO.parse(fasta_file, \"fasta\"):\n",
    "        sequence = str(record.seq)\n",
    "        index = sequence.find(query_sequence)\n",
    "        \n",
    "        while index != -1:\n",
    "            start_index = index\n",
    "            end_index = index + len(query_sequence)\n",
    "            \n",
    "            if abs(position - start_index) < abs(position - closest_start):\n",
    "                closest_start = start_index\n",
    "                closest_end = end_index\n",
    "                closest_record = record.id\n",
    "\n",
    "            index = sequence.find(query_sequence, index + 1)\n",
    "\n",
    "    if closest_record is not None:\n",
    "        return closest_start, closest_end\n",
    "    else:\n",
    "        print(\"Primer Sequence not found in FASTA file.\")\n",
    "        return 0,0"
   ]
  },
  {
   "cell_type": "code",
   "execution_count": 50,
   "metadata": {},
   "outputs": [
    {
     "data": {
      "text/plain": [
       "(4325973, 4325993)"
      ]
     },
     "execution_count": 50,
     "metadata": {},
     "output_type": "execute_result"
    }
   ],
   "source": [
    "find_sequence_location('GCCTAAACCGGCGCTAAACC', 4326008, fasta_file='/mnt/storage10/lwang/Projects/Amplicone_design_tool/MTB-h37rv_asm19595v2-eg18.fa')\n"
   ]
  },
  {
   "cell_type": "code",
   "execution_count": 28,
   "metadata": {},
   "outputs": [
    {
     "data": {
      "text/plain": [
       "'ACTGCCGATCACGACGATGT'"
      ]
     },
     "execution_count": 28,
     "metadata": {},
     "output_type": "execute_result"
    }
   ],
   "source": [
    "primer_selection.extract_sequence_from_fasta(4326924, 4326944, padding=0)\n"
   ]
  },
  {
   "cell_type": "code",
   "execution_count": 25,
   "metadata": {},
   "outputs": [],
   "source": [
    "from Bio import SeqIO\n",
    "\n",
    "def find_sequence_location(fasta_file, query_sequence, position):\n",
    "    closest_start = float('inf')\n",
    "    closest_end = float('inf')\n",
    "    closest_record = None\n",
    "\n",
    "    for record in SeqIO.parse(fasta_file, \"fasta\"):\n",
    "        sequence = str(record.seq)\n",
    "        index = sequence.find(query_sequence)\n",
    "        \n",
    "        while index != -1:\n",
    "            start_index = index\n",
    "            end_index = index + len(query_sequence)\n",
    "            \n",
    "            if abs(position - start_index) < abs(position - closest_start):\n",
    "                closest_start = start_index\n",
    "                closest_end = end_index\n",
    "                closest_record = record.id\n",
    "\n",
    "            index = sequence.find(query_sequence, index + 1)\n",
    "\n",
    "    if closest_record is not None:\n",
    "        return closest_start, closest_end\n",
    "    else:\n",
    "        return \"Sequence not found in the FASTA file\""
   ]
  },
  {
   "cell_type": "code",
   "execution_count": 29,
   "metadata": {},
   "outputs": [
    {
     "data": {
      "text/plain": [
       "4326924"
      ]
     },
     "execution_count": 29,
     "metadata": {},
     "output_type": "execute_result"
    }
   ],
   "source": [
    "query_sequence ='ACTGCCGATCACGACGATGT'\n",
    "# query_sequence = primer_selection.reverse_complement_sequence(query_sequence)\n",
    "find_sequence_location(fasta_file, query_sequence, 4327932)[0]\n",
    "# print(result)"
   ]
  },
  {
   "cell_type": "code",
   "execution_count": null,
   "metadata": {},
   "outputs": [],
   "source": [
    "4327129 4327629"
   ]
  },
  {
   "cell_type": "code",
   "execution_count": null,
   "metadata": {},
   "outputs": [],
   "source": [
    "4327129"
   ]
  },
  {
   "cell_type": "code",
   "execution_count": 20,
   "metadata": {},
   "outputs": [
    {
     "data": {
      "text/plain": [
       "4326629"
      ]
     },
     "execution_count": 20,
     "metadata": {},
     "output_type": "execute_result"
    }
   ],
   "source": [
    "[[4326879, 4327879],\n",
    " [2282776, 2283776],\n",
    " [2285958, 2286958],\n",
    " [4246734, 4247734],\n",
    " [4244193, 4245193],\n",
    " [2280899, 2281899],\n",
    " [2152912, 2153912],\n",
    " [2284954, 2285954],\n",
    " [2747141, 2748141],\n",
    " [1834840, 1835840],\n",
    " [2150990, 2151990],\n",
    " [2277174, 2278174],\n",
    " [3067958, 3068958],\n",
    " [2147188, 2148188],\n",
    " [2138550, 2139550],\n",
    " [2281712, 2282712],\n",
    " [2283527, 2284527],\n",
    " [1416371, 1417371],\n",
    " [3840393, 3841393],\n",
    " [3073502, 3074502],\n",
    " [2149884, 2150884],\n",
    " [2276296, 2277296],\n",
    " [2279554, 2280554],\n",
    " [2287239, 2288239],\n",
    " [2141412, 2142412],\n",
    " [2140159, 2141159],\n",
    " [2148199, 2149199],\n",
    " [2144518, 2145518],\n",
    " [3086947, 3087947],\n",
    " [2128861, 2129861]]"
   ]
  }
 ],
 "metadata": {
  "kernelspec": {
   "display_name": "ml-s10",
   "language": "python",
   "name": "python3"
  },
  "language_info": {
   "codemirror_mode": {
    "name": "ipython",
    "version": 3
   },
   "file_extension": ".py",
   "mimetype": "text/x-python",
   "name": "python",
   "nbconvert_exporter": "python",
   "pygments_lexer": "ipython3",
   "version": "3.11.6"
  },
  "orig_nbformat": 4
 },
 "nbformat": 4,
 "nbformat_minor": 2
}
